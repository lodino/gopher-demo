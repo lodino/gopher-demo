{
 "cells": [
  {
   "cell_type": "code",
   "execution_count": 1,
   "metadata": {
    "ExecuteTime": {
     "end_time": "2021-11-07T03:16:49.001283Z",
     "start_time": "2021-11-07T03:16:47.719257Z"
    }
   },
   "outputs": [],
   "source": [
    "import sys\n",
    "import tqdm\n",
    "import time\n",
    "import sklearn\n",
    "import numpy as np\n",
    "import pandas as pd\n",
    "import scipy\n",
    "import copy\n",
    "import random\n",
    "import math\n",
    "import json\n",
    "import torch\n",
    "import torch.nn.functional as F\n",
    "from load_dataset import load, generate_random_dataset\n",
    "from classifier import NeuralNetwork, LogisticRegression, SVM\n",
    "from utils import *\n",
    "from metrics import *  # include fairness and corresponding derivatives\n",
    "from scipy import stats\n",
    "from scipy.stats import rankdata\n",
    "from sklearn import metrics, preprocessing\n",
    "from sklearn.ensemble import RandomForestClassifier, RandomForestRegressor\n",
    "from sklearn.neural_network import MLPClassifier\n",
    "from sklearn.tree import DecisionTreeClassifier, DecisionTreeRegressor\n",
    "from sklearn.metrics import classification_report\n",
    "from operator import itemgetter\n",
    "from torch.autograd import grad\n",
    "import torch.nn as nn\n",
    "import matplotlib.pyplot as plt\n",
    "import seaborn as sns\n",
    "from IPython.display import Markdown, display\n",
    "random.seed(1)\n",
    "np.random.seed(1)\n",
    "torch.manual_seed(1)\n",
    "torch.use_deterministic_algorithms(True)"
   ]
  },
  {
   "cell_type": "code",
   "execution_count": 2,
   "metadata": {
    "ExecuteTime": {
     "end_time": "2021-11-07T03:16:49.004580Z",
     "start_time": "2021-11-07T03:16:49.002648Z"
    }
   },
   "outputs": [],
   "source": [
    "# ignore all the warnings\n",
    "import warnings\n",
    "warnings.filterwarnings('ignore')"
   ]
  },
  {
   "cell_type": "markdown",
   "metadata": {},
   "source": [
    "**Load Dataset**"
   ]
  },
  {
   "cell_type": "code",
   "execution_count": 3,
   "metadata": {
    "ExecuteTime": {
     "end_time": "2021-11-07T03:16:49.162243Z",
     "start_time": "2021-11-07T03:16:49.005674Z"
    },
    "code_folding": [
     0
    ]
   },
   "outputs": [],
   "source": [
    "dataset = 'adult'\n",
    "X_train, X_test, y_train, y_test = load(dataset, sample=False)"
   ]
  },
  {
   "cell_type": "code",
   "execution_count": 4,
   "metadata": {
    "ExecuteTime": {
     "end_time": "2021-11-07T03:16:49.169105Z",
     "start_time": "2021-11-07T03:16:49.164298Z"
    }
   },
   "outputs": [],
   "source": [
    "duplicates = 1\n",
    "make_duplicates = lambda x, d: pd.concat([x]*d, axis=0).reset_index(drop=True)\n",
    "X_train = make_duplicates(X_train, duplicates)\n",
    "X_test = make_duplicates(X_test, duplicates)\n",
    "y_train = make_duplicates(y_train, duplicates)\n",
    "y_test = make_duplicates(y_test, duplicates)"
   ]
  },
  {
   "cell_type": "markdown",
   "metadata": {},
   "source": [
    "**Parametric Model**"
   ]
  },
  {
   "cell_type": "code",
   "execution_count": 5,
   "metadata": {
    "ExecuteTime": {
     "end_time": "2021-11-07T03:16:49.178828Z",
     "start_time": "2021-11-07T03:16:49.170043Z"
    },
    "code_folding": []
   },
   "outputs": [],
   "source": [
    "X_train_orig = copy.deepcopy(X_train)\n",
    "X_test_orig = copy.deepcopy(X_test)\n",
    "\n",
    "# Scale data: regularization penalty default: ‘l2’, ‘lbfgs’ solvers support only l2 penalties. \n",
    "# Regularization makes the predictor dependent on the scale of the features.\n",
    "from sklearn.preprocessing import StandardScaler\n",
    "sc = StandardScaler()\n",
    "X_train = sc.fit_transform(X_train)\n",
    "X_test = sc.transform(X_test)"
   ]
  },
  {
   "cell_type": "code",
   "execution_count": 6,
   "metadata": {
    "ExecuteTime": {
     "end_time": "2021-11-07T03:16:49.181566Z",
     "start_time": "2021-11-07T03:16:49.179752Z"
    }
   },
   "outputs": [],
   "source": [
    "# sample_rate = 0.1\n",
    "\n",
    "# train_sample_bool = np.random.random(len(X_train))\n",
    "# threshold = np.sort(train_sample_bool)[int(sample_rate*len(X_train))]\n",
    "# train_sample_bool = np.where(train_sample_bool<threshold, 1, 0).astype(bool)\n",
    "\n",
    "# test_sample_bool = np.random.random(len(X_test))\n",
    "# threshold = np.sort(test_sample_bool)[int(sample_rate*len(X_test))]\n",
    "# test_sample_bool = np.where(test_sample_bool<threshold, 1, 0).astype(bool)"
   ]
  },
  {
   "cell_type": "code",
   "execution_count": 7,
   "metadata": {
    "ExecuteTime": {
     "end_time": "2021-11-07T03:16:49.184210Z",
     "start_time": "2021-11-07T03:16:49.182451Z"
    }
   },
   "outputs": [],
   "source": [
    "# X_train_orig = X_train_orig.iloc[train_sample_bool, :].reset_index(drop=True)\n",
    "# X_test_orig = X_test_orig.iloc[test_sample_bool, :].reset_index(drop=True)\n",
    "# X_train = X_train[train_sample_bool, :]\n",
    "# X_test = X_test[test_sample_bool, :]\n",
    "# y_train = y_train[train_sample_bool].reset_index(drop=True)\n",
    "# y_test = y_test[test_sample_bool].reset_index(drop=True)"
   ]
  },
  {
   "cell_type": "markdown",
   "metadata": {},
   "source": [
    "**Loss function** (Log loss for logistic regression)"
   ]
  },
  {
   "cell_type": "code",
   "execution_count": 8,
   "metadata": {
    "ExecuteTime": {
     "end_time": "2021-11-07T03:16:49.188848Z",
     "start_time": "2021-11-07T03:16:49.185179Z"
    }
   },
   "outputs": [],
   "source": [
    "# clf = NeuralNetwork(input_size=X_train.shape[-1])\n",
    "clf = LogisticRegression(input_size=X_train.shape[-1])\n",
    "# clf = SVM(input_size=X_train.shape[-1])\n",
    "num_params = len(convert_grad_to_ndarray(list(clf.parameters())))\n",
    "if isinstance(clf, LogisticRegression) or isinstance(clf, NeuralNetwork):\n",
    "    loss_func = logistic_loss_torch\n",
    "elif isinstance(clf, SVM):\n",
    "    loss_func = svm_loss_torch"
   ]
  },
  {
   "cell_type": "markdown",
   "metadata": {},
   "source": [
    "**Influence of points computed using ground truth**"
   ]
  },
  {
   "cell_type": "code",
   "execution_count": 9,
   "metadata": {
    "ExecuteTime": {
     "end_time": "2021-11-07T03:16:49.193985Z",
     "start_time": "2021-11-07T03:16:49.189943Z"
    },
    "code_folding": [
     0
    ]
   },
   "outputs": [],
   "source": [
    "def ground_truth_influence(X_train, y_train, X_test, X_test_orig, y_test):\n",
    "    clf.fit(X_train, y_train, verbose=True)\n",
    "    y_pred = clf.predict_proba(X_test)\n",
    "    spd_0 = computeFairness(y_pred, X_test_orig, y_test, 0)\n",
    "\n",
    "    delta_spd = []\n",
    "    for i in range(len(X_train)):\n",
    "        X_removed = np.delete(X_train, i, 0)\n",
    "        y_removed = y_train.drop(index=i, inplace=False)\n",
    "        clf.fit(X_removed, y_removed)\n",
    "        y_pred = clf.predict_proba(X_test)\n",
    "        delta_spd_i = computeFairness(y_pred, X_test_orig, y_test, 0) - spd_0\n",
    "        delta_spd.append(delta_spd_i)\n",
    "\n",
    "    return delta_spd"
   ]
  },
  {
   "cell_type": "markdown",
   "metadata": {},
   "source": [
    "**Compute Accuracy** "
   ]
  },
  {
   "cell_type": "code",
   "execution_count": 10,
   "metadata": {
    "ExecuteTime": {
     "end_time": "2021-11-07T03:16:49.602809Z",
     "start_time": "2021-11-07T03:16:49.596072Z"
    },
    "code_folding": [
     0
    ]
   },
   "outputs": [],
   "source": [
    "def computeAccuracy(y_true, y_pred):\n",
    "    return np.sum((y_pred>0.5) == y_true)/len(y_pred)"
   ]
  },
  {
   "cell_type": "markdown",
   "metadata": {},
   "source": [
    "**First-order derivative of loss function at z with respect to model parameters**"
   ]
  },
  {
   "cell_type": "code",
   "execution_count": 11,
   "metadata": {
    "ExecuteTime": {
     "end_time": "2021-11-07T03:16:50.102756Z",
     "start_time": "2021-11-07T03:16:50.095127Z"
    },
    "code_folding": [
     0
    ]
   },
   "outputs": [],
   "source": [
    "def del_L_del_theta_i(model, x, y_true, retain_graph=False):\n",
    "    loss = loss_func(model, x, y_true)\n",
    "    w = [ p for p in model.parameters() if p.requires_grad ]\n",
    "    return grad(loss, w, create_graph=True, retain_graph=retain_graph)"
   ]
  },
  {
   "cell_type": "markdown",
   "metadata": {},
   "source": [
    "**First-order derivative of $P(y \\mid \\textbf{x})$ with respect to model parameters**"
   ]
  },
  {
   "cell_type": "code",
   "execution_count": 12,
   "metadata": {
    "ExecuteTime": {
     "end_time": "2021-11-07T03:16:50.617830Z",
     "start_time": "2021-11-07T03:16:50.609358Z"
    },
    "code_folding": [
     0
    ]
   },
   "outputs": [],
   "source": [
    "def del_f_del_theta_i(model, x, retain_graph=False):\n",
    "    w = [ p for p in model.parameters() if p.requires_grad ]\n",
    "    return grad(model(torch.FloatTensor(x)), w, retain_graph=retain_graph)"
   ]
  },
  {
   "cell_type": "markdown",
   "metadata": {},
   "source": [
    "**Stochastic estimation of Hessian vector product (involving del fairness): $H_{\\theta}^{-1}v = H_{\\theta}^{-1}\\nabla_{\\theta}f(z, \\theta) = v + [I - \\nabla_{\\theta}^2L(z_{s_j}, \\theta^*)]H_{\\theta}^{-1}v$**"
   ]
  },
  {
   "cell_type": "code",
   "execution_count": 13,
   "metadata": {
    "ExecuteTime": {
     "end_time": "2021-11-07T03:16:51.203278Z",
     "start_time": "2021-11-07T03:16:51.194212Z"
    },
    "code_folding": [
     0
    ]
   },
   "outputs": [],
   "source": [
    "def hvp(y, w, v):\n",
    "    ''' Multiply the Hessians of y and w by v.'''\n",
    "    # First backprop\n",
    "    first_grads = grad(y, w, retain_graph=True, create_graph=True)\n",
    "\n",
    "    # Elementwise products\n",
    "    elemwise_products = 0\n",
    "    for grad_elem, v_elem in zip(convert_grad_to_tensor(first_grads), v):\n",
    "        elemwise_products += torch.sum(grad_elem * v_elem)\n",
    "\n",
    "    # Second backprop\n",
    "    return_grads = grad(elemwise_products, w, create_graph=True)\n",
    "\n",
    "    return return_grads"
   ]
  },
  {
   "cell_type": "code",
   "execution_count": 14,
   "metadata": {
    "ExecuteTime": {
     "end_time": "2021-11-07T03:16:51.298947Z",
     "start_time": "2021-11-07T03:16:51.288005Z"
    },
    "code_folding": [
     0
    ]
   },
   "outputs": [],
   "source": [
    "def hessian_one_point(model, x, y):\n",
    "    x, y = torch.FloatTensor(x), torch.FloatTensor([y])\n",
    "    loss = loss_func(model, x, y)\n",
    "    params = [ p for p in model.parameters() if p.requires_grad ]\n",
    "    first_grads = convert_grad_to_tensor(grad(loss, params, retain_graph=True, create_graph=True))\n",
    "    hv = np.zeros((len(first_grads), len(first_grads)))\n",
    "    for i in range(len(first_grads)):\n",
    "        hv[i, :] = convert_grad_to_ndarray(grad(first_grads[i], params, create_graph=True)).ravel()\n",
    "    return hv"
   ]
  },
  {
   "cell_type": "code",
   "execution_count": 15,
   "metadata": {
    "ExecuteTime": {
     "end_time": "2021-11-07T03:16:51.386740Z",
     "start_time": "2021-11-07T03:16:51.364258Z"
    },
    "code_folding": [
     1
    ]
   },
   "outputs": [],
   "source": [
    "# Compute multiplication of inverse hessian matrix and vector v\n",
    "def s_test(model, xs, ys, v, hinv=None, damp=0.01, scale=25.0, r=-1, batch_size=-1, recursive=False, verbose=False):\n",
    "    ''' Arguments:\n",
    "        xs: list of data points\n",
    "        ys: list of true labels corresponding to data points in xs\n",
    "        damp: dampening factor\n",
    "        scale: scaling factor\n",
    "        r: number of iterations aka recursion depth\n",
    "            should be enough so that the value stabilises.\n",
    "        batch_size: number of instances in each batch in recursive approximation\n",
    "        recursive: determine whether to recursively approximate hinv_v'''\n",
    "    xs, ys = torch.FloatTensor(xs.copy()), torch.FloatTensor(ys.copy())\n",
    "    n = len(xs)\n",
    "    if recursive:\n",
    "        hinv_v = copy.deepcopy(v)\n",
    "        if verbose:\n",
    "            print('Computing s_test...')\n",
    "            tbar = tqdm.tqdm(total=r)\n",
    "        if (batch_size == -1):  # default\n",
    "            batch_size = 10\n",
    "        if (r == -1):\n",
    "            r = n // batch_size + 1\n",
    "        sample = np.random.choice(range(n), r*batch_size, replace=True)\n",
    "        for i in range(r):\n",
    "            sample_idx = sample[i*batch_size:(i+1)*batch_size]\n",
    "            x, y = xs[sample_idx], ys[sample_idx]\n",
    "            loss = loss_func(model, x, y)\n",
    "            params = [ p for p in model.parameters() if p.requires_grad ]\n",
    "            hv = convert_grad_to_ndarray(hvp(loss, params, torch.FloatTensor(hinv_v)))\n",
    "            # Recursively caclulate h_estimate\n",
    "            hinv_v = v + (1 - damp) * hinv_v - hv / scale\n",
    "            if verbose:\n",
    "                tbar.update(1)\n",
    "    else:\n",
    "        if hinv is None:\n",
    "            hinv = np.linalg.pinv(np.sum(hessian_all_points, axis=0))\n",
    "        scale = 1.0\n",
    "        hinv_v = np.matmul(hinv, v)\n",
    "\n",
    "    return hinv_v / scale"
   ]
  },
  {
   "cell_type": "markdown",
   "metadata": {},
   "source": [
    "**Metrics: Initial state**"
   ]
  },
  {
   "cell_type": "code",
   "execution_count": 16,
   "metadata": {
    "ExecuteTime": {
     "end_time": "2021-11-07T03:16:51.540230Z",
     "start_time": "2021-11-07T03:16:51.530011Z"
    },
    "code_folding": []
   },
   "outputs": [],
   "source": [
    "# class LogisticRegression(nn.Module):\n",
    "#     def __init__(self, input_size, learning_rate=0.05, c=0.03, epoch_num=100):\n",
    "#         super(LogisticRegression, self).__init__()\n",
    "# #         self.sklearn_lr = sklearn.linear_model.SGDClassifier(loss='log', warm_start=True, max_iter=epoch_num,\n",
    "# #                                                              average=True, shuffle=False,\n",
    "# #                                                             learning_rate='constant', eta0=learning_rate,\n",
    "# #                                                              tol=0, alpha=c, n_jobs=1, early_stopping=False, verbose=0)\n",
    "#         self.sklearn_lr = sklearn.linear_model.SGDClassifier(loss='log', warm_start=True, max_iter=epoch_num,\n",
    "#                                                              average=True, shuffle=False, learning_rate='constant',\n",
    "#                                                              eta0=learning_rate, alpha=c, verbose=0)\n",
    "# #         self.sklearn_lr = sklearn.linear_model.LogisticRegression(random_state=0, max_iter=100, solver='sag')\n",
    "#         self.lr = torch.nn.Linear(input_size, 1, bias=True)\n",
    "#         self.sm = torch.nn.Sigmoid()\n",
    "#         self.C = c\n",
    "#         self.epoch_num = epoch_num\n",
    "#         self.criterion = binary_cross_entropy\n",
    "#         self.optimizer = torch.optim.SGD(self.parameters(), lr=learning_rate, momentum=0.9)\n",
    "\n",
    "#     def forward(self, x):\n",
    "#         x = self.lr(x)\n",
    "#         x = self.sm(x)\n",
    "#         return x.squeeze()\n",
    "    \n",
    "#     def fit(self, x, y, verbose=False, use_sklearn=True):\n",
    "#         if use_sklearn:\n",
    "#             self.sklearn_lr.fit(x, y)\n",
    "# #             classes = np.unique(y)\n",
    "# #             for _ in range(epoch_num):\n",
    "# #                 self.sklearn_lr.partial_fit(x ,y, classes)\n",
    "#             self.C = self.sklearn_lr.C\n",
    "#             self.lr.weight.data = torch.Tensor(self.sklearn_lr.coef_)\n",
    "#             self.lr.bias.data = torch.Tensor(self.sklearn_lr.intercept_)\n",
    "\n",
    "#         else:\n",
    "#             x = torch.Tensor(x)\n",
    "#             y = torch.Tensor(y)\n",
    "#             self.train()\n",
    "#             for _ in range(self.epoch_num):\n",
    "#                 y_pred = self.forward(x)\n",
    "#                 loss = self.criterion(y_pred, y)\n",
    "# #                 l2_reg = torch.norm(self.lr.weight, p=2)**2\n",
    "# #                 loss += c * l2_reg\n",
    "#                 self.optimizer.zero_grad()\n",
    "#                 loss.backward()\n",
    "#                 self.optimizer.step()\n",
    "# #                 scheduler.step()\n",
    "# #                 print(self.criterion(y_pred, y))\n",
    "\n",
    "#         if verbose and (epoch_num % 50):\n",
    "#             print(f'epoch:{epoch_num}, loss:{loss.item()}')\n",
    "\n",
    "#     def predict_proba(self, x):\n",
    "#         self.eval()\n",
    "#         return self.forward(torch.Tensor(x)).detach().numpy()\n",
    "\n",
    "#     def load_weights_from_another_model(self, orig_model):\n",
    "#         self.C = orig_model.C\n",
    "#         self.lr.weight.data = orig_model.lr.weight.data.clone()\n",
    "#         self.lr.bias.data = orig_model.lr.bias.data.clone()\n",
    "\n",
    "#     def partial_fit(self, x, y, learning_rate=0.05):\n",
    "#         default_params = {'learning_rate':'optimal', 'eta0':0.0}\n",
    "#         params = {'learning_rate':'constant', 'eta0':learning_rate}\n",
    "#         self.sklearn_lr.set_params(**params)\n",
    "#         self.sklearn_lr.partial_fit(x, y, classes=y.unique())\n",
    "#         self.C = self.sklearn_lr.C\n",
    "#         self.lr.weight.data = torch.Tensor(self.sklearn_lr.coef_)\n",
    "#         self.sklearn_lr.set_params(**default_params)"
   ]
  },
  {
   "cell_type": "code",
   "execution_count": 17,
   "metadata": {
    "ExecuteTime": {
     "end_time": "2021-11-07T03:16:51.641301Z",
     "start_time": "2021-11-07T03:16:51.613199Z"
    },
    "code_folding": [
     0
    ]
   },
   "outputs": [],
   "source": [
    "class NeuralNetwork(nn.Module):\n",
    "    def __init__(self, input_size, learning_rate=0.05, c=0.001, epoch_num=500, batch_size=256):\n",
    "        super(NeuralNetwork, self).__init__()\n",
    "        self.fc1 = torch.nn.Linear(input_size, 10)\n",
    "        self.sm1 = torch.nn.Sigmoid()\n",
    "        self.fc2 = torch.nn.Linear(10, 1)\n",
    "        self.sm2 = torch.nn.Sigmoid()\n",
    "        self.input_size = input_size\n",
    "        self.C = c\n",
    "        self.epoch_num = epoch_num\n",
    "        self.batch_size = batch_size\n",
    "        self.num_batches = len(X_train)//self.batch_size+1 if len(X_train)%self.batch_size!=0 else len(X_train)//self.batch_size\n",
    "        self.criterion = logistic_loss_torch\n",
    "        self.optimizer = torch.optim.SGD(self.parameters(), lr=learning_rate, momentum=0.9)\n",
    "        # best result according to grid search\n",
    "        self.sklearn_nn = MLPClassifier(random_state=0, alpha=c, learning_rate='adaptive', batch_size=batch_size,\n",
    "                                        solver='adam', hidden_layer_sizes=(10,), activation='logistic')\n",
    "\n",
    "    def forward(self, x):\n",
    "        x = x.view(-1, self.input_size)\n",
    "        x = self.fc1(x)\n",
    "        x = self.sm1(x)\n",
    "        x = self.fc2(x)\n",
    "        x = self.sm2(x)\n",
    "        return x.squeeze()\n",
    "\n",
    "    def fit(self, x, y, use_sklearn=False):\n",
    "        if use_sklearn:\n",
    "            self.sklearn_nn.fit(x, y)\n",
    "            self.fc1.weight.data = torch.Tensor(self.sklearn_nn.coefs_[0]).T\n",
    "            self.fc1.bias.data = torch.Tensor(self.sklearn_nn.intercepts_[0]).T\n",
    "            self.fc2.weight.data = torch.Tensor(self.sklearn_nn.coefs_[1]).T\n",
    "            self.fc2.bias.data = torch.Tensor(self.sklearn_nn.intercepts_[1]).T\n",
    "        else:\n",
    "            x = torch.Tensor(x)\n",
    "            y = torch.Tensor(y)\n",
    "            for _ in range(self.epoch_num):\n",
    "                for batch_id in range(self.num_batches):\n",
    "                    if batch_id < self.num_batches-1:\n",
    "                        x_ = x[batch_id*self.batch_size:(batch_id+1)*self.batch_size]\n",
    "                        y_ = y[batch_id*self.batch_size:(batch_id+1)*self.batch_size]\n",
    "                    else:\n",
    "                        x_ = x[batch_id*self.batch_size:]\n",
    "                        y_ = y[batch_id*self.batch_size:]\n",
    "                    y_pred = self.forward(x_)\n",
    "                    loss = self.criterion(self, x_, y_)\n",
    "                    self.optimizer.zero_grad()\n",
    "                    loss.backward()\n",
    "                    self.optimizer.step()\n",
    "\n",
    "    def predict_proba(self, x):\n",
    "        self.eval()\n",
    "        x = torch.Tensor(x).view(-1, self.input_size)\n",
    "        return self.forward(x).detach().numpy()"
   ]
  },
  {
   "cell_type": "code",
   "execution_count": 19,
   "metadata": {
    "ExecuteTime": {
     "end_time": "2021-11-07T03:16:56.482961Z",
     "start_time": "2021-11-07T03:16:55.809906Z"
    }
   },
   "outputs": [
    {
     "name": "stdout",
     "output_type": "stream",
     "text": [
      "Initial statistical parity:  -0.18791870117462697\n",
      "Initial TPR parity:  -0.15885336303884895\n",
      "Initial predictive parity:  -0.2118439494966455\n",
      "Initial loss:  0.4230801526515055\n",
      "Initial accuracy:  0.8051128818061088\n"
     ]
    }
   ],
   "source": [
    "# clf = NeuralNetwork(input_size=X_train.shape[-1], batch_size=512)\n",
    "clf = LogisticRegression(input_size=X_train.shape[-1])\n",
    "# clf = SVM(input_size=X_train.shape[-1])\n",
    "\n",
    "clf.fit(X_train, y_train)\n",
    "\n",
    "y_pred_test = clf.predict_proba(X_test)\n",
    "y_pred_train = clf.predict_proba(X_train)\n",
    "\n",
    "spd_0 = computeFairness(y_pred_test, X_test_orig, y_test, 0, dataset)\n",
    "print(\"Initial statistical parity: \", spd_0)\n",
    "\n",
    "tpr_parity_0 = computeFairness(y_pred_test, X_test_orig, y_test, 1, dataset)\n",
    "print(\"Initial TPR parity: \", tpr_parity_0)\n",
    "\n",
    "predictive_parity_0 = computeFairness(y_pred_test, X_test_orig, y_test, 2, dataset)\n",
    "print(\"Initial predictive parity: \", predictive_parity_0)\n",
    "\n",
    "loss_0 = logistic_loss(y_test, y_pred_test)\n",
    "print(\"Initial loss: \", loss_0)\n",
    "\n",
    "accuracy_0 = computeAccuracy(y_test, y_pred_test)\n",
    "print(\"Initial accuracy: \", accuracy_0)"
   ]
  },
  {
   "cell_type": "code",
   "execution_count": 21,
   "metadata": {
    "ExecuteTime": {
     "end_time": "2021-11-07T03:18:27.712651Z",
     "start_time": "2021-11-07T03:17:07.137346Z"
    },
    "code_folding": [],
    "scrolled": true
   },
   "outputs": [
    {
     "name": "stderr",
     "output_type": "stream",
     "text": [
      "\n",
      "  3%|█████▌                                                                                                                                                           | 1049/30162 [00:09<04:35, 105.58it/s]\u001b[A\n",
      "\n",
      "  0%|▏                                                                                                                                                                  | 26/30162 [00:00<01:57, 256.78it/s]\u001b[A\n",
      "  0%|▎                                                                                                                                                                  | 62/30162 [00:00<01:34, 317.11it/s]\u001b[A\n",
      "  0%|▌                                                                                                                                                                  | 98/30162 [00:00<01:29, 336.13it/s]\u001b[A\n",
      "  0%|▋                                                                                                                                                                 | 136/30162 [00:00<01:25, 351.29it/s]\u001b[A\n",
      "  1%|▉                                                                                                                                                                 | 173/30162 [00:00<01:23, 357.85it/s]\u001b[A\n",
      "  1%|█▏                                                                                                                                                                | 211/30162 [00:00<01:22, 362.97it/s]\u001b[A\n",
      "  1%|█▎                                                                                                                                                                | 249/30162 [00:00<01:21, 365.73it/s]\u001b[A\n",
      "  1%|█▌                                                                                                                                                                | 287/30162 [00:00<01:21, 367.68it/s]\u001b[A\n",
      "  1%|█▋                                                                                                                                                                | 324/30162 [00:00<01:21, 368.08it/s]\u001b[A\n",
      "  1%|█▉                                                                                                                                                                | 362/30162 [00:01<01:20, 369.03it/s]\u001b[A\n",
      "  1%|██▏                                                                                                                                                               | 399/30162 [00:01<01:20, 368.67it/s]\u001b[A\n",
      "  1%|██▎                                                                                                                                                               | 436/30162 [00:01<01:20, 368.39it/s]\u001b[A\n",
      "  2%|██▌                                                                                                                                                               | 473/30162 [00:01<01:20, 366.63it/s]\u001b[A\n",
      "  2%|██▋                                                                                                                                                               | 511/30162 [00:01<01:20, 368.15it/s]\u001b[A\n",
      "  2%|██▉                                                                                                                                                               | 548/30162 [00:01<01:20, 368.32it/s]\u001b[A\n",
      "  2%|███▏                                                                                                                                                              | 585/30162 [00:01<01:20, 368.42it/s]\u001b[A\n",
      "  2%|███▎                                                                                                                                                              | 622/30162 [00:01<01:20, 367.86it/s]\u001b[A\n",
      "  2%|███▌                                                                                                                                                              | 660/30162 [00:01<01:19, 368.84it/s]\u001b[A\n",
      "  2%|███▋                                                                                                                                                              | 698/30162 [00:01<01:19, 371.27it/s]\u001b[A\n",
      "  2%|███▉                                                                                                                                                              | 736/30162 [00:02<01:18, 373.02it/s]\u001b[A\n",
      "  3%|████▏                                                                                                                                                             | 774/30162 [00:02<01:18, 372.54it/s]\u001b[A\n",
      "  3%|████▎                                                                                                                                                             | 812/30162 [00:02<01:20, 364.45it/s]\u001b[A\n",
      "  3%|████▌                                                                                                                                                             | 849/30162 [00:02<01:20, 364.81it/s]\u001b[A\n",
      "  3%|████▊                                                                                                                                                             | 887/30162 [00:02<01:19, 368.30it/s]\u001b[A\n",
      "  3%|████▉                                                                                                                                                             | 925/30162 [00:02<01:18, 370.52it/s]\u001b[A\n",
      "  3%|█████▏                                                                                                                                                            | 963/30162 [00:02<01:18, 371.90it/s]\u001b[A\n",
      "  3%|█████▎                                                                                                                                                           | 1001/30162 [00:02<01:18, 373.27it/s]\u001b[A\n",
      "  3%|█████▌                                                                                                                                                           | 1039/30162 [00:02<01:17, 374.44it/s]\u001b[A\n",
      "  4%|█████▋                                                                                                                                                           | 1077/30162 [00:02<01:17, 375.27it/s]\u001b[A\n",
      "  4%|█████▉                                                                                                                                                           | 1115/30162 [00:03<01:17, 375.61it/s]\u001b[A\n",
      "  4%|██████▏                                                                                                                                                          | 1153/30162 [00:03<01:17, 375.58it/s]\u001b[A\n",
      "  4%|██████▎                                                                                                                                                          | 1191/30162 [00:03<01:17, 375.76it/s]\u001b[A\n",
      "  4%|██████▌                                                                                                                                                          | 1229/30162 [00:03<01:16, 376.05it/s]\u001b[A\n",
      "  4%|██████▊                                                                                                                                                          | 1267/30162 [00:03<01:16, 376.14it/s]\u001b[A\n",
      "  4%|██████▉                                                                                                                                                          | 1305/30162 [00:03<01:16, 376.44it/s]\u001b[A\n",
      "  4%|███████▏                                                                                                                                                         | 1343/30162 [00:03<01:17, 374.08it/s]\u001b[A\n",
      "  5%|███████▎                                                                                                                                                         | 1381/30162 [00:03<01:17, 371.88it/s]\u001b[A\n",
      "  5%|███████▌                                                                                                                                                         | 1419/30162 [00:03<01:17, 371.88it/s]\u001b[A\n",
      "  5%|███████▊                                                                                                                                                         | 1457/30162 [00:03<01:17, 372.71it/s]\u001b[A\n",
      "  5%|███████▉                                                                                                                                                         | 1495/30162 [00:04<01:16, 374.00it/s]\u001b[A\n",
      "  5%|████████▏                                                                                                                                                        | 1533/30162 [00:04<01:16, 373.15it/s]\u001b[A\n",
      "  5%|████████▍                                                                                                                                                        | 1571/30162 [00:04<01:16, 373.84it/s]\u001b[A\n",
      "  5%|████████▌                                                                                                                                                        | 1609/30162 [00:04<01:16, 375.46it/s]\u001b[A\n",
      "  5%|████████▊                                                                                                                                                        | 1647/30162 [00:04<01:15, 375.59it/s]\u001b[A\n",
      "  6%|████████▉                                                                                                                                                        | 1685/30162 [00:04<01:15, 375.63it/s]\u001b[A\n",
      "  6%|█████████▏                                                                                                                                                       | 1723/30162 [00:04<01:15, 375.66it/s]\u001b[A\n",
      "  6%|█████████▍                                                                                                                                                       | 1761/30162 [00:04<01:15, 376.01it/s]\u001b[A\n",
      "  6%|█████████▌                                                                                                                                                       | 1799/30162 [00:04<01:15, 375.57it/s]\u001b[A\n",
      "  6%|█████████▊                                                                                                                                                       | 1837/30162 [00:04<01:15, 376.16it/s]\u001b[A\n",
      "  6%|██████████                                                                                                                                                       | 1875/30162 [00:05<01:15, 375.82it/s]\u001b[A\n",
      "  6%|██████████▏                                                                                                                                                      | 1913/30162 [00:05<01:15, 375.38it/s]\u001b[A\n",
      "  6%|██████████▍                                                                                                                                                      | 1951/30162 [00:05<01:15, 375.05it/s]\u001b[A\n",
      "  7%|██████████▌                                                                                                                                                      | 1989/30162 [00:05<01:14, 375.65it/s]\u001b[A\n",
      "  7%|██████████▊                                                                                                                                                      | 2027/30162 [00:05<01:14, 375.16it/s]\u001b[A\n",
      "  7%|███████████                                                                                                                                                      | 2065/30162 [00:05<01:14, 375.44it/s]\u001b[A\n",
      "  7%|███████████▏                                                                                                                                                     | 2103/30162 [00:05<01:14, 376.05it/s]\u001b[A\n",
      "  7%|███████████▍                                                                                                                                                     | 2141/30162 [00:05<01:14, 375.42it/s]\u001b[A\n",
      "  7%|███████████▋                                                                                                                                                     | 2179/30162 [00:05<01:14, 375.87it/s]\u001b[A\n",
      "  7%|███████████▊                                                                                                                                                     | 2217/30162 [00:05<01:14, 377.09it/s]\u001b[A\n",
      "  7%|████████████                                                                                                                                                     | 2255/30162 [00:06<01:13, 377.14it/s]\u001b[A\n",
      "  8%|████████████▏                                                                                                                                                    | 2293/30162 [00:06<01:13, 377.44it/s]\u001b[A\n",
      "  8%|████████████▍                                                                                                                                                    | 2331/30162 [00:06<01:14, 375.23it/s]\u001b[A\n",
      "  8%|████████████▋                                                                                                                                                    | 2369/30162 [00:06<01:14, 372.46it/s]\u001b[A\n",
      "  8%|████████████▊                                                                                                                                                    | 2407/30162 [00:06<01:14, 372.66it/s]\u001b[A\n",
      "  8%|█████████████                                                                                                                                                    | 2445/30162 [00:06<01:14, 374.00it/s]\u001b[A\n",
      "  8%|█████████████▎                                                                                                                                                   | 2483/30162 [00:06<01:13, 374.64it/s]\u001b[A\n",
      "  8%|█████████████▍                                                                                                                                                   | 2521/30162 [00:06<01:14, 371.20it/s]\u001b[A\n",
      "  8%|█████████████▋                                                                                                                                                   | 2559/30162 [00:06<01:14, 371.45it/s]\u001b[A\n",
      "  9%|█████████████▊                                                                                                                                                   | 2597/30162 [00:06<01:13, 373.19it/s]\u001b[A\n",
      "  9%|██████████████                                                                                                                                                   | 2635/30162 [00:07<01:13, 374.15it/s]\u001b[A\n",
      "  9%|██████████████▎                                                                                                                                                  | 2673/30162 [00:07<01:13, 375.01it/s]\u001b[A\n",
      "  9%|██████████████▍                                                                                                                                                  | 2711/30162 [00:07<01:13, 374.23it/s]\u001b[A\n",
      "  9%|██████████████▋                                                                                                                                                  | 2749/30162 [00:07<01:14, 369.81it/s]\u001b[A\n",
      "  9%|██████████████▊                                                                                                                                                  | 2786/30162 [00:07<01:14, 369.63it/s]\u001b[A\n",
      "  9%|███████████████                                                                                                                                                  | 2823/30162 [00:07<01:14, 369.09it/s]\u001b[A\n",
      "  9%|███████████████▎                                                                                                                                                 | 2861/30162 [00:07<01:13, 369.52it/s]\u001b[A\n",
      " 10%|███████████████▍                                                                                                                                                 | 2899/30162 [00:07<01:13, 370.57it/s]\u001b[A\n"
     ]
    },
    {
     "name": "stderr",
     "output_type": "stream",
     "text": [
      " 10%|███████████████▋                                                                                                                                                 | 2937/30162 [00:07<01:13, 369.40it/s]\u001b[A\n",
      " 10%|███████████████▊                                                                                                                                                 | 2974/30162 [00:08<01:13, 369.19it/s]\u001b[A\n",
      " 10%|████████████████                                                                                                                                                 | 3011/30162 [00:08<01:13, 367.32it/s]\u001b[A\n",
      " 10%|████████████████▎                                                                                                                                                | 3049/30162 [00:08<01:13, 369.02it/s]\u001b[A\n",
      " 10%|████████████████▍                                                                                                                                                | 3087/30162 [00:08<01:12, 371.65it/s]\u001b[A\n",
      " 10%|████████████████▋                                                                                                                                                | 3125/30162 [00:08<01:12, 372.63it/s]\u001b[A\n",
      " 10%|████████████████▉                                                                                                                                                | 3163/30162 [00:08<01:12, 374.80it/s]\u001b[A\n",
      " 11%|█████████████████                                                                                                                                                | 3201/30162 [00:08<01:12, 373.98it/s]\u001b[A\n",
      " 11%|█████████████████▎                                                                                                                                               | 3239/30162 [00:08<01:11, 374.71it/s]\u001b[A\n",
      " 11%|█████████████████▍                                                                                                                                               | 3277/30162 [00:08<01:11, 373.79it/s]\u001b[A\n",
      " 11%|█████████████████▋                                                                                                                                               | 3315/30162 [00:08<01:11, 374.64it/s]\u001b[A\n",
      " 11%|█████████████████▉                                                                                                                                               | 3353/30162 [00:09<01:11, 375.81it/s]\u001b[A\n",
      " 11%|██████████████████                                                                                                                                               | 3391/30162 [00:09<01:11, 376.74it/s]\u001b[A\n",
      " 11%|██████████████████▎                                                                                                                                              | 3429/30162 [00:09<01:11, 375.55it/s]\u001b[A\n",
      " 11%|██████████████████▌                                                                                                                                              | 3467/30162 [00:09<01:11, 374.02it/s]\u001b[A\n",
      " 12%|██████████████████▋                                                                                                                                              | 3505/30162 [00:09<01:11, 373.65it/s]\u001b[A\n",
      " 12%|██████████████████▉                                                                                                                                              | 3543/30162 [00:09<01:11, 373.96it/s]\u001b[A\n",
      " 12%|███████████████████                                                                                                                                              | 3581/30162 [00:09<01:10, 374.48it/s]\u001b[A\n",
      " 12%|███████████████████▎                                                                                                                                             | 3619/30162 [00:09<01:10, 374.49it/s]\u001b[A\n",
      " 12%|███████████████████▌                                                                                                                                             | 3657/30162 [00:09<01:11, 370.45it/s]\u001b[A\n",
      " 12%|███████████████████▋                                                                                                                                             | 3695/30162 [00:09<01:12, 367.54it/s]\u001b[A\n",
      " 12%|███████████████████▉                                                                                                                                             | 3732/30162 [00:10<01:12, 366.67it/s]\u001b[A\n",
      " 12%|████████████████████                                                                                                                                             | 3769/30162 [00:10<01:12, 366.37it/s]\u001b[A\n",
      " 13%|████████████████████▎                                                                                                                                            | 3806/30162 [00:10<01:11, 366.58it/s]\u001b[A\n",
      " 13%|████████████████████▌                                                                                                                                            | 3843/30162 [00:10<01:11, 365.79it/s]\u001b[A\n",
      " 13%|████████████████████▋                                                                                                                                            | 3881/30162 [00:10<01:11, 367.22it/s]\u001b[A\n",
      " 13%|████████████████████▉                                                                                                                                            | 3919/30162 [00:10<01:11, 368.54it/s]\u001b[A\n",
      " 13%|█████████████████████                                                                                                                                            | 3956/30162 [00:10<01:12, 363.80it/s]\u001b[A\n",
      " 13%|█████████████████████▎                                                                                                                                           | 3993/30162 [00:10<01:11, 364.88it/s]\u001b[A\n",
      " 13%|█████████████████████▌                                                                                                                                           | 4030/30162 [00:10<01:11, 364.87it/s]\u001b[A\n",
      " 13%|█████████████████████▋                                                                                                                                           | 4067/30162 [00:10<01:11, 363.23it/s]\u001b[A\n",
      " 14%|█████████████████████▉                                                                                                                                           | 4104/30162 [00:11<01:12, 361.26it/s]\u001b[A\n",
      " 14%|██████████████████████                                                                                                                                           | 4141/30162 [00:11<01:11, 363.19it/s]\u001b[A\n",
      " 14%|██████████████████████▎                                                                                                                                          | 4178/30162 [00:11<01:11, 364.83it/s]\u001b[A\n",
      " 14%|██████████████████████▌                                                                                                                                          | 4216/30162 [00:11<01:10, 368.40it/s]\u001b[A\n",
      " 14%|██████████████████████▋                                                                                                                                          | 4253/30162 [00:11<01:10, 366.81it/s]\u001b[A\n",
      " 14%|██████████████████████▉                                                                                                                                          | 4290/30162 [00:11<01:10, 366.87it/s]\u001b[A\n",
      " 14%|███████████████████████                                                                                                                                          | 4328/30162 [00:11<01:09, 369.66it/s]\u001b[A\n",
      " 14%|███████████████████████▎                                                                                                                                         | 4365/30162 [00:11<01:10, 367.81it/s]\u001b[A\n",
      " 15%|███████████████████████▌                                                                                                                                         | 4403/30162 [00:11<01:09, 368.86it/s]\u001b[A\n",
      " 15%|███████████████████████▋                                                                                                                                         | 4440/30162 [00:11<01:09, 368.49it/s]\u001b[A\n",
      " 15%|███████████████████████▉                                                                                                                                         | 4477/30162 [00:12<01:10, 366.33it/s]\u001b[A\n",
      " 15%|████████████████████████                                                                                                                                         | 4514/30162 [00:12<01:09, 367.00it/s]\u001b[A\n",
      " 15%|████████████████████████▎                                                                                                                                        | 4552/30162 [00:12<01:09, 369.36it/s]\u001b[A\n",
      " 15%|████████████████████████▌                                                                                                                                        | 4590/30162 [00:12<01:09, 370.58it/s]\u001b[A\n",
      " 15%|████████████████████████▋                                                                                                                                        | 4628/30162 [00:12<01:08, 371.15it/s]\u001b[A\n",
      " 15%|████████████████████████▉                                                                                                                                        | 4666/30162 [00:12<01:08, 372.36it/s]\u001b[A\n",
      " 16%|█████████████████████████                                                                                                                                        | 4704/30162 [00:12<01:08, 373.64it/s]\u001b[A\n",
      " 16%|█████████████████████████▎                                                                                                                                       | 4742/30162 [00:12<01:09, 368.33it/s]\u001b[A\n",
      " 16%|█████████████████████████▌                                                                                                                                       | 4780/30162 [00:12<01:08, 371.26it/s]\u001b[A\n",
      " 16%|█████████████████████████▋                                                                                                                                       | 4818/30162 [00:13<01:08, 369.24it/s]\u001b[A\n",
      " 16%|█████████████████████████▉                                                                                                                                       | 4855/30162 [00:13<01:08, 368.07it/s]\u001b[A\n",
      " 16%|██████████████████████████                                                                                                                                       | 4893/30162 [00:13<01:08, 369.46it/s]\u001b[A\n",
      " 16%|██████████████████████████▎                                                                                                                                      | 4931/30162 [00:13<01:08, 370.73it/s]\u001b[A\n",
      " 16%|██████████████████████████▌                                                                                                                                      | 4969/30162 [00:13<01:07, 373.17it/s]\u001b[A\n",
      " 17%|██████████████████████████▋                                                                                                                                      | 5007/30162 [00:13<01:07, 370.86it/s]\u001b[A\n",
      " 17%|██████████████████████████▉                                                                                                                                      | 5045/30162 [00:13<01:08, 368.46it/s]\u001b[A\n",
      " 17%|███████████████████████████▏                                                                                                                                     | 5083/30162 [00:13<01:07, 370.26it/s]\u001b[A\n",
      " 17%|███████████████████████████▎                                                                                                                                     | 5121/30162 [00:13<01:07, 371.12it/s]\u001b[A\n",
      " 17%|███████████████████████████▌                                                                                                                                     | 5159/30162 [00:13<01:07, 372.51it/s]\u001b[A\n",
      " 17%|███████████████████████████▋                                                                                                                                     | 5197/30162 [00:14<01:07, 371.00it/s]\u001b[A\n",
      " 17%|███████████████████████████▉                                                                                                                                     | 5235/30162 [00:14<01:07, 370.71it/s]\u001b[A\n",
      " 17%|████████████████████████████▏                                                                                                                                    | 5273/30162 [00:14<01:07, 369.26it/s]\u001b[A\n",
      " 18%|████████████████████████████▎                                                                                                                                    | 5310/30162 [00:14<01:07, 369.18it/s]\u001b[A\n",
      " 18%|████████████████████████████▌                                                                                                                                    | 5347/30162 [00:14<01:07, 366.63it/s]\u001b[A\n",
      " 18%|████████████████████████████▋                                                                                                                                    | 5384/30162 [00:14<01:07, 366.43it/s]\u001b[A\n",
      " 18%|████████████████████████████▉                                                                                                                                    | 5422/30162 [00:14<01:07, 367.68it/s]\u001b[A\n",
      " 18%|█████████████████████████████▏                                                                                                                                   | 5459/30162 [00:14<01:07, 368.04it/s]\u001b[A\n",
      " 18%|█████████████████████████████▎                                                                                                                                   | 5497/30162 [00:14<01:06, 370.83it/s]\u001b[A\n",
      " 18%|█████████████████████████████▌                                                                                                                                   | 5535/30162 [00:14<01:06, 370.19it/s]\u001b[A\n",
      " 18%|█████████████████████████████▋                                                                                                                                   | 5573/30162 [00:15<01:06, 369.16it/s]\u001b[A\n",
      " 19%|█████████████████████████████▉                                                                                                                                   | 5610/30162 [00:15<01:07, 366.10it/s]\u001b[A\n",
      " 19%|██████████████████████████████▏                                                                                                                                  | 5648/30162 [00:15<01:06, 367.29it/s]\u001b[A\n",
      " 19%|██████████████████████████████▎                                                                                                                                  | 5685/30162 [00:15<01:07, 364.70it/s]\u001b[A\n",
      " 19%|██████████████████████████████▌                                                                                                                                  | 5722/30162 [00:15<01:06, 365.72it/s]\u001b[A\n",
      " 19%|██████████████████████████████▋                                                                                                                                  | 5759/30162 [00:15<01:07, 364.11it/s]\u001b[A\n",
      " 19%|██████████████████████████████▉                                                                                                                                  | 5797/30162 [00:15<01:06, 366.98it/s]\u001b[A\n",
      " 19%|███████████████████████████████▏                                                                                                                                 | 5834/30162 [00:15<01:06, 367.55it/s]\u001b[A\n"
     ]
    },
    {
     "name": "stderr",
     "output_type": "stream",
     "text": [
      " 19%|███████████████████████████████▎                                                                                                                                 | 5872/30162 [00:15<01:05, 368.55it/s]\u001b[A\n",
      " 20%|███████████████████████████████▌                                                                                                                                 | 5909/30162 [00:15<01:05, 368.04it/s]\u001b[A\n",
      " 20%|███████████████████████████████▋                                                                                                                                 | 5947/30162 [00:16<01:05, 370.31it/s]\u001b[A\n",
      " 20%|███████████████████████████████▉                                                                                                                                 | 5985/30162 [00:16<01:04, 372.40it/s]\u001b[A\n",
      " 20%|████████████████████████████████▏                                                                                                                                | 6023/30162 [00:16<01:05, 368.65it/s]\u001b[A\n",
      " 20%|████████████████████████████████▎                                                                                                                                | 6060/30162 [00:16<01:05, 367.39it/s]\u001b[A\n",
      " 20%|████████████████████████████████▌                                                                                                                                | 6098/30162 [00:16<01:04, 370.23it/s]\u001b[A\n",
      " 20%|████████████████████████████████▊                                                                                                                                | 6136/30162 [00:16<01:04, 372.83it/s]\u001b[A\n",
      " 20%|████████████████████████████████▉                                                                                                                                | 6174/30162 [00:16<01:04, 372.54it/s]\u001b[A\n",
      " 21%|█████████████████████████████████▏                                                                                                                               | 6212/30162 [00:16<01:04, 372.52it/s]\u001b[A\n",
      " 21%|█████████████████████████████████▎                                                                                                                               | 6250/30162 [00:16<01:04, 372.13it/s]\u001b[A\n",
      " 21%|█████████████████████████████████▌                                                                                                                               | 6288/30162 [00:16<01:03, 373.89it/s]\u001b[A\n",
      " 21%|█████████████████████████████████▊                                                                                                                               | 6326/30162 [00:17<01:03, 374.40it/s]\u001b[A\n",
      " 21%|█████████████████████████████████▉                                                                                                                               | 6364/30162 [00:17<01:04, 369.09it/s]\u001b[A\n",
      " 21%|██████████████████████████████████▏                                                                                                                              | 6401/30162 [00:17<01:04, 369.22it/s]\u001b[A\n",
      " 21%|██████████████████████████████████▎                                                                                                                              | 6439/30162 [00:17<01:04, 369.91it/s]\u001b[A\n",
      " 21%|██████████████████████████████████▌                                                                                                                              | 6477/30162 [00:17<01:03, 370.64it/s]\u001b[A\n",
      " 22%|██████████████████████████████████▊                                                                                                                              | 6515/30162 [00:17<01:03, 371.41it/s]\u001b[A\n",
      " 22%|██████████████████████████████████▉                                                                                                                              | 6553/30162 [00:17<01:03, 371.89it/s]\u001b[A\n",
      " 22%|███████████████████████████████████▏                                                                                                                             | 6591/30162 [00:17<01:03, 373.02it/s]\u001b[A\n",
      " 22%|███████████████████████████████████▍                                                                                                                             | 6629/30162 [00:17<01:02, 373.54it/s]\u001b[A\n",
      " 22%|███████████████████████████████████▌                                                                                                                             | 6667/30162 [00:18<01:03, 368.68it/s]\u001b[A\n",
      " 22%|███████████████████████████████████▊                                                                                                                             | 6705/30162 [00:18<01:03, 370.03it/s]\u001b[A\n",
      " 22%|███████████████████████████████████▉                                                                                                                             | 6743/30162 [00:18<01:02, 371.78it/s]\u001b[A\n",
      " 22%|████████████████████████████████████▏                                                                                                                            | 6781/30162 [00:18<01:02, 373.15it/s]\u001b[A\n",
      " 23%|████████████████████████████████████▍                                                                                                                            | 6819/30162 [00:18<01:02, 374.35it/s]\u001b[A\n",
      " 23%|████████████████████████████████████▌                                                                                                                            | 6857/30162 [00:18<01:02, 375.20it/s]\u001b[A\n",
      " 23%|████████████████████████████████████▊                                                                                                                            | 6895/30162 [00:18<01:02, 374.38it/s]\u001b[A\n",
      " 23%|█████████████████████████████████████                                                                                                                            | 6933/30162 [00:18<01:02, 371.54it/s]\u001b[A\n",
      " 23%|█████████████████████████████████████▏                                                                                                                           | 6971/30162 [00:18<01:02, 371.90it/s]\u001b[A\n",
      " 23%|█████████████████████████████████████▍                                                                                                                           | 7009/30162 [00:18<01:02, 373.40it/s]\u001b[A\n",
      " 23%|█████████████████████████████████████▌                                                                                                                           | 7047/30162 [00:19<01:01, 373.55it/s]\u001b[A\n",
      " 23%|█████████████████████████████████████▊                                                                                                                           | 7085/30162 [00:19<01:01, 372.90it/s]\u001b[A\n",
      " 24%|██████████████████████████████████████                                                                                                                           | 7123/30162 [00:19<01:01, 372.93it/s]\u001b[A\n",
      " 24%|██████████████████████████████████████▏                                                                                                                          | 7161/30162 [00:19<01:01, 373.42it/s]\u001b[A\n",
      " 24%|██████████████████████████████████████▍                                                                                                                          | 7199/30162 [00:19<01:01, 373.26it/s]\u001b[A\n",
      " 24%|██████████████████████████████████████▋                                                                                                                          | 7237/30162 [00:19<01:01, 373.40it/s]\u001b[A\n",
      " 24%|██████████████████████████████████████▊                                                                                                                          | 7275/30162 [00:19<01:01, 373.22it/s]\u001b[A\n",
      " 24%|███████████████████████████████████████                                                                                                                          | 7313/30162 [00:19<01:01, 373.55it/s]\u001b[A\n",
      " 24%|███████████████████████████████████████▏                                                                                                                         | 7351/30162 [00:19<01:00, 374.00it/s]\u001b[A\n",
      " 24%|███████████████████████████████████████▍                                                                                                                         | 7389/30162 [00:19<01:00, 374.81it/s]\u001b[A\n",
      " 25%|███████████████████████████████████████▋                                                                                                                         | 7427/30162 [00:20<01:00, 375.91it/s]\u001b[A\n",
      " 25%|███████████████████████████████████████▊                                                                                                                         | 7465/30162 [00:20<01:00, 375.91it/s]\u001b[A\n",
      " 25%|████████████████████████████████████████                                                                                                                         | 7503/30162 [00:20<01:00, 376.73it/s]\u001b[A\n",
      " 25%|████████████████████████████████████████▎                                                                                                                        | 7541/30162 [00:20<01:00, 376.83it/s]\u001b[A\n",
      " 25%|████████████████████████████████████████▍                                                                                                                        | 7579/30162 [00:20<00:59, 377.65it/s]\u001b[A\n",
      " 25%|████████████████████████████████████████▋                                                                                                                        | 7617/30162 [00:20<00:59, 377.38it/s]\u001b[A\n",
      " 25%|████████████████████████████████████████▊                                                                                                                        | 7655/30162 [00:20<00:59, 376.72it/s]\u001b[A\n",
      " 26%|█████████████████████████████████████████                                                                                                                        | 7693/30162 [00:20<00:59, 377.31it/s]\u001b[A\n",
      " 26%|█████████████████████████████████████████▎                                                                                                                       | 7731/30162 [00:20<00:59, 377.49it/s]\u001b[A\n",
      " 26%|█████████████████████████████████████████▍                                                                                                                       | 7769/30162 [00:20<00:59, 377.57it/s]\u001b[A\n",
      " 26%|█████████████████████████████████████████▋                                                                                                                       | 7807/30162 [00:21<00:59, 378.08it/s]\u001b[A\n",
      " 26%|█████████████████████████████████████████▉                                                                                                                       | 7845/30162 [00:21<00:59, 377.81it/s]\u001b[A\n",
      " 26%|██████████████████████████████████████████                                                                                                                       | 7883/30162 [00:21<00:58, 377.71it/s]\u001b[A\n",
      " 26%|██████████████████████████████████████████▎                                                                                                                      | 7921/30162 [00:21<00:58, 377.54it/s]\u001b[A\n",
      " 26%|██████████████████████████████████████████▍                                                                                                                      | 7959/30162 [00:21<00:58, 377.64it/s]\u001b[A\n",
      " 27%|██████████████████████████████████████████▋                                                                                                                      | 7997/30162 [00:21<00:58, 376.67it/s]\u001b[A\n",
      " 27%|██████████████████████████████████████████▉                                                                                                                      | 8035/30162 [00:21<00:58, 377.01it/s]\u001b[A\n",
      " 27%|███████████████████████████████████████████                                                                                                                      | 8073/30162 [00:21<00:58, 377.06it/s]\u001b[A\n",
      " 27%|███████████████████████████████████████████▎                                                                                                                     | 8111/30162 [00:21<00:58, 377.34it/s]\u001b[A\n",
      " 27%|███████████████████████████████████████████▍                                                                                                                     | 8149/30162 [00:21<00:58, 378.10it/s]\u001b[A\n",
      " 27%|███████████████████████████████████████████▋                                                                                                                     | 8187/30162 [00:22<00:58, 376.87it/s]\u001b[A\n",
      " 27%|███████████████████████████████████████████▉                                                                                                                     | 8225/30162 [00:22<00:58, 377.32it/s]\u001b[A\n",
      " 27%|████████████████████████████████████████████                                                                                                                     | 8264/30162 [00:22<00:57, 378.24it/s]\u001b[A\n",
      " 28%|████████████████████████████████████████████▎                                                                                                                    | 8302/30162 [00:22<00:57, 377.63it/s]\u001b[A\n",
      " 28%|████████████████████████████████████████████▌                                                                                                                    | 8340/30162 [00:22<00:57, 377.52it/s]\u001b[A\n",
      " 28%|████████████████████████████████████████████▋                                                                                                                    | 8378/30162 [00:22<00:57, 376.39it/s]\u001b[A\n",
      " 28%|████████████████████████████████████████████▉                                                                                                                    | 8416/30162 [00:22<00:57, 375.69it/s]\u001b[A\n",
      " 28%|█████████████████████████████████████████████▏                                                                                                                   | 8454/30162 [00:22<00:57, 375.88it/s]\u001b[A\n",
      " 28%|█████████████████████████████████████████████▎                                                                                                                   | 8492/30162 [00:22<00:57, 375.50it/s]\u001b[A\n",
      " 28%|█████████████████████████████████████████████▌                                                                                                                   | 8530/30162 [00:22<00:57, 375.27it/s]\u001b[A\n",
      " 28%|█████████████████████████████████████████████▋                                                                                                                   | 8568/30162 [00:23<00:57, 375.13it/s]\u001b[A\n",
      " 29%|█████████████████████████████████████████████▉                                                                                                                   | 8606/30162 [00:23<00:57, 375.22it/s]\u001b[A\n",
      " 29%|██████████████████████████████████████████████▏                                                                                                                  | 8644/30162 [00:23<00:57, 375.57it/s]\u001b[A\n",
      " 29%|██████████████████████████████████████████████▎                                                                                                                  | 8682/30162 [00:23<00:57, 376.09it/s]\u001b[A\n",
      " 29%|██████████████████████████████████████████████▌                                                                                                                  | 8720/30162 [00:23<00:57, 375.80it/s]\u001b[A\n",
      " 29%|██████████████████████████████████████████████▋                                                                                                                  | 8758/30162 [00:23<00:56, 376.49it/s]\u001b[A\n",
      " 29%|██████████████████████████████████████████████▉                                                                                                                  | 8796/30162 [00:23<00:56, 375.97it/s]\u001b[A\n"
     ]
    },
    {
     "name": "stderr",
     "output_type": "stream",
     "text": [
      " 29%|███████████████████████████████████████████████▏                                                                                                                 | 8834/30162 [00:23<00:56, 375.75it/s]\u001b[A\n",
      " 29%|███████████████████████████████████████████████▎                                                                                                                 | 8872/30162 [00:23<00:56, 375.77it/s]\u001b[A\n",
      " 30%|███████████████████████████████████████████████▌                                                                                                                 | 8910/30162 [00:23<00:56, 376.71it/s]\u001b[A\n",
      " 30%|███████████████████████████████████████████████▊                                                                                                                 | 8948/30162 [00:24<00:56, 377.61it/s]\u001b[A\n",
      " 30%|███████████████████████████████████████████████▉                                                                                                                 | 8986/30162 [00:24<00:56, 377.63it/s]\u001b[A\n",
      " 30%|████████████████████████████████████████████████▏                                                                                                                | 9024/30162 [00:24<00:55, 378.27it/s]\u001b[A\n",
      " 30%|████████████████████████████████████████████████▎                                                                                                                | 9062/30162 [00:24<00:55, 377.98it/s]\u001b[A\n",
      " 30%|████████████████████████████████████████████████▌                                                                                                                | 9100/30162 [00:24<00:55, 378.39it/s]\u001b[A\n",
      " 30%|████████████████████████████████████████████████▊                                                                                                                | 9138/30162 [00:24<00:55, 378.05it/s]\u001b[A\n",
      " 30%|████████████████████████████████████████████████▉                                                                                                                | 9176/30162 [00:24<00:55, 378.17it/s]\u001b[A\n",
      " 31%|█████████████████████████████████████████████████▏                                                                                                               | 9214/30162 [00:24<00:55, 377.62it/s]\u001b[A\n",
      " 31%|█████████████████████████████████████████████████▍                                                                                                               | 9252/30162 [00:24<00:55, 376.90it/s]\u001b[A\n",
      " 31%|█████████████████████████████████████████████████▌                                                                                                               | 9290/30162 [00:24<00:55, 376.45it/s]\u001b[A\n",
      " 31%|█████████████████████████████████████████████████▊                                                                                                               | 9328/30162 [00:25<00:55, 375.65it/s]\u001b[A\n",
      " 31%|█████████████████████████████████████████████████▉                                                                                                               | 9366/30162 [00:25<00:55, 376.22it/s]\u001b[A\n",
      " 31%|██████████████████████████████████████████████████▏                                                                                                              | 9404/30162 [00:25<00:55, 376.36it/s]\u001b[A\n",
      " 31%|██████████████████████████████████████████████████▍                                                                                                              | 9442/30162 [00:25<00:55, 376.16it/s]\u001b[A\n",
      " 31%|██████████████████████████████████████████████████▌                                                                                                              | 9480/30162 [00:25<00:54, 376.18it/s]\u001b[A\n",
      " 32%|██████████████████████████████████████████████████▊                                                                                                              | 9518/30162 [00:25<00:55, 375.13it/s]\u001b[A\n",
      " 32%|███████████████████████████████████████████████████                                                                                                              | 9556/30162 [00:25<00:54, 375.44it/s]\u001b[A\n",
      " 32%|███████████████████████████████████████████████████▏                                                                                                             | 9594/30162 [00:25<00:54, 376.24it/s]\u001b[A\n",
      " 32%|███████████████████████████████████████████████████▍                                                                                                             | 9632/30162 [00:25<00:54, 376.29it/s]\u001b[A\n",
      " 32%|███████████████████████████████████████████████████▌                                                                                                             | 9670/30162 [00:25<00:54, 376.42it/s]\u001b[A\n",
      " 32%|███████████████████████████████████████████████████▊                                                                                                             | 9708/30162 [00:26<00:54, 376.14it/s]\u001b[A\n",
      " 32%|████████████████████████████████████████████████████                                                                                                             | 9746/30162 [00:26<00:54, 376.53it/s]\u001b[A\n",
      " 32%|████████████████████████████████████████████████████▏                                                                                                            | 9784/30162 [00:26<00:54, 375.77it/s]\u001b[A\n",
      " 33%|████████████████████████████████████████████████████▍                                                                                                            | 9822/30162 [00:26<00:54, 376.32it/s]\u001b[A\n",
      " 33%|████████████████████████████████████████████████████▋                                                                                                            | 9860/30162 [00:26<00:53, 376.47it/s]\u001b[A\n",
      " 33%|████████████████████████████████████████████████████▊                                                                                                            | 9898/30162 [00:26<00:53, 376.36it/s]\u001b[A\n",
      " 33%|█████████████████████████████████████████████████████                                                                                                            | 9936/30162 [00:26<00:53, 376.70it/s]\u001b[A\n",
      " 33%|█████████████████████████████████████████████████████▏                                                                                                           | 9974/30162 [00:26<00:53, 377.41it/s]\u001b[A\n",
      " 33%|█████████████████████████████████████████████████████                                                                                                           | 10012/30162 [00:26<00:53, 377.83it/s]\u001b[A\n",
      " 33%|█████████████████████████████████████████████████████▎                                                                                                          | 10050/30162 [00:27<00:53, 376.81it/s]\u001b[A\n",
      " 33%|█████████████████████████████████████████████████████▌                                                                                                          | 10088/30162 [00:27<00:53, 376.80it/s]\u001b[A\n",
      " 34%|█████████████████████████████████████████████████████▋                                                                                                          | 10126/30162 [00:27<00:53, 376.82it/s]\u001b[A\n",
      " 34%|█████████████████████████████████████████████████████▉                                                                                                          | 10164/30162 [00:27<00:53, 377.18it/s]\u001b[A\n",
      " 34%|██████████████████████████████████████████████████████                                                                                                          | 10202/30162 [00:27<00:53, 375.65it/s]\u001b[A\n",
      " 34%|██████████████████████████████████████████████████████▎                                                                                                         | 10240/30162 [00:27<00:53, 375.04it/s]\u001b[A\n",
      " 34%|██████████████████████████████████████████████████████▌                                                                                                         | 10278/30162 [00:27<00:52, 375.79it/s]\u001b[A\n",
      " 34%|██████████████████████████████████████████████████████▋                                                                                                         | 10316/30162 [00:27<00:52, 375.83it/s]\u001b[A\n",
      " 34%|██████████████████████████████████████████████████████▉                                                                                                         | 10354/30162 [00:27<00:52, 376.34it/s]\u001b[A\n",
      " 34%|███████████████████████████████████████████████████████▏                                                                                                        | 10392/30162 [00:27<00:52, 377.01it/s]\u001b[A\n",
      " 35%|███████████████████████████████████████████████████████▎                                                                                                        | 10431/30162 [00:28<00:52, 378.47it/s]\u001b[A\n",
      " 35%|███████████████████████████████████████████████████████▌                                                                                                        | 10469/30162 [00:28<00:52, 377.99it/s]\u001b[A\n",
      " 35%|███████████████████████████████████████████████████████▋                                                                                                        | 10507/30162 [00:28<00:51, 378.05it/s]\u001b[A\n",
      " 35%|███████████████████████████████████████████████████████▉                                                                                                        | 10545/30162 [00:28<00:51, 377.96it/s]\u001b[A\n",
      " 35%|████████████████████████████████████████████████████████▏                                                                                                       | 10583/30162 [00:28<00:51, 377.53it/s]\u001b[A\n",
      " 35%|████████████████████████████████████████████████████████▎                                                                                                       | 10621/30162 [00:28<00:51, 377.81it/s]\u001b[A\n",
      " 35%|████████████████████████████████████████████████████████▌                                                                                                       | 10659/30162 [00:28<00:51, 378.01it/s]\u001b[A\n",
      " 35%|████████████████████████████████████████████████████████▋                                                                                                       | 10697/30162 [00:28<00:51, 378.43it/s]\u001b[A\n",
      " 36%|████████████████████████████████████████████████████████▉                                                                                                       | 10736/30162 [00:28<00:51, 379.49it/s]\u001b[A\n",
      " 36%|█████████████████████████████████████████████████████████▏                                                                                                      | 10775/30162 [00:28<00:51, 380.14it/s]\u001b[A\n",
      " 36%|█████████████████████████████████████████████████████████▎                                                                                                      | 10814/30162 [00:29<00:50, 379.56it/s]\u001b[A\n",
      " 36%|█████████████████████████████████████████████████████████▌                                                                                                      | 10852/30162 [00:29<00:50, 378.98it/s]\u001b[A\n",
      " 36%|█████████████████████████████████████████████████████████▊                                                                                                      | 10890/30162 [00:29<00:50, 377.94it/s]\u001b[A\n",
      " 36%|█████████████████████████████████████████████████████████▉                                                                                                      | 10928/30162 [00:29<00:51, 376.71it/s]\u001b[A\n",
      " 36%|██████████████████████████████████████████████████████████▏                                                                                                     | 10966/30162 [00:29<00:50, 376.52it/s]\u001b[A\n",
      " 36%|██████████████████████████████████████████████████████████▎                                                                                                     | 11004/30162 [00:29<00:50, 376.58it/s]\u001b[A\n",
      " 37%|██████████████████████████████████████████████████████████▌                                                                                                     | 11042/30162 [00:29<00:50, 376.43it/s]\u001b[A\n",
      " 37%|██████████████████████████████████████████████████████████▊                                                                                                     | 11080/30162 [00:29<00:50, 376.39it/s]\u001b[A\n",
      " 37%|██████████████████████████████████████████████████████████▉                                                                                                     | 11118/30162 [00:29<00:50, 375.77it/s]\u001b[A\n",
      " 37%|███████████████████████████████████████████████████████████▏                                                                                                    | 11156/30162 [00:29<00:50, 375.11it/s]\u001b[A\n",
      " 37%|███████████████████████████████████████████████████████████▍                                                                                                    | 11194/30162 [00:30<00:50, 375.73it/s]\u001b[A\n",
      " 37%|███████████████████████████████████████████████████████████▌                                                                                                    | 11232/30162 [00:30<00:50, 374.76it/s]\u001b[A\n",
      " 37%|███████████████████████████████████████████████████████████▊                                                                                                    | 11270/30162 [00:30<00:50, 374.10it/s]\u001b[A\n",
      " 37%|███████████████████████████████████████████████████████████▉                                                                                                    | 11308/30162 [00:30<00:50, 374.18it/s]\u001b[A\n",
      " 38%|████████████████████████████████████████████████████████████▏                                                                                                   | 11346/30162 [00:30<00:50, 373.96it/s]\u001b[A\n",
      " 38%|████████████████████████████████████████████████████████████▍                                                                                                   | 11384/30162 [00:30<00:50, 374.09it/s]\u001b[A\n",
      " 38%|████████████████████████████████████████████████████████████▌                                                                                                   | 11422/30162 [00:30<00:50, 373.22it/s]\u001b[A\n",
      " 38%|████████████████████████████████████████████████████████████▊                                                                                                   | 11460/30162 [00:30<00:50, 373.29it/s]\u001b[A\n",
      " 38%|████████████████████████████████████████████████████████████▉                                                                                                   | 11498/30162 [00:30<00:50, 372.81it/s]\u001b[A\n",
      " 38%|█████████████████████████████████████████████████████████████▏                                                                                                  | 11536/30162 [00:30<00:50, 372.30it/s]\u001b[A\n",
      " 38%|█████████████████████████████████████████████████████████████▍                                                                                                  | 11574/30162 [00:31<00:49, 374.06it/s]\u001b[A\n",
      " 38%|█████████████████████████████████████████████████████████████▌                                                                                                  | 11612/30162 [00:31<00:49, 374.84it/s]\u001b[A\n",
      " 39%|█████████████████████████████████████████████████████████████▊                                                                                                  | 11650/30162 [00:31<00:49, 373.67it/s]\u001b[A\n",
      " 39%|██████████████████████████████████████████████████████████████                                                                                                  | 11688/30162 [00:31<00:49, 373.14it/s]\u001b[A\n",
      " 39%|██████████████████████████████████████████████████████████████▏                                                                                                 | 11726/30162 [00:31<00:49, 372.11it/s]\u001b[A\n",
      " 39%|██████████████████████████████████████████████████████████████▍                                                                                                 | 11764/30162 [00:31<00:49, 371.71it/s]\u001b[A\n"
     ]
    },
    {
     "name": "stderr",
     "output_type": "stream",
     "text": [
      " 39%|██████████████████████████████████████████████████████████████▌                                                                                                 | 11802/30162 [00:31<00:49, 371.12it/s]\u001b[A\n",
      " 39%|██████████████████████████████████████████████████████████████▊                                                                                                 | 11840/30162 [00:31<00:49, 370.08it/s]\u001b[A\n",
      " 39%|███████████████████████████████████████████████████████████████                                                                                                 | 11878/30162 [00:31<00:49, 369.87it/s]\u001b[A\n",
      " 40%|███████████████████████████████████████████████████████████████▏                                                                                                | 11916/30162 [00:31<00:49, 370.92it/s]\u001b[A\n",
      " 40%|███████████████████████████████████████████████████████████████▍                                                                                                | 11954/30162 [00:32<00:48, 372.72it/s]\u001b[A\n",
      " 40%|███████████████████████████████████████████████████████████████▌                                                                                                | 11992/30162 [00:32<00:48, 371.61it/s]\u001b[A\n",
      " 40%|███████████████████████████████████████████████████████████████▊                                                                                                | 12030/30162 [00:32<00:48, 373.57it/s]\u001b[A\n",
      " 40%|████████████████████████████████████████████████████████████████                                                                                                | 12068/30162 [00:32<00:48, 373.03it/s]\u001b[A\n",
      " 40%|████████████████████████████████████████████████████████████████▏                                                                                               | 12106/30162 [00:32<00:48, 372.19it/s]\u001b[A\n",
      " 40%|████████████████████████████████████████████████████████████████▍                                                                                               | 12144/30162 [00:32<00:48, 373.47it/s]\u001b[A\n",
      " 40%|████████████████████████████████████████████████████████████████▌                                                                                               | 12182/30162 [00:32<00:47, 374.62it/s]\u001b[A\n",
      " 41%|████████████████████████████████████████████████████████████████▊                                                                                               | 12220/30162 [00:32<00:47, 374.71it/s]\u001b[A\n",
      " 41%|█████████████████████████████████████████████████████████████████                                                                                               | 12258/30162 [00:32<00:47, 373.77it/s]\u001b[A\n",
      " 41%|█████████████████████████████████████████████████████████████████▏                                                                                              | 12296/30162 [00:32<00:47, 373.01it/s]\u001b[A\n",
      " 41%|█████████████████████████████████████████████████████████████████▍                                                                                              | 12334/30162 [00:33<00:47, 372.24it/s]\u001b[A\n",
      " 41%|█████████████████████████████████████████████████████████████████▋                                                                                              | 12372/30162 [00:33<00:47, 371.09it/s]\u001b[A\n",
      " 41%|█████████████████████████████████████████████████████████████████▊                                                                                              | 12410/30162 [00:33<00:47, 370.74it/s]\u001b[A\n",
      " 41%|██████████████████████████████████████████████████████████████████                                                                                              | 12448/30162 [00:33<00:47, 373.38it/s]\u001b[A\n",
      " 41%|██████████████████████████████████████████████████████████████████▏                                                                                             | 12486/30162 [00:33<00:47, 373.72it/s]\u001b[A\n",
      " 42%|██████████████████████████████████████████████████████████████████▍                                                                                             | 12524/30162 [00:33<00:47, 373.89it/s]\u001b[A\n",
      " 42%|██████████████████████████████████████████████████████████████████▋                                                                                             | 12562/30162 [00:33<00:46, 374.72it/s]\u001b[A\n",
      " 42%|██████████████████████████████████████████████████████████████████▊                                                                                             | 12600/30162 [00:33<00:46, 375.26it/s]\u001b[A\n",
      " 42%|███████████████████████████████████████████████████████████████████                                                                                             | 12638/30162 [00:33<00:46, 376.46it/s]\u001b[A\n",
      " 42%|███████████████████████████████████████████████████████████████████▏                                                                                            | 12676/30162 [00:34<00:46, 377.50it/s]\u001b[A\n",
      " 42%|███████████████████████████████████████████████████████████████████▍                                                                                            | 12714/30162 [00:34<00:46, 377.61it/s]\u001b[A\n",
      " 42%|███████████████████████████████████████████████████████████████████▋                                                                                            | 12752/30162 [00:34<00:46, 377.03it/s]\u001b[A\n",
      " 42%|███████████████████████████████████████████████████████████████████▊                                                                                            | 12790/30162 [00:34<00:46, 377.13it/s]\u001b[A\n",
      " 43%|████████████████████████████████████████████████████████████████████                                                                                            | 12828/30162 [00:34<00:45, 377.71it/s]\u001b[A\n",
      " 43%|████████████████████████████████████████████████████████████████████▎                                                                                           | 12866/30162 [00:34<00:45, 377.40it/s]\u001b[A\n",
      " 43%|████████████████████████████████████████████████████████████████████▍                                                                                           | 12904/30162 [00:34<00:45, 377.47it/s]\u001b[A\n",
      " 43%|████████████████████████████████████████████████████████████████████▋                                                                                           | 12942/30162 [00:34<00:45, 377.17it/s]\u001b[A\n",
      " 43%|████████████████████████████████████████████████████████████████████▊                                                                                           | 12980/30162 [00:34<00:45, 377.31it/s]\u001b[A\n",
      " 43%|█████████████████████████████████████████████████████████████████████                                                                                           | 13018/30162 [00:34<00:45, 374.75it/s]\u001b[A\n",
      " 43%|█████████████████████████████████████████████████████████████████████▎                                                                                          | 13057/30162 [00:35<00:45, 376.67it/s]\u001b[A\n",
      " 43%|█████████████████████████████████████████████████████████████████████▍                                                                                          | 13095/30162 [00:35<00:45, 376.52it/s]\u001b[A\n",
      " 44%|█████████████████████████████████████████████████████████████████████▋                                                                                          | 13133/30162 [00:35<00:45, 376.93it/s]\u001b[A\n",
      " 44%|█████████████████████████████████████████████████████████████████████▊                                                                                          | 13171/30162 [00:35<00:44, 377.81it/s]\u001b[A\n",
      " 44%|██████████████████████████████████████████████████████████████████████                                                                                          | 13209/30162 [00:35<00:44, 377.89it/s]\u001b[A\n",
      " 44%|██████████████████████████████████████████████████████████████████████▎                                                                                         | 13247/30162 [00:35<00:44, 377.32it/s]\u001b[A\n",
      " 44%|██████████████████████████████████████████████████████████████████████▍                                                                                         | 13285/30162 [00:35<00:44, 377.24it/s]\u001b[A\n",
      " 44%|██████████████████████████████████████████████████████████████████████▋                                                                                         | 13323/30162 [00:35<00:44, 376.30it/s]\u001b[A\n",
      " 44%|██████████████████████████████████████████████████████████████████████▉                                                                                         | 13362/30162 [00:35<00:44, 377.72it/s]\u001b[A\n",
      " 44%|███████████████████████████████████████████████████████████████████████                                                                                         | 13400/30162 [00:35<00:44, 377.83it/s]\u001b[A\n",
      " 45%|███████████████████████████████████████████████████████████████████████▎                                                                                        | 13438/30162 [00:36<00:44, 377.64it/s]\u001b[A\n",
      " 45%|███████████████████████████████████████████████████████████████████████▍                                                                                        | 13476/30162 [00:36<00:44, 377.70it/s]\u001b[A\n",
      " 45%|███████████████████████████████████████████████████████████████████████▋                                                                                        | 13514/30162 [00:36<00:44, 377.81it/s]\u001b[A\n",
      " 45%|███████████████████████████████████████████████████████████████████████▉                                                                                        | 13552/30162 [00:36<00:44, 374.23it/s]\u001b[A\n",
      " 45%|████████████████████████████████████████████████████████████████████████                                                                                        | 13590/30162 [00:36<00:44, 372.73it/s]\u001b[A\n",
      " 45%|████████████████████████████████████████████████████████████████████████▎                                                                                       | 13628/30162 [00:36<00:44, 374.63it/s]\u001b[A\n",
      " 45%|████████████████████████████████████████████████████████████████████████▍                                                                                       | 13666/30162 [00:36<00:43, 375.32it/s]\u001b[A\n",
      " 45%|████████████████████████████████████████████████████████████████████████▋                                                                                       | 13704/30162 [00:36<00:43, 376.10it/s]\u001b[A\n",
      " 46%|████████████████████████████████████████████████████████████████████████▉                                                                                       | 13742/30162 [00:36<00:43, 376.67it/s]\u001b[A\n",
      " 46%|█████████████████████████████████████████████████████████████████████████                                                                                       | 13780/30162 [00:36<00:43, 376.58it/s]\u001b[A\n",
      " 46%|█████████████████████████████████████████████████████████████████████████▎                                                                                      | 13818/30162 [00:37<00:43, 376.51it/s]\u001b[A\n",
      " 46%|█████████████████████████████████████████████████████████████████████████▌                                                                                      | 13856/30162 [00:37<00:43, 376.89it/s]\u001b[A\n",
      " 46%|█████████████████████████████████████████████████████████████████████████▋                                                                                      | 13894/30162 [00:37<00:43, 376.53it/s]\u001b[A\n",
      " 46%|█████████████████████████████████████████████████████████████████████████▉                                                                                      | 13932/30162 [00:37<00:43, 377.20it/s]\u001b[A\n",
      " 46%|██████████████████████████████████████████████████████████████████████████                                                                                      | 13970/30162 [00:37<00:42, 376.99it/s]\u001b[A\n",
      " 46%|██████████████████████████████████████████████████████████████████████████▎                                                                                     | 14008/30162 [00:37<00:42, 377.09it/s]\u001b[A\n",
      " 47%|██████████████████████████████████████████████████████████████████████████▌                                                                                     | 14046/30162 [00:37<00:42, 375.73it/s]\u001b[A\n",
      " 47%|██████████████████████████████████████████████████████████████████████████▋                                                                                     | 14084/30162 [00:37<00:42, 375.99it/s]\u001b[A\n",
      " 47%|██████████████████████████████████████████████████████████████████████████▉                                                                                     | 14122/30162 [00:37<00:42, 375.95it/s]\u001b[A\n",
      " 47%|███████████████████████████████████████████████████████████████████████████                                                                                     | 14160/30162 [00:37<00:42, 376.21it/s]\u001b[A\n",
      " 47%|███████████████████████████████████████████████████████████████████████████▎                                                                                    | 14198/30162 [00:38<00:42, 376.66it/s]\u001b[A\n",
      " 47%|███████████████████████████████████████████████████████████████████████████▌                                                                                    | 14236/30162 [00:38<00:42, 376.91it/s]\u001b[A\n",
      " 47%|███████████████████████████████████████████████████████████████████████████▋                                                                                    | 14274/30162 [00:38<00:42, 376.75it/s]\u001b[A\n",
      " 47%|███████████████████████████████████████████████████████████████████████████▉                                                                                    | 14312/30162 [00:38<00:42, 377.03it/s]\u001b[A\n",
      " 48%|████████████████████████████████████████████████████████████████████████████                                                                                    | 14350/30162 [00:38<00:41, 377.45it/s]\u001b[A\n",
      " 48%|████████████████████████████████████████████████████████████████████████████▎                                                                                   | 14388/30162 [00:38<00:41, 377.46it/s]\u001b[A\n",
      " 48%|████████████████████████████████████████████████████████████████████████████▌                                                                                   | 14427/30162 [00:38<00:41, 378.38it/s]\u001b[A\n",
      " 48%|████████████████████████████████████████████████████████████████████████████▋                                                                                   | 14465/30162 [00:38<00:41, 377.42it/s]\u001b[A\n",
      " 48%|████████████████████████████████████████████████████████████████████████████▉                                                                                   | 14503/30162 [00:38<00:41, 377.52it/s]\u001b[A\n",
      " 48%|█████████████████████████████████████████████████████████████████████████████▏                                                                                  | 14541/30162 [00:38<00:41, 378.02it/s]\u001b[A\n",
      " 48%|█████████████████████████████████████████████████████████████████████████████▎                                                                                  | 14579/30162 [00:39<00:41, 377.09it/s]\u001b[A\n",
      " 48%|█████████████████████████████████████████████████████████████████████████████▌                                                                                  | 14617/30162 [00:39<00:41, 376.91it/s]\u001b[A\n",
      " 49%|█████████████████████████████████████████████████████████████████████████████▋                                                                                  | 14655/30162 [00:39<00:41, 376.38it/s]\u001b[A\n",
      " 49%|█████████████████████████████████████████████████████████████████████████████▉                                                                                  | 14693/30162 [00:39<00:41, 376.80it/s]\u001b[A\n",
      " 49%|██████████████████████████████████████████████████████████████████████████████▏                                                                                 | 14731/30162 [00:39<00:40, 377.41it/s]\u001b[A\n"
     ]
    },
    {
     "name": "stderr",
     "output_type": "stream",
     "text": [
      " 49%|██████████████████████████████████████████████████████████████████████████████▎                                                                                 | 14769/30162 [00:39<00:40, 377.34it/s]\u001b[A\n",
      " 49%|██████████████████████████████████████████████████████████████████████████████▌                                                                                 | 14807/30162 [00:39<00:40, 376.72it/s]\u001b[A\n",
      " 49%|██████████████████████████████████████████████████████████████████████████████▋                                                                                 | 14845/30162 [00:39<00:40, 377.10it/s]\u001b[A\n",
      " 49%|██████████████████████████████████████████████████████████████████████████████▉                                                                                 | 14883/30162 [00:39<00:40, 377.54it/s]\u001b[A\n",
      " 49%|███████████████████████████████████████████████████████████████████████████████▏                                                                                | 14921/30162 [00:39<00:40, 377.78it/s]\u001b[A\n",
      " 50%|███████████████████████████████████████████████████████████████████████████████▎                                                                                | 14959/30162 [00:40<00:40, 378.27it/s]\u001b[A\n",
      " 50%|███████████████████████████████████████████████████████████████████████████████▌                                                                                | 14997/30162 [00:40<00:40, 377.85it/s]\u001b[A\n",
      " 50%|███████████████████████████████████████████████████████████████████████████████▊                                                                                | 15035/30162 [00:40<00:40, 377.16it/s]\u001b[A\n",
      " 50%|███████████████████████████████████████████████████████████████████████████████▉                                                                                | 15073/30162 [00:40<00:39, 377.29it/s]\u001b[A\n",
      " 50%|████████████████████████████████████████████████████████████████████████████████▏                                                                               | 15111/30162 [00:40<00:39, 376.60it/s]\u001b[A\n",
      " 50%|████████████████████████████████████████████████████████████████████████████████▎                                                                               | 15150/30162 [00:40<00:39, 378.01it/s]\u001b[A\n",
      " 50%|████████████████████████████████████████████████████████████████████████████████▌                                                                               | 15188/30162 [00:40<00:39, 377.94it/s]\u001b[A\n",
      " 50%|████████████████████████████████████████████████████████████████████████████████▊                                                                               | 15226/30162 [00:40<00:39, 376.93it/s]\u001b[A\n",
      " 51%|████████████████████████████████████████████████████████████████████████████████▉                                                                               | 15264/30162 [00:40<00:39, 376.98it/s]\u001b[A\n",
      " 51%|█████████████████████████████████████████████████████████████████████████████████▏                                                                              | 15302/30162 [00:40<00:39, 376.58it/s]\u001b[A\n",
      " 51%|█████████████████████████████████████████████████████████████████████████████████▎                                                                              | 15340/30162 [00:41<00:39, 376.67it/s]\u001b[A\n",
      " 51%|█████████████████████████████████████████████████████████████████████████████████▌                                                                              | 15378/30162 [00:41<00:39, 376.78it/s]\u001b[A\n",
      " 51%|█████████████████████████████████████████████████████████████████████████████████▊                                                                              | 15416/30162 [00:41<00:39, 376.47it/s]\u001b[A\n",
      " 51%|█████████████████████████████████████████████████████████████████████████████████▉                                                                              | 15454/30162 [00:41<00:38, 377.14it/s]\u001b[A\n",
      " 51%|██████████████████████████████████████████████████████████████████████████████████▏                                                                             | 15492/30162 [00:41<00:38, 377.34it/s]\u001b[A\n",
      " 51%|██████████████████████████████████████████████████████████████████████████████████▍                                                                             | 15530/30162 [00:41<00:38, 376.75it/s]\u001b[A\n",
      " 52%|██████████████████████████████████████████████████████████████████████████████████▌                                                                             | 15569/30162 [00:41<00:38, 378.22it/s]\u001b[A\n",
      " 52%|██████████████████████████████████████████████████████████████████████████████████▊                                                                             | 15607/30162 [00:41<00:38, 377.49it/s]\u001b[A\n",
      " 52%|██████████████████████████████████████████████████████████████████████████████████▉                                                                             | 15645/30162 [00:41<00:38, 377.72it/s]\u001b[A\n",
      " 52%|███████████████████████████████████████████████████████████████████████████████████▏                                                                            | 15683/30162 [00:41<00:38, 377.31it/s]\u001b[A\n",
      " 52%|███████████████████████████████████████████████████████████████████████████████████▍                                                                            | 15721/30162 [00:42<00:38, 377.59it/s]\u001b[A\n",
      " 52%|███████████████████████████████████████████████████████████████████████████████████▌                                                                            | 15759/30162 [00:42<00:38, 377.54it/s]\u001b[A\n",
      " 52%|███████████████████████████████████████████████████████████████████████████████████▊                                                                            | 15797/30162 [00:42<00:38, 376.28it/s]\u001b[A\n",
      " 52%|███████████████████████████████████████████████████████████████████████████████████▉                                                                            | 15835/30162 [00:42<00:38, 376.07it/s]\u001b[A\n",
      " 53%|████████████████████████████████████████████████████████████████████████████████████▏                                                                           | 15874/30162 [00:42<00:37, 377.53it/s]\u001b[A\n",
      " 53%|████████████████████████████████████████████████████████████████████████████████████▍                                                                           | 15912/30162 [00:42<00:37, 376.88it/s]\u001b[A\n",
      " 53%|████████████████████████████████████████████████████████████████████████████████████▌                                                                           | 15950/30162 [00:42<00:37, 376.71it/s]\u001b[A\n",
      " 53%|████████████████████████████████████████████████████████████████████████████████████▊                                                                           | 15988/30162 [00:42<00:37, 377.39it/s]\u001b[A\n",
      " 53%|█████████████████████████████████████████████████████████████████████████████████████                                                                           | 16026/30162 [00:42<00:37, 376.90it/s]\u001b[A\n",
      " 53%|█████████████████████████████████████████████████████████████████████████████████████▏                                                                          | 16064/30162 [00:42<00:37, 376.80it/s]\u001b[A\n",
      " 53%|█████████████████████████████████████████████████████████████████████████████████████▍                                                                          | 16102/30162 [00:43<00:37, 376.12it/s]\u001b[A\n",
      " 54%|█████████████████████████████████████████████████████████████████████████████████████▌                                                                          | 16141/30162 [00:43<00:37, 377.43it/s]\u001b[A\n",
      " 54%|█████████████████████████████████████████████████████████████████████████████████████▊                                                                          | 16179/30162 [00:43<00:37, 376.78it/s]\u001b[A\n",
      " 54%|██████████████████████████████████████████████████████████████████████████████████████                                                                          | 16217/30162 [00:43<00:37, 375.55it/s]\u001b[A\n",
      " 54%|██████████████████████████████████████████████████████████████████████████████████████▏                                                                         | 16255/30162 [00:43<00:36, 376.26it/s]\u001b[A\n",
      " 54%|██████████████████████████████████████████████████████████████████████████████████████▍                                                                         | 16293/30162 [00:43<00:36, 375.40it/s]\u001b[A\n",
      " 54%|██████████████████████████████████████████████████████████████████████████████████████▋                                                                         | 16331/30162 [00:43<00:36, 375.83it/s]\u001b[A\n",
      " 54%|██████████████████████████████████████████████████████████████████████████████████████▊                                                                         | 16369/30162 [00:43<00:36, 375.78it/s]\u001b[A\n",
      " 54%|███████████████████████████████████████████████████████████████████████████████████████                                                                         | 16407/30162 [00:43<00:36, 375.41it/s]\u001b[A\n",
      " 55%|███████████████████████████████████████████████████████████████████████████████████████▏                                                                        | 16445/30162 [00:44<00:36, 375.77it/s]\u001b[A\n",
      " 55%|███████████████████████████████████████████████████████████████████████████████████████▍                                                                        | 16483/30162 [00:44<00:36, 375.26it/s]\u001b[A\n",
      " 55%|███████████████████████████████████████████████████████████████████████████████████████▋                                                                        | 16521/30162 [00:44<00:36, 375.75it/s]\u001b[A\n",
      " 55%|███████████████████████████████████████████████████████████████████████████████████████▊                                                                        | 16559/30162 [00:44<00:36, 376.38it/s]\u001b[A\n",
      " 55%|████████████████████████████████████████████████████████████████████████████████████████                                                                        | 16597/30162 [00:44<00:36, 376.65it/s]\u001b[A\n",
      " 55%|████████████████████████████████████████████████████████████████████████████████████████▏                                                                       | 16635/30162 [00:44<00:35, 377.41it/s]\u001b[A\n",
      " 55%|████████████████████████████████████████████████████████████████████████████████████████▍                                                                       | 16673/30162 [00:44<00:35, 377.53it/s]\u001b[A\n",
      " 55%|████████████████████████████████████████████████████████████████████████████████████████▋                                                                       | 16711/30162 [00:44<00:35, 377.95it/s]\u001b[A\n",
      " 56%|████████████████████████████████████████████████████████████████████████████████████████▊                                                                       | 16749/30162 [00:44<00:35, 377.83it/s]\u001b[A\n",
      " 56%|█████████████████████████████████████████████████████████████████████████████████████████                                                                       | 16787/30162 [00:44<00:35, 377.14it/s]\u001b[A\n",
      " 56%|█████████████████████████████████████████████████████████████████████████████████████████▎                                                                      | 16825/30162 [00:45<00:35, 377.04it/s]\u001b[A\n",
      " 56%|█████████████████████████████████████████████████████████████████████████████████████████▍                                                                      | 16863/30162 [00:45<00:35, 377.44it/s]\u001b[A\n",
      " 56%|█████████████████████████████████████████████████████████████████████████████████████████▋                                                                      | 16901/30162 [00:45<00:35, 376.81it/s]\u001b[A\n",
      " 56%|█████████████████████████████████████████████████████████████████████████████████████████▊                                                                      | 16939/30162 [00:45<00:35, 376.21it/s]\u001b[A\n",
      " 56%|██████████████████████████████████████████████████████████████████████████████████████████                                                                      | 16977/30162 [00:45<00:35, 374.60it/s]\u001b[A\n",
      " 56%|██████████████████████████████████████████████████████████████████████████████████████████▎                                                                     | 17015/30162 [00:45<00:35, 375.52it/s]\u001b[A\n",
      " 57%|██████████████████████████████████████████████████████████████████████████████████████████▍                                                                     | 17053/30162 [00:45<00:34, 376.18it/s]\u001b[A\n",
      " 57%|██████████████████████████████████████████████████████████████████████████████████████████▋                                                                     | 17091/30162 [00:45<00:34, 374.65it/s]\u001b[A\n",
      " 57%|██████████████████████████████████████████████████████████████████████████████████████████▊                                                                     | 17129/30162 [00:45<00:34, 375.22it/s]\u001b[A\n",
      " 57%|███████████████████████████████████████████████████████████████████████████████████████████                                                                     | 17167/30162 [00:45<00:34, 375.58it/s]\u001b[A\n",
      " 57%|███████████████████████████████████████████████████████████████████████████████████████████▎                                                                    | 17205/30162 [00:46<00:34, 375.21it/s]\u001b[A\n",
      " 57%|███████████████████████████████████████████████████████████████████████████████████████████▍                                                                    | 17243/30162 [00:46<00:34, 374.31it/s]\u001b[A\n",
      " 57%|███████████████████████████████████████████████████████████████████████████████████████████▋                                                                    | 17281/30162 [00:46<00:34, 373.65it/s]\u001b[A\n",
      " 57%|███████████████████████████████████████████████████████████████████████████████████████████▊                                                                    | 17319/30162 [00:46<00:34, 372.67it/s]\u001b[A\n",
      " 58%|████████████████████████████████████████████████████████████████████████████████████████████                                                                    | 17357/30162 [00:46<00:34, 373.40it/s]\u001b[A\n",
      " 58%|████████████████████████████████████████████████████████████████████████████████████████████▎                                                                   | 17395/30162 [00:46<00:34, 374.11it/s]\u001b[A\n",
      " 58%|████████████████████████████████████████████████████████████████████████████████████████████▍                                                                   | 17433/30162 [00:46<00:33, 374.45it/s]\u001b[A\n",
      " 58%|████████████████████████████████████████████████████████████████████████████████████████████▋                                                                   | 17471/30162 [00:46<00:33, 375.08it/s]\u001b[A\n",
      " 58%|████████████████████████████████████████████████████████████████████████████████████████████▉                                                                   | 17509/30162 [00:46<00:33, 374.55it/s]\u001b[A\n",
      " 58%|█████████████████████████████████████████████████████████████████████████████████████████████                                                                   | 17547/30162 [00:46<00:33, 374.71it/s]\u001b[A\n",
      " 58%|█████████████████████████████████████████████████████████████████████████████████████████████▎                                                                  | 17585/30162 [00:47<00:33, 375.34it/s]\u001b[A\n",
      " 58%|█████████████████████████████████████████████████████████████████████████████████████████████▍                                                                  | 17624/30162 [00:47<00:33, 377.06it/s]\u001b[A\n",
      " 59%|█████████████████████████████████████████████████████████████████████████████████████████████▋                                                                  | 17662/30162 [00:47<00:33, 376.83it/s]\u001b[A\n",
      " 59%|█████████████████████████████████████████████████████████████████████████████████████████████▉                                                                  | 17700/30162 [00:47<00:33, 376.55it/s]\u001b[A\n"
     ]
    },
    {
     "name": "stderr",
     "output_type": "stream",
     "text": [
      " 59%|██████████████████████████████████████████████████████████████████████████████████████████████                                                                  | 17738/30162 [00:47<00:33, 374.33it/s]\u001b[A\n",
      " 59%|██████████████████████████████████████████████████████████████████████████████████████████████▎                                                                 | 17776/30162 [00:47<00:33, 374.75it/s]\u001b[A\n",
      " 59%|██████████████████████████████████████████████████████████████████████████████████████████████▍                                                                 | 17814/30162 [00:47<00:32, 375.96it/s]\u001b[A\n",
      " 59%|██████████████████████████████████████████████████████████████████████████████████████████████▋                                                                 | 17852/30162 [00:47<00:32, 376.40it/s]\u001b[A\n",
      " 59%|██████████████████████████████████████████████████████████████████████████████████████████████▉                                                                 | 17890/30162 [00:47<00:32, 374.99it/s]\u001b[A\n",
      " 59%|███████████████████████████████████████████████████████████████████████████████████████████████                                                                 | 17928/30162 [00:47<00:32, 374.68it/s]\u001b[A\n",
      " 60%|███████████████████████████████████████████████████████████████████████████████████████████████▎                                                                | 17966/30162 [00:48<00:32, 374.30it/s]\u001b[A\n",
      " 60%|███████████████████████████████████████████████████████████████████████████████████████████████▌                                                                | 18004/30162 [00:48<00:32, 375.71it/s]\u001b[A\n",
      " 60%|███████████████████████████████████████████████████████████████████████████████████████████████▋                                                                | 18042/30162 [00:48<00:32, 376.79it/s]\u001b[A\n",
      " 60%|███████████████████████████████████████████████████████████████████████████████████████████████▉                                                                | 18080/30162 [00:48<00:32, 375.96it/s]\u001b[A\n",
      " 60%|████████████████████████████████████████████████████████████████████████████████████████████████                                                                | 18118/30162 [00:48<00:32, 374.53it/s]\u001b[A\n",
      " 60%|████████████████████████████████████████████████████████████████████████████████████████████████▎                                                               | 18156/30162 [00:48<00:31, 375.31it/s]\u001b[A\n",
      " 60%|████████████████████████████████████████████████████████████████████████████████████████████████▌                                                               | 18194/30162 [00:48<00:31, 374.51it/s]\u001b[A\n",
      " 60%|████████████████████████████████████████████████████████████████████████████████████████████████▋                                                               | 18232/30162 [00:48<00:31, 375.65it/s]\u001b[A\n",
      " 61%|████████████████████████████████████████████████████████████████████████████████████████████████▉                                                               | 18270/30162 [00:48<00:31, 375.49it/s]\u001b[A\n",
      " 61%|█████████████████████████████████████████████████████████████████████████████████████████████████                                                               | 18308/30162 [00:48<00:31, 374.91it/s]\u001b[A\n",
      " 61%|█████████████████████████████████████████████████████████████████████████████████████████████████▎                                                              | 18346/30162 [00:49<00:31, 376.39it/s]\u001b[A\n",
      " 61%|█████████████████████████████████████████████████████████████████████████████████████████████████▌                                                              | 18384/30162 [00:49<00:31, 376.51it/s]\u001b[A\n",
      " 61%|█████████████████████████████████████████████████████████████████████████████████████████████████▋                                                              | 18422/30162 [00:49<00:31, 376.72it/s]\u001b[A\n",
      " 61%|█████████████████████████████████████████████████████████████████████████████████████████████████▉                                                              | 18460/30162 [00:49<00:31, 376.75it/s]\u001b[A\n",
      " 61%|██████████████████████████████████████████████████████████████████████████████████████████████████▏                                                             | 18498/30162 [00:49<00:31, 372.18it/s]\u001b[A\n",
      " 61%|██████████████████████████████████████████████████████████████████████████████████████████████████▎                                                             | 18536/30162 [00:49<00:31, 372.38it/s]\u001b[A\n",
      " 62%|██████████████████████████████████████████████████████████████████████████████████████████████████▌                                                             | 18574/30162 [00:49<00:31, 372.85it/s]\u001b[A\n",
      " 62%|██████████████████████████████████████████████████████████████████████████████████████████████████▋                                                             | 18612/30162 [00:49<00:30, 373.74it/s]\u001b[A\n",
      " 62%|██████████████████████████████████████████████████████████████████████████████████████████████████▉                                                             | 18650/30162 [00:49<00:30, 374.83it/s]\u001b[A\n",
      " 62%|███████████████████████████████████████████████████████████████████████████████████████████████████▏                                                            | 18688/30162 [00:49<00:30, 375.77it/s]\u001b[A\n",
      " 62%|███████████████████████████████████████████████████████████████████████████████████████████████████▎                                                            | 18726/30162 [00:50<00:30, 376.77it/s]\u001b[A\n",
      " 62%|███████████████████████████████████████████████████████████████████████████████████████████████████▌                                                            | 18764/30162 [00:50<00:30, 376.51it/s]\u001b[A\n",
      " 62%|███████████████████████████████████████████████████████████████████████████████████████████████████▋                                                            | 18802/30162 [00:50<00:30, 376.06it/s]\u001b[A\n",
      " 62%|███████████████████████████████████████████████████████████████████████████████████████████████████▉                                                            | 18840/30162 [00:50<00:30, 376.19it/s]\u001b[A\n",
      " 63%|████████████████████████████████████████████████████████████████████████████████████████████████████▏                                                           | 18878/30162 [00:50<00:29, 377.21it/s]\u001b[A\n",
      " 63%|████████████████████████████████████████████████████████████████████████████████████████████████████▎                                                           | 18916/30162 [00:50<00:29, 376.05it/s]\u001b[A\n",
      " 63%|████████████████████████████████████████████████████████████████████████████████████████████████████▌                                                           | 18954/30162 [00:50<00:29, 376.07it/s]\u001b[A\n",
      " 63%|████████████████████████████████████████████████████████████████████████████████████████████████████▋                                                           | 18992/30162 [00:50<00:29, 376.54it/s]\u001b[A\n",
      " 63%|████████████████████████████████████████████████████████████████████████████████████████████████████▉                                                           | 19030/30162 [00:50<00:29, 375.82it/s]\u001b[A\n",
      " 63%|█████████████████████████████████████████████████████████████████████████████████████████████████████▏                                                          | 19068/30162 [00:50<00:29, 376.65it/s]\u001b[A\n",
      " 63%|█████████████████████████████████████████████████████████████████████████████████████████████████████▎                                                          | 19106/30162 [00:51<00:29, 376.04it/s]\u001b[A\n",
      " 63%|█████████████████████████████████████████████████████████████████████████████████████████████████████▌                                                          | 19144/30162 [00:51<00:29, 374.64it/s]\u001b[A\n",
      " 64%|█████████████████████████████████████████████████████████████████████████████████████████████████████▊                                                          | 19182/30162 [00:51<00:29, 374.50it/s]\u001b[A\n",
      " 64%|█████████████████████████████████████████████████████████████████████████████████████████████████████▉                                                          | 19220/30162 [00:51<00:29, 373.51it/s]\u001b[A\n",
      " 64%|██████████████████████████████████████████████████████████████████████████████████████████████████████▏                                                         | 19258/30162 [00:51<00:29, 374.62it/s]\u001b[A\n",
      " 64%|██████████████████████████████████████████████████████████████████████████████████████████████████████▎                                                         | 19296/30162 [00:51<00:28, 375.36it/s]\u001b[A\n",
      " 64%|██████████████████████████████████████████████████████████████████████████████████████████████████████▌                                                         | 19334/30162 [00:51<00:28, 375.20it/s]\u001b[A\n",
      " 64%|██████████████████████████████████████████████████████████████████████████████████████████████████████▊                                                         | 19372/30162 [00:51<00:28, 376.01it/s]\u001b[A\n",
      " 64%|██████████████████████████████████████████████████████████████████████████████████████████████████████▉                                                         | 19411/30162 [00:51<00:28, 377.51it/s]\u001b[A\n",
      " 64%|███████████████████████████████████████████████████████████████████████████████████████████████████████▏                                                        | 19449/30162 [00:52<00:28, 377.88it/s]\u001b[A\n",
      " 65%|███████████████████████████████████████████████████████████████████████████████████████████████████████▎                                                        | 19487/30162 [00:52<00:28, 378.02it/s]\u001b[A\n",
      " 65%|███████████████████████████████████████████████████████████████████████████████████████████████████████▌                                                        | 19525/30162 [00:52<00:28, 378.52it/s]\u001b[A\n",
      " 65%|███████████████████████████████████████████████████████████████████████████████████████████████████████▊                                                        | 19563/30162 [00:52<00:28, 378.51it/s]\u001b[A\n",
      " 65%|███████████████████████████████████████████████████████████████████████████████████████████████████████▉                                                        | 19601/30162 [00:52<00:27, 378.02it/s]\u001b[A\n",
      " 65%|████████████████████████████████████████████████████████████████████████████████████████████████████████▏                                                       | 19639/30162 [00:52<00:27, 377.99it/s]\u001b[A\n",
      " 65%|████████████████████████████████████████████████████████████████████████████████████████████████████████▍                                                       | 19677/30162 [00:52<00:27, 377.75it/s]\u001b[A\n",
      " 65%|████████████████████████████████████████████████████████████████████████████████████████████████████████▌                                                       | 19715/30162 [00:52<00:27, 377.59it/s]\u001b[A\n",
      " 65%|████████████████████████████████████████████████████████████████████████████████████████████████████████▊                                                       | 19753/30162 [00:52<00:27, 375.01it/s]\u001b[A\n",
      " 66%|████████████████████████████████████████████████████████████████████████████████████████████████████████▉                                                       | 19791/30162 [00:52<00:27, 374.52it/s]\u001b[A\n",
      " 66%|█████████████████████████████████████████████████████████████████████████████████████████████████████████▏                                                      | 19829/30162 [00:53<00:27, 375.04it/s]\u001b[A\n",
      " 66%|█████████████████████████████████████████████████████████████████████████████████████████████████████████▍                                                      | 19867/30162 [00:53<00:27, 375.08it/s]\u001b[A\n",
      " 66%|█████████████████████████████████████████████████████████████████████████████████████████████████████████▌                                                      | 19905/30162 [00:53<00:27, 375.57it/s]\u001b[A\n",
      " 66%|█████████████████████████████████████████████████████████████████████████████████████████████████████████▊                                                      | 19943/30162 [00:53<00:27, 376.48it/s]\u001b[A\n",
      " 66%|█████████████████████████████████████████████████████████████████████████████████████████████████████████▉                                                      | 19981/30162 [00:53<00:27, 374.23it/s]\u001b[A\n",
      " 66%|██████████████████████████████████████████████████████████████████████████████████████████████████████████▏                                                     | 20019/30162 [00:53<00:26, 375.72it/s]\u001b[A\n",
      " 66%|██████████████████████████████████████████████████████████████████████████████████████████████████████████▍                                                     | 20057/30162 [00:53<00:26, 376.89it/s]\u001b[A\n",
      " 67%|██████████████████████████████████████████████████████████████████████████████████████████████████████████▌                                                     | 20095/30162 [00:53<00:26, 376.39it/s]\u001b[A\n",
      " 67%|██████████████████████████████████████████████████████████████████████████████████████████████████████████▊                                                     | 20133/30162 [00:53<00:26, 374.14it/s]\u001b[A\n",
      " 67%|███████████████████████████████████████████████████████████████████████████████████████████████████████████                                                     | 20171/30162 [00:53<00:26, 371.82it/s]\u001b[A\n",
      " 67%|███████████████████████████████████████████████████████████████████████████████████████████████████████████▏                                                    | 20209/30162 [00:54<00:26, 374.08it/s]\u001b[A\n",
      " 67%|███████████████████████████████████████████████████████████████████████████████████████████████████████████▍                                                    | 20247/30162 [00:54<00:26, 372.07it/s]\u001b[A\n",
      " 67%|███████████████████████████████████████████████████████████████████████████████████████████████████████████▌                                                    | 20285/30162 [00:54<00:26, 370.07it/s]\u001b[A\n",
      " 67%|███████████████████████████████████████████████████████████████████████████████████████████████████████████▊                                                    | 20323/30162 [00:54<00:26, 371.96it/s]\u001b[A\n",
      " 68%|████████████████████████████████████████████████████████████████████████████████████████████████████████████                                                    | 20361/30162 [00:54<00:26, 372.90it/s]\u001b[A\n",
      " 68%|████████████████████████████████████████████████████████████████████████████████████████████████████████████▏                                                   | 20399/30162 [00:54<00:26, 373.82it/s]\u001b[A\n",
      " 68%|████████████████████████████████████████████████████████████████████████████████████████████████████████████▍                                                   | 20437/30162 [00:54<00:26, 372.05it/s]\u001b[A\n",
      " 68%|████████████████████████████████████████████████████████████████████████████████████████████████████████████▌                                                   | 20475/30162 [00:54<00:25, 373.41it/s]\u001b[A\n",
      " 68%|████████████████████████████████████████████████████████████████████████████████████████████████████████████▊                                                   | 20513/30162 [00:54<00:25, 374.28it/s]\u001b[A\n",
      " 68%|█████████████████████████████████████████████████████████████████████████████████████████████████████████████                                                   | 20551/30162 [00:54<00:25, 374.01it/s]\u001b[A\n",
      " 68%|█████████████████████████████████████████████████████████████████████████████████████████████████████████████▏                                                  | 20589/30162 [00:55<00:25, 374.05it/s]\u001b[A\n",
      " 68%|█████████████████████████████████████████████████████████████████████████████████████████████████████████████▍                                                  | 20628/30162 [00:55<00:25, 375.98it/s]\u001b[A\n",
      " 69%|█████████████████████████████████████████████████████████████████████████████████████████████████████████████▋                                                  | 20666/30162 [00:55<00:25, 375.50it/s]\u001b[A\n"
     ]
    },
    {
     "name": "stderr",
     "output_type": "stream",
     "text": [
      " 69%|█████████████████████████████████████████████████████████████████████████████████████████████████████████████▊                                                  | 20704/30162 [00:55<00:25, 375.97it/s]\u001b[A\n",
      " 69%|██████████████████████████████████████████████████████████████████████████████████████████████████████████████                                                  | 20742/30162 [00:55<00:24, 377.02it/s]\u001b[A\n",
      " 69%|██████████████████████████████████████████████████████████████████████████████████████████████████████████████▏                                                 | 20780/30162 [00:55<00:24, 376.79it/s]\u001b[A\n",
      " 69%|██████████████████████████████████████████████████████████████████████████████████████████████████████████████▍                                                 | 20818/30162 [00:55<00:24, 376.75it/s]\u001b[A\n",
      " 69%|██████████████████████████████████████████████████████████████████████████████████████████████████████████████▋                                                 | 20856/30162 [00:55<00:24, 376.88it/s]\u001b[A\n",
      " 69%|██████████████████████████████████████████████████████████████████████████████████████████████████████████████▊                                                 | 20894/30162 [00:55<00:24, 376.99it/s]\u001b[A\n",
      " 69%|███████████████████████████████████████████████████████████████████████████████████████████████████████████████                                                 | 20932/30162 [00:55<00:24, 377.00it/s]\u001b[A\n",
      " 70%|███████████████████████████████████████████████████████████████████████████████████████████████████████████████▏                                                | 20970/30162 [00:56<00:24, 376.98it/s]\u001b[A\n",
      " 70%|███████████████████████████████████████████████████████████████████████████████████████████████████████████████▍                                                | 21008/30162 [00:56<00:24, 377.45it/s]\u001b[A\n",
      " 70%|███████████████████████████████████████████████████████████████████████████████████████████████████████████████▋                                                | 21046/30162 [00:56<00:24, 378.21it/s]\u001b[A\n",
      " 70%|███████████████████████████████████████████████████████████████████████████████████████████████████████████████▊                                                | 21084/30162 [00:56<00:24, 377.12it/s]\u001b[A\n",
      " 70%|████████████████████████████████████████████████████████████████████████████████████████████████████████████████                                                | 21122/30162 [00:56<00:23, 377.42it/s]\u001b[A\n",
      " 70%|████████████████████████████████████████████████████████████████████████████████████████████████████████████████▏                                               | 21160/30162 [00:56<00:23, 377.05it/s]\u001b[A\n",
      " 70%|████████████████████████████████████████████████████████████████████████████████████████████████████████████████▍                                               | 21198/30162 [00:56<00:23, 377.67it/s]\u001b[A\n",
      " 70%|████████████████████████████████████████████████████████████████████████████████████████████████████████████████▋                                               | 21236/30162 [00:56<00:23, 376.76it/s]\u001b[A\n",
      " 71%|████████████████████████████████████████████████████████████████████████████████████████████████████████████████▊                                               | 21275/30162 [00:56<00:23, 378.24it/s]\u001b[A\n",
      " 71%|█████████████████████████████████████████████████████████████████████████████████████████████████████████████████                                               | 21313/30162 [00:56<00:23, 377.42it/s]\u001b[A\n",
      " 71%|█████████████████████████████████████████████████████████████████████████████████████████████████████████████████▎                                              | 21351/30162 [00:57<00:23, 377.04it/s]\u001b[A\n",
      " 71%|█████████████████████████████████████████████████████████████████████████████████████████████████████████████████▍                                              | 21389/30162 [00:57<00:23, 377.72it/s]\u001b[A\n",
      " 71%|█████████████████████████████████████████████████████████████████████████████████████████████████████████████████▋                                              | 21427/30162 [00:57<00:23, 376.87it/s]\u001b[A\n",
      " 71%|█████████████████████████████████████████████████████████████████████████████████████████████████████████████████▊                                              | 21465/30162 [00:57<00:23, 377.28it/s]\u001b[A\n",
      " 71%|██████████████████████████████████████████████████████████████████████████████████████████████████████████████████                                              | 21503/30162 [00:57<00:22, 376.70it/s]\u001b[A\n",
      " 71%|██████████████████████████████████████████████████████████████████████████████████████████████████████████████████▎                                             | 21541/30162 [00:57<00:22, 376.96it/s]\u001b[A\n",
      " 72%|██████████████████████████████████████████████████████████████████████████████████████████████████████████████████▍                                             | 21579/30162 [00:57<00:22, 377.63it/s]\u001b[A\n",
      " 72%|██████████████████████████████████████████████████████████████████████████████████████████████████████████████████▋                                             | 21617/30162 [00:57<00:22, 376.34it/s]\u001b[A\n",
      " 72%|██████████████████████████████████████████████████████████████████████████████████████████████████████████████████▊                                             | 21655/30162 [00:57<00:22, 377.13it/s]\u001b[A\n",
      " 72%|███████████████████████████████████████████████████████████████████████████████████████████████████████████████████                                             | 21693/30162 [00:57<00:22, 376.99it/s]\u001b[A\n",
      " 72%|███████████████████████████████████████████████████████████████████████████████████████████████████████████████████▎                                            | 21731/30162 [00:58<00:22, 375.59it/s]\u001b[A\n",
      " 72%|███████████████████████████████████████████████████████████████████████████████████████████████████████████████████▍                                            | 21769/30162 [00:58<00:22, 374.58it/s]\u001b[A\n",
      " 72%|███████████████████████████████████████████████████████████████████████████████████████████████████████████████████▋                                            | 21807/30162 [00:58<00:22, 374.87it/s]\u001b[A\n",
      " 72%|███████████████████████████████████████████████████████████████████████████████████████████████████████████████████▉                                            | 21845/30162 [00:58<00:22, 375.03it/s]\u001b[A\n",
      " 73%|████████████████████████████████████████████████████████████████████████████████████████████████████████████████████                                            | 21883/30162 [00:58<00:22, 374.92it/s]\u001b[A\n",
      " 73%|████████████████████████████████████████████████████████████████████████████████████████████████████████████████████▎                                           | 21921/30162 [00:58<00:21, 375.40it/s]\u001b[A\n",
      " 73%|████████████████████████████████████████████████████████████████████████████████████████████████████████████████████▍                                           | 21959/30162 [00:58<00:21, 374.73it/s]\u001b[A\n",
      " 73%|████████████████████████████████████████████████████████████████████████████████████████████████████████████████████▋                                           | 21997/30162 [00:58<00:21, 374.38it/s]\u001b[A\n",
      " 73%|████████████████████████████████████████████████████████████████████████████████████████████████████████████████████▉                                           | 22035/30162 [00:58<00:22, 367.45it/s]\u001b[A\n",
      " 73%|█████████████████████████████████████████████████████████████████████████████████████████████████████████████████████                                           | 22073/30162 [00:58<00:21, 368.39it/s]\u001b[A\n",
      " 73%|█████████████████████████████████████████████████████████████████████████████████████████████████████████████████████▎                                          | 22111/30162 [00:59<00:21, 370.72it/s]\u001b[A\n",
      " 73%|█████████████████████████████████████████████████████████████████████████████████████████████████████████████████████▍                                          | 22149/30162 [00:59<00:21, 371.37it/s]\u001b[A\n",
      " 74%|█████████████████████████████████████████████████████████████████████████████████████████████████████████████████████▋                                          | 22187/30162 [00:59<00:21, 372.33it/s]\u001b[A\n",
      " 74%|█████████████████████████████████████████████████████████████████████████████████████████████████████████████████████▉                                          | 22225/30162 [00:59<00:21, 372.12it/s]\u001b[A\n",
      " 74%|██████████████████████████████████████████████████████████████████████████████████████████████████████████████████████                                          | 22263/30162 [00:59<00:21, 372.58it/s]\u001b[A\n",
      " 74%|██████████████████████████████████████████████████████████████████████████████████████████████████████████████████████▎                                         | 22301/30162 [00:59<00:21, 372.13it/s]\u001b[A\n",
      " 74%|██████████████████████████████████████████████████████████████████████████████████████████████████████████████████████▌                                         | 22339/30162 [00:59<00:21, 370.72it/s]\u001b[A\n",
      " 74%|██████████████████████████████████████████████████████████████████████████████████████████████████████████████████████▋                                         | 22377/30162 [00:59<00:20, 371.60it/s]\u001b[A\n",
      " 74%|██████████████████████████████████████████████████████████████████████████████████████████████████████████████████████▉                                         | 22415/30162 [00:59<00:20, 371.94it/s]\u001b[A\n",
      " 74%|███████████████████████████████████████████████████████████████████████████████████████████████████████████████████████                                         | 22453/30162 [01:00<00:20, 372.21it/s]\u001b[A\n",
      " 75%|███████████████████████████████████████████████████████████████████████████████████████████████████████████████████████▎                                        | 22491/30162 [01:00<00:20, 372.75it/s]\u001b[A\n",
      " 75%|███████████████████████████████████████████████████████████████████████████████████████████████████████████████████████▌                                        | 22529/30162 [01:00<00:20, 373.13it/s]\u001b[A\n",
      " 75%|███████████████████████████████████████████████████████████████████████████████████████████████████████████████████████▋                                        | 22567/30162 [01:00<00:20, 374.48it/s]\u001b[A\n",
      " 75%|███████████████████████████████████████████████████████████████████████████████████████████████████████████████████████▉                                        | 22605/30162 [01:00<00:20, 373.29it/s]\u001b[A\n",
      " 75%|████████████████████████████████████████████████████████████████████████████████████████████████████████████████████████                                        | 22643/30162 [01:00<00:20, 374.44it/s]\u001b[A\n",
      " 75%|████████████████████████████████████████████████████████████████████████████████████████████████████████████████████████▎                                       | 22681/30162 [01:00<00:19, 375.04it/s]\u001b[A\n",
      " 75%|████████████████████████████████████████████████████████████████████████████████████████████████████████████████████████▌                                       | 22719/30162 [01:00<00:19, 376.06it/s]\u001b[A\n",
      " 75%|████████████████████████████████████████████████████████████████████████████████████████████████████████████████████████▋                                       | 22757/30162 [01:00<00:19, 376.64it/s]\u001b[A\n",
      " 76%|████████████████████████████████████████████████████████████████████████████████████████████████████████████████████████▉                                       | 22795/30162 [01:00<00:19, 376.40it/s]\u001b[A\n",
      " 76%|█████████████████████████████████████████████████████████████████████████████████████████████████████████████████████████                                       | 22833/30162 [01:01<00:19, 376.53it/s]\u001b[A\n",
      " 76%|█████████████████████████████████████████████████████████████████████████████████████████████████████████████████████████▎                                      | 22871/30162 [01:01<00:19, 377.03it/s]\u001b[A\n",
      " 76%|█████████████████████████████████████████████████████████████████████████████████████████████████████████████████████████▌                                      | 22909/30162 [01:01<00:19, 376.18it/s]\u001b[A\n",
      " 76%|█████████████████████████████████████████████████████████████████████████████████████████████████████████████████████████▋                                      | 22947/30162 [01:01<00:19, 375.60it/s]\u001b[A\n",
      " 76%|█████████████████████████████████████████████████████████████████████████████████████████████████████████████████████████▉                                      | 22985/30162 [01:01<00:19, 375.13it/s]\u001b[A\n",
      " 76%|██████████████████████████████████████████████████████████████████████████████████████████████████████████████████████████▏                                     | 23023/30162 [01:01<00:19, 375.10it/s]\u001b[A\n",
      " 76%|██████████████████████████████████████████████████████████████████████████████████████████████████████████████████████████▎                                     | 23061/30162 [01:01<00:18, 376.37it/s]\u001b[A\n",
      " 77%|██████████████████████████████████████████████████████████████████████████████████████████████████████████████████████████▌                                     | 23099/30162 [01:01<00:18, 376.81it/s]\u001b[A\n",
      " 77%|██████████████████████████████████████████████████████████████████████████████████████████████████████████████████████████▋                                     | 23137/30162 [01:01<00:18, 377.43it/s]\u001b[A\n",
      " 77%|██████████████████████████████████████████████████████████████████████████████████████████████████████████████████████████▉                                     | 23175/30162 [01:01<00:18, 376.83it/s]\u001b[A\n",
      " 77%|███████████████████████████████████████████████████████████████████████████████████████████████████████████████████████████▏                                    | 23213/30162 [01:02<00:18, 376.79it/s]\u001b[A\n",
      " 77%|███████████████████████████████████████████████████████████████████████████████████████████████████████████████████████████▎                                    | 23251/30162 [01:02<00:18, 375.43it/s]\u001b[A\n",
      " 77%|███████████████████████████████████████████████████████████████████████████████████████████████████████████████████████████▌                                    | 23290/30162 [01:02<00:18, 376.95it/s]\u001b[A\n",
      " 77%|███████████████████████████████████████████████████████████████████████████████████████████████████████████████████████████▋                                    | 23328/30162 [01:02<00:18, 377.14it/s]\u001b[A\n",
      " 77%|███████████████████████████████████████████████████████████████████████████████████████████████████████████████████████████▉                                    | 23366/30162 [01:02<00:18, 376.86it/s]\u001b[A\n",
      " 78%|████████████████████████████████████████████████████████████████████████████████████████████████████████████████████████████▏                                   | 23404/30162 [01:02<00:17, 377.14it/s]\u001b[A\n",
      " 78%|████████████████████████████████████████████████████████████████████████████████████████████████████████████████████████████▎                                   | 23442/30162 [01:02<00:17, 377.90it/s]\u001b[A\n",
      " 78%|████████████████████████████████████████████████████████████████████████████████████████████████████████████████████████████▌                                   | 23480/30162 [01:02<00:17, 377.95it/s]\u001b[A\n",
      " 78%|████████████████████████████████████████████████████████████████████████████████████████████████████████████████████████████▊                                   | 23518/30162 [01:02<00:17, 377.83it/s]\u001b[A\n",
      " 78%|████████████████████████████████████████████████████████████████████████████████████████████████████████████████████████████▉                                   | 23556/30162 [01:02<00:17, 377.92it/s]\u001b[A\n",
      " 78%|█████████████████████████████████████████████████████████████████████████████████████████████████████████████████████████████▏                                  | 23594/30162 [01:03<00:17, 376.04it/s]\u001b[A\n",
      " 78%|█████████████████████████████████████████████████████████████████████████████████████████████████████████████████████████████▎                                  | 23632/30162 [01:03<00:17, 376.55it/s]\u001b[A\n"
     ]
    },
    {
     "name": "stderr",
     "output_type": "stream",
     "text": [
      " 78%|█████████████████████████████████████████████████████████████████████████████████████████████████████████████████████████████▌                                  | 23670/30162 [01:03<00:17, 376.71it/s]\u001b[A\n",
      " 79%|█████████████████████████████████████████████████████████████████████████████████████████████████████████████████████████████▊                                  | 23708/30162 [01:03<00:17, 377.15it/s]\u001b[A\n",
      " 79%|█████████████████████████████████████████████████████████████████████████████████████████████████████████████████████████████▉                                  | 23746/30162 [01:03<00:17, 375.72it/s]\u001b[A\n",
      " 79%|██████████████████████████████████████████████████████████████████████████████████████████████████████████████████████████████▏                                 | 23784/30162 [01:03<00:17, 374.27it/s]\u001b[A\n",
      " 79%|██████████████████████████████████████████████████████████████████████████████████████████████████████████████████████████████▎                                 | 23822/30162 [01:03<00:16, 375.27it/s]\u001b[A\n",
      " 79%|██████████████████████████████████████████████████████████████████████████████████████████████████████████████████████████████▌                                 | 23860/30162 [01:03<00:16, 375.72it/s]\u001b[A\n",
      " 79%|██████████████████████████████████████████████████████████████████████████████████████████████████████████████████████████████▊                                 | 23898/30162 [01:03<00:16, 376.56it/s]\u001b[A\n",
      " 79%|██████████████████████████████████████████████████████████████████████████████████████████████████████████████████████████████▉                                 | 23936/30162 [01:03<00:16, 376.80it/s]\u001b[A\n",
      " 79%|███████████████████████████████████████████████████████████████████████████████████████████████████████████████████████████████▏                                | 23975/30162 [01:04<00:16, 378.10it/s]\u001b[A\n",
      " 80%|███████████████████████████████████████████████████████████████████████████████████████████████████████████████████████████████▍                                | 24013/30162 [01:04<00:16, 378.53it/s]\u001b[A\n",
      " 80%|███████████████████████████████████████████████████████████████████████████████████████████████████████████████████████████████▌                                | 24051/30162 [01:04<00:16, 377.66it/s]\u001b[A\n",
      " 80%|███████████████████████████████████████████████████████████████████████████████████████████████████████████████████████████████▊                                | 24089/30162 [01:04<00:16, 377.35it/s]\u001b[A\n",
      " 80%|███████████████████████████████████████████████████████████████████████████████████████████████████████████████████████████████▉                                | 24127/30162 [01:04<00:16, 377.15it/s]\u001b[A\n",
      " 80%|████████████████████████████████████████████████████████████████████████████████████████████████████████████████████████████████▏                               | 24165/30162 [01:04<00:15, 376.53it/s]\u001b[A\n",
      " 80%|████████████████████████████████████████████████████████████████████████████████████████████████████████████████████████████████▍                               | 24203/30162 [01:04<00:15, 375.78it/s]\u001b[A\n",
      " 80%|████████████████████████████████████████████████████████████████████████████████████████████████████████████████████████████████▌                               | 24241/30162 [01:04<00:15, 374.78it/s]\u001b[A\n",
      " 80%|████████████████████████████████████████████████████████████████████████████████████████████████████████████████████████████████▊                               | 24279/30162 [01:04<00:15, 374.58it/s]\u001b[A\n",
      " 81%|████████████████████████████████████████████████████████████████████████████████████████████████████████████████████████████████▉                               | 24317/30162 [01:04<00:15, 375.65it/s]\u001b[A\n",
      " 81%|█████████████████████████████████████████████████████████████████████████████████████████████████████████████████████████████████▏                              | 24355/30162 [01:05<00:15, 376.63it/s]\u001b[A\n",
      " 81%|█████████████████████████████████████████████████████████████████████████████████████████████████████████████████████████████████▍                              | 24393/30162 [01:05<00:15, 375.90it/s]\u001b[A\n",
      " 81%|█████████████████████████████████████████████████████████████████████████████████████████████████████████████████████████████████▌                              | 24431/30162 [01:05<00:15, 375.06it/s]\u001b[A\n",
      " 81%|█████████████████████████████████████████████████████████████████████████████████████████████████████████████████████████████████▊                              | 24469/30162 [01:05<00:15, 376.01it/s]\u001b[A\n",
      " 81%|██████████████████████████████████████████████████████████████████████████████████████████████████████████████████████████████████                              | 24507/30162 [01:05<00:15, 374.26it/s]\u001b[A\n",
      " 81%|██████████████████████████████████████████████████████████████████████████████████████████████████████████████████████████████████▏                             | 24545/30162 [01:05<00:15, 374.39it/s]\u001b[A\n",
      " 82%|██████████████████████████████████████████████████████████████████████████████████████████████████████████████████████████████████▍                             | 24583/30162 [01:05<00:14, 375.31it/s]\u001b[A\n",
      " 82%|██████████████████████████████████████████████████████████████████████████████████████████████████████████████████████████████████▌                             | 24621/30162 [01:05<00:14, 376.25it/s]\u001b[A\n",
      " 82%|██████████████████████████████████████████████████████████████████████████████████████████████████████████████████████████████████▊                             | 24659/30162 [01:05<00:14, 376.13it/s]\u001b[A\n",
      " 82%|███████████████████████████████████████████████████████████████████████████████████████████████████████████████████████████████████                             | 24697/30162 [01:05<00:14, 376.29it/s]\u001b[A\n",
      " 82%|███████████████████████████████████████████████████████████████████████████████████████████████████████████████████████████████████▏                            | 24735/30162 [01:06<00:14, 376.74it/s]\u001b[A\n",
      " 82%|███████████████████████████████████████████████████████████████████████████████████████████████████████████████████████████████████▍                            | 24773/30162 [01:06<00:14, 375.72it/s]\u001b[A\n",
      " 82%|███████████████████████████████████████████████████████████████████████████████████████████████████████████████████████████████████▌                            | 24811/30162 [01:06<00:14, 375.02it/s]\u001b[A\n",
      " 82%|███████████████████████████████████████████████████████████████████████████████████████████████████████████████████████████████████▊                            | 24849/30162 [01:06<00:14, 374.55it/s]\u001b[A\n",
      " 83%|████████████████████████████████████████████████████████████████████████████████████████████████████████████████████████████████████                            | 24887/30162 [01:06<00:14, 373.82it/s]\u001b[A\n",
      " 83%|████████████████████████████████████████████████████████████████████████████████████████████████████████████████████████████████████▏                           | 24925/30162 [01:06<00:14, 373.65it/s]\u001b[A\n",
      " 83%|████████████████████████████████████████████████████████████████████████████████████████████████████████████████████████████████████▍                           | 24963/30162 [01:06<00:13, 373.84it/s]\u001b[A\n",
      " 83%|████████████████████████████████████████████████████████████████████████████████████████████████████████████████████████████████████▌                           | 25001/30162 [01:06<00:13, 374.85it/s]\u001b[A\n",
      " 83%|████████████████████████████████████████████████████████████████████████████████████████████████████████████████████████████████████▊                           | 25039/30162 [01:06<00:13, 374.89it/s]\u001b[A\n",
      " 83%|█████████████████████████████████████████████████████████████████████████████████████████████████████████████████████████████████████                           | 25077/30162 [01:06<00:13, 373.82it/s]\u001b[A\n",
      " 83%|█████████████████████████████████████████████████████████████████████████████████████████████████████████████████████████████████████▏                          | 25115/30162 [01:07<00:13, 374.55it/s]\u001b[A\n",
      " 83%|█████████████████████████████████████████████████████████████████████████████████████████████████████████████████████████████████████▍                          | 25153/30162 [01:07<00:13, 375.31it/s]\u001b[A\n",
      " 84%|█████████████████████████████████████████████████████████████████████████████████████████████████████████████████████████████████████▋                          | 25191/30162 [01:07<00:13, 373.72it/s]\u001b[A\n",
      " 84%|█████████████████████████████████████████████████████████████████████████████████████████████████████████████████████████████████████▊                          | 25229/30162 [01:07<00:13, 375.09it/s]\u001b[A\n",
      " 84%|██████████████████████████████████████████████████████████████████████████████████████████████████████████████████████████████████████                          | 25267/30162 [01:07<00:13, 375.05it/s]\u001b[A\n",
      " 84%|██████████████████████████████████████████████████████████████████████████████████████████████████████████████████████████████████████▏                         | 25305/30162 [01:07<00:12, 375.30it/s]\u001b[A\n",
      " 84%|██████████████████████████████████████████████████████████████████████████████████████████████████████████████████████████████████████▍                         | 25343/30162 [01:07<00:12, 375.41it/s]\u001b[A\n",
      " 84%|██████████████████████████████████████████████████████████████████████████████████████████████████████████████████████████████████████▋                         | 25381/30162 [01:07<00:12, 374.41it/s]\u001b[A\n",
      " 84%|██████████████████████████████████████████████████████████████████████████████████████████████████████████████████████████████████████▊                         | 25419/30162 [01:07<00:12, 375.93it/s]\u001b[A\n",
      " 84%|███████████████████████████████████████████████████████████████████████████████████████████████████████████████████████████████████████                         | 25457/30162 [01:08<00:12, 376.53it/s]\u001b[A\n",
      " 85%|███████████████████████████████████████████████████████████████████████████████████████████████████████████████████████████████████████▏                        | 25495/30162 [01:08<00:12, 376.27it/s]\u001b[A\n",
      " 85%|███████████████████████████████████████████████████████████████████████████████████████████████████████████████████████████████████████▍                        | 25533/30162 [01:08<00:12, 376.91it/s]\u001b[A\n",
      " 85%|███████████████████████████████████████████████████████████████████████████████████████████████████████████████████████████████████████▋                        | 25571/30162 [01:08<00:12, 376.68it/s]\u001b[A\n",
      " 85%|███████████████████████████████████████████████████████████████████████████████████████████████████████████████████████████████████████▊                        | 25609/30162 [01:08<00:12, 376.26it/s]\u001b[A\n",
      " 85%|████████████████████████████████████████████████████████████████████████████████████████████████████████████████████████████████████████                        | 25647/30162 [01:08<00:11, 376.73it/s]\u001b[A\n",
      " 85%|████████████████████████████████████████████████████████████████████████████████████████████████████████████████████████████████████████▎                       | 25685/30162 [01:08<00:11, 376.96it/s]\u001b[A\n",
      " 85%|████████████████████████████████████████████████████████████████████████████████████████████████████████████████████████████████████████▍                       | 25723/30162 [01:08<00:11, 375.72it/s]\u001b[A\n",
      " 85%|████████████████████████████████████████████████████████████████████████████████████████████████████████████████████████████████████████▋                       | 25761/30162 [01:08<00:11, 376.01it/s]\u001b[A\n",
      " 86%|████████████████████████████████████████████████████████████████████████████████████████████████████████████████████████████████████████▊                       | 25799/30162 [01:08<00:11, 375.57it/s]\u001b[A\n",
      " 86%|█████████████████████████████████████████████████████████████████████████████████████████████████████████████████████████████████████████                       | 25837/30162 [01:09<00:11, 373.27it/s]\u001b[A\n",
      " 86%|█████████████████████████████████████████████████████████████████████████████████████████████████████████████████████████████████████████▎                      | 25875/30162 [01:09<00:11, 374.05it/s]\u001b[A\n",
      " 86%|█████████████████████████████████████████████████████████████████████████████████████████████████████████████████████████████████████████▍                      | 25913/30162 [01:09<00:11, 373.74it/s]\u001b[A\n",
      " 86%|█████████████████████████████████████████████████████████████████████████████████████████████████████████████████████████████████████████▋                      | 25951/30162 [01:09<00:11, 374.67it/s]\u001b[A\n",
      " 86%|█████████████████████████████████████████████████████████████████████████████████████████████████████████████████████████████████████████▊                      | 25989/30162 [01:09<00:11, 375.24it/s]\u001b[A\n",
      " 86%|██████████████████████████████████████████████████████████████████████████████████████████████████████████████████████████████████████████                      | 26027/30162 [01:09<00:11, 375.43it/s]\u001b[A\n",
      " 86%|██████████████████████████████████████████████████████████████████████████████████████████████████████████████████████████████████████████▎                     | 26066/30162 [01:09<00:10, 377.29it/s]\u001b[A\n",
      " 87%|██████████████████████████████████████████████████████████████████████████████████████████████████████████████████████████████████████████▍                     | 26104/30162 [01:09<00:10, 376.77it/s]\u001b[A\n",
      " 87%|██████████████████████████████████████████████████████████████████████████████████████████████████████████████████████████████████████████▋                     | 26142/30162 [01:09<00:10, 375.91it/s]\u001b[A\n",
      " 87%|██████████████████████████████████████████████████████████████████████████████████████████████████████████████████████████████████████████▉                     | 26181/30162 [01:09<00:10, 377.37it/s]\u001b[A\n",
      " 87%|███████████████████████████████████████████████████████████████████████████████████████████████████████████████████████████████████████████                     | 26219/30162 [01:10<00:10, 377.23it/s]\u001b[A\n",
      " 87%|███████████████████████████████████████████████████████████████████████████████████████████████████████████████████████████████████████████▎                    | 26257/30162 [01:10<00:10, 377.00it/s]\u001b[A\n",
      " 87%|███████████████████████████████████████████████████████████████████████████████████████████████████████████████████████████████████████████▍                    | 26295/30162 [01:10<00:10, 377.12it/s]\u001b[A\n",
      " 87%|███████████████████████████████████████████████████████████████████████████████████████████████████████████████████████████████████████████▋                    | 26333/30162 [01:10<00:10, 376.73it/s]\u001b[A\n",
      " 87%|███████████████████████████████████████████████████████████████████████████████████████████████████████████████████████████████████████████▉                    | 26371/30162 [01:10<00:10, 375.76it/s]\u001b[A\n",
      " 88%|████████████████████████████████████████████████████████████████████████████████████████████████████████████████████████████████████████████                    | 26409/30162 [01:10<00:10, 374.61it/s]\u001b[A\n",
      " 88%|████████████████████████████████████████████████████████████████████████████████████████████████████████████████████████████████████████████▎                   | 26447/30162 [01:10<00:09, 375.28it/s]\u001b[A\n",
      " 88%|████████████████████████████████████████████████████████████████████████████████████████████████████████████████████████████████████████████▍                   | 26485/30162 [01:10<00:09, 374.44it/s]\u001b[A\n",
      " 88%|████████████████████████████████████████████████████████████████████████████████████████████████████████████████████████████████████████████▋                   | 26523/30162 [01:10<00:09, 375.28it/s]\u001b[A\n",
      " 88%|████████████████████████████████████████████████████████████████████████████████████████████████████████████████████████████████████████████▉                   | 26561/30162 [01:10<00:09, 375.90it/s]\u001b[A\n",
      " 88%|█████████████████████████████████████████████████████████████████████████████████████████████████████████████████████████████████████████████                   | 26599/30162 [01:11<00:09, 374.72it/s]\u001b[A\n"
     ]
    },
    {
     "name": "stderr",
     "output_type": "stream",
     "text": [
      " 88%|█████████████████████████████████████████████████████████████████████████████████████████████████████████████████████████████████████████████▎                  | 26637/30162 [01:11<00:09, 375.61it/s]\u001b[A\n",
      " 88%|█████████████████████████████████████████████████████████████████████████████████████████████████████████████████████████████████████████████▌                  | 26675/30162 [01:11<00:09, 375.84it/s]\u001b[A\n",
      " 89%|█████████████████████████████████████████████████████████████████████████████████████████████████████████████████████████████████████████████▋                  | 26713/30162 [01:11<00:09, 376.00it/s]\u001b[A\n",
      " 89%|█████████████████████████████████████████████████████████████████████████████████████████████████████████████████████████████████████████████▉                  | 26751/30162 [01:11<00:09, 376.52it/s]\u001b[A\n",
      " 89%|██████████████████████████████████████████████████████████████████████████████████████████████████████████████████████████████████████████████                  | 26789/30162 [01:11<00:08, 376.14it/s]\u001b[A\n",
      " 89%|██████████████████████████████████████████████████████████████████████████████████████████████████████████████████████████████████████████████▎                 | 26828/30162 [01:11<00:08, 377.56it/s]\u001b[A\n",
      " 89%|██████████████████████████████████████████████████████████████████████████████████████████████████████████████████████████████████████████████▌                 | 26866/30162 [01:11<00:08, 378.00it/s]\u001b[A\n",
      " 89%|██████████████████████████████████████████████████████████████████████████████████████████████████████████████████████████████████████████████▋                 | 26905/30162 [01:11<00:08, 378.86it/s]\u001b[A\n",
      " 89%|██████████████████████████████████████████████████████████████████████████████████████████████████████████████████████████████████████████████▉                 | 26943/30162 [01:11<00:08, 378.26it/s]\u001b[A\n",
      " 89%|███████████████████████████████████████████████████████████████████████████████████████████████████████████████████████████████████████████████▏                | 26981/30162 [01:12<00:08, 378.00it/s]\u001b[A\n",
      " 90%|███████████████████████████████████████████████████████████████████████████████████████████████████████████████████████████████████████████████▎                | 27019/30162 [01:12<00:08, 377.25it/s]\u001b[A\n",
      " 90%|███████████████████████████████████████████████████████████████████████████████████████████████████████████████████████████████████████████████▌                | 27057/30162 [01:12<00:08, 375.45it/s]\u001b[A\n",
      " 90%|███████████████████████████████████████████████████████████████████████████████████████████████████████████████████████████████████████████████▋                | 27095/30162 [01:12<00:08, 375.24it/s]\u001b[A\n",
      " 90%|███████████████████████████████████████████████████████████████████████████████████████████████████████████████████████████████████████████████▉                | 27133/30162 [01:12<00:08, 373.97it/s]\u001b[A\n",
      " 90%|████████████████████████████████████████████████████████████████████████████████████████████████████████████████████████████████████████████████▏               | 27171/30162 [01:12<00:07, 374.16it/s]\u001b[A\n",
      " 90%|████████████████████████████████████████████████████████████████████████████████████████████████████████████████████████████████████████████████▎               | 27209/30162 [01:12<00:07, 374.88it/s]\u001b[A\n",
      " 90%|████████████████████████████████████████████████████████████████████████████████████████████████████████████████████████████████████████████████▌               | 27247/30162 [01:12<00:07, 374.96it/s]\u001b[A\n",
      " 90%|████████████████████████████████████████████████████████████████████████████████████████████████████████████████████████████████████████████████▋               | 27285/30162 [01:12<00:07, 373.77it/s]\u001b[A\n",
      " 91%|████████████████████████████████████████████████████████████████████████████████████████████████████████████████████████████████████████████████▉               | 27323/30162 [01:12<00:07, 374.29it/s]\u001b[A\n",
      " 91%|█████████████████████████████████████████████████████████████████████████████████████████████████████████████████████████████████████████████████▏              | 27361/30162 [01:13<00:07, 374.29it/s]\u001b[A\n",
      " 91%|█████████████████████████████████████████████████████████████████████████████████████████████████████████████████████████████████████████████████▎              | 27399/30162 [01:13<00:07, 373.86it/s]\u001b[A\n",
      " 91%|█████████████████████████████████████████████████████████████████████████████████████████████████████████████████████████████████████████████████▌              | 27437/30162 [01:13<00:07, 374.17it/s]\u001b[A\n",
      " 91%|█████████████████████████████████████████████████████████████████████████████████████████████████████████████████████████████████████████████████▋              | 27475/30162 [01:13<00:07, 373.25it/s]\u001b[A\n",
      " 91%|█████████████████████████████████████████████████████████████████████████████████████████████████████████████████████████████████████████████████▉              | 27513/30162 [01:13<00:07, 374.34it/s]\u001b[A\n",
      " 91%|██████████████████████████████████████████████████████████████████████████████████████████████████████████████████████████████████████████████████▏             | 27551/30162 [01:13<00:06, 373.67it/s]\u001b[A\n",
      " 91%|██████████████████████████████████████████████████████████████████████████████████████████████████████████████████████████████████████████████████▎             | 27589/30162 [01:13<00:06, 373.61it/s]\u001b[A\n",
      " 92%|██████████████████████████████████████████████████████████████████████████████████████████████████████████████████████████████████████████████████▌             | 27627/30162 [01:13<00:06, 371.80it/s]\u001b[A\n",
      " 92%|██████████████████████████████████████████████████████████████████████████████████████████████████████████████████████████████████████████████████▊             | 27665/30162 [01:13<00:06, 372.17it/s]\u001b[A\n",
      " 92%|██████████████████████████████████████████████████████████████████████████████████████████████████████████████████████████████████████████████████▉             | 27703/30162 [01:13<00:06, 370.81it/s]\u001b[A\n",
      " 92%|███████████████████████████████████████████████████████████████████████████████████████████████████████████████████████████████████████████████████▏            | 27741/30162 [01:14<00:06, 369.52it/s]\u001b[A\n",
      " 92%|███████████████████████████████████████████████████████████████████████████████████████████████████████████████████████████████████████████████████▎            | 27779/30162 [01:14<00:06, 371.08it/s]\u001b[A\n",
      " 92%|███████████████████████████████████████████████████████████████████████████████████████████████████████████████████████████████████████████████████▌            | 27817/30162 [01:14<00:06, 371.47it/s]\u001b[A\n",
      " 92%|███████████████████████████████████████████████████████████████████████████████████████████████████████████████████████████████████████████████████▊            | 27855/30162 [01:14<00:06, 370.74it/s]\u001b[A\n",
      " 92%|███████████████████████████████████████████████████████████████████████████████████████████████████████████████████████████████████████████████████▉            | 27893/30162 [01:14<00:06, 369.47it/s]\u001b[A\n",
      " 93%|████████████████████████████████████████████████████████████████████████████████████████████████████████████████████████████████████████████████████▏           | 27930/30162 [01:14<00:06, 369.57it/s]\u001b[A\n",
      " 93%|████████████████████████████████████████████████████████████████████████████████████████████████████████████████████████████████████████████████████▎           | 27967/30162 [01:14<00:05, 369.10it/s]\u001b[A\n",
      " 93%|████████████████████████████████████████████████████████████████████████████████████████████████████████████████████████████████████████████████████▌           | 28005/30162 [01:14<00:05, 371.48it/s]\u001b[A\n",
      " 93%|████████████████████████████████████████████████████████████████████████████████████████████████████████████████████████████████████████████████████▊           | 28043/30162 [01:14<00:05, 371.67it/s]\u001b[A\n",
      " 93%|████████████████████████████████████████████████████████████████████████████████████████████████████████████████████████████████████████████████████▉           | 28081/30162 [01:15<00:05, 369.71it/s]\u001b[A\n",
      " 93%|█████████████████████████████████████████████████████████████████████████████████████████████████████████████████████████████████████████████████████▏          | 28119/30162 [01:15<00:05, 371.84it/s]\u001b[A\n",
      " 93%|█████████████████████████████████████████████████████████████████████████████████████████████████████████████████████████████████████████████████████▎          | 28157/30162 [01:15<00:05, 370.76it/s]\u001b[A\n",
      " 93%|█████████████████████████████████████████████████████████████████████████████████████████████████████████████████████████████████████████████████████▌          | 28195/30162 [01:15<00:05, 369.30it/s]\u001b[A\n",
      " 94%|█████████████████████████████████████████████████████████████████████████████████████████████████████████████████████████████████████████████████████▊          | 28233/30162 [01:15<00:05, 371.74it/s]\u001b[A\n",
      " 94%|█████████████████████████████████████████████████████████████████████████████████████████████████████████████████████████████████████████████████████▉          | 28271/30162 [01:15<00:05, 371.30it/s]\u001b[A\n",
      " 94%|██████████████████████████████████████████████████████████████████████████████████████████████████████████████████████████████████████████████████████▏         | 28309/30162 [01:15<00:04, 373.62it/s]\u001b[A\n",
      " 94%|██████████████████████████████████████████████████████████████████████████████████████████████████████████████████████████████████████████████████████▎         | 28347/30162 [01:15<00:04, 371.43it/s]\u001b[A\n",
      " 94%|██████████████████████████████████████████████████████████████████████████████████████████████████████████████████████████████████████████████████████▌         | 28386/30162 [01:15<00:04, 374.13it/s]\u001b[A\n",
      " 94%|██████████████████████████████████████████████████████████████████████████████████████████████████████████████████████████████████████████████████████▊         | 28424/30162 [01:15<00:04, 375.78it/s]\u001b[A\n",
      " 94%|██████████████████████████████████████████████████████████████████████████████████████████████████████████████████████████████████████████████████████▉         | 28462/30162 [01:16<00:04, 372.91it/s]\u001b[A\n",
      " 94%|███████████████████████████████████████████████████████████████████████████████████████████████████████████████████████████████████████████████████████▏        | 28500/30162 [01:16<00:04, 374.47it/s]\u001b[A\n",
      " 95%|███████████████████████████████████████████████████████████████████████████████████████████████████████████████████████████████████████████████████████▍        | 28538/30162 [01:16<00:04, 374.96it/s]\u001b[A\n",
      " 95%|███████████████████████████████████████████████████████████████████████████████████████████████████████████████████████████████████████████████████████▌        | 28576/30162 [01:16<00:04, 371.62it/s]\u001b[A\n",
      " 95%|███████████████████████████████████████████████████████████████████████████████████████████████████████████████████████████████████████████████████████▊        | 28615/30162 [01:16<00:04, 374.24it/s]\u001b[A\n",
      " 95%|███████████████████████████████████████████████████████████████████████████████████████████████████████████████████████████████████████████████████████▉        | 28653/30162 [01:16<00:04, 372.74it/s]\u001b[A\n",
      " 95%|████████████████████████████████████████████████████████████████████████████████████████████████████████████████████████████████████████████████████████▏       | 28691/30162 [01:16<00:03, 371.57it/s]\u001b[A\n",
      " 95%|████████████████████████████████████████████████████████████████████████████████████████████████████████████████████████████████████████████████████████▍       | 28729/30162 [01:16<00:03, 373.91it/s]\u001b[A\n",
      " 95%|████████████████████████████████████████████████████████████████████████████████████████████████████████████████████████████████████████████████████████▌       | 28767/30162 [01:16<00:03, 374.35it/s]\u001b[A\n",
      " 96%|████████████████████████████████████████████████████████████████████████████████████████████████████████████████████████████████████████████████████████▊       | 28805/30162 [01:16<00:03, 375.09it/s]\u001b[A\n",
      " 96%|█████████████████████████████████████████████████████████████████████████████████████████████████████████████████████████████████████████████████████████       | 28844/30162 [01:17<00:03, 376.95it/s]\u001b[A\n",
      " 96%|█████████████████████████████████████████████████████████████████████████████████████████████████████████████████████████████████████████████████████████▏      | 28882/30162 [01:17<00:03, 377.43it/s]\u001b[A\n",
      " 96%|█████████████████████████████████████████████████████████████████████████████████████████████████████████████████████████████████████████████████████████▍      | 28920/30162 [01:17<00:03, 376.58it/s]\u001b[A\n",
      " 96%|█████████████████████████████████████████████████████████████████████████████████████████████████████████████████████████████████████████████████████████▌      | 28958/30162 [01:17<00:03, 377.12it/s]\u001b[A\n",
      " 96%|█████████████████████████████████████████████████████████████████████████████████████████████████████████████████████████████████████████████████████████▊      | 28996/30162 [01:17<00:03, 376.82it/s]\u001b[A\n",
      " 96%|██████████████████████████████████████████████████████████████████████████████████████████████████████████████████████████████████████████████████████████      | 29034/30162 [01:17<00:02, 377.20it/s]\u001b[A\n",
      " 96%|██████████████████████████████████████████████████████████████████████████████████████████████████████████████████████████████████████████████████████████▏     | 29072/30162 [01:17<00:02, 376.61it/s]\u001b[A\n",
      " 97%|██████████████████████████████████████████████████████████████████████████████████████████████████████████████████████████████████████████████████████████▍     | 29110/30162 [01:17<00:02, 376.68it/s]\u001b[A\n",
      " 97%|██████████████████████████████████████████████████████████████████████████████████████████████████████████████████████████████████████████████████████████▌     | 29148/30162 [01:17<00:02, 376.82it/s]\u001b[A\n",
      " 97%|██████████████████████████████████████████████████████████████████████████████████████████████████████████████████████████████████████████████████████████▊     | 29186/30162 [01:17<00:02, 376.75it/s]\u001b[A\n",
      " 97%|███████████████████████████████████████████████████████████████████████████████████████████████████████████████████████████████████████████████████████████     | 29224/30162 [01:18<00:02, 376.80it/s]\u001b[A\n",
      " 97%|███████████████████████████████████████████████████████████████████████████████████████████████████████████████████████████████████████████████████████████▏    | 29262/30162 [01:18<00:02, 376.18it/s]\u001b[A\n",
      " 97%|███████████████████████████████████████████████████████████████████████████████████████████████████████████████████████████████████████████████████████████▍    | 29300/30162 [01:18<00:02, 375.33it/s]\u001b[A\n",
      " 97%|███████████████████████████████████████████████████████████████████████████████████████████████████████████████████████████████████████████████████████████▋    | 29338/30162 [01:18<00:02, 374.03it/s]\u001b[A\n",
      " 97%|███████████████████████████████████████████████████████████████████████████████████████████████████████████████████████████████████████████████████████████▊    | 29376/30162 [01:18<00:02, 374.84it/s]\u001b[A\n",
      " 98%|████████████████████████████████████████████████████████████████████████████████████████████████████████████████████████████████████████████████████████████    | 29414/30162 [01:18<00:01, 375.75it/s]\u001b[A\n",
      " 98%|████████████████████████████████████████████████████████████████████████████████████████████████████████████████████████████████████████████████████████████▏   | 29452/30162 [01:18<00:01, 375.65it/s]\u001b[A\n",
      " 98%|████████████████████████████████████████████████████████████████████████████████████████████████████████████████████████████████████████████████████████████▍   | 29490/30162 [01:18<00:01, 375.49it/s]\u001b[A\n",
      " 98%|████████████████████████████████████████████████████████████████████████████████████████████████████████████████████████████████████████████████████████████▋   | 29528/30162 [01:18<00:01, 374.78it/s]\u001b[A\n",
      " 98%|████████████████████████████████████████████████████████████████████████████████████████████████████████████████████████████████████████████████████████████▊   | 29566/30162 [01:18<00:01, 374.96it/s]\u001b[A\n"
     ]
    },
    {
     "name": "stderr",
     "output_type": "stream",
     "text": [
      " 98%|█████████████████████████████████████████████████████████████████████████████████████████████████████████████████████████████████████████████████████████████   | 29604/30162 [01:19<00:01, 374.95it/s]\u001b[A\n",
      " 98%|█████████████████████████████████████████████████████████████████████████████████████████████████████████████████████████████████████████████████████████████▏  | 29642/30162 [01:19<00:01, 375.01it/s]\u001b[A\n",
      " 98%|█████████████████████████████████████████████████████████████████████████████████████████████████████████████████████████████████████████████████████████████▍  | 29680/30162 [01:19<00:01, 376.44it/s]\u001b[A\n",
      " 99%|█████████████████████████████████████████████████████████████████████████████████████████████████████████████████████████████████████████████████████████████▋  | 29718/30162 [01:19<00:01, 376.39it/s]\u001b[A\n",
      " 99%|█████████████████████████████████████████████████████████████████████████████████████████████████████████████████████████████████████████████████████████████▊  | 29756/30162 [01:19<00:01, 376.21it/s]\u001b[A\n",
      " 99%|██████████████████████████████████████████████████████████████████████████████████████████████████████████████████████████████████████████████████████████████  | 29794/30162 [01:19<00:00, 375.80it/s]\u001b[A\n",
      " 99%|██████████████████████████████████████████████████████████████████████████████████████████████████████████████████████████████████████████████████████████████▏ | 29832/30162 [01:19<00:00, 376.09it/s]\u001b[A\n",
      " 99%|██████████████████████████████████████████████████████████████████████████████████████████████████████████████████████████████████████████████████████████████▍ | 29870/30162 [01:19<00:00, 375.95it/s]\u001b[A\n",
      " 99%|██████████████████████████████████████████████████████████████████████████████████████████████████████████████████████████████████████████████████████████████▋ | 29908/30162 [01:19<00:00, 375.31it/s]\u001b[A\n",
      " 99%|██████████████████████████████████████████████████████████████████████████████████████████████████████████████████████████████████████████████████████████████▊ | 29946/30162 [01:19<00:00, 375.88it/s]\u001b[A\n",
      " 99%|███████████████████████████████████████████████████████████████████████████████████████████████████████████████████████████████████████████████████████████████ | 29984/30162 [01:20<00:00, 374.82it/s]\u001b[A\n",
      "100%|███████████████████████████████████████████████████████████████████████████████████████████████████████████████████████████████████████████████████████████████▎| 30022/30162 [01:20<00:00, 375.59it/s]\u001b[A\n",
      "100%|███████████████████████████████████████████████████████████████████████████████████████████████████████████████████████████████████████████████████████████████▍| 30060/30162 [01:20<00:00, 375.17it/s]\u001b[A\n",
      "100%|███████████████████████████████████████████████████████████████████████████████████████████████████████████████████████████████████████████████████████████████▋| 30098/30162 [01:20<00:00, 374.16it/s]\u001b[A\n",
      "100%|███████████████████████████████████████████████████████████████████████████████████████████████████████████████████████████████████████████████████████████████▊| 30136/30162 [01:20<00:00, 374.12it/s]\u001b[A"
     ]
    }
   ],
   "source": [
    "hessian_all_points = []\n",
    "tbar = tqdm.tqdm(total=len(X_train))\n",
    "total_time = 0\n",
    "for i in range(len(X_train)):\n",
    "    t0 = time.time()\n",
    "    hessian_all_points.append(hessian_one_point(clf, X_train[i], y_train[i])/len(X_train))\n",
    "    total_time += time.time()-t0\n",
    "    tbar.update(1)"
   ]
  },
  {
   "cell_type": "code",
   "execution_count": 22,
   "metadata": {
    "ExecuteTime": {
     "end_time": "2021-11-07T03:18:27.742363Z",
     "start_time": "2021-11-07T03:18:27.713931Z"
    }
   },
   "outputs": [],
   "source": [
    "hessian_all_points = np.array(hessian_all_points)"
   ]
  },
  {
   "cell_type": "code",
   "execution_count": 23,
   "metadata": {
    "ExecuteTime": {
     "end_time": "2021-11-07T03:18:27.745113Z",
     "start_time": "2021-11-07T03:18:27.743205Z"
    }
   },
   "outputs": [],
   "source": [
    "# np.save('h.npy', hessian_all_points)"
   ]
  },
  {
   "cell_type": "code",
   "execution_count": 24,
   "metadata": {
    "ExecuteTime": {
     "end_time": "2021-11-07T03:18:27.748281Z",
     "start_time": "2021-11-07T03:18:27.746741Z"
    }
   },
   "outputs": [],
   "source": [
    "# np.load('h.npy')"
   ]
  },
  {
   "cell_type": "code",
   "execution_count": 25,
   "metadata": {
    "ExecuteTime": {
     "end_time": "2021-11-07T03:18:27.752690Z",
     "start_time": "2021-11-07T03:18:27.749226Z"
    }
   },
   "outputs": [
    {
     "data": {
      "text/plain": [
       "79.66710209846497"
      ]
     },
     "execution_count": 25,
     "metadata": {},
     "output_type": "execute_result"
    }
   ],
   "source": [
    "total_time"
   ]
  },
  {
   "cell_type": "markdown",
   "metadata": {},
   "source": [
    "**Pre-compute: (1) Hessian (2) del_L_del_theta for each training data point**"
   ]
  },
  {
   "cell_type": "code",
   "execution_count": 26,
   "metadata": {
    "ExecuteTime": {
     "end_time": "2021-11-07T03:18:34.576240Z",
     "start_time": "2021-11-07T03:18:27.753509Z"
    }
   },
   "outputs": [],
   "source": [
    "del_L_del_theta = []\n",
    "for i in range(int(len(X_train))):\n",
    "    gradient = convert_grad_to_ndarray(del_L_del_theta_i(clf, X_train[i], int(y_train[i])))\n",
    "    while np.sum(np.isnan(gradient))>0:\n",
    "        gradient = convert_grad_to_ndarray(del_L_del_theta_i(clf, X_train[i], int(y_train[i])))\n",
    "    del_L_del_theta.append(gradient)\n",
    "del_L_del_theta = np.array(del_L_del_theta)"
   ]
  },
  {
   "cell_type": "markdown",
   "metadata": {},
   "source": [
    "*Select delta fairness function depending on selected metric*"
   ]
  },
  {
   "cell_type": "code",
   "execution_count": 27,
   "metadata": {
    "ExecuteTime": {
     "end_time": "2021-11-07T03:18:37.001111Z",
     "start_time": "2021-11-07T03:18:34.577222Z"
    }
   },
   "outputs": [],
   "source": [
    "metric = 0\n",
    "if metric == 0:\n",
    "    v1 = del_spd_del_theta(clf, X_test_orig, X_test, dataset)\n",
    "elif metric == 1:\n",
    "    v1 = del_tpr_parity_del_theta(clf, X_test_orig, X_test, y_test, dataset)\n",
    "elif metric == 2:\n",
    "    v1 = del_predictive_parity_del_theta(clf, X_test_orig, X_test, y_test, dataset)"
   ]
  },
  {
   "cell_type": "code",
   "execution_count": 28,
   "metadata": {
    "ExecuteTime": {
     "end_time": "2021-11-07T03:18:37.011506Z",
     "start_time": "2021-11-07T03:18:37.002060Z"
    }
   },
   "outputs": [],
   "source": [
    "hinv = np.linalg.pinv(np.sum(hessian_all_points, axis=0))\n",
    "hinv_v = s_test(clf, X_train, y_train, v1, hinv=hinv, verbose=False)"
   ]
  },
  {
   "cell_type": "markdown",
   "metadata": {},
   "source": [
    "**First-order influence computation**"
   ]
  },
  {
   "cell_type": "code",
   "execution_count": 29,
   "metadata": {
    "ExecuteTime": {
     "end_time": "2021-11-07T03:18:37.015831Z",
     "start_time": "2021-11-07T03:18:37.012491Z"
    },
    "code_folding": [
     0
    ]
   },
   "outputs": [],
   "source": [
    "def first_order_influence(del_L_del_theta, hinv_v, n):\n",
    "    infs = []\n",
    "    for i in range(n):\n",
    "        inf = -np.dot(del_L_del_theta[i].transpose(), hinv_v)\n",
    "        inf *= -1/n\n",
    "        infs.append(inf)\n",
    "    return infs"
   ]
  },
  {
   "cell_type": "code",
   "execution_count": 30,
   "metadata": {
    "ExecuteTime": {
     "end_time": "2021-11-07T03:18:37.021500Z",
     "start_time": "2021-11-07T03:18:37.019012Z"
    },
    "code_folding": [
     0
    ]
   },
   "outputs": [],
   "source": [
    "def first_order_group_influence(U, del_L_del_theta):\n",
    "    infs = []\n",
    "    u = len(U)\n",
    "    n = len(X_train)\n",
    "#     for i in range(u):\n",
    "#         idx = U[i]\n",
    "#         inf = -np.dot(del_L_del_theta[idx].transpose(), hinv)\n",
    "#         inf *= -1/n\n",
    "#         infs.append(inf)\n",
    "    return 1/n*np.sum(np.dot(del_L_del_theta[U, :], hinv), axis=0)"
   ]
  },
  {
   "cell_type": "markdown",
   "metadata": {},
   "source": [
    "**Second-order influence computation for a group of points in subset U**"
   ]
  },
  {
   "cell_type": "code",
   "execution_count": 31,
   "metadata": {
    "ExecuteTime": {
     "end_time": "2021-11-07T03:18:37.027402Z",
     "start_time": "2021-11-07T03:18:37.022434Z"
    },
    "code_folding": [
     0
    ]
   },
   "outputs": [],
   "source": [
    "def second_order_influence(model, X_train, y_train, U, del_L_del_theta, r=-1, verbose=False):\n",
    "    u = len(U)\n",
    "    s = len(X_train)\n",
    "    p = u/s\n",
    "    c1 = (1 - 2*p)/(s * (1-p)**2)\n",
    "    c2 = 1/((s * (1-p))**2)\n",
    "    num_params = len(del_L_del_theta[0])\n",
    "    del_L_del_theta_sum = np.sum([del_L_del_theta[i] for i in U], axis=0)\n",
    "    hinv_del_L_del_theta= s_test(model, X_train, y_train, del_L_del_theta_sum, hinv=hinv)\n",
    "    hessian_U_hinv_del_L_del_theta = np.zeros((num_params,))\n",
    "    for i in range(u):\n",
    "        idx = U[i]\n",
    "        x, y = torch.FloatTensor(X_train[idx]), torch.FloatTensor([y_train[idx]])\n",
    "        loss = loss_func(model, x, y)\n",
    "        params = [ p for p in model.parameters() if p.requires_grad ]\n",
    "        hessian_U_hinv_del_L_del_theta += convert_grad_to_ndarray(hvp(loss, params, torch.FloatTensor(hinv_del_L_del_theta)))\n",
    "\n",
    "    term1 = c1 * hinv_del_L_del_theta\n",
    "    term2 = c2 * s_test(model, X_train, y_train, hessian_U_hinv_del_L_del_theta, hinv=hinv)\n",
    "    sum_term = term1 + term2\n",
    "    return sum_term"
   ]
  },
  {
   "cell_type": "code",
   "execution_count": 32,
   "metadata": {
    "ExecuteTime": {
     "end_time": "2021-11-07T03:18:37.031835Z",
     "start_time": "2021-11-07T03:18:37.028410Z"
    },
    "code_folding": [
     0
    ]
   },
   "outputs": [],
   "source": [
    "def second_order_group_influence(U, del_L_del_theta):\n",
    "    u = len(U)\n",
    "    s = len(X_train)\n",
    "    p = u/s\n",
    "    c1 = (1 - 2*p)/(s * (1-p)**2)\n",
    "    c2 = 1/((s * (1-p))**2)\n",
    "    num_params = len(del_L_del_theta[0])\n",
    "    del_L_del_theta_sum = np.sum(del_L_del_theta[U, :], axis=0)\n",
    "    hinv_del_L_del_theta= np.matmul(hinv, del_L_del_theta_sum)\n",
    "    hessian_U_hinv_del_L_del_theta = np.sum(np.matmul(hessian_all_points[U, :], hinv_del_L_del_theta), axis=0)\n",
    "#     hessian_U_hinv_del_L_del_theta = np.zeros((num_params,))\n",
    "#     for i in range(u):\n",
    "#         idx = U[i]\n",
    "#         hessian_U_hinv_del_L_del_theta += np.matmul(hessian_all_points[idx], hinv_del_L_del_theta)\n",
    "    term1 = c1 * hinv_del_L_del_theta\n",
    "    term2 = c2 * np.matmul(hinv, hessian_U_hinv_del_L_del_theta)\n",
    "    sum_term = (term1 + term2*len(X_train))\n",
    "    return sum_term"
   ]
  },
  {
   "cell_type": "markdown",
   "metadata": {},
   "source": [
    "**First-order influence of each training data point**"
   ]
  },
  {
   "cell_type": "code",
   "execution_count": 33,
   "metadata": {
    "ExecuteTime": {
     "end_time": "2021-11-07T03:18:37.088053Z",
     "start_time": "2021-11-07T03:18:37.032836Z"
    }
   },
   "outputs": [],
   "source": [
    "infs_1 = first_order_influence(del_L_del_theta, hinv_v, len(X_train))"
   ]
  },
  {
   "cell_type": "markdown",
   "metadata": {},
   "source": [
    "**Fairness: Ground-truth subset influence vs. computed subset influences: Coherent subset** \n",
    "\n",
    "(by coherent, we mean group of data points that share some properties)"
   ]
  },
  {
   "cell_type": "markdown",
   "metadata": {},
   "source": [
    "***NOTE:*** The retraining of the clf would cause the change in model parameters and thus lead to the change of gradients, so in this part, we first acquire all the first- and second-order influence functions together based on the original model. After all the influence functions are calculated, we retrain the model corresponding to different removed coherent subset of data and get the ground truth."
   ]
  },
  {
   "cell_type": "code",
   "execution_count": 34,
   "metadata": {
    "ExecuteTime": {
     "end_time": "2021-11-07T03:18:37.090983Z",
     "start_time": "2021-11-07T03:18:37.089033Z"
    }
   },
   "outputs": [],
   "source": [
    "time_gt = []\n",
    "time_first = []\n",
    "time_second = []\n",
    "rep = 1"
   ]
  },
  {
   "cell_type": "code",
   "execution_count": 35,
   "metadata": {
    "ExecuteTime": {
     "end_time": "2021-11-07T03:18:37.095051Z",
     "start_time": "2021-11-07T03:18:37.092022Z"
    }
   },
   "outputs": [
    {
     "name": "stdout",
     "output_type": "stream",
     "text": [
      "alpha_f_lower: 0.0018791870117462698\n",
      "alpha_f_upper: 0.18791870117462697\n",
      "del_f_threshold: -0.018791870117462698\n",
      "support_small: 0.3\n",
      "del_f_threshold_small: 0.018791870117462698\n"
     ]
    }
   ],
   "source": [
    "alpha_f_lower = (-0.01) * (spd_0)\n",
    "alpha_f_upper = -spd_0\n",
    "del_f_threshold = (0.1) * spd_0\n",
    "support = 0.05 # Do not consider extremely small patterns\n",
    "support_small = 0.3 # For small patterns, 2nd-order estimation is quite accurate\n",
    "del_f_threshold_small = (-0.1) * (spd_0)\n",
    "print(\"alpha_f_lower:\", alpha_f_lower)\n",
    "print(\"alpha_f_upper:\", alpha_f_upper)\n",
    "print(\"del_f_threshold:\", del_f_threshold)\n",
    "print(\"support_small:\", support_small)\n",
    "print(\"del_f_threshold_small:\", del_f_threshold_small)"
   ]
  },
  {
   "cell_type": "code",
   "execution_count": 36,
   "metadata": {
    "ExecuteTime": {
     "end_time": "2021-11-07T03:18:37.358775Z",
     "start_time": "2021-11-07T03:18:37.096057Z"
    },
    "code_folding": [],
    "scrolled": true
   },
   "outputs": [],
   "source": [
    "for _ in range(rep):\n",
    "#     Get the original model\n",
    "#     clf = NeuralNetwork(input_size=X_train.shape[-1])\n",
    "    clf = LogisticRegression(input_size=X_train.shape[-1])\n",
    "#     clf = SVM()\n",
    "    clf.fit(X_train, y_train)\n",
    "\n",
    "    attributes = []\n",
    "    attributeValues = []\n",
    "    first_order_influences = []\n",
    "    second_order_influences = []\n",
    "    fractionRows = []\n",
    "\n",
    "    v1_orig = v1\n",
    "    for col in X_train_orig.columns:\n",
    "        if dataset == 'german':\n",
    "            if \"purpose\" in col or \"housing\" in col: #dummy variables purpose=0 doesn't make sense\n",
    "                vals = [1]\n",
    "            else:\n",
    "                vals = X_train_orig[col].unique()\n",
    "        elif dataset == 'adult':\n",
    "            vals = X_train_orig[col].unique()\n",
    "        elif dataset == 'compas':\n",
    "            vals = X_train_orig[col].unique()\n",
    "        elif dataset == 'sqf':\n",
    "            vals = X_train_orig[col].unique()\n",
    "        elif dataset == 'random':\n",
    "            vals = X_train_orig[col].unique()\n",
    "        else:\n",
    "            raise NotImplementedError\n",
    "        for val in vals:\n",
    "#             print(col, val, sep=\": \")\n",
    "            idx = X_train_orig[X_train_orig[col] == val].index  \n",
    "            if (len(idx)/len(X_train) > support):\n",
    "                X = np.delete(X_train, idx, 0)\n",
    "                y = y_train.drop(index=idx, inplace=False)\n",
    "                if len(y.unique()) > 1:\n",
    "                    idx = X_train_orig[X_train_orig[col] == val].index \n",
    "\n",
    "                    # First-order subset influence\n",
    "                    t0 = time.time()\n",
    "                    params_f_1 = first_order_group_influence(idx, del_L_del_theta)\n",
    "                    del_f_1 = np.dot(v1.transpose(), params_f_1)        \n",
    "\n",
    "                    # Second-order subset influence\n",
    "                    t0 = time.time()\n",
    "                    params_f_2 = second_order_group_influence(idx, del_L_del_theta)\n",
    "                    del_f_2 = np.dot(v1.transpose(), params_f_2)\n",
    "                    time_second.append(time.time()-t0)\n",
    "\n",
    "                    attributes.append(col)\n",
    "                    attributeValues.append(val)\n",
    "                    first_order_influences.append(del_f_1)\n",
    "                    second_order_influences.append(del_f_2)\n",
    "                    fractionRows.append(len(idx)/len(X_train)*100)"
   ]
  },
  {
   "cell_type": "code",
   "execution_count": 37,
   "metadata": {
    "ExecuteTime": {
     "end_time": "2021-11-07T03:18:40.965628Z",
     "start_time": "2021-11-07T03:18:37.359706Z"
    },
    "code_folding": []
   },
   "outputs": [],
   "source": [
    "for _ in range(rep):\n",
    "    gt_influences = []\n",
    "#     v1s = []\n",
    "    for col in X_train_orig.columns:\n",
    "        if dataset == 'german':\n",
    "            if \"purpose\" in col or \"housing\" in col: #dummy variables purpose=0 doesn't make sense\n",
    "                vals = [1]\n",
    "            else:\n",
    "                vals = X_train_orig[col].unique()\n",
    "        elif dataset == 'adult':\n",
    "            vals = X_train_orig[col].unique()\n",
    "        elif dataset == 'compas':\n",
    "            vals = X_train_orig[col].unique()\n",
    "        elif dataset == 'sqf':\n",
    "            vals = X_train_orig[col].unique()\n",
    "        elif dataset == 'random':\n",
    "            vals = X_train_orig[col].unique()\n",
    "        else:\n",
    "            raise NotImplementedError\n",
    "        for val in vals:\n",
    "            idx = X_train_orig[X_train_orig[col] == val].index \n",
    "            X = np.delete(X_train, idx, 0)\n",
    "            y = y_train.drop(index=idx, inplace=False)\n",
    "            inf_gt = 0\n",
    "            if (len(idx)/len(X_train) > support):\n",
    "                if len(y.unique()) > 1:\n",
    "                    # Ground truth subset influence\n",
    "                    t0 = time.time()\n",
    "                    clf.fit(np.array(X), np.array(y))\n",
    "                    y_pred = clf.predict_proba(np.array(X_test))\n",
    "                    if metric == 0:\n",
    "                        inf_gt = computeFairness(y_pred, X_test_orig, y_test, 0, dataset) - spd_0\n",
    "                    elif metric == 1:\n",
    "                        inf_gt = computeFairness(y_pred, X_test_orig, y_test, 1, dataset) - tpr_parity_0\n",
    "                    elif metric == 2:\n",
    "                        inf_gt = computeFairness(y_pred, X_test_orig, y_test, 2, dataset) - predictive_parity_0\n",
    "                    time_gt.append(time.time()-t0)\n",
    "                    accuracy = computeAccuracy(y_test, y_pred)\n",
    "                    gt_influences.append(inf_gt)\n",
    "    #                 v1s.append(del_spd_del_theta(clf, X_test_orig, X_test, dataset))  # here, v1 corresponds to the metric spd"
   ]
  },
  {
   "cell_type": "code",
   "execution_count": 38,
   "metadata": {
    "ExecuteTime": {
     "end_time": "2021-11-07T03:18:41.134765Z",
     "start_time": "2021-11-07T03:18:40.966604Z"
    }
   },
   "outputs": [
    {
     "data": {
      "image/png": "[encoded data removed]",
      "text/plain": [
       "<Figure size 360x360 with 1 Axes>"
      ]
     },
     "metadata": {
      "needs_background": "light"
     },
     "output_type": "display_data"
    },
    {
     "name": "stderr",
     "output_type": "stream",
     "text": [
      "\n",
      "100%|████████████████████████████████████████████████████████████████████████████████████████████████████████████████████████████████████████████████████████████████| 30162/30162 [01:40<00:00, 374.12it/s]\u001b[A"
     ]
    }
   ],
   "source": [
    "lim = .3\n",
    "plt.figure(figsize=(5,5))\n",
    "xs = (np.arange(31)-15)/15*lim*0.8\n",
    "ys = xs\n",
    "plt.xlim(-lim, lim)\n",
    "plt.ylim(-lim, lim)\n",
    "plt.plot(xs, ys, 'grey')\n",
    "\n",
    "# RGBA\n",
    "color_first = np.zeros((len(gt_influences), 4))\n",
    "color_first[:, 2] = 1.0\n",
    "color_first[:, 3] = 1-np.array(fractionRows)/100\n",
    "color_second = np.zeros((len(gt_influences), 4))\n",
    "color_second[:, 0] = 1.0\n",
    "color_second[:, 3] = 1-np.array(fractionRows)/100\n",
    "\n",
    "# color_first = np.zeros((len(gt_influences), 4))\n",
    "# color_first[:, 0] = 1.0\n",
    "# color_first[:, 3] = 0.2\n",
    "# color_second = np.zeros((len(gt_influences), 4))\n",
    "# color_second[:, 0] = 1.0\n",
    "# color_second[:, 3] = 1.0\n",
    "\n",
    "plt.scatter(gt_influences, first_order_influences, s=12, color=color_first, label='first-order')\n",
    "plt.scatter(gt_influences, second_order_influences, s=12, color=color_second, label='second-order')\n",
    "plt.ylabel('estimated influence\\n', fontsize=12, fontweight='bold')\n",
    "plt.xlabel('\\nground truth influence', fontsize=12, fontweight='bold')\n",
    "plt.legend(fontsize=12, prop={'weight':'bold'})\n",
    "plt.grid()\n",
    "plt.savefig('infs.png')"
   ]
  },
  {
   "cell_type": "code",
   "execution_count": 39,
   "metadata": {
    "ExecuteTime": {
     "end_time": "2021-11-07T03:19:34.570727Z",
     "start_time": "2021-11-07T03:19:34.558032Z"
    }
   },
   "outputs": [],
   "source": [
    "expl = [attributes, attributeValues, first_order_influences, second_order_influences, fractionRows]\n",
    "expl = (np.array(expl).T).tolist()\n",
    "\n",
    "explanations = pd.DataFrame(expl, columns=[\"attributes\", \"attributeValues\", \"first_order_influences\", \"second_order_influences\", \"fractionRows\"])\n",
    "explanations['second_order_influences'] = explanations['second_order_influences'].astype(float)\n",
    "explanations['first_order_influences'] = explanations['first_order_influences'].astype(float)\n",
    "explanations['fractionRows'] = explanations['fractionRows'].astype(float)"
   ]
  },
  {
   "cell_type": "code",
   "execution_count": 40,
   "metadata": {
    "ExecuteTime": {
     "end_time": "2021-11-07T03:19:35.071206Z",
     "start_time": "2021-11-07T03:19:35.061382Z"
    }
   },
   "outputs": [],
   "source": [
    "# candidates = explanations[(explanations[\"second_order_influences\"] > alpha_f_lower) \n",
    "#                            & (explanations[\"second_order_influences\"] < alpha_f_upper)]\n",
    "candidates = copy.deepcopy(explanations)\n",
    "candidates.loc[:, 'score'] = candidates.loc[:, 'second_order_influences']*100/candidates.loc[:, 'fractionRows']\n",
    "# display(candidates)"
   ]
  },
  {
   "cell_type": "code",
   "execution_count": 41,
   "metadata": {
    "ExecuteTime": {
     "end_time": "2021-11-07T03:19:35.356103Z",
     "start_time": "2021-11-07T03:19:35.347218Z"
    },
    "scrolled": true
   },
   "outputs": [
    {
     "data": {
      "text/plain": [
       "20"
      ]
     },
     "execution_count": 41,
     "metadata": {},
     "output_type": "execute_result"
    }
   ],
   "source": [
    "len(candidates)"
   ]
  },
  {
   "cell_type": "code",
   "execution_count": 42,
   "metadata": {
    "ExecuteTime": {
     "end_time": "2021-11-07T03:19:36.048151Z",
     "start_time": "2021-11-07T03:19:36.024795Z"
    },
    "code_folding": [
     0
    ]
   },
   "outputs": [],
   "source": [
    "class Topk:\n",
    "    \"\"\"\n",
    "        top explanations: explanation -> (minhash, set_index, score)\n",
    "    \"\"\"\n",
    "\n",
    "    def __init__(self, method='containment', threshold=0.75, k=5):\n",
    "        self.method = method\n",
    "        if method == 'lshensemble':\n",
    "            raise NotImplementedError\n",
    "        elif method == 'lsh':\n",
    "            raise NotImplementedError\n",
    "\n",
    "        self.top_explanations = dict()\n",
    "        self.k = k\n",
    "        self.threshold = threshold\n",
    "        self.min_score = -100\n",
    "        self.min_score_explanation = None\n",
    "        self.containment_hist = []\n",
    "\n",
    "    def _update_min(self, new_explanation, new_score):\n",
    "        if len(self.top_explanations) > 0:\n",
    "            for explanation, t in self.top_explanations.items():\n",
    "                if t[1] < new_score:\n",
    "                    new_score = t[1]\n",
    "                    new_explanation = explanation\n",
    "        self.min_score = new_score\n",
    "        self.min_score_explanation = new_explanation\n",
    "\n",
    "    def _containment(self, x, q):\n",
    "        c = len(x & q) / len(q)\n",
    "        self.containment_hist.append(c)\n",
    "        return c\n",
    "\n",
    "    def update(self, explanation, score):\n",
    "        if (len(self.top_explanations) < self.k) or (score > self.min_score):\n",
    "            s = get_subset(explanation)\n",
    "            explanation = json.dumps(explanation)\n",
    "\n",
    "            if self.method == 'lshensemble':\n",
    "                raise NotImplementedError\n",
    "            elif self.method == 'lsh':\n",
    "                raise NotImplementedError\n",
    "            elif self.method == 'containment':\n",
    "                q_result = set()\n",
    "                for k, v in self.top_explanations.items():\n",
    "                    if self._containment(v[0], s) > self.threshold:\n",
    "                        q_result.add(k)\n",
    "\n",
    "            if len(q_result) == 0:\n",
    "                if len(self.top_explanations) <= self.k - 1:\n",
    "                    self._update_min(explanation, score)\n",
    "                    self.top_explanations[explanation] = (s, score)\n",
    "                    return 0\n",
    "        return -1"
   ]
  },
  {
   "cell_type": "code",
   "execution_count": 43,
   "metadata": {
    "ExecuteTime": {
     "end_time": "2021-11-07T03:19:36.359496Z",
     "start_time": "2021-11-07T03:19:36.351738Z"
    },
    "code_folding": [
     0
    ]
   },
   "outputs": [],
   "source": [
    "def get_subset(explanation):\n",
    "    subset = X_train_orig.copy()\n",
    "    for predicate in explanation:\n",
    "        attr = predicate.split(\"=\")[0].strip(' ')\n",
    "        val = int(predicate.split(\"=\")[1].strip(' '))\n",
    "        subset = subset[subset[attr]==val]\n",
    "    return subset.index"
   ]
  },
  {
   "cell_type": "code",
   "execution_count": 44,
   "metadata": {
    "ExecuteTime": {
     "end_time": "2021-11-07T03:19:37.337428Z",
     "start_time": "2021-11-07T03:19:36.772052Z"
    },
    "code_folding": []
   },
   "outputs": [
    {
     "name": "stdout",
     "output_type": "stream",
     "text": [
      "Generated:  20  1-candidates\n",
      "Generated:  36  2-candidates\n",
      "Generated:  2\n",
      "Generated: 92   3 -candidates\n"
     ]
    }
   ],
   "source": [
    "# %%time\n",
    "candidates_all = []\n",
    "t_total = []\n",
    "t_1 = []\n",
    "t_2 = []\n",
    "total_rows = len(X_train_orig)\n",
    "\n",
    "# Generating 1-candidates\n",
    "candidates_1 = []\n",
    "for i in range(len(candidates)):\n",
    "    candidate = []\n",
    "    candidate_i = candidates.iloc[i]\n",
    "#     if ((candidate_i[\"second_order_influences\"] > del_f_threshold) & \n",
    "#         (candidate_i[\"fractionRows\"] > support)):\n",
    "    if ((candidate_i[\"fractionRows\"] >= support_small) or\n",
    "       ((candidate_i[\"fractionRows\"] >= support) & (candidate_i[\"second_order_influences\"] > del_f_threshold))\n",
    "       ):\n",
    "        attr_i = candidate_i[\"attributes\"]\n",
    "        val_i = int(float(candidate_i[\"attributeValues\"]))\n",
    "        idx = X_train_orig[X_train_orig[attr_i] == val_i].index\n",
    "        predicates = [attr_i + '=' + str(val_i)]\n",
    "        candidate = [predicates, candidate_i[\"fractionRows\"],\n",
    "                     candidate_i[\"score\"], candidate_i[\"second_order_influences\"], idx]\n",
    "        candidates_1.append(candidate)\n",
    "\n",
    "print(\"Generated: \", len(candidates_1), \" 1-candidates\")\n",
    "candidates_1.sort()\n",
    "# display(candidates_1)\n",
    "\n",
    "for i in range(len(candidates_1)):\n",
    "    if (float(candidates_1[i][2]) >= support): # if score > top-k, keep in candidates, not otherwise\n",
    "        candidates_all.insert(len(candidates_all), candidates_1[i][:-1])\n",
    "\n",
    "# Generating 2-candidates\n",
    "candidates_2 = []\n",
    "for i in range(len(candidates_1)):\n",
    "    predicate_i = candidates_1[i][0][0]\n",
    "    attr_i = predicate_i.split(\"=\")[0]\n",
    "    val_i = int(float(predicate_i.split(\"=\")[1]))\n",
    "    sup_i = candidates_1[i][1]\n",
    "    idx_i = candidates_1[i][-1]\n",
    "    for j in range(i):\n",
    "        predicate_j = candidates_1[j][0][0]\n",
    "        attr_j = predicate_j.split(\"=\")[0]\n",
    "        val_j = int(float(predicate_j.split(\"=\")[1]))\n",
    "        sup_j = candidates_1[j][1]\n",
    "        idx_j = candidates_1[j][-1]\n",
    "        if (attr_i != attr_j):\n",
    "            idx = idx_i.intersection(idx_j)\n",
    "#             print(idx_i, idx_j, idx)\n",
    "            fractionRows = len(idx)/total_rows * 100\n",
    "            isCompact = True\n",
    "            if (fractionRows == min(sup_i, sup_j)): # pattern is not compact if intersection equals one of its parents\n",
    "                isCompact = False\n",
    "            if (fractionRows/100 >= support):\n",
    "                params_f_2 = second_order_group_influence(idx, del_L_del_theta)\n",
    "                del_f_2 = np.dot(v1.transpose(), params_f_2)\n",
    "                score = del_f_2 * 100/fractionRows\n",
    "                if ((fractionRows/100 >= support_small) or\n",
    "                    ((score > candidates_1[i][2]) & (score > candidates_1[j][2]))):\n",
    "                        predicates = [attr_i + '=' + str(val_i), attr_j + '=' + str(val_j)]\n",
    "                        candidate = [sorted(predicates, key=itemgetter(0)), len(idx)*100/total_rows,\n",
    "                                    score, del_f_2, idx]\n",
    "                        candidates_2.append(candidate)\n",
    "#                         print(candidate)\n",
    "                        if (isCompact):\n",
    "                            candidates_all.append(candidate[:-1])\n",
    "print(\"Generated: \", len(candidates_2), \" 2-candidates\")\n",
    "\n",
    "# Recursively generating the rest\n",
    "candidates_L_1 = copy.deepcopy(candidates_2)\n",
    "set_L_1 = set()\n",
    "iteration = 2\n",
    "while((len(candidates_L_1) > 0) & (iteration < 3)):\n",
    "    print(\"Generated: \", iteration)    \n",
    "    candidates_L = []\n",
    "    for i in range(len(candidates_L_1)):\n",
    "        candidate_i = set(candidates_L_1[i][0])\n",
    "        sup_i = candidates_L_1[i][1]\n",
    "        idx_i = candidates_L_1[i][-1]\n",
    "        for j in range(i):\n",
    "            candidate_j = set(candidates_L_1[j][0])\n",
    "            sup_j = candidates_L_1[j][1]\n",
    "            idx_j = candidates_L_1[j][-1]\n",
    "            merged_candidate = sorted(candidate_i.union(candidate_j), key=itemgetter(0))\n",
    "            if json.dumps(merged_candidate) in set_L_1:\n",
    "                continue\n",
    "            if (len(merged_candidate) == iteration + 1):\n",
    "                intersect_candidates = candidate_i.intersection(candidate_j)\n",
    "                setminus_i = list(candidate_i - intersect_candidates)[0].split(\"=\")\n",
    "                setminus_j = list(candidate_j - intersect_candidates)[0].split(\"=\")\n",
    "                attr_i = setminus_i[0]\n",
    "                val_i = int(setminus_i[1])\n",
    "                attr_j = setminus_j[0]\n",
    "                val_j = int(setminus_j[1])\n",
    "                if (attr_i != attr_j):\n",
    "                    # merge to get L list\n",
    "                    idx = idx_i.intersection(idx_j)\n",
    "                    fractionRows = len(idx)/len(X_train) * 100\n",
    "                    isCompact = True\n",
    "                    if (fractionRows == min(sup_i, sup_j)): # pattern is not compact if intersection equals one of its parents\n",
    "                        isCompact = False\n",
    "#                     t_1.append(time.time() - t0)\n",
    "                    if (fractionRows/100 >= support):\n",
    "                        X = np.delete(X_train, idx, 0)\n",
    "                        y = y_train.drop(index=idx, inplace=False)\n",
    "\n",
    "                        params_f_2 = second_order_group_influence(idx, del_L_del_theta)\n",
    "                        del_f_2 = np.dot(v1.transpose(), params_f_2)\n",
    "\n",
    "                        score = del_f_2 * 100/fractionRows\n",
    "#                         t_2.append(time.time()-t0)\n",
    "                        if (((score > candidates_L_1[i][2]) & (score > candidates_L_1[j][2])) or \n",
    "                           (fractionRows >= support_small)):\n",
    "                            candidate = [merged_candidate, fractionRows,\n",
    "                                         del_f_2*len(X_train)/len(idx), del_f_2, idx]\n",
    "                            candidates_L.append(candidate)\n",
    "                            set_L_1.add(json.dumps(merged_candidate))\n",
    "                            if (isCompact):\n",
    "                                candidates_all.insert(len(candidates_all), candidate[:-1])\n",
    "                    t_total.append(time.time()-t0)\n",
    "    set_L_1 = set()\n",
    "    print(\"Generated:\", len(candidates_L), \" \", str(iteration+1), \"-candidates\")\n",
    "    candidates_L_1 = copy.deepcopy(candidates_L)\n",
    "    candidates_L_1.sort()\n",
    "#     print(len(set([json.dumps(i[0]) for i in candidates_L])))\n",
    "    iteration += 1"
   ]
  },
  {
   "cell_type": "markdown",
   "metadata": {},
   "source": [
    "**Containment-based filtering**"
   ]
  },
  {
   "cell_type": "code",
   "execution_count": 45,
   "metadata": {
    "ExecuteTime": {
     "end_time": "2021-11-07T03:19:39.213452Z",
     "start_time": "2021-11-07T03:19:39.199423Z"
    }
   },
   "outputs": [
    {
     "name": "stdout",
     "output_type": "stream",
     "text": [
      "130\n"
     ]
    }
   ],
   "source": [
    "candidates_support_3_compact = copy.deepcopy(candidates_all)\n",
    "print(len(candidates_support_3_compact))\n",
    "candidates_df_3_compact = pd.DataFrame(candidates_support_3_compact, columns=[\"predicates\",\"support\",\"score\",\"2nd-inf\"])"
   ]
  },
  {
   "cell_type": "code",
   "execution_count": 46,
   "metadata": {
    "ExecuteTime": {
     "end_time": "2021-11-07T03:19:41.639368Z",
     "start_time": "2021-11-07T03:19:41.535707Z"
    },
    "code_folding": []
   },
   "outputs": [
    {
     "name": "stdout",
     "output_type": "stream",
     "text": [
      "CPU times: user 93.2 ms, sys: 6.6 ms, total: 99.8 ms\n",
      "Wall time: 96.6 ms\n"
     ]
    }
   ],
   "source": [
    "%%time\n",
    "candidates_df_3_compact = candidates_df_3_compact[candidates_df_3_compact['support'] < 20].sort_values(by=['score'], ascending=False)\n",
    "# print(len(candidates_df_3_compact))\n",
    "containment_df = candidates_df_3_compact.sort_values(by=['score'], ascending=False).copy()\n",
    "\n",
    "topk = Topk(method='containment', threshold=0.2, k=5)\n",
    "for row_idx in range(len(containment_df)):\n",
    "    row = containment_df.iloc[row_idx]\n",
    "    explanation, score = row[0], row[2]\n",
    "    topk.update(explanation, score)\n",
    "    if len(topk.top_explanations) == topk.k:\n",
    "        break"
   ]
  },
  {
   "cell_type": "code",
   "execution_count": 47,
   "metadata": {
    "ExecuteTime": {
     "end_time": "2021-11-07T03:19:58.680567Z",
     "start_time": "2021-11-07T03:19:57.634168Z"
    },
    "scrolled": true
   },
   "outputs": [
    {
     "data": {
      "text/html": [
       "<div>\n",
       "<style scoped>\n",
       "    .dataframe tbody tr th:only-of-type {\n",
       "        vertical-align: middle;\n",
       "    }\n",
       "\n",
       "    .dataframe tbody tr th {\n",
       "        vertical-align: top;\n",
       "    }\n",
       "\n",
       "    .dataframe thead th {\n",
       "        text-align: right;\n",
       "    }\n",
       "</style>\n",
       "<table border=\"1\" class=\"dataframe\">\n",
       "  <thead>\n",
       "    <tr style=\"text-align: right;\">\n",
       "      <th></th>\n",
       "      <th>explanations</th>\n",
       "      <th>support</th>\n",
       "      <th>score</th>\n",
       "      <th>gt-score</th>\n",
       "      <th>2nd-inf(%)</th>\n",
       "      <th>gt-inf(%)</th>\n",
       "      <th>new-acc</th>\n",
       "    </tr>\n",
       "  </thead>\n",
       "  <tbody>\n",
       "    <tr>\n",
       "      <th>0</th>\n",
       "      <td>[\"age=1\", \"marital=1\"]</td>\n",
       "      <td>9.134010</td>\n",
       "      <td>0.253364</td>\n",
       "      <td>0.274363</td>\n",
       "      <td>0.123151</td>\n",
       "      <td>0.133358</td>\n",
       "      <td>0.800930</td>\n",
       "    </tr>\n",
       "    <tr>\n",
       "      <th>1</th>\n",
       "      <td>[\"gender=0\", \"marital=0\", \"relationship=0\"]</td>\n",
       "      <td>14.296134</td>\n",
       "      <td>0.249974</td>\n",
       "      <td>0.251174</td>\n",
       "      <td>0.190171</td>\n",
       "      <td>0.191083</td>\n",
       "      <td>0.804582</td>\n",
       "    </tr>\n",
       "    <tr>\n",
       "      <th>2</th>\n",
       "      <td>[\"education=10\", \"gender=1\", \"relationship=1\"]</td>\n",
       "      <td>7.628804</td>\n",
       "      <td>0.214850</td>\n",
       "      <td>0.224139</td>\n",
       "      <td>0.087221</td>\n",
       "      <td>0.090992</td>\n",
       "      <td>0.805046</td>\n",
       "    </tr>\n",
       "    <tr>\n",
       "      <th>3</th>\n",
       "      <td>[\"education=14\"]</td>\n",
       "      <td>5.394205</td>\n",
       "      <td>0.079080</td>\n",
       "      <td>0.090597</td>\n",
       "      <td>0.022700</td>\n",
       "      <td>0.026006</td>\n",
       "      <td>0.804847</td>\n",
       "    </tr>\n",
       "    <tr>\n",
       "      <th>4</th>\n",
       "      <td>[\"age=1\", \"relationship=1\", \"workclass=7\"]</td>\n",
       "      <td>11.560904</td>\n",
       "      <td>-0.035709</td>\n",
       "      <td>-0.038739</td>\n",
       "      <td>-0.021969</td>\n",
       "      <td>-0.023832</td>\n",
       "      <td>0.803586</td>\n",
       "    </tr>\n",
       "  </tbody>\n",
       "</table>\n",
       "</div>"
      ],
      "text/plain": [
       "                                     explanations    support     score  \\\n",
       "0                          [\"age=1\", \"marital=1\"]   9.134010  0.253364   \n",
       "1     [\"gender=0\", \"marital=0\", \"relationship=0\"]  14.296134  0.249974   \n",
       "2  [\"education=10\", \"gender=1\", \"relationship=1\"]   7.628804  0.214850   \n",
       "3                                [\"education=14\"]   5.394205  0.079080   \n",
       "4      [\"age=1\", \"relationship=1\", \"workclass=7\"]  11.560904 -0.035709   \n",
       "\n",
       "   gt-score  2nd-inf(%)  gt-inf(%)   new-acc  \n",
       "0  0.274363    0.123151   0.133358  0.800930  \n",
       "1  0.251174    0.190171   0.191083  0.804582  \n",
       "2  0.224139    0.087221   0.090992  0.805046  \n",
       "3  0.090597    0.022700   0.026006  0.804847  \n",
       "4 -0.038739   -0.021969  -0.023832  0.803586  "
      ]
     },
     "execution_count": 47,
     "metadata": {},
     "output_type": "execute_result"
    }
   ],
   "source": [
    "explanations = list(topk.top_explanations.keys())\n",
    "idxs = [v[1] for v in topk.top_explanations.values()]\n",
    "supports = list()\n",
    "scores = list()\n",
    "gt_scores = list()\n",
    "infs = list()\n",
    "gts = list()\n",
    "new_accs = list()\n",
    "for e in explanations:\n",
    "    idx = get_subset(json.loads(e))\n",
    "    X = np.delete(X_train, idx, 0)\n",
    "    y = y_train.drop(index=idx, inplace=False)\n",
    "    clf.fit(np.array(X), np.array(y))\n",
    "    y_pred = clf.predict_proba(np.array(X_test))\n",
    "    new_acc = computeAccuracy(y_test, y_pred)\n",
    "    inf_gt = computeFairness(y_pred, X_test_orig, y_test, 0, dataset) - spd_0\n",
    "    \n",
    "    condition = candidates_df_3_compact.predicates.apply(lambda x: x==json.loads(e))\n",
    "    supports.append(float(candidates_df_3_compact[condition]['support']))\n",
    "    scores.append(float(candidates_df_3_compact[condition]['score']))\n",
    "    infs.append(float(candidates_df_3_compact[condition]['2nd-inf']))\n",
    "    gts.append(inf_gt/(-spd_0))\n",
    "    gt_scores.append(inf_gt*100/float(candidates_df_3_compact[condition]['support']))\n",
    "    new_accs.append(new_acc)\n",
    "\n",
    "\n",
    "expl = [explanations, supports, scores, gt_scores, infs, gts, new_accs]\n",
    "expl = (np.array(expl).T).tolist()\n",
    "\n",
    "explanations = pd.DataFrame(expl, columns=[\"explanations\", \"support\", \"score\", \"gt-score\", \"2nd-inf(%)\", \"gt-inf(%)\", \"new-acc\"])\n",
    "explanations['score'] = explanations['score'].astype(float)\n",
    "explanations['gt-score'] = explanations['gt-score'].astype(float)\n",
    "explanations['support'] = explanations['support'].astype(float)\n",
    "explanations['2nd-inf(%)'] = explanations['2nd-inf(%)'].astype(float)/(-spd_0)\n",
    "explanations['gt-inf(%)'] = explanations['gt-inf(%)'].astype(float)\n",
    "explanations['new-acc'] = explanations['new-acc'].astype(float)\n",
    "\n",
    "pd.set_option('max_colwidth', 100)\n",
    "explanations.sort_values(by=['score'], ascending=False)"
   ]
  },
  {
   "cell_type": "code",
   "execution_count": 113,
   "metadata": {
    "ExecuteTime": {
     "end_time": "2021-11-06T21:44:55.739607Z",
     "start_time": "2021-11-06T21:44:55.700850Z"
    },
    "code_folding": [],
    "collapsed": true
   },
   "outputs": [
    {
     "ename": "KeyError",
     "evalue": "'occupation_Other-service'",
     "output_type": "error",
     "traceback": [
      "\u001b[0;31m---------------------------------------------------------------------------\u001b[0m",
      "\u001b[0;31mKeyError\u001b[0m                                  Traceback (most recent call last)",
      "\u001b[0;32m/Library/Frameworks/Python.framework/Versions/3.9/lib/python3.9/site-packages/pandas/core/indexes/base.py\u001b[0m in \u001b[0;36mget_loc\u001b[0;34m(self, key, method, tolerance)\u001b[0m\n\u001b[1;32m   3360\u001b[0m             \u001b[0;32mtry\u001b[0m\u001b[0;34m:\u001b[0m\u001b[0;34m\u001b[0m\u001b[0;34m\u001b[0m\u001b[0m\n\u001b[0;32m-> 3361\u001b[0;31m                 \u001b[0;32mreturn\u001b[0m \u001b[0mself\u001b[0m\u001b[0;34m.\u001b[0m\u001b[0m_engine\u001b[0m\u001b[0;34m.\u001b[0m\u001b[0mget_loc\u001b[0m\u001b[0;34m(\u001b[0m\u001b[0mcasted_key\u001b[0m\u001b[0;34m)\u001b[0m\u001b[0;34m\u001b[0m\u001b[0;34m\u001b[0m\u001b[0m\n\u001b[0m\u001b[1;32m   3362\u001b[0m             \u001b[0;32mexcept\u001b[0m \u001b[0mKeyError\u001b[0m \u001b[0;32mas\u001b[0m \u001b[0merr\u001b[0m\u001b[0;34m:\u001b[0m\u001b[0;34m\u001b[0m\u001b[0;34m\u001b[0m\u001b[0m\n",
      "\u001b[0;32m/Library/Frameworks/Python.framework/Versions/3.9/lib/python3.9/site-packages/pandas/_libs/index.pyx\u001b[0m in \u001b[0;36mpandas._libs.index.IndexEngine.get_loc\u001b[0;34m()\u001b[0m\n",
      "\u001b[0;32m/Library/Frameworks/Python.framework/Versions/3.9/lib/python3.9/site-packages/pandas/_libs/index.pyx\u001b[0m in \u001b[0;36mpandas._libs.index.IndexEngine.get_loc\u001b[0;34m()\u001b[0m\n",
      "\u001b[0;32mpandas/_libs/hashtable_class_helper.pxi\u001b[0m in \u001b[0;36mpandas._libs.hashtable.PyObjectHashTable.get_item\u001b[0;34m()\u001b[0m\n",
      "\u001b[0;32mpandas/_libs/hashtable_class_helper.pxi\u001b[0m in \u001b[0;36mpandas._libs.hashtable.PyObjectHashTable.get_item\u001b[0;34m()\u001b[0m\n",
      "\u001b[0;31mKeyError\u001b[0m: 'occupation_Other-service'",
      "\nThe above exception was the direct cause of the following exception:\n",
      "\u001b[0;31mKeyError\u001b[0m                                  Traceback (most recent call last)",
      "\u001b[0;32m/var/folders/bf/7kwvbg8n3cq9bp42dlh_ts7w0000gn/T/ipykernel_13894/1256654845.py\u001b[0m in \u001b[0;36m<module>\u001b[0;34m\u001b[0m\n\u001b[1;32m      1\u001b[0m \u001b[0;31m# [\"inout_O>0.5\", \"race<=0.5\", \"cs_descr<=0.5\", \"age<=0.5\"]\u001b[0m\u001b[0;34m\u001b[0m\u001b[0;34m\u001b[0m\u001b[0;34m\u001b[0m\u001b[0m\n\u001b[1;32m      2\u001b[0m idx = X_train_orig[(X_train_orig['gender']==1)\n\u001b[0;32m----> 3\u001b[0;31m                    \u001b[0;34m&\u001b[0m \u001b[0;34m(\u001b[0m\u001b[0mX_train_orig\u001b[0m\u001b[0;34m[\u001b[0m\u001b[0;34m'occupation_Other-service'\u001b[0m\u001b[0;34m]\u001b[0m\u001b[0;34m==\u001b[0m\u001b[0;36m0\u001b[0m\u001b[0;34m)\u001b[0m\u001b[0;34m\u001b[0m\u001b[0;34m\u001b[0m\u001b[0m\n\u001b[0m\u001b[1;32m      4\u001b[0m                    \u001b[0;34m&\u001b[0m \u001b[0;34m(\u001b[0m\u001b[0mX_train_orig\u001b[0m\u001b[0;34m[\u001b[0m\u001b[0;34m'age'\u001b[0m\u001b[0;34m]\u001b[0m\u001b[0;34m==\u001b[0m\u001b[0;36m3\u001b[0m\u001b[0;34m)\u001b[0m\u001b[0;34m\u001b[0m\u001b[0;34m\u001b[0m\u001b[0m\n\u001b[1;32m      5\u001b[0m                    & (X_train_orig['workclass_Self-emp-not-inc']==0)].index\n",
      "\u001b[0;32m/Library/Frameworks/Python.framework/Versions/3.9/lib/python3.9/site-packages/pandas/core/frame.py\u001b[0m in \u001b[0;36m__getitem__\u001b[0;34m(self, key)\u001b[0m\n\u001b[1;32m   3453\u001b[0m             \u001b[0;32mif\u001b[0m \u001b[0mself\u001b[0m\u001b[0;34m.\u001b[0m\u001b[0mcolumns\u001b[0m\u001b[0;34m.\u001b[0m\u001b[0mnlevels\u001b[0m \u001b[0;34m>\u001b[0m \u001b[0;36m1\u001b[0m\u001b[0;34m:\u001b[0m\u001b[0;34m\u001b[0m\u001b[0;34m\u001b[0m\u001b[0m\n\u001b[1;32m   3454\u001b[0m                 \u001b[0;32mreturn\u001b[0m \u001b[0mself\u001b[0m\u001b[0;34m.\u001b[0m\u001b[0m_getitem_multilevel\u001b[0m\u001b[0;34m(\u001b[0m\u001b[0mkey\u001b[0m\u001b[0;34m)\u001b[0m\u001b[0;34m\u001b[0m\u001b[0;34m\u001b[0m\u001b[0m\n\u001b[0;32m-> 3455\u001b[0;31m             \u001b[0mindexer\u001b[0m \u001b[0;34m=\u001b[0m \u001b[0mself\u001b[0m\u001b[0;34m.\u001b[0m\u001b[0mcolumns\u001b[0m\u001b[0;34m.\u001b[0m\u001b[0mget_loc\u001b[0m\u001b[0;34m(\u001b[0m\u001b[0mkey\u001b[0m\u001b[0;34m)\u001b[0m\u001b[0;34m\u001b[0m\u001b[0;34m\u001b[0m\u001b[0m\n\u001b[0m\u001b[1;32m   3456\u001b[0m             \u001b[0;32mif\u001b[0m \u001b[0mis_integer\u001b[0m\u001b[0;34m(\u001b[0m\u001b[0mindexer\u001b[0m\u001b[0;34m)\u001b[0m\u001b[0;34m:\u001b[0m\u001b[0;34m\u001b[0m\u001b[0;34m\u001b[0m\u001b[0m\n\u001b[1;32m   3457\u001b[0m                 \u001b[0mindexer\u001b[0m \u001b[0;34m=\u001b[0m \u001b[0;34m[\u001b[0m\u001b[0mindexer\u001b[0m\u001b[0;34m]\u001b[0m\u001b[0;34m\u001b[0m\u001b[0;34m\u001b[0m\u001b[0m\n",
      "\u001b[0;32m/Library/Frameworks/Python.framework/Versions/3.9/lib/python3.9/site-packages/pandas/core/indexes/base.py\u001b[0m in \u001b[0;36mget_loc\u001b[0;34m(self, key, method, tolerance)\u001b[0m\n\u001b[1;32m   3361\u001b[0m                 \u001b[0;32mreturn\u001b[0m \u001b[0mself\u001b[0m\u001b[0;34m.\u001b[0m\u001b[0m_engine\u001b[0m\u001b[0;34m.\u001b[0m\u001b[0mget_loc\u001b[0m\u001b[0;34m(\u001b[0m\u001b[0mcasted_key\u001b[0m\u001b[0;34m)\u001b[0m\u001b[0;34m\u001b[0m\u001b[0;34m\u001b[0m\u001b[0m\n\u001b[1;32m   3362\u001b[0m             \u001b[0;32mexcept\u001b[0m \u001b[0mKeyError\u001b[0m \u001b[0;32mas\u001b[0m \u001b[0merr\u001b[0m\u001b[0;34m:\u001b[0m\u001b[0;34m\u001b[0m\u001b[0;34m\u001b[0m\u001b[0m\n\u001b[0;32m-> 3363\u001b[0;31m                 \u001b[0;32mraise\u001b[0m \u001b[0mKeyError\u001b[0m\u001b[0;34m(\u001b[0m\u001b[0mkey\u001b[0m\u001b[0;34m)\u001b[0m \u001b[0;32mfrom\u001b[0m \u001b[0merr\u001b[0m\u001b[0;34m\u001b[0m\u001b[0;34m\u001b[0m\u001b[0m\n\u001b[0m\u001b[1;32m   3364\u001b[0m \u001b[0;34m\u001b[0m\u001b[0m\n\u001b[1;32m   3365\u001b[0m         \u001b[0;32mif\u001b[0m \u001b[0mis_scalar\u001b[0m\u001b[0;34m(\u001b[0m\u001b[0mkey\u001b[0m\u001b[0;34m)\u001b[0m \u001b[0;32mand\u001b[0m \u001b[0misna\u001b[0m\u001b[0;34m(\u001b[0m\u001b[0mkey\u001b[0m\u001b[0;34m)\u001b[0m \u001b[0;32mand\u001b[0m \u001b[0;32mnot\u001b[0m \u001b[0mself\u001b[0m\u001b[0;34m.\u001b[0m\u001b[0mhasnans\u001b[0m\u001b[0;34m:\u001b[0m\u001b[0;34m\u001b[0m\u001b[0;34m\u001b[0m\u001b[0m\n",
      "\u001b[0;31mKeyError\u001b[0m: 'occupation_Other-service'"
     ]
    }
   ],
   "source": [
    "# [\"inout_O>0.5\", \"race<=0.5\", \"cs_descr<=0.5\", \"age<=0.5\"]\n",
    "idx = X_train_orig[(X_train_orig['gender']==1)\n",
    "                   & (X_train_orig['occupation_Other-service']==0)\n",
    "                   & (X_train_orig['age']==3)\n",
    "                   & (X_train_orig['workclass_Self-emp-not-inc']==0)].index\n",
    "sup = len(idx)*100/len(X_train)\n",
    "print(\"support\", sup)\n",
    "X = np.delete(X_train, idx, 0)\n",
    "y = y_train.drop(index=idx, inplace=False)\n",
    "clf.fit(X, np.array(y))\n",
    "y_pred = clf.predict_proba(X_test)\n",
    "inf_gt = 1-computeFairness(y_pred, X_test_orig, y_test, 0, dataset)/spd_0\n",
    "print(\"inf-gt\", inf_gt)\n",
    "print(\"score-gt\", inf_gt * 100/sup)"
   ]
  },
  {
   "cell_type": "code",
   "execution_count": null,
   "metadata": {
    "ExecuteTime": {
     "end_time": "2021-11-04T01:58:35.696312Z",
     "start_time": "2021-11-04T01:58:35.696303Z"
    }
   },
   "outputs": [],
   "source": [
    "dataset_size = 800*20*np.arange(1, 11)\n",
    "time = [271.6957383155823, 455.46106719970703, 703.0479593276978, 1064.0482621192932, 1180.8259072303772, 1622.706295490265, 1811.274505853653, 1983.348440170288, 2153.097806930542, 2436.790385723114] "
   ]
  },
  {
   "cell_type": "code",
   "execution_count": null,
   "metadata": {
    "ExecuteTime": {
     "end_time": "2021-11-04T01:58:35.696993Z",
     "start_time": "2021-11-04T01:58:35.696984Z"
    }
   },
   "outputs": [],
   "source": [
    "plt.plot(dataset_size, time)\n",
    "plt.xlabel('training set size')\n",
    "plt.ylabel('time cost (s)')"
   ]
  },
  {
   "cell_type": "code",
   "execution_count": 48,
   "metadata": {
    "ExecuteTime": {
     "end_time": "2021-11-07T03:20:29.870635Z",
     "start_time": "2021-11-07T03:20:29.098950Z"
    }
   },
   "outputs": [
    {
     "data": {
      "image/png": "[encoded data removed]",
      "text/plain": [
       "<Figure size 1800x1440 with 1 Axes>"
      ]
     },
     "metadata": {
      "needs_background": "light"
     },
     "output_type": "display_data"
    }
   ],
   "source": [
    "min_ratio = 0.05\n",
    "fig = plt.figure(figsize=(25,20))\n",
    "tree = DecisionTreeRegressor(random_state=0, min_samples_leaf=int(min_ratio*len(X_train)))\n",
    "tree.fit(X_train_orig, np.array(infs_1))\n",
    "_ = sklearn.tree.plot_tree(tree, feature_names=X_train_orig.columns, filled=True, precision=8, max_depth=3)\n",
    "# plt.tight_layout()"
   ]
  },
  {
   "cell_type": "code",
   "execution_count": 49,
   "metadata": {
    "ExecuteTime": {
     "end_time": "2021-11-07T03:22:48.551150Z",
     "start_time": "2021-11-07T03:22:48.547134Z"
    }
   },
   "outputs": [],
   "source": [
    "es = [[\"gender<=0.5\", \"marital<=1.5\", \"marital>0.5\"],\n",
    "      [\"gender<=0.5\", \"marital<=1.5\", \"marital<=0.5\"],\n",
    "      [\"gender>0.5\", \"education>9.5\", \"education<=11.5\"]]"
   ]
  },
  {
   "cell_type": "code",
   "execution_count": 50,
   "metadata": {
    "ExecuteTime": {
     "end_time": "2021-11-07T03:22:50.225644Z",
     "start_time": "2021-11-07T03:22:50.216322Z"
    }
   },
   "outputs": [],
   "source": [
    "def get_pattern_idx(predicates):\n",
    "    df = X_train_orig.copy()\n",
    "    for predicate in predicates:\n",
    "        if '<=' in predicate:\n",
    "            attr = predicate.split('<=')[0]\n",
    "            val = float(predicate.split('<=')[1])\n",
    "            df = df[df[attr]<=val]\n",
    "        else: # >\n",
    "            attr = predicate.split('>')[0]\n",
    "            val = float(predicate.split('>')[1])\n",
    "            df = df[df[attr]>val]\n",
    "    return df.index"
   ]
  },
  {
   "cell_type": "code",
   "execution_count": 120,
   "metadata": {
    "ExecuteTime": {
     "end_time": "2021-11-06T21:53:44.547633Z",
     "start_time": "2021-11-06T21:53:44.543408Z"
    }
   },
   "outputs": [],
   "source": [
    "# es = [[\"relationship>0.5\", \"education>9.5\", \"education<=11.5\"],\n",
    "#       [\"relationship<=0.5\", \"marital>0.5\", \"education>8.5\"],\n",
    "#       [\"relationship<=0.5\", \"marital>0.5\", \"education<=8.5\"],]"
   ]
  },
  {
   "cell_type": "code",
   "execution_count": 51,
   "metadata": {
    "ExecuteTime": {
     "end_time": "2021-11-07T03:22:55.112210Z",
     "start_time": "2021-11-07T03:22:54.466016Z"
    }
   },
   "outputs": [
    {
     "name": "stdout",
     "output_type": "stream",
     "text": [
      "For gender<=0.5 & marital<=1.5 & marital>0.5: \n",
      "gt-inf: 0.269573, score: 0.403257, support: 0.125622, acc: 0.803984\n",
      "\n",
      "For gender<=0.5 & marital<=1.5 & marital<=0.5: \n",
      "gt-inf: 0.191367, score: 0.251546, support: 0.142961, acc: 0.804582\n",
      "\n",
      "For gender>0.5 & education>9.5 & education<=11.5: \n",
      "gt-inf: 0.124664, score: 0.177671, support: 0.131855, acc: 0.801527\n",
      "\n"
     ]
    }
   ],
   "source": [
    "for e in es:\n",
    "    idx = get_pattern_idx(e)\n",
    "    X = np.delete(X_train, idx, 0)\n",
    "    y = y_train.drop(index=idx, inplace=False)\n",
    "    clf.fit(np.array(X), np.array(y))\n",
    "    y_pred_test = clf.predict_proba(X_test)\n",
    "    gt_inf = (spd_0-computeFairness(y_pred_test, X_test_orig, y_test, 0, dataset))/spd_0\n",
    "    new_acc = computeAccuracy(y_test, y_pred_test)\n",
    "    print(f'For {\" & \".join(e)}: \\ngt-inf: {round(gt_inf, 6)}, score: {round(gt_inf*(-spd_0)/len(idx)*len(X_train), 6)}, support: {round(len(idx)/len(X_train), 6)}, acc: {round(new_acc, 6)}\\n')\n"
   ]
  },
  {
   "cell_type": "code",
   "execution_count": null,
   "metadata": {},
   "outputs": [],
   "source": []
  }
 ],
 "metadata": {
  "kernelspec": {
   "display_name": "Python 3 (ipykernel)",
   "language": "python",
   "name": "python3"
  },
  "language_info": {
   "codemirror_mode": {
    "name": "ipython",
    "version": 3
   },
   "file_extension": ".py",
   "mimetype": "text/x-python",
   "name": "python",
   "nbconvert_exporter": "python",
   "pygments_lexer": "ipython3",
   "version": "3.9.6"
  },
  "latex_envs": {
   "LaTeX_envs_menu_present": true,
   "autoclose": true,
   "autocomplete": true,
   "bibliofile": "biblio.bib",
   "cite_by": "apalike",
   "current_citInitial": 1,
   "eqLabelWithNumbers": true,
   "eqNumInitial": 1,
   "hotkeys": {
    "equation": "Ctrl-E",
    "itemize": "Ctrl-I"
   },
   "labels_anchors": false,
   "latex_user_defs": false,
   "report_style_numbering": false,
   "user_envs_cfg": false
  }
 },
 "nbformat": 4,
 "nbformat_minor": 4
}
