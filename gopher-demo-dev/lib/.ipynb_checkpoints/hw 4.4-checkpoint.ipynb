{
 "cells": [
  {
   "cell_type": "markdown",
   "id": "68b220d9",
   "metadata": {},
   "source": [
    "# Preparation"
   ]
  },
  {
   "cell_type": "code",
   "execution_count": 1,
   "id": "6ce984fe",
   "metadata": {
    "ExecuteTime": {
     "end_time": "2021-10-26T22:07:26.475986Z",
     "start_time": "2021-10-26T22:07:26.380079Z"
    }
   },
   "outputs": [],
   "source": [
    "import json\n",
    "import numpy as np"
   ]
  },
  {
   "cell_type": "code",
   "execution_count": 2,
   "id": "dc7917c2",
   "metadata": {
    "ExecuteTime": {
     "end_time": "2021-10-26T22:07:26.479195Z",
     "start_time": "2021-10-26T22:07:26.477400Z"
    }
   },
   "outputs": [],
   "source": [
    "# ignore all the warnings\n",
    "import warnings\n",
    "warnings.filterwarnings('ignore') "
   ]
  },
  {
   "cell_type": "code",
   "execution_count": 3,
   "id": "1734e908",
   "metadata": {
    "ExecuteTime": {
     "end_time": "2021-10-26T22:07:26.484037Z",
     "start_time": "2021-10-26T22:07:26.480341Z"
    }
   },
   "outputs": [],
   "source": [
    "with open('/Users/lodino/Desktop/CSE250A/hws/hw4/nasdaq00.txt', 'r') as f:\n",
    "    nasdaq00_txt = f.read().strip('\\n')\n",
    "    nasdaq00 = [float(num) for num in nasdaq00_txt.split('\\n')]\n",
    "    \n",
    "with open('/Users/lodino/Desktop/CSE250A/hws/hw4/nasdaq01.txt', 'r') as f:\n",
    "    nasdaq01_txt = f.read().strip('\\n')\n",
    "    nasdaq01 = [float(num) for num in nasdaq01_txt.split('\\n')]"
   ]
  },
  {
   "cell_type": "markdown",
   "id": "c24429f5",
   "metadata": {},
   "source": [
    "# (a)"
   ]
  },
  {
   "cell_type": "markdown",
   "id": "eb82ce98",
   "metadata": {},
   "source": [
    "$\\sum_t \\left(\\left[\\begin{array}{c}X_{t-1}\\\\X_{t-2}\\\\X_{t-3}\\\\\\end{array}\\right]\\times[X_{t-1}\\ X_{t-2}\\ X_{t-3}]\\right)\\times \\left[\\begin{array}{c}a_1\\\\a_2\\\\a_3\\\\\\end{array}\\right]=\\sum_t X_t\\cdot \\left[\\begin{array}{c}X_{t-1}\\\\X_{t-2}\\\\X_{t-3}\\\\\\end{array}\\right]$"
   ]
  },
  {
   "cell_type": "code",
   "execution_count": 4,
   "id": "e8e23649",
   "metadata": {
    "ExecuteTime": {
     "end_time": "2021-10-26T22:07:26.490775Z",
     "start_time": "2021-10-26T22:07:26.485042Z"
    }
   },
   "outputs": [],
   "source": [
    "left_mat = np.zeros((3, 3))\n",
    "right_arr = np.zeros((3, 1))\n",
    "for t in range(3, len(nasdaq00)):\n",
    "    x_t = nasdaq00[t]\n",
    "    x_t_minus_1 = nasdaq00[t-1]\n",
    "    x_t_minus_2 = nasdaq00[t-2]\n",
    "    x_t_minus_3 = nasdaq00[t-3]\n",
    "    \n",
    "    arr = np.array([[x_t_minus_1, x_t_minus_2, x_t_minus_3]])\n",
    "    left_mat += np.dot(arr.T, arr)\n",
    "    right_arr += x_t*arr.T"
   ]
  },
  {
   "cell_type": "code",
   "execution_count": 5,
   "id": "cfb7c5af",
   "metadata": {
    "ExecuteTime": {
     "end_time": "2021-10-26T22:07:26.494865Z",
     "start_time": "2021-10-26T22:07:26.492619Z"
    }
   },
   "outputs": [],
   "source": [
    "a1, a2, a3 = np.dot(np.linalg.pinv(left_mat), right_arr).ravel()"
   ]
  },
  {
   "cell_type": "markdown",
   "id": "6575b6e9",
   "metadata": {},
   "source": [
    "# (b)"
   ]
  },
  {
   "cell_type": "code",
   "execution_count": 6,
   "id": "6497e1a3",
   "metadata": {
    "ExecuteTime": {
     "end_time": "2021-10-26T22:07:26.497856Z",
     "start_time": "2021-10-26T22:07:26.495861Z"
    }
   },
   "outputs": [],
   "source": [
    "rmse_train = 0\n",
    "rmse_test = 0\n",
    "N_train = len(nasdaq00)\n",
    "N_test = len(nasdaq01)"
   ]
  },
  {
   "cell_type": "code",
   "execution_count": 7,
   "id": "f873787f",
   "metadata": {
    "ExecuteTime": {
     "end_time": "2021-10-26T22:07:26.502469Z",
     "start_time": "2021-10-26T22:07:26.498828Z"
    }
   },
   "outputs": [
    {
     "name": "stdout",
     "output_type": "stream",
     "text": [
      "RMSE of training set: 117.196\n"
     ]
    }
   ],
   "source": [
    "for t in range(3, N_train):\n",
    "    x_t = nasdaq00[t]\n",
    "    x_t_minus_1 = nasdaq00[t-1]\n",
    "    x_t_minus_2 = nasdaq00[t-2]\n",
    "    x_t_minus_3 = nasdaq00[t-3]\n",
    "    rmse_train += (x_t - a1*x_t_minus_1 - a2*x_t_minus_2 - a3*x_t_minus_3)**2\n",
    "\n",
    "rmse_train = np.sqrt(rmse_train/N_train)\n",
    "print(f'RMSE of training set: {round(rmse_train, 4)}')"
   ]
  },
  {
   "cell_type": "code",
   "execution_count": 8,
   "id": "288e155d",
   "metadata": {
    "ExecuteTime": {
     "end_time": "2021-10-26T22:07:26.507626Z",
     "start_time": "2021-10-26T22:07:26.503741Z"
    }
   },
   "outputs": [
    {
     "name": "stdout",
     "output_type": "stream",
     "text": [
      "RMSE of test set: 54.3046\n"
     ]
    }
   ],
   "source": [
    "for t in range(3, N_test):\n",
    "    x_t = nasdaq01[t]\n",
    "    x_t_minus_1 = nasdaq01[t-1]\n",
    "    x_t_minus_2 = nasdaq01[t-2]\n",
    "    x_t_minus_3 = nasdaq01[t-3]\n",
    "    rmse_test += (x_t - a1*x_t_minus_1 - a2*x_t_minus_2 - a3*x_t_minus_3)**2\n",
    "\n",
    "rmse_test = np.sqrt(rmse_test/N_test)\n",
    "print(f'RMSE of test set: {round(rmse_test, 4)}')"
   ]
  },
  {
   "cell_type": "markdown",
   "id": "139aad2a",
   "metadata": {},
   "source": [
    "Lower prediction error in 2001 does not indicate that the model worked better that year, but that the model using merely data of past three days is unstable which leads to underfitting (cannot capture the feature of stock market well)."
   ]
  },
  {
   "cell_type": "code",
   "execution_count": null,
   "id": "21375a1e",
   "metadata": {},
   "outputs": [],
   "source": []
  }
 ],
 "metadata": {
  "kernelspec": {
   "display_name": "Python 3 (ipykernel)",
   "language": "python",
   "name": "python3"
  },
  "language_info": {
   "codemirror_mode": {
    "name": "ipython",
    "version": 3
   },
   "file_extension": ".py",
   "mimetype": "text/x-python",
   "name": "python",
   "nbconvert_exporter": "python",
   "pygments_lexer": "ipython3",
   "version": "3.9.6"
  },
  "latex_envs": {
   "LaTeX_envs_menu_present": true,
   "autoclose": true,
   "autocomplete": true,
   "bibliofile": "biblio.bib",
   "cite_by": "apalike",
   "current_citInitial": 1,
   "eqLabelWithNumbers": true,
   "eqNumInitial": 1,
   "hotkeys": {
    "equation": "Ctrl-E",
    "itemize": "Ctrl-I"
   },
   "labels_anchors": false,
   "latex_user_defs": false,
   "report_style_numbering": false,
   "user_envs_cfg": false
  }
 },
 "nbformat": 4,
 "nbformat_minor": 5
}
