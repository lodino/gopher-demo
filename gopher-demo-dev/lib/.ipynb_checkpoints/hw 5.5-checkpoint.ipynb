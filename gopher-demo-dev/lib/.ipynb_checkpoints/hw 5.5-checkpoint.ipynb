{
 "cells": [
  {
   "cell_type": "markdown",
   "id": "982a5c1c",
   "metadata": {},
   "source": [
    "# Preparation"
   ]
  },
  {
   "cell_type": "code",
   "execution_count": 1,
   "id": "b25d662c",
   "metadata": {
    "ExecuteTime": {
     "end_time": "2021-11-02T05:33:12.630577Z",
     "start_time": "2021-11-02T05:33:12.336506Z"
    }
   },
   "outputs": [],
   "source": [
    "import numpy as np\n",
    "import matplotlib.pyplot as plt\n",
    "np.random.seed(33)"
   ]
  },
  {
   "cell_type": "code",
   "execution_count": 2,
   "id": "42ebf707",
   "metadata": {
    "ExecuteTime": {
     "end_time": "2021-11-02T05:33:12.697777Z",
     "start_time": "2021-11-02T05:33:12.631894Z"
    },
    "code_folding": []
   },
   "outputs": [],
   "source": [
    "with open('/Users/lodino/Desktop/CSE250A/hws/hw5/train3.txt', 'r') as f:\n",
    "    train3_ls = f.read().strip('\\n').split('\\n')\n",
    "    train3_arr = np.array([im.strip(' ').split(' ') for im in train3_ls])\n",
    "\n",
    "with open('/Users/lodino/Desktop/CSE250A/hws/hw5/test3.txt', 'r') as f:\n",
    "    test3_ls = f.read().strip('\\n').split('\\n')\n",
    "    test3_arr = np.array([im.strip(' ').split(' ') for im in test3_ls])\n",
    "    \n",
    "with open('/Users/lodino/Desktop/CSE250A/hws/hw5/train5.txt', 'r') as f:\n",
    "    train5_ls = f.read().strip('\\n').split('\\n')\n",
    "    train5_arr = np.array([im.strip(' ').split(' ') for im in train5_ls])\n",
    "\n",
    "with open('/Users/lodino/Desktop/CSE250A/hws/hw5/test5.txt', 'r') as f:\n",
    "    test5_ls = f.read().strip('\\n').split('\\n')\n",
    "    test5_arr = np.array([im.strip(' ').split(' ') for im in test5_ls])"
   ]
  },
  {
   "cell_type": "markdown",
   "id": "77512949",
   "metadata": {},
   "source": [
    "$y=1\\rightarrow number\\ is\\ 3\\\\ y=0\\rightarrow number\\ is\\ 5$"
   ]
  },
  {
   "cell_type": "code",
   "execution_count": 3,
   "id": "e6c460b6",
   "metadata": {
    "ExecuteTime": {
     "end_time": "2021-11-02T05:33:12.727987Z",
     "start_time": "2021-11-02T05:33:12.698677Z"
    }
   },
   "outputs": [],
   "source": [
    "X_train = np.concatenate([train3_arr, train5_arr]).astype(int)\n",
    "y_train = np.zeros((len(X_train), 1))\n",
    "y_train[:len(train3_arr)] = 1  # corresponds to 3"
   ]
  },
  {
   "cell_type": "code",
   "execution_count": 4,
   "id": "70ce2c23",
   "metadata": {
    "ExecuteTime": {
     "end_time": "2021-11-02T05:33:12.732856Z",
     "start_time": "2021-11-02T05:33:12.729587Z"
    }
   },
   "outputs": [],
   "source": [
    "def del_L_del_w(y, p, x):\n",
    "    return np.sum((y-p)*x, axis=0)\n",
    "\n",
    "def sigmoid(z):\n",
    "    return 1/(1+np.exp(-z))\n",
    "\n",
    "def compute_acc(x, w, y):\n",
    "    probs = sigmoid(np.dot(x, w))\n",
    "    indicator = np.where(probs>0.5, 1, 0)\n",
    "    return np.sum(indicator==y)/y.size\n",
    "\n",
    "def log_likelihood(p, y):\n",
    "    return np.sum(y*np.log(p) + (1-y)*np.log(1-p))"
   ]
  },
  {
   "cell_type": "markdown",
   "id": "d4cf0be4",
   "metadata": {},
   "source": [
    "# (a)"
   ]
  },
  {
   "cell_type": "code",
   "execution_count": 5,
   "id": "558ab770",
   "metadata": {
    "ExecuteTime": {
     "end_time": "2021-11-02T05:33:12.736341Z",
     "start_time": "2021-11-02T05:33:12.733702Z"
    },
    "scrolled": true
   },
   "outputs": [],
   "source": [
    "# randomly initialize weights\n",
    "w = np.random.random((X_train.shape[1], 1))\n",
    "num_iteration = 100\n",
    "step_size = 0.001"
   ]
  },
  {
   "cell_type": "code",
   "execution_count": 6,
   "id": "4fe85806",
   "metadata": {
    "ExecuteTime": {
     "end_time": "2021-11-02T05:33:12.788503Z",
     "start_time": "2021-11-02T05:33:12.737311Z"
    }
   },
   "outputs": [],
   "source": [
    "log_likelihoods = []\n",
    "accs = []\n",
    "for _ in range(num_iteration):\n",
    "    # update weight\n",
    "    derivative = del_L_del_w(y=y_train, p=sigmoid(np.dot(X_train, w)), x=X_train)\n",
    "    w += step_size*derivative.reshape((-1, 1))\n",
    "    \n",
    "    accs.append(compute_acc(x=X_train, w=w, y=y_train))\n",
    "    log_likelihoods.append(log_likelihood(p=sigmoid(np.dot(X_train, w)), y=y_train))"
   ]
  },
  {
   "cell_type": "code",
   "execution_count": 7,
   "id": "43c8eff7",
   "metadata": {
    "ExecuteTime": {
     "end_time": "2021-11-02T05:33:12.877551Z",
     "start_time": "2021-11-02T05:33:12.789494Z"
    }
   },
   "outputs": [
    {
     "data": {
      "image/png": "[encoded data removed]",
      "text/plain": [
       "<Figure size 432x288 with 1 Axes>"
      ]
     },
     "metadata": {
      "needs_background": "light"
     },
     "output_type": "display_data"
    }
   ],
   "source": [
    "plt.plot(log_likelihoods)\n",
    "plt.ylabel('Log Likelihood')\n",
    "plt.xlabel('# iter')\n",
    "plt.show()"
   ]
  },
  {
   "cell_type": "code",
   "execution_count": 8,
   "id": "f7cac941",
   "metadata": {
    "ExecuteTime": {
     "end_time": "2021-11-02T05:33:12.948319Z",
     "start_time": "2021-11-02T05:33:12.878617Z"
    },
    "scrolled": false
   },
   "outputs": [
    {
     "data": {
      "image/png": "[encoded data removed]",
      "text/plain": [
       "<Figure size 432x288 with 1 Axes>"
      ]
     },
     "metadata": {
      "needs_background": "light"
     },
     "output_type": "display_data"
    }
   ],
   "source": [
    "plt.plot(1-np.array(accs))\n",
    "plt.ylabel('Err. Rate')\n",
    "plt.xlabel('# iter')\n",
    "plt.show()"
   ]
  },
  {
   "cell_type": "markdown",
   "id": "94c8029c",
   "metadata": {},
   "source": [
    "# (b)"
   ]
  },
  {
   "cell_type": "code",
   "execution_count": 9,
   "id": "e6279a12",
   "metadata": {
    "ExecuteTime": {
     "end_time": "2021-11-02T05:33:12.969446Z",
     "start_time": "2021-11-02T05:33:12.949557Z"
    }
   },
   "outputs": [],
   "source": [
    "X_test = np.concatenate([test3_arr, test5_arr]).astype(int)\n",
    "y_test = np.zeros((len(X_test), 1))\n",
    "y_test[:len(test3_arr)] = 1  # corresponds to 3"
   ]
  },
  {
   "cell_type": "code",
   "execution_count": 10,
   "id": "1db38b4c",
   "metadata": {
    "ExecuteTime": {
     "end_time": "2021-11-02T05:33:12.976659Z",
     "start_time": "2021-11-02T05:33:12.972723Z"
    }
   },
   "outputs": [
    {
     "name": "stdout",
     "output_type": "stream",
     "text": [
      "Acc on test3.txt: 0.94\n",
      "Acc on test5.txt: 0.9525\n"
     ]
    }
   ],
   "source": [
    "print(f'Acc on test3.txt: {compute_acc(X_test[:len(test3_arr)], w, y_test[:len(test3_arr)])}')\n",
    "print(f'Acc on test5.txt: {compute_acc(X_test[len(test3_arr):], w, y_test[len(test3_arr):])}')"
   ]
  },
  {
   "cell_type": "code",
   "execution_count": null,
   "id": "fb971685",
   "metadata": {},
   "outputs": [],
   "source": []
  }
 ],
 "metadata": {
  "kernelspec": {
   "display_name": "Python 3 (ipykernel)",
   "language": "python",
   "name": "python3"
  },
  "language_info": {
   "codemirror_mode": {
    "name": "ipython",
    "version": 3
   },
   "file_extension": ".py",
   "mimetype": "text/x-python",
   "name": "python",
   "nbconvert_exporter": "python",
   "pygments_lexer": "ipython3",
   "version": "3.9.6"
  },
  "latex_envs": {
   "LaTeX_envs_menu_present": true,
   "autoclose": true,
   "autocomplete": true,
   "bibliofile": "biblio.bib",
   "cite_by": "apalike",
   "current_citInitial": 1,
   "eqLabelWithNumbers": true,
   "eqNumInitial": 1,
   "hotkeys": {
    "equation": "Ctrl-E",
    "itemize": "Ctrl-I"
   },
   "labels_anchors": false,
   "latex_user_defs": false,
   "report_style_numbering": false,
   "user_envs_cfg": false
  }
 },
 "nbformat": 4,
 "nbformat_minor": 5
}
