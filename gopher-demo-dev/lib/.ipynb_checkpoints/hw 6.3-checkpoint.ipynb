{
 "cells": [
  {
   "cell_type": "code",
   "execution_count": 156,
   "id": "7174d914",
   "metadata": {
    "ExecuteTime": {
     "end_time": "2021-11-11T00:30:09.172959Z",
     "start_time": "2021-11-11T00:30:08.835439Z"
    }
   },
   "outputs": [],
   "source": [
    "import numpy as np\n",
    "import pandas as pd\n",
    "import matplotlib.pyplot as plt\n",
    "np.random.seed(33)"
   ]
  },
  {
   "cell_type": "code",
   "execution_count": 69,
   "id": "8badb7ab",
   "metadata": {
    "ExecuteTime": {
     "end_time": "2021-11-10T20:44:15.305598Z",
     "start_time": "2021-11-10T20:44:15.285956Z"
    }
   },
   "outputs": [],
   "source": [
    "with open('/Users/lodino/Desktop/CSE250A/hws/hw6/noisyOrX.txt', 'r') as f:\n",
    "    X_ls = f.read().strip('\\n').split('\\n')\n",
    "    X_arr = np.array([n.strip(' ').split(' ') for n in X_ls]).astype(int)\n",
    "\n",
    "with open('/Users/lodino/Desktop/CSE250A/hws/hw6/noisyOrY.txt', 'r') as f:\n",
    "    Y_ls = f.read().strip('\\n').split('\\n')\n",
    "    Y_arr = np.array([n.strip(' ').split(' ') for n in Y_ls]).astype(int)"
   ]
  },
  {
   "cell_type": "code",
   "execution_count": 151,
   "id": "946d78a1",
   "metadata": {
    "ExecuteTime": {
     "end_time": "2021-11-11T00:29:23.601006Z",
     "start_time": "2021-11-11T00:29:23.592013Z"
    }
   },
   "outputs": [],
   "source": [
    "likelihood = lambda x, y, p: np.where(y.squeeze(), 1-np.prod(np.where(x, 1-p, 1), axis=1), np.prod(np.where(x, 1-p, 1), axis=1))\n",
    "num_mistake = lambda x, y, p: len(y)-np.sum((np.prod(np.where(x, 1-p, 1), axis=1)<0.5)!=(1-y).squeeze())\n",
    "log_likelihood = lambda x, y, p: np.mean(np.log(likelihood(x, y, p)))"
   ]
  },
  {
   "cell_type": "code",
   "execution_count": 152,
   "id": "61831789",
   "metadata": {
    "ExecuteTime": {
     "end_time": "2021-11-11T00:29:24.172987Z",
     "start_time": "2021-11-11T00:29:24.165479Z"
    }
   },
   "outputs": [],
   "source": [
    "# output an arr with posterior prob for every i\n",
    "p_zi_1_xi_1 = lambda x, y, p: np.sum(y*p*x/(1-np.prod(np.where(x, 1-p, 1), axis=1)).reshape(-1, 1), axis=0)\n",
    "T_i = lambda x: np.sum(x, axis=0)\n",
    "get_update = lambda x, y, p: p_zi_1_xi_1(x, y, p)/T_i(x)"
   ]
  },
  {
   "cell_type": "code",
   "execution_count": 158,
   "id": "c8605946",
   "metadata": {
    "ExecuteTime": {
     "end_time": "2021-11-11T00:31:13.425937Z",
     "start_time": "2021-11-11T00:31:13.370581Z"
    },
    "scrolled": true
   },
   "outputs": [],
   "source": [
    "p_arr = np.array([0.05]*23)\n",
    "verbose_ls = [0] + [2**k for k in range(9)]\n",
    "mistake_ls = []\n",
    "log_likelihood_ls = []\n",
    "for i in range(257):\n",
    "    if i in verbose_ls:\n",
    "        mistake_ls.append(num_mistake(X_arr, Y_arr, p_arr))\n",
    "        log_likelihood_ls.append(round(log_likelihood(X_arr, Y_arr, p_arr), 5))\n",
    "#         print(f'iteration: {i}: Num. Mistake: {num_mistake(X_arr, Y_arr, p_arr)}, Log Likelihood: {round(log_likelihood(X_arr, Y_arr, p_arr), 5)}')\n",
    "    p_arr = get_update(X_arr, Y_arr, p_arr)"
   ]
  },
  {
   "cell_type": "code",
   "execution_count": 162,
   "id": "fe0830e3",
   "metadata": {
    "ExecuteTime": {
     "end_time": "2021-11-11T19:04:39.305497Z",
     "start_time": "2021-11-11T19:04:39.270706Z"
    }
   },
   "outputs": [
    {
     "name": "stdout",
     "output_type": "stream",
     "text": [
      " Iteration  Num. Mistakes  Log-likelihood\n",
      "         0            175        -0.95809\n",
      "         1             56        -0.49592\n",
      "         2             43        -0.40822\n",
      "         4             42        -0.36461\n",
      "         8             44        -0.34750\n",
      "        16             40        -0.33462\n",
      "        32             37        -0.32258\n",
      "        64             37        -0.31483\n",
      "       128             36        -0.31116\n",
      "       256             36        -0.31016\n"
     ]
    }
   ],
   "source": [
    "answer = [verbose_ls, mistake_ls, log_likelihood_ls]\n",
    "answer = (np.array(answer).T).tolist()\n",
    "\n",
    "answer_table = pd.DataFrame(answer, columns=['Iteration', 'Num. Mistakes', 'Log-likelihood'])\n",
    "answer_table['Iteration'] = answer_table['Iteration'].astype(int)\n",
    "answer_table['Num. Mistakes'] = answer_table['Num. Mistakes'].astype(int)\n",
    "print(answer_table.to_string(index=False))\n"
   ]
  },
  {
   "cell_type": "code",
   "execution_count": null,
   "id": "fb532e33",
   "metadata": {},
   "outputs": [],
   "source": []
  }
 ],
 "metadata": {
  "kernelspec": {
   "display_name": "Python 3 (ipykernel)",
   "language": "python",
   "name": "python3"
  },
  "language_info": {
   "codemirror_mode": {
    "name": "ipython",
    "version": 3
   },
   "file_extension": ".py",
   "mimetype": "text/x-python",
   "name": "python",
   "nbconvert_exporter": "python",
   "pygments_lexer": "ipython3",
   "version": "3.9.6"
  },
  "latex_envs": {
   "LaTeX_envs_menu_present": true,
   "autoclose": true,
   "autocomplete": true,
   "bibliofile": "biblio.bib",
   "cite_by": "apalike",
   "current_citInitial": 1,
   "eqLabelWithNumbers": true,
   "eqNumInitial": 1,
   "hotkeys": {
    "equation": "Ctrl-E",
    "itemize": "Ctrl-I"
   },
   "labels_anchors": false,
   "latex_user_defs": false,
   "report_style_numbering": false,
   "user_envs_cfg": false
  }
 },
 "nbformat": 4,
 "nbformat_minor": 5
}
