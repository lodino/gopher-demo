{
 "cells": [
  {
   "cell_type": "code",
   "execution_count": 79,
   "id": "162b30c5",
   "metadata": {
    "ExecuteTime": {
     "end_time": "2021-11-14T03:49:35.832673Z",
     "start_time": "2021-11-14T03:49:35.627119Z"
    }
   },
   "outputs": [],
   "source": [
    "import numpy as np\n",
    "import matplotlib.pyplot as plt"
   ]
  },
  {
   "cell_type": "code",
   "execution_count": 67,
   "id": "ac2cfffe",
   "metadata": {
    "ExecuteTime": {
     "end_time": "2021-11-14T03:27:33.162426Z",
     "start_time": "2021-11-14T03:27:32.900378Z"
    }
   },
   "outputs": [],
   "source": [
    "with open('/Users/lodino/Desktop/CSE250A/hws/hw7/emissionMatrix.txt', 'r') as f:\n",
    "    emission_ls = f.read().strip('\\n').split('\\n')\n",
    "    emission_mat = np.array([n.strip('\\t').split('\\t') for n in emission_ls]).astype(float)\n",
    "    log_emission_mat = np.log(emission_mat)\n",
    "\n",
    "with open('/Users/lodino/Desktop/CSE250A/hws/hw7/transitionMatrix.txt', 'r') as f:\n",
    "    transition_ls = f.read().strip('\\n').split('\\n')\n",
    "    transition_mat = np.array([n.strip(' ').split(' ') for n in transition_ls]).astype(float)\n",
    "    log_transition_mat = np.log(transition_mat)\n",
    "\n",
    "with open('/Users/lodino/Desktop/CSE250A/hws/hw7/initialStateDistribution.txt', 'r') as f:\n",
    "    state_distrib_arr = np.array(f.read().strip('\\n').split('\\n')).astype(float)\n",
    "    log_state_distrib_arr = np.log(state_distrib_arr)\n",
    "\n",
    "with open('/Users/lodino/Desktop/CSE250A/hws/hw7/observations.txt', 'r') as f:\n",
    "    observations_arr = np.array(f.read().strip('\\n').strip(' ').split(' ')).astype(int)"
   ]
  },
  {
   "cell_type": "code",
   "execution_count": 68,
   "id": "2214fe20",
   "metadata": {
    "ExecuteTime": {
     "end_time": "2021-11-14T03:27:33.176014Z",
     "start_time": "2021-11-14T03:27:33.163870Z"
    }
   },
   "outputs": [],
   "source": [
    "# initialize l_star matrix\n",
    "l_star = np.zeros((len(state_distrib_arr), len(observations_arr)))\n",
    "l_star[:, 0] = log_emission_mat[:, observations_arr[0]] + log_state_distrib_arr"
   ]
  },
  {
   "cell_type": "code",
   "execution_count": 74,
   "id": "855716e2",
   "metadata": {
    "ExecuteTime": {
     "end_time": "2021-11-14T03:42:38.320112Z",
     "start_time": "2021-11-14T03:42:34.410495Z"
    }
   },
   "outputs": [],
   "source": [
    "for t in range(1, len(observations_arr)):\n",
    "    observation = observations_arr[t]\n",
    "    l_star[:, t] = np.max(l_star[:, t-1].reshape(-1, 1) + log_transition_mat, axis=0) + log_emission_mat[:, observation]"
   ]
  },
  {
   "cell_type": "code",
   "execution_count": 75,
   "id": "380b4a5b",
   "metadata": {
    "ExecuteTime": {
     "end_time": "2021-11-14T03:42:38.803201Z",
     "start_time": "2021-11-14T03:42:38.795539Z"
    }
   },
   "outputs": [],
   "source": [
    "most_likely_states = np.zeros_like(observations_arr)\n",
    "most_likely_states[-1] = np.argmax(l_star[:, len(observations_arr)-1])"
   ]
  },
  {
   "cell_type": "code",
   "execution_count": 76,
   "id": "c1a102b9",
   "metadata": {
    "ExecuteTime": {
     "end_time": "2021-11-14T03:42:40.512519Z",
     "start_time": "2021-11-14T03:42:39.255060Z"
    }
   },
   "outputs": [],
   "source": [
    "for t in range(len(observations_arr)-2, -1, -1):\n",
    "    previous_status = most_likely_states[t+1]\n",
    "    most_likely_states[t] = np.argmax(l_star[:, t].ravel() + log_transition_mat[:, previous_status])"
   ]
  },
  {
   "cell_type": "code",
   "execution_count": 77,
   "id": "2e2cf00e",
   "metadata": {
    "ExecuteTime": {
     "end_time": "2021-11-14T03:42:40.579679Z",
     "start_time": "2021-11-14T03:42:40.513727Z"
    }
   },
   "outputs": [],
   "source": [
    "alphabet = 'abcdefghijklmnopqrstuvwxyz '\n",
    "most_likely_sequence = alphabet[0]\n",
    "for s in most_likely_states[1:]:\n",
    "    letter = alphabet[s]\n",
    "    if most_likely_sequence[-1] != letter:\n",
    "        most_likely_sequence += letter"
   ]
  },
  {
   "cell_type": "code",
   "execution_count": 78,
   "id": "9908777d",
   "metadata": {
    "ExecuteTime": {
     "end_time": "2021-11-14T03:42:41.427702Z",
     "start_time": "2021-11-14T03:42:41.422369Z"
    }
   },
   "outputs": [
    {
     "data": {
      "text/plain": [
       "'a house divided against itself canot stand'"
      ]
     },
     "execution_count": 78,
     "metadata": {},
     "output_type": "execute_result"
    }
   ],
   "source": [
    "most_likely_sequence"
   ]
  },
  {
   "cell_type": "code",
   "execution_count": 90,
   "id": "2dda3a53",
   "metadata": {
    "ExecuteTime": {
     "end_time": "2021-11-14T03:52:49.930879Z",
     "start_time": "2021-11-14T03:52:49.730849Z"
    }
   },
   "outputs": [
    {
     "data": {
      "image/png": "[encoded data removed]",
      "text/plain": [
       "<Figure size 720x504 with 1 Axes>"
      ]
     },
     "metadata": {
      "needs_background": "light"
     },
     "output_type": "display_data"
    }
   ],
   "source": [
    "plt.figure(figsize=(10, 7))\n",
    "plt.plot(most_likely_states)\n",
    "plt.yticks(range(len(alphabet)), [l for l in alphabet[:-1]]+['<space>'])\n",
    "plt.tight_layout()\n",
    "plt.show()"
   ]
  },
  {
   "cell_type": "code",
   "execution_count": 87,
   "id": "f9139006",
   "metadata": {
    "ExecuteTime": {
     "end_time": "2021-11-14T03:52:04.564400Z",
     "start_time": "2021-11-14T03:52:04.553400Z"
    }
   },
   "outputs": [
    {
     "ename": "ValueError",
     "evalue": "empty separator",
     "output_type": "error",
     "traceback": [
      "\u001b[0;31m---------------------------------------------------------------------------\u001b[0m",
      "\u001b[0;31mValueError\u001b[0m                                Traceback (most recent call last)",
      "\u001b[0;32m/var/folders/bf/7kwvbg8n3cq9bp42dlh_ts7w0000gn/T/ipykernel_46108/1685680609.py\u001b[0m in \u001b[0;36m<module>\u001b[0;34m\u001b[0m\n\u001b[0;32m----> 1\u001b[0;31m \u001b[0malphabet\u001b[0m\u001b[0;34m.\u001b[0m\u001b[0msplit\u001b[0m\u001b[0;34m(\u001b[0m\u001b[0;34m''\u001b[0m\u001b[0;34m)\u001b[0m\u001b[0;34m\u001b[0m\u001b[0;34m\u001b[0m\u001b[0m\n\u001b[0m",
      "\u001b[0;31mValueError\u001b[0m: empty separator"
     ]
    }
   ],
   "source": []
  },
  {
   "cell_type": "code",
   "execution_count": null,
   "id": "ac2fa137",
   "metadata": {},
   "outputs": [],
   "source": []
  }
 ],
 "metadata": {
  "kernelspec": {
   "display_name": "Python 3 (ipykernel)",
   "language": "python",
   "name": "python3"
  },
  "language_info": {
   "codemirror_mode": {
    "name": "ipython",
    "version": 3
   },
   "file_extension": ".py",
   "mimetype": "text/x-python",
   "name": "python",
   "nbconvert_exporter": "python",
   "pygments_lexer": "ipython3",
   "version": "3.9.6"
  },
  "latex_envs": {
   "LaTeX_envs_menu_present": true,
   "autoclose": true,
   "autocomplete": true,
   "bibliofile": "biblio.bib",
   "cite_by": "apalike",
   "current_citInitial": 1,
   "eqLabelWithNumbers": true,
   "eqNumInitial": 1,
   "hotkeys": {
    "equation": "Ctrl-E",
    "itemize": "Ctrl-I"
   },
   "labels_anchors": false,
   "latex_user_defs": false,
   "report_style_numbering": false,
   "user_envs_cfg": false
  }
 },
 "nbformat": 4,
 "nbformat_minor": 5
}
