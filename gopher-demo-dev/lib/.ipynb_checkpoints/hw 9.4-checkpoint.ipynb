{
 "cells": [
  {
   "cell_type": "code",
   "execution_count": 1,
   "id": "afad9bcd",
   "metadata": {
    "ExecuteTime": {
     "end_time": "2021-12-02T21:09:57.196406Z",
     "start_time": "2021-12-02T21:09:56.715403Z"
    }
   },
   "outputs": [],
   "source": [
    "import tqdm\n",
    "import numpy as np\n",
    "import pandas as pd\n",
    "import matplotlib.pyplot as plt"
   ]
  },
  {
   "cell_type": "code",
   "execution_count": 2,
   "id": "b0c5d4ba",
   "metadata": {
    "ExecuteTime": {
     "end_time": "2021-12-02T21:09:57.245568Z",
     "start_time": "2021-12-02T21:09:57.197716Z"
    }
   },
   "outputs": [],
   "source": [
    "with open('/Users/lodino/Desktop/CSE250A/hws/hw9/prob_a1.txt', 'r') as f:\n",
    "    a1_ls = f.read().strip('\\n').split('\\n')\n",
    "    a1_dict = dict()\n",
    "    a1_mat = np.zeros((81, 81))\n",
    "    for s in range(81):\n",
    "        a1_dict[s] = []\n",
    "    for action in a1_ls:\n",
    "        action_split = action.split('  ')\n",
    "        from_pos = int(action_split[0]) - 1\n",
    "        to_pos = int(action_split[1]) - 1\n",
    "        trans_prob = float(action_split[2])\n",
    "        a1_dict[from_pos].append((to_pos, trans_prob))\n",
    "        a1_mat[from_pos, to_pos] = trans_prob\n",
    "    a1 = lambda i: a1_dict[i]\n",
    "\n",
    "with open('/Users/lodino/Desktop/CSE250A/hws/hw9/prob_a2.txt', 'r') as f:\n",
    "    a2_ls = f.read().strip('\\n').split('\\n')\n",
    "    a2_dict = dict()\n",
    "    a2_mat = np.zeros((81, 81))\n",
    "    for s in range(81):\n",
    "        a2_dict[s] = []\n",
    "    for action in a2_ls:\n",
    "        action_split = action.split('  ')\n",
    "        from_pos = int(action_split[0]) - 1\n",
    "        to_pos = int(action_split[1]) - 1\n",
    "        trans_prob = float(action_split[2])\n",
    "        a2_dict[from_pos].append((to_pos, trans_prob))\n",
    "        a2_mat[from_pos, to_pos] = trans_prob\n",
    "    a2 = lambda i: a2_dict[i]\n",
    "\n",
    "with open('/Users/lodino/Desktop/CSE250A/hws/hw9/prob_a3.txt', 'r') as f:\n",
    "    a3_ls = f.read().strip('\\n').split('\\n')\n",
    "    a3_dict = dict()\n",
    "    a3_mat = np.zeros((81, 81))\n",
    "    for s in range(81):\n",
    "        a3_dict[s] = []\n",
    "    for action in a3_ls:\n",
    "        action_split = action.split('  ')\n",
    "        from_pos = int(action_split[0]) - 1\n",
    "        to_pos = int(action_split[1]) - 1\n",
    "        trans_prob = float(action_split[2])\n",
    "        a3_dict[from_pos].append((to_pos, trans_prob))\n",
    "        a3_mat[from_pos, to_pos] = trans_prob\n",
    "    a3 = lambda i: a3_dict[i]\n",
    "\n",
    "with open('/Users/lodino/Desktop/CSE250A/hws/hw9/prob_a4.txt', 'r') as f:\n",
    "    a4_ls = f.read().strip('\\n').split('\\n')\n",
    "    a4_dict = dict()\n",
    "    a4_mat = np.zeros((81, 81))\n",
    "    for s in range(81):\n",
    "        a4_dict[s] = []\n",
    "    for action in a4_ls:\n",
    "        action_split = action.split('  ')\n",
    "        from_pos = int(action_split[0]) - 1\n",
    "        to_pos = int(action_split[1]) - 1\n",
    "        trans_prob = float(action_split[2])\n",
    "        a4_dict[from_pos].append((to_pos, trans_prob))\n",
    "        a4_mat[from_pos, to_pos] = trans_prob\n",
    "    a4 = lambda i: a4_dict[i]\n",
    "\n",
    "with open('/Users/lodino/Desktop/CSE250A/hws/hw9/rewards.txt', 'r') as f:\n",
    "    R = np.array(f.read().strip('\\n').split('\\n')).astype(int).reshape(-1, 1)"
   ]
  },
  {
   "cell_type": "code",
   "execution_count": 3,
   "id": "4bac51c1",
   "metadata": {
    "ExecuteTime": {
     "end_time": "2021-12-02T21:09:57.249134Z",
     "start_time": "2021-12-02T21:09:57.246714Z"
    }
   },
   "outputs": [],
   "source": [
    "gamma = 0.9925\n",
    "all_actions = [a1_mat, a2_mat, a3_mat, a4_mat]\n",
    "action_names = ['WEST', 'NORTH', 'EAST', 'SOUTH']\n",
    "action_dir = ['←', '↑', '→', '↓']"
   ]
  },
  {
   "cell_type": "markdown",
   "id": "fe962c14",
   "metadata": {},
   "source": [
    "# (a) Policy Iteration"
   ]
  },
  {
   "cell_type": "markdown",
   "id": "61d866b8",
   "metadata": {},
   "source": [
    "$$V=\\gamma\\cdot P\\times V+R\\Rightarrow V=(I-\\gamma\\cdot P)^{-1}\\times R$$"
   ]
  },
  {
   "cell_type": "code",
   "execution_count": 4,
   "id": "12bd27b0",
   "metadata": {
    "ExecuteTime": {
     "end_time": "2021-12-02T21:09:57.256598Z",
     "start_time": "2021-12-02T21:09:57.250740Z"
    }
   },
   "outputs": [],
   "source": [
    "def evaluate_policy(p_mat):\n",
    "    I = np.identity(81)\n",
    "    return np.dot(np.linalg.inv(I-gamma*p_mat), R)\n",
    "\n",
    "def construct(action_ls):\n",
    "    p_mat = np.zeros((81, 81))\n",
    "    for s, a in enumerate(action_ls):\n",
    "        p_mat[s, :] = all_actions[a][s, :]\n",
    "    return p_mat\n",
    "\n",
    "def update_policy(p_mat):\n",
    "    output_action_ls = []\n",
    "    v = evaluate_policy(p_mat).reshape(-1, 1)\n",
    "    for s in range(81):\n",
    "        exp = []\n",
    "        for action_idx in range(4):\n",
    "            trans_prob = all_actions[action_idx][s, :].reshape(1, -1)\n",
    "            exp.append(np.dot(trans_prob, v))\n",
    "        output_action_ls.append(np.argmax(exp))\n",
    "    return np.array(output_action_ls).astype(int)\n",
    "\n",
    "def get_action_name(action_ls):\n",
    "    return [(s+1, action_names[i]) for s, i in enumerate(action_ls)]\n",
    "\n",
    "def get_action_diagram(action_ls):\n",
    "    d = np.zeros((9, 9)).astype(str)\n",
    "    for s, i in enumerate(action_ls):\n",
    "        x = s%9\n",
    "        y = s//9\n",
    "        d[x, y] = action_dir[i]\n",
    "    return d\n",
    "\n",
    "def get_value_diagram(values):\n",
    "    d = np.zeros((9, 9))\n",
    "    for s, i in enumerate(values):\n",
    "        x = s%9\n",
    "        y = s//9\n",
    "        d[x, y] = i\n",
    "    return d"
   ]
  },
  {
   "cell_type": "code",
   "execution_count": 5,
   "id": "fce8c23e",
   "metadata": {
    "ExecuteTime": {
     "end_time": "2021-12-02T21:10:04.837872Z",
     "start_time": "2021-12-02T21:09:57.257482Z"
    }
   },
   "outputs": [],
   "source": [
    "# initialize actions\n",
    "total_iteration = 5000\n",
    "action_selection = np.zeros(81).astype(int)\n",
    "for _ in range(total_iteration):\n",
    "    p_mat = construct(action_selection)\n",
    "    action_selection = update_policy(p_mat)"
   ]
  },
  {
   "cell_type": "markdown",
   "id": "3981215d",
   "metadata": {},
   "source": [
    "**directions:**"
   ]
  },
  {
   "cell_type": "code",
   "execution_count": 6,
   "id": "c6881f67",
   "metadata": {
    "ExecuteTime": {
     "end_time": "2021-12-02T21:10:04.841507Z",
     "start_time": "2021-12-02T21:10:04.838873Z"
    },
    "scrolled": false
   },
   "outputs": [
    {
     "name": "stdout",
     "output_type": "stream",
     "text": [
      "[['←' '←' '←' '←' '←' '←' '←' '←' '←']\n",
      " ['←' '→' '→' '↓' '←' '←' '↓' '←' '←']\n",
      " ['→' '↑' '←' '↓' '←' '←' '↓' '←' '←']\n",
      " ['←' '←' '↓' '←' '←' '←' '↓' '←' '←']\n",
      " ['←' '←' '↓' '←' '←' '←' '↓' '←' '←']\n",
      " ['←' '↓' '←' '←' '←' '←' '↓' '←' '←']\n",
      " ['←' '↓' '←' '→' '→' '→' '→' '→' '←']\n",
      " ['←' '→' '→' '↑' '←' '→' '→' '↑' '←']\n",
      " ['←' '←' '←' '←' '←' '←' '←' '←' '←']]\n"
     ]
    }
   ],
   "source": [
    "# get_action_name(action_selection)\n",
    "print(get_action_diagram(action_selection))"
   ]
  },
  {
   "cell_type": "markdown",
   "id": "0055d03f",
   "metadata": {},
   "source": [
    "*put this into the maze:*"
   ]
  },
  {
   "cell_type": "markdown",
   "id": "e31079c7",
   "metadata": {},
   "source": [
    "<img src=\"maze.png\" alt=\"maze\" width=\"30%\" height=\"30%\">"
   ]
  },
  {
   "cell_type": "markdown",
   "id": "0bdeca52",
   "metadata": {},
   "source": [
    "**values:**"
   ]
  },
  {
   "cell_type": "code",
   "execution_count": 8,
   "id": "8e8fb588",
   "metadata": {
    "ExecuteTime": {
     "end_time": "2021-12-02T21:11:44.958977Z",
     "start_time": "2021-12-02T21:11:44.929736Z"
    }
   },
   "outputs": [
    {
     "name": "stdout",
     "output_type": "stream",
     "text": [
      "[[   0.      0.      0.      0.      0.      0.      0.      0.      0.  ]\n",
      " [   0.    102.38  103.23  104.1     0.   -133.33   81.4  -133.33    0.  ]\n",
      " [ 100.7   101.52    0.    104.98  103.78   90.99   93.67   81.4     0.  ]\n",
      " [   0.      0.    106.78  105.89    0.   -133.33   95.17 -133.33    0.  ]\n",
      " [   0.      0.    107.67    0.      0.      0.    108.34    0.      0.  ]\n",
      " [   0.    109.49  108.58    0.      0.   -133.33  109.58 -133.33    0.  ]\n",
      " [   0.    110.41    0.    114.16  115.12  116.09  123.64  125.25  133.33]\n",
      " [   0.    111.34  112.27  113.21    0.    122.02  123.18  124.21    0.  ]\n",
      " [   0.      0.      0.      0.      0.      0.      0.      0.      0.  ]]\n"
     ]
    }
   ],
   "source": [
    "p_mat = construct(action_selection)\n",
    "values = evaluate_policy(p_mat)\n",
    "print(np.round(get_value_diagram(values), decimals=2))"
   ]
  },
  {
   "cell_type": "markdown",
   "id": "dc32f6b2",
   "metadata": {},
   "source": [
    "# (b) Value Iteration"
   ]
  },
  {
   "cell_type": "code",
   "execution_count": 9,
   "id": "42accd26",
   "metadata": {
    "ExecuteTime": {
     "end_time": "2021-12-02T21:11:49.534438Z",
     "start_time": "2021-12-02T21:11:49.522575Z"
    }
   },
   "outputs": [],
   "source": [
    "def update_value(val):\n",
    "    output_value_ls = []\n",
    "    v = val.reshape(-1, 1)\n",
    "    for s in range(81):\n",
    "        exp = []\n",
    "        for action_idx in range(4):\n",
    "            trans_prob = all_actions[action_idx][s, :].reshape(1, -1)\n",
    "            exp.append(np.dot(trans_prob, v))\n",
    "        output_value_ls.append(np.max(exp))\n",
    "    return R.ravel().copy()+gamma*np.array(output_value_ls)"
   ]
  },
  {
   "cell_type": "code",
   "execution_count": 10,
   "id": "51047bf7",
   "metadata": {
    "ExecuteTime": {
     "end_time": "2021-12-02T21:11:55.152182Z",
     "start_time": "2021-12-02T21:11:49.927895Z"
    }
   },
   "outputs": [],
   "source": [
    "total_iteration = 5000\n",
    "values = np.zeros(81)\n",
    "for _ in range(total_iteration):\n",
    "    values = update_value(values)"
   ]
  },
  {
   "cell_type": "markdown",
   "id": "39e647e8",
   "metadata": {},
   "source": [
    "**values:**"
   ]
  },
  {
   "cell_type": "code",
   "execution_count": 11,
   "id": "7960bbb2",
   "metadata": {
    "ExecuteTime": {
     "end_time": "2021-12-02T21:11:55.155937Z",
     "start_time": "2021-12-02T21:11:55.153282Z"
    },
    "scrolled": true
   },
   "outputs": [
    {
     "name": "stdout",
     "output_type": "stream",
     "text": [
      "[[   0.      0.      0.      0.      0.      0.      0.      0.      0.  ]\n",
      " [   0.    102.38  103.23  104.1     0.   -133.33   81.4  -133.33    0.  ]\n",
      " [ 100.7   101.52    0.    104.98  103.78   90.99   93.67   81.4     0.  ]\n",
      " [   0.      0.    106.78  105.89    0.   -133.33   95.17 -133.33    0.  ]\n",
      " [   0.      0.    107.67    0.      0.      0.    108.34    0.      0.  ]\n",
      " [   0.    109.49  108.58    0.      0.   -133.33  109.58 -133.33    0.  ]\n",
      " [   0.    110.41    0.    114.16  115.12  116.09  123.64  125.25  133.33]\n",
      " [   0.    111.34  112.27  113.21    0.    122.02  123.18  124.21    0.  ]\n",
      " [   0.      0.      0.      0.      0.      0.      0.      0.      0.  ]]\n"
     ]
    }
   ],
   "source": [
    "print(np.round(get_value_diagram(values), decimals=2))"
   ]
  },
  {
   "cell_type": "markdown",
   "id": "5f8617cc",
   "metadata": {},
   "source": [
    "This is consistent with the value of poilicy generated in policy iteration."
   ]
  },
  {
   "cell_type": "code",
   "execution_count": null,
   "id": "c5c94bb3",
   "metadata": {},
   "outputs": [],
   "source": []
  }
 ],
 "metadata": {
  "kernelspec": {
   "display_name": "Python 3 (ipykernel)",
   "language": "python",
   "name": "python3"
  },
  "language_info": {
   "codemirror_mode": {
    "name": "ipython",
    "version": 3
   },
   "file_extension": ".py",
   "mimetype": "text/x-python",
   "name": "python",
   "nbconvert_exporter": "python",
   "pygments_lexer": "ipython3",
   "version": "3.9.6"
  },
  "latex_envs": {
   "LaTeX_envs_menu_present": true,
   "autoclose": true,
   "autocomplete": true,
   "bibliofile": "biblio.bib",
   "cite_by": "apalike",
   "current_citInitial": 1,
   "eqLabelWithNumbers": true,
   "eqNumInitial": 1,
   "hotkeys": {
    "equation": "Ctrl-E",
    "itemize": "Ctrl-I"
   },
   "labels_anchors": false,
   "latex_user_defs": false,
   "report_style_numbering": false,
   "user_envs_cfg": false
  }
 },
 "nbformat": 4,
 "nbformat_minor": 5
}
