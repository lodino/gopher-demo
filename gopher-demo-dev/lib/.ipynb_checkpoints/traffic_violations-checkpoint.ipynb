{
 "cells": [
  {
   "cell_type": "code",
   "execution_count": 21,
   "metadata": {},
   "outputs": [],
   "source": [
    "import pandas as pd\n",
    "import numpy as np\n",
    "from sklearn.model_selection import train_test_split, KFold, cross_val_score, StratifiedKFold, cross_val_score, GridSearchCV, RepeatedStratifiedKFold\n",
    "import os\n",
    "from pathlib import Path"
   ]
  },
  {
   "cell_type": "code",
   "execution_count": 22,
   "metadata": {},
   "outputs": [],
   "source": [
    "cols = ['agency','subagency','latitude','longitude','accident','belts','personal_injury','property_damage','fatal','commercial_license','hazmat','commercial_vehicle','alcohol','work_zone','search_conducted','search_disposition','search_outcome','search_reason','search_reason_for_stop','search_type','search_arrest_reason','state','vehicletype','year','color','class','charge','article','contributed_to_accident','race','gender','driver_state','dl_state','arrest_type']\n",
    "df = pd.read_csv('traffic_violations_edited.csv', names=cols, index_col=False)\n",
    "# df.columns"
   ]
  },
  {
   "cell_type": "code",
   "execution_count": 23,
   "metadata": {},
   "outputs": [
    {
     "data": {
      "text/plain": [
       "1578154"
      ]
     },
     "execution_count": 23,
     "metadata": {},
     "output_type": "execute_result"
    }
   ],
   "source": [
    "cols = ['accident', 'belts', 'personal_injury', 'property_damage', 'fatal', 'commercial_license', 'commercial_vehicle', \n",
    "        'alcohol', 'work_zone', 'search_conducted', 'search_outcome','race', 'gender']\n",
    "# removed dl_state and driver_state: only ~5% are in different states\n",
    "# removed arrest_type: not relevant for our task. We are only interested in if an arrest took place\n",
    "df = df[cols]\n",
    "len(df)"
   ]
  },
  {
   "cell_type": "code",
   "execution_count": 24,
   "metadata": {},
   "outputs": [
    {
     "data": {
      "text/plain": [
       "958160"
      ]
     },
     "execution_count": 24,
     "metadata": {},
     "output_type": "execute_result"
    }
   ],
   "source": [
    "df.isin(['?']).sum(axis=0)\n",
    "df['search_conducted'] = df['search_conducted'].replace('?',np.nan)\n",
    "df['search_outcome'] = df['search_outcome'].replace('?',np.nan)\n",
    "\n",
    "df.dropna(how='any',inplace=True)\n",
    "len(df)"
   ]
  },
  {
   "cell_type": "code",
   "execution_count": 25,
   "metadata": {},
   "outputs": [],
   "source": [
    "df['search_outcome'] = df['search_outcome'].map({'Warning': 1, 'Citation': 1, 'SERO': 1, \"'Recovered Evidence'\": 1, 'Arrest': 0}).astype(int)\n",
    "df['accident'] = df['accident'].map({'No': 0, 'Yes': 1}).astype(int)\n",
    "df['belts'] = df['belts'].map({'No': 0, 'Yes': 1}).astype(int)\n",
    "df['personal_injury'] = df['personal_injury'].map({'No': 0, 'Yes': 1}).astype(int)\n",
    "df['property_damage'] = df['property_damage'].map({'No': 0, 'Yes': 1}).astype(int)\n",
    "df['fatal'] = df['fatal'].map({'No': 0, 'Yes': 1}).astype(int)\n",
    "df['commercial_license'] = df['commercial_license'].map({'No': 0, 'Yes': 1}).astype(int)\n",
    "df['commercial_vehicle'] = df['commercial_vehicle'].map({'No': 0, 'Yes': 1}).astype(int)\n",
    "df['alcohol'] = df['alcohol'].map({'No': 0, 'Yes': 1}).astype(int)\n",
    "df['work_zone'] = df['work_zone'].map({'No': 0, 'Yes': 1}).astype(int)\n",
    "df['search_conducted'] = df['search_conducted'].map({'No': 0, 'Yes': 1}).astype(int)\n",
    "df['race'] = df['race'].map({'OTHER': 1, 'BLACKLIVESMATTER': 0}).astype(int)\n",
    "df['gender'] = df['gender'].map({'M': 2, 'F': 1, 'U':0}).astype(int)\n",
    "df = df.reset_index(drop=True)"
   ]
  },
  {
   "cell_type": "code",
   "execution_count": 27,
   "metadata": {},
   "outputs": [],
   "source": [
    "df.to_csv('traffic_violations_cleaned.csv', index=False)"
   ]
  },
  {
   "cell_type": "code",
   "execution_count": 28,
   "metadata": {},
   "outputs": [],
   "source": [
    "df_s = df.sample(n=200000, random_state=1)"
   ]
  },
  {
   "cell_type": "code",
   "execution_count": 29,
   "metadata": {},
   "outputs": [],
   "source": [
    "df_s = df_s.reset_index(drop=True)"
   ]
  },
  {
   "cell_type": "code",
   "execution_count": 31,
   "metadata": {},
   "outputs": [],
   "source": [
    "path = os.getcwd()\n",
    "data_dir = Path(path, 'generated_data')\n",
    "os.mkdir(data_dir)"
   ]
  },
  {
   "cell_type": "code",
   "execution_count": 37,
   "metadata": {},
   "outputs": [],
   "source": [
    "train, test = train_test_split(df_s, test_size=0.33, random_state=1, shuffle=True)"
   ]
  },
  {
   "cell_type": "code",
   "execution_count": 38,
   "metadata": {},
   "outputs": [],
   "source": [
    "train = train.reset_index(drop=True)\n",
    "test = test.reset_index(drop=True)"
   ]
  },
  {
   "cell_type": "code",
   "execution_count": 40,
   "metadata": {},
   "outputs": [],
   "source": [
    "train_path = Path(data_dir, 'train.csv')\n",
    "test_path = Path(data_dir, 'test.csv')"
   ]
  },
  {
   "cell_type": "code",
   "execution_count": 41,
   "metadata": {},
   "outputs": [],
   "source": [
    "train.to_csv(train_path, sep=',', index=False)\n",
    "test.to_csv(test_path, sep=',', index=False)"
   ]
  },
  {
   "cell_type": "code",
   "execution_count": null,
   "metadata": {},
   "outputs": [],
   "source": []
  }
 ],
 "metadata": {
  "kernelspec": {
   "display_name": "Python 3 (ipykernel)",
   "language": "python",
   "name": "python3"
  },
  "language_info": {
   "codemirror_mode": {
    "name": "ipython",
    "version": 3
   },
   "file_extension": ".py",
   "mimetype": "text/x-python",
   "name": "python",
   "nbconvert_exporter": "python",
   "pygments_lexer": "ipython3",
   "version": "3.9.6"
  }
 },
 "nbformat": 4,
 "nbformat_minor": 2
}
