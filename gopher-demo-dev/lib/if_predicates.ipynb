{
 "cells": [
  {
   "cell_type": "code",
   "execution_count": 1,
   "metadata": {
    "ExecuteTime": {
     "end_time": "2021-11-08T09:26:36.563918Z",
     "start_time": "2021-11-08T09:26:35.557058Z"
    }
   },
   "outputs": [],
   "source": [
    "import sys\n",
    "import tqdm\n",
    "import time\n",
    "import sklearn\n",
    "import numpy as np\n",
    "import pandas as pd\n",
    "import scipy\n",
    "import copy\n",
    "import json\n",
    "import random\n",
    "import math\n",
    "import torch\n",
    "import torch.nn as nn\n",
    "import torch.nn.functional as F\n",
    "from load_dataset import load\n",
    "from classifier import NeuralNetwork, LogisticRegression, SVM\n",
    "from utils import *\n",
    "from metrics import *  # include fairness and corresponding derivatives\n",
    "from scipy import stats\n",
    "from scipy.stats import rankdata\n",
    "from sklearn import metrics, preprocessing\n",
    "from sklearn.ensemble import RandomForestClassifier, RandomForestRegressor\n",
    "from sklearn.metrics import classification_report\n",
    "from sklearn.linear_model import SGDClassifier\n",
    "from sklearn.neural_network import MLPClassifier\n",
    "from sklearn.svm import SVC, LinearSVC\n",
    "from torch.autograd import grad\n",
    "import torch.nn as nn\n",
    "import matplotlib.pyplot as plt\n",
    "import seaborn as sns\n",
    "from IPython.display import Markdown, display\n",
    "random.seed(1)\n",
    "np.random.seed(1)\n",
    "torch.manual_seed(1)\n",
    "with open('config.json', 'r') as f:\n",
    "    txt = f.read()\n",
    "    dtype = json.loads(txt)['dtype']\n",
    "    f.close()\n",
    "if dtype == 'double':\n",
    "    torch.set_default_tensor_type(torch.DoubleTensor)"
   ]
  },
  {
   "cell_type": "code",
   "execution_count": 2,
   "metadata": {
    "ExecuteTime": {
     "end_time": "2021-11-08T09:26:36.995126Z",
     "start_time": "2021-11-08T09:26:36.983415Z"
    }
   },
   "outputs": [],
   "source": [
    "def generate_random_dataset(attr_num, row_num):\n",
    "    df = pd.DataFrame()\n",
    "    for attr_idx in range(attr_num):\n",
    "        df[f'A_{attr_idx}'] = np.random.binomial(n=1, p=0.5, size=row_num)\n",
    "    noise = np.random.binomial(n=2, p=0.03, size=row_num)\n",
    "    Y = roundlst((np.average(df) + noise))\n",
    "    df['Y']=Y\n",
    "    return df"
   ]
  },
  {
   "cell_type": "code",
   "execution_count": 3,
   "metadata": {
    "ExecuteTime": {
     "end_time": "2021-11-08T09:26:37.404037Z",
     "start_time": "2021-11-08T09:26:37.397953Z"
    }
   },
   "outputs": [],
   "source": [
    "# ignore all the warnings\n",
    "import warnings\n",
    "warnings.filterwarnings('ignore') "
   ]
  },
  {
   "cell_type": "markdown",
   "metadata": {},
   "source": [
    "**Load Dataset**"
   ]
  },
  {
   "cell_type": "code",
   "execution_count": 4,
   "metadata": {
    "ExecuteTime": {
     "end_time": "2021-11-08T09:26:38.067077Z",
     "start_time": "2021-11-08T09:26:38.031014Z"
    },
    "code_folding": [
     0
    ]
   },
   "outputs": [],
   "source": [
    "dataset = 'german'\n",
    "X_train, X_test, y_train, y_test = load(dataset)\n",
    "duplicates = 1\n",
    "make_duplicates = lambda x, d: pd.concat([x]*d, axis=0).reset_index(drop=True)\n",
    "X_train = make_duplicates(X_train, duplicates)\n",
    "X_test = make_duplicates(X_test, duplicates)\n",
    "y_train = make_duplicates(y_train, duplicates)\n",
    "y_test = make_duplicates(y_test, duplicates)"
   ]
  },
  {
   "cell_type": "markdown",
   "metadata": {},
   "source": [
    "**Parametric Model**"
   ]
  },
  {
   "cell_type": "code",
   "execution_count": 5,
   "metadata": {
    "ExecuteTime": {
     "end_time": "2021-11-08T09:26:38.634704Z",
     "start_time": "2021-11-08T09:26:38.614477Z"
    },
    "code_folding": []
   },
   "outputs": [],
   "source": [
    "# size=500\n",
    "# X_train = X_train[0:size]\n",
    "# y_train = y_train[0:size]\n",
    "\n",
    "X_train_orig = copy.deepcopy(X_train)\n",
    "X_test_orig = copy.deepcopy(X_test)\n",
    "\n",
    "# Scale data: regularization penalty default: ‘l2’, ‘lbfgs’ solvers support only l2 penalties. \n",
    "# Regularization makes the predictor dependent on the scale of the features.\n",
    "from sklearn.preprocessing import StandardScaler\n",
    "sc = StandardScaler()\n",
    "X_train = sc.fit_transform(X_train)\n",
    "X_test = sc.transform(X_test)"
   ]
  },
  {
   "cell_type": "markdown",
   "metadata": {},
   "source": [
    "**Loss function** (Log loss for logistic regression)"
   ]
  },
  {
   "cell_type": "code",
   "execution_count": 6,
   "metadata": {
    "ExecuteTime": {
     "end_time": "2021-11-08T09:26:39.166246Z",
     "start_time": "2021-11-08T09:26:39.155738Z"
    }
   },
   "outputs": [],
   "source": [
    "# clf = NeuralNetwork(input_size=X_train.shape[-1], batch_size=800)\n",
    "# clf = LogisticRegression(input_size=X_train.shape[-1])\n",
    "clf = SVM(input_size=X_train.shape[-1])\n",
    "num_params = len(convert_grad_to_ndarray(list(clf.parameters())))\n",
    "if isinstance(clf, LogisticRegression) or isinstance(clf, NeuralNetwork):\n",
    "#     loss_func = lambda model, x, y_true: logistic_loss_torch(model, torch.Tensor(x),\\\n",
    "#                                                              torch.Tensor([y_true])) +\\\n",
    "#     model.C*torch.sum(convert_grad_to_tensor(list(clf.parameters()))**2)\n",
    "    loss_func = logistic_loss_torch\n",
    "elif isinstance(clf, SVM):\n",
    "    loss_func = svm_loss_torch"
   ]
  },
  {
   "cell_type": "markdown",
   "metadata": {},
   "source": [
    "**Influence of points computed using ground truth**"
   ]
  },
  {
   "cell_type": "code",
   "execution_count": 7,
   "metadata": {
    "ExecuteTime": {
     "end_time": "2021-11-08T09:26:40.145173Z",
     "start_time": "2021-11-08T09:26:40.134313Z"
    },
    "code_folding": [
     0
    ]
   },
   "outputs": [],
   "source": [
    "def ground_truth_influence(X_train, y_train, X_test, X_test_orig, y_test):\n",
    "    clf.fit(X_train, y_train, verbose=True)\n",
    "    y_pred = clf.predict_proba(X_test)\n",
    "    spd_0 = computeFairness(y_pred, X_test_orig, y_test, 0)\n",
    "\n",
    "    delta_spd = []\n",
    "    for i in range(len(X_train)):\n",
    "        X_removed = np.delete(X_train, i, 0)\n",
    "        y_removed = y_train.drop(index=i, inplace=False)\n",
    "        clf.fit(X_removed, y_removed)\n",
    "        y_pred = clf.predict_proba(X_test)\n",
    "        delta_spd_i = computeFairness(y_pred, X_test_orig, y_test, 0) - spd_0\n",
    "        delta_spd.append(delta_spd_i)\n",
    "\n",
    "    return delta_spd"
   ]
  },
  {
   "cell_type": "markdown",
   "metadata": {},
   "source": [
    "**Compute Accuracy** "
   ]
  },
  {
   "cell_type": "code",
   "execution_count": 8,
   "metadata": {
    "ExecuteTime": {
     "end_time": "2021-11-08T09:26:40.632965Z",
     "start_time": "2021-11-08T09:26:40.629028Z"
    },
    "code_folding": []
   },
   "outputs": [],
   "source": [
    "def computeAccuracy(y_true, y_pred):\n",
    "    return np.sum((y_pred>0.5) == y_true)/len(y_pred)"
   ]
  },
  {
   "cell_type": "markdown",
   "metadata": {},
   "source": [
    "**First-order derivative of loss function at z with respect to model parameters**"
   ]
  },
  {
   "cell_type": "code",
   "execution_count": 9,
   "metadata": {
    "ExecuteTime": {
     "end_time": "2021-11-08T09:26:41.140029Z",
     "start_time": "2021-11-08T09:26:41.131985Z"
    },
    "code_folding": [
     0
    ]
   },
   "outputs": [],
   "source": [
    "def del_L_del_theta_i(model, x, y_true, retain_graph=False):\n",
    "    loss = loss_func(model, x, y_true)\n",
    "    w = [ p for p in model.parameters() if p.requires_grad ]\n",
    "    return grad(loss, w, create_graph=True, retain_graph=retain_graph)"
   ]
  },
  {
   "cell_type": "markdown",
   "metadata": {},
   "source": [
    "**First-order derivative of $P(y \\mid \\textbf{x})$ with respect to model parameters**"
   ]
  },
  {
   "cell_type": "code",
   "execution_count": 10,
   "metadata": {
    "ExecuteTime": {
     "end_time": "2021-11-08T09:26:41.645402Z",
     "start_time": "2021-11-08T09:26:41.637703Z"
    },
    "code_folding": [
     0
    ]
   },
   "outputs": [],
   "source": [
    "def del_f_del_theta_i(model, x, retain_graph=False):\n",
    "    w = [ p for p in model.parameters() if p.requires_grad ]\n",
    "    return grad(model(torch.FloatTensor(x)), w, retain_graph=retain_graph)"
   ]
  },
  {
   "cell_type": "markdown",
   "metadata": {},
   "source": [
    "**Stochastic estimation of Hessian vector product (involving del fairness): $H_{\\theta}^{-1}v = H_{\\theta}^{-1}\\nabla_{\\theta}f(z, \\theta) = v + [I - \\nabla_{\\theta}^2L(z_{s_j}, \\theta^*)]H_{\\theta}^{-1}v$**"
   ]
  },
  {
   "cell_type": "code",
   "execution_count": 11,
   "metadata": {
    "ExecuteTime": {
     "end_time": "2021-11-08T09:26:42.197228Z",
     "start_time": "2021-11-08T09:26:42.186895Z"
    },
    "code_folding": [
     0
    ]
   },
   "outputs": [],
   "source": [
    "def hvp(y, w, v):\n",
    "    ''' Multiply the Hessians of y and w by v.'''\n",
    "    # First backprop\n",
    "    first_grads = grad(y, w, retain_graph=True, create_graph=True)\n",
    "\n",
    "    # Elementwise products\n",
    "    elemwise_products = 0\n",
    "    for grad_elem, v_elem in zip(convert_grad_to_tensor(first_grads), v):\n",
    "        elemwise_products += torch.sum(grad_elem * v_elem)\n",
    "\n",
    "    # Second backprop\n",
    "    return_grads = grad(elemwise_products, w, create_graph=True)\n",
    "\n",
    "    return return_grads"
   ]
  },
  {
   "cell_type": "code",
   "execution_count": 12,
   "metadata": {
    "ExecuteTime": {
     "end_time": "2021-11-08T09:26:42.438066Z",
     "start_time": "2021-11-08T09:26:42.427698Z"
    },
    "code_folding": [
     0
    ]
   },
   "outputs": [],
   "source": [
    "def hessian_one_point(model, x, y):\n",
    "    x, y = torch.FloatTensor(x), torch.FloatTensor([y])\n",
    "    loss = loss_func(model, x, y)\n",
    "    params = [ p for p in model.parameters() if p.requires_grad ]\n",
    "    first_grads = convert_grad_to_tensor(grad(loss, params, retain_graph=True, create_graph=True))\n",
    "    hv = np.zeros((len(first_grads), len(first_grads)))\n",
    "    for i in range(len(first_grads)):\n",
    "        hv[i, :] = convert_grad_to_ndarray(grad(first_grads[i], params, create_graph=True)).ravel()\n",
    "    return hv"
   ]
  },
  {
   "cell_type": "code",
   "execution_count": 13,
   "metadata": {
    "ExecuteTime": {
     "end_time": "2021-11-08T09:26:42.699197Z",
     "start_time": "2021-11-08T09:26:42.678851Z"
    },
    "code_folding": [
     1
    ]
   },
   "outputs": [],
   "source": [
    "# Compute multiplication of inverse hessian matrix and vector v\n",
    "def s_test(model, xs, ys, v, hinv=None, damp=0.01, scale=25.0, r=-1, batch_size=-1, recursive=False, verbose=False):\n",
    "    ''' Arguments:\n",
    "        xs: list of data points\n",
    "        ys: list of true labels corresponding to data points in xs\n",
    "        damp: dampening factor\n",
    "        scale: scaling factor\n",
    "        r: number of iterations aka recursion depth\n",
    "            should be enough so that the value stabilises.\n",
    "        batch_size: number of instances in each batch in recursive approximation\n",
    "        recursive: determine whether to recursively approximate hinv_v'''\n",
    "    xs, ys = torch.FloatTensor(xs.copy()), torch.FloatTensor(ys.copy())\n",
    "    n = len(xs)\n",
    "    if recursive:\n",
    "        hinv_v = copy.deepcopy(v)\n",
    "        if verbose:\n",
    "            print('Computing s_test...')\n",
    "            tbar = tqdm.tqdm(total=r)\n",
    "        if (batch_size == -1):  # default\n",
    "            batch_size = 10\n",
    "        if (r == -1):\n",
    "            r = n // batch_size + 1\n",
    "        sample = np.random.choice(range(n), r*batch_size, replace=True)\n",
    "        for i in range(r):\n",
    "            sample_idx = sample[i*batch_size:(i+1)*batch_size]\n",
    "            x, y = xs[sample_idx], ys[sample_idx]\n",
    "            loss = loss_func(model, x, y)\n",
    "            params = [ p for p in model.parameters() if p.requires_grad ]\n",
    "            hv = convert_grad_to_ndarray(hvp(loss, params, torch.FloatTensor(hinv_v)))\n",
    "            # Recursively caclulate h_estimate\n",
    "            hinv_v = v + (1 - damp) * hinv_v - hv / scale\n",
    "            if verbose:\n",
    "                tbar.update(1)\n",
    "    else:\n",
    "        if hinv is None:\n",
    "            hinv = np.linalg.pinv(np.sum(hessian_all_points, axis=0))\n",
    "        scale = 1.0\n",
    "        hinv_v = np.matmul(hinv, v)\n",
    "\n",
    "    return hinv_v / scale"
   ]
  },
  {
   "cell_type": "markdown",
   "metadata": {},
   "source": [
    "**Metrics: Initial state**"
   ]
  },
  {
   "cell_type": "code",
   "execution_count": 136,
   "metadata": {
    "ExecuteTime": {
     "end_time": "2021-11-08T09:34:00.874853Z",
     "start_time": "2021-11-08T09:34:00.794233Z"
    },
    "scrolled": true
   },
   "outputs": [
    {
     "name": "stdout",
     "output_type": "stream",
     "text": [
      "Initial statistical parity:  -0.09229019475169487\n",
      "Initial TPR parity:  -0.07597878814563841\n",
      "Initial predictive parity:  -0.10226992373385757\n",
      "Initial loss:  0.511299121136865\n",
      "Initial accuracy:  0.75\n"
     ]
    }
   ],
   "source": [
    "# clf = LogisticRegression(input_size=X_train.shape[-1])\n",
    "# clf = NeuralNetwork(input_size=X_train.shape[-1], batch_size=1024, epoch_num=500)\n",
    "clf = SVM(input_size=X_train.shape[-1])\n",
    "\n",
    "clf.fit(X_train, y_train)\n",
    "\n",
    "y_pred_test = clf.predict_proba(X_test)\n",
    "y_pred_train = clf.predict_proba(X_train)\n",
    "\n",
    "spd_0 = computeFairness(y_pred_test, X_test_orig, y_test, 0, dataset)\n",
    "print(\"Initial statistical parity: \", spd_0)\n",
    "\n",
    "tpr_parity_0 = computeFairness(y_pred_test, X_test_orig, y_test, 1, dataset)\n",
    "print(\"Initial TPR parity: \", tpr_parity_0)\n",
    "\n",
    "predictive_parity_0 = computeFairness(y_pred_test, X_test_orig, y_test, 2, dataset)\n",
    "print(\"Initial predictive parity: \", predictive_parity_0)\n",
    "\n",
    "loss_0 = logistic_loss(y_test, y_pred_test)\n",
    "print(\"Initial loss: \", loss_0)\n",
    "\n",
    "accuracy_0 = computeAccuracy(y_test, y_pred_test)\n",
    "print(\"Initial accuracy: \", accuracy_0)"
   ]
  },
  {
   "cell_type": "code",
   "execution_count": 137,
   "metadata": {
    "ExecuteTime": {
     "end_time": "2021-11-08T09:34:08.075366Z",
     "start_time": "2021-11-08T09:34:01.287451Z"
    },
    "code_folding": [],
    "scrolled": true
   },
   "outputs": [
    {
     "name": "stderr",
     "output_type": "stream",
     "text": [
      "\n",
      "100%|█████████████████████████████████████████████████████████████████████████████████████████████████████████████████████████████████████████████████████████████████████| 800/800 [00:37<00:00, 21.26it/s]\u001b[A\n",
      "\n",
      "  1%|██                                                                                                                                                                    | 10/800 [00:00<00:07, 99.33it/s]\u001b[A\n",
      "  3%|████▌                                                                                                                                                                | 22/800 [00:00<00:07, 110.10it/s]\u001b[A\n",
      "  4%|███████                                                                                                                                                              | 34/800 [00:00<00:06, 114.58it/s]\u001b[A\n",
      "  6%|█████████▍                                                                                                                                                           | 46/800 [00:00<00:06, 116.12it/s]\u001b[A\n",
      "  7%|███████████▉                                                                                                                                                         | 58/800 [00:00<00:06, 115.79it/s]\u001b[A\n",
      "  9%|██████████████▍                                                                                                                                                      | 70/800 [00:00<00:06, 115.69it/s]\u001b[A\n",
      " 10%|████████████████▉                                                                                                                                                    | 82/800 [00:00<00:06, 114.84it/s]\u001b[A\n",
      " 12%|███████████████████▍                                                                                                                                                 | 94/800 [00:00<00:06, 116.14it/s]\u001b[A\n",
      " 13%|█████████████████████▋                                                                                                                                              | 106/800 [00:00<00:05, 115.85it/s]\u001b[A\n",
      " 15%|████████████████████████▏                                                                                                                                           | 118/800 [00:01<00:05, 115.24it/s]\u001b[A\n",
      " 16%|██████████████████████████▋                                                                                                                                         | 130/800 [00:01<00:05, 116.25it/s]\u001b[A\n",
      " 18%|█████████████████████████████                                                                                                                                       | 142/800 [00:01<00:05, 115.14it/s]\u001b[A\n",
      " 19%|███████████████████████████████▌                                                                                                                                    | 154/800 [00:01<00:05, 115.32it/s]\u001b[A\n",
      " 21%|██████████████████████████████████                                                                                                                                  | 166/800 [00:01<00:05, 116.05it/s]\u001b[A\n",
      " 22%|████████████████████████████████████▍                                                                                                                               | 178/800 [00:01<00:05, 116.21it/s]\u001b[A\n",
      " 24%|██████████████████████████████████████▉                                                                                                                             | 190/800 [00:01<00:05, 117.03it/s]\u001b[A\n",
      " 25%|█████████████████████████████████████████▍                                                                                                                          | 202/800 [00:01<00:05, 116.59it/s]\u001b[A\n",
      " 27%|███████████████████████████████████████████▊                                                                                                                        | 214/800 [00:01<00:05, 113.39it/s]\u001b[A\n",
      " 28%|██████████████████████████████████████████████▎                                                                                                                     | 226/800 [00:01<00:05, 114.59it/s]\u001b[A\n",
      " 30%|████████████████████████████████████████████████▉                                                                                                                   | 239/800 [00:02<00:04, 117.08it/s]\u001b[A\n",
      " 31%|███████████████████████████████████████████████████▍                                                                                                                | 251/800 [00:02<00:04, 117.43it/s]\u001b[A\n",
      " 33%|█████████████████████████████████████████████████████▉                                                                                                              | 263/800 [00:02<00:04, 116.00it/s]\u001b[A\n",
      " 34%|████████████████████████████████████████████████████████▍                                                                                                           | 275/800 [00:02<00:04, 116.85it/s]\u001b[A\n",
      " 36%|██████████████████████████████████████████████████████████▊                                                                                                         | 287/800 [00:02<00:04, 117.74it/s]\u001b[A\n",
      " 38%|█████████████████████████████████████████████████████████████▌                                                                                                      | 300/800 [00:02<00:04, 118.63it/s]\u001b[A\n",
      " 39%|███████████████████████████████████████████████████████████████▉                                                                                                    | 312/800 [00:02<00:04, 118.46it/s]\u001b[A\n",
      " 40%|██████████████████████████████████████████████████████████████████▍                                                                                                 | 324/800 [00:02<00:04, 118.48it/s]\u001b[A\n",
      " 42%|████████████████████████████████████████████████████████████████████▉                                                                                               | 336/800 [00:02<00:03, 118.40it/s]\u001b[A\n",
      " 44%|███████████████████████████████████████████████████████████████████████▌                                                                                            | 349/800 [00:02<00:03, 118.96it/s]\u001b[A\n",
      " 45%|██████████████████████████████████████████████████████████████████████████                                                                                          | 361/800 [00:03<00:03, 112.56it/s]\u001b[A\n",
      " 47%|████████████████████████████████████████████████████████████████████████████▍                                                                                       | 373/800 [00:03<00:03, 111.78it/s]\u001b[A\n",
      " 48%|██████████████████████████████████████████████████████████████████████████████▉                                                                                     | 385/800 [00:03<00:03, 111.97it/s]\u001b[A\n",
      " 50%|█████████████████████████████████████████████████████████████████████████████████▌                                                                                  | 398/800 [00:03<00:03, 114.79it/s]\u001b[A\n",
      " 51%|████████████████████████████████████████████████████████████████████████████████████                                                                                | 410/800 [00:03<00:03, 115.96it/s]\u001b[A\n",
      " 53%|██████████████████████████████████████████████████████████████████████████████████████▌                                                                             | 422/800 [00:03<00:03, 116.85it/s]\u001b[A\n",
      " 54%|████████████████████████████████████████████████████████████████████████████████████████▉                                                                           | 434/800 [00:03<00:03, 116.34it/s]\u001b[A\n",
      " 56%|███████████████████████████████████████████████████████████████████████████████████████████▋                                                                        | 447/800 [00:03<00:02, 118.52it/s]\u001b[A\n",
      " 57%|██████████████████████████████████████████████████████████████████████████████████████████████                                                                      | 459/800 [00:03<00:02, 118.87it/s]\u001b[A\n"
     ]
    },
    {
     "name": "stderr",
     "output_type": "stream",
     "text": [
      " 59%|████████████████████████████████████████████████████████████████████████████████████████████████▊                                                                   | 472/800 [00:04<00:02, 119.54it/s]\u001b[A\n",
      " 61%|███████████████████████████████████████████████████████████████████████████████████████████████████▍                                                                | 485/800 [00:04<00:02, 120.12it/s]\u001b[A\n",
      " 62%|██████████████████████████████████████████████████████████████████████████████████████████████████████                                                              | 498/800 [00:04<00:02, 121.55it/s]\u001b[A\n",
      " 64%|████████████████████████████████████████████████████████████████████████████████████████████████████████▊                                                           | 511/800 [00:04<00:02, 120.94it/s]\u001b[A\n",
      " 66%|███████████████████████████████████████████████████████████████████████████████████████████████████████████▍                                                        | 524/800 [00:04<00:02, 120.20it/s]\u001b[A\n",
      " 67%|██████████████████████████████████████████████████████████████████████████████████████████████████████████████                                                      | 537/800 [00:04<00:02, 120.87it/s]\u001b[A\n",
      " 69%|████████████████████████████████████████████████████████████████████████████████████████████████████████████████▊                                                   | 550/800 [00:04<00:02, 121.96it/s]\u001b[A\n",
      " 70%|███████████████████████████████████████████████████████████████████████████████████████████████████████████████████▍                                                | 563/800 [00:04<00:01, 121.23it/s]\u001b[A\n",
      " 72%|██████████████████████████████████████████████████████████████████████████████████████████████████████████████████████                                              | 576/800 [00:04<00:01, 120.64it/s]\u001b[A\n",
      " 74%|████████████████████████████████████████████████████████████████████████████████████████████████████████████████████████▋                                           | 589/800 [00:05<00:01, 118.99it/s]\u001b[A\n",
      " 75%|███████████████████████████████████████████████████████████████████████████████████████████████████████████████████████████▍                                        | 602/800 [00:05<00:01, 120.94it/s]\u001b[A\n",
      " 77%|██████████████████████████████████████████████████████████████████████████████████████████████████████████████████████████████                                      | 615/800 [00:05<00:01, 120.85it/s]\u001b[A\n",
      " 78%|████████████████████████████████████████████████████████████████████████████████████████████████████████████████████████████████▋                                   | 628/800 [00:05<00:01, 120.99it/s]\u001b[A\n",
      " 80%|███████████████████████████████████████████████████████████████████████████████████████████████████████████████████████████████████▍                                | 641/800 [00:05<00:01, 120.14it/s]\u001b[A\n",
      " 82%|██████████████████████████████████████████████████████████████████████████████████████████████████████████████████████████████████████                              | 654/800 [00:05<00:01, 119.32it/s]\u001b[A\n",
      " 83%|████████████████████████████████████████████████████████████████████████████████████████████████████████████████████████████████████████▋                           | 667/800 [00:05<00:01, 120.54it/s]\u001b[A\n",
      " 85%|███████████████████████████████████████████████████████████████████████████████████████████████████████████████████████████████████████████▍                        | 680/800 [00:05<00:00, 120.48it/s]\u001b[A\n",
      " 87%|██████████████████████████████████████████████████████████████████████████████████████████████████████████████████████████████████████████████                      | 693/800 [00:05<00:00, 119.95it/s]\u001b[A\n",
      " 88%|████████████████████████████████████████████████████████████████████████████████████████████████████████████████████████████████████████████████▌                   | 705/800 [00:06<00:00, 118.27it/s]\u001b[A\n",
      " 90%|██████████████████████████████████████████████████████████████████████████████████████████████████████████████████████████████████████████████████▉                 | 717/800 [00:06<00:00, 117.31it/s]\u001b[A\n",
      " 91%|█████████████████████████████████████████████████████████████████████████████████████████████████████████████████████████████████████████████████████▋              | 730/800 [00:06<00:00, 118.87it/s]\u001b[A\n",
      " 93%|████████████████████████████████████████████████████████████████████████████████████████████████████████████████████████████████████████████████████████▎           | 743/800 [00:06<00:00, 120.01it/s]\u001b[A\n",
      " 94%|██████████████████████████████████████████████████████████████████████████████████████████████████████████████████████████████████████████████████████████▉         | 756/800 [00:06<00:00, 121.78it/s]\u001b[A\n",
      " 96%|█████████████████████████████████████████████████████████████████████████████████████████████████████████████████████████████████████████████████████████████▋      | 769/800 [00:06<00:00, 122.46it/s]\u001b[A\n",
      " 98%|████████████████████████████████████████████████████████████████████████████████████████████████████████████████████████████████████████████████████████████████▎   | 782/800 [00:06<00:00, 122.73it/s]\u001b[A\n",
      " 99%|██████████████████████████████████████████████████████████████████████████████████████████████████████████████████████████████████████████████████████████████████▉ | 795/800 [00:06<00:00, 123.21it/s]\u001b[A"
     ]
    }
   ],
   "source": [
    "hessian_all_points = []\n",
    "tbar = tqdm.tqdm(total=len(X_train))\n",
    "total_time = 0\n",
    "for i in range(len(X_train)):\n",
    "    t0 = time.time()\n",
    "    hessian_all_points.append(hessian_one_point(clf, X_train[i], int(y_train[i]))/len(X_train))\n",
    "    total_time += time.time()-t0\n",
    "    tbar.update(1)"
   ]
  },
  {
   "cell_type": "code",
   "execution_count": 138,
   "metadata": {
    "ExecuteTime": {
     "end_time": "2021-11-08T09:34:08.083687Z",
     "start_time": "2021-11-08T09:34:08.076691Z"
    }
   },
   "outputs": [
    {
     "data": {
      "text/plain": [
       "6.6939496994018555"
      ]
     },
     "execution_count": 138,
     "metadata": {},
     "output_type": "execute_result"
    }
   ],
   "source": [
    "hessian_all_points = np.array(hessian_all_points)\n",
    "total_time"
   ]
  },
  {
   "cell_type": "markdown",
   "metadata": {},
   "source": [
    "**Pre-compute: (1) Hessian (2) del_L_del_theta for each training data point**"
   ]
  },
  {
   "cell_type": "code",
   "execution_count": 139,
   "metadata": {
    "ExecuteTime": {
     "end_time": "2021-11-08T09:34:08.335716Z",
     "start_time": "2021-11-08T09:34:08.084964Z"
    }
   },
   "outputs": [],
   "source": [
    "del_L_del_theta = []\n",
    "for i in range(int(len(X_train))):\n",
    "    gradient = convert_grad_to_ndarray(del_L_del_theta_i(clf, X_train[i], int(y_train[i])))\n",
    "    while np.sum(np.isnan(gradient))>0:\n",
    "        gradient = convert_grad_to_ndarray(del_L_del_theta_i(clf, X_train[i], int(y_train[i])))\n",
    "    del_L_del_theta.append(gradient)\n",
    "del_L_del_theta = np.array(del_L_del_theta)"
   ]
  },
  {
   "cell_type": "markdown",
   "metadata": {},
   "source": [
    "*Select delta fairness function depending on selected metric*"
   ]
  },
  {
   "cell_type": "code",
   "execution_count": 140,
   "metadata": {
    "ExecuteTime": {
     "end_time": "2021-11-08T09:34:08.405697Z",
     "start_time": "2021-11-08T09:34:08.337820Z"
    }
   },
   "outputs": [],
   "source": [
    "metric = 0\n",
    "if metric == 0:\n",
    "    v1 = del_spd_del_theta(clf, X_test_orig, X_test, dataset)\n",
    "elif metric == 1:\n",
    "    v1 = del_tpr_parity_del_theta(clf, X_test_orig, X_test, y_test, dataset)\n",
    "elif metric == 2:\n",
    "    v1 = del_predictive_parity_del_theta(clf, X_test_orig, X_test, y_test, dataset)"
   ]
  },
  {
   "cell_type": "code",
   "execution_count": 141,
   "metadata": {
    "ExecuteTime": {
     "end_time": "2021-11-08T09:34:08.410734Z",
     "start_time": "2021-11-08T09:34:08.406677Z"
    }
   },
   "outputs": [],
   "source": [
    "hinv = np.linalg.pinv(np.sum(hessian_all_points, axis=0))\n",
    "hinv_v = s_test(clf, X_train, y_train, v1, hinv=hinv, verbose=False)"
   ]
  },
  {
   "cell_type": "markdown",
   "metadata": {},
   "source": [
    "**First-order influence computation**"
   ]
  },
  {
   "cell_type": "code",
   "execution_count": 142,
   "metadata": {
    "ExecuteTime": {
     "end_time": "2021-11-08T09:34:08.414534Z",
     "start_time": "2021-11-08T09:34:08.411626Z"
    },
    "code_folding": [
     0
    ]
   },
   "outputs": [],
   "source": [
    "def first_order_influence(del_L_del_theta, hinv_v, n):\n",
    "    infs = []\n",
    "    for i in range(n):\n",
    "        inf = -np.dot(del_L_del_theta[i].transpose(), hinv_v)\n",
    "        inf *= -1/n\n",
    "        infs.append(inf)\n",
    "    return infs"
   ]
  },
  {
   "cell_type": "code",
   "execution_count": 143,
   "metadata": {
    "ExecuteTime": {
     "end_time": "2021-11-08T09:34:08.417942Z",
     "start_time": "2021-11-08T09:34:08.415553Z"
    },
    "code_folding": [
     0
    ]
   },
   "outputs": [],
   "source": [
    "def first_order_group_influence(U, del_L_del_theta):\n",
    "    infs = []\n",
    "    u = len(U)\n",
    "    n = len(X_train)\n",
    "    return 1/n*np.sum(np.dot(del_L_del_theta[U, :], hinv), axis=0)"
   ]
  },
  {
   "cell_type": "markdown",
   "metadata": {},
   "source": [
    "**Second-order influence computation for a group of points in subset U**"
   ]
  },
  {
   "cell_type": "code",
   "execution_count": 144,
   "metadata": {
    "ExecuteTime": {
     "end_time": "2021-11-08T09:34:08.423927Z",
     "start_time": "2021-11-08T09:34:08.419038Z"
    },
    "code_folding": [
     0
    ]
   },
   "outputs": [],
   "source": [
    "def second_order_influence(model, X_train, y_train, U, del_L_del_theta, r=-1, verbose=False):\n",
    "    u = len(U)\n",
    "    s = len(X_train)\n",
    "    p = u/s\n",
    "    c1 = (1 - 2*p)/(s * (1-p)**2)\n",
    "    c2 = 1/((s * (1-p))**2)\n",
    "    num_params = len(del_L_del_theta[0])\n",
    "    del_L_del_theta_sum = np.sum([del_L_del_theta[i] for i in U], axis=0)\n",
    "    hinv_del_L_del_theta= s_test(model, X_train, y_train, del_L_del_theta_sum, hinv=hinv)\n",
    "    hessian_U_hinv_del_L_del_theta = np.zeros((num_params,))\n",
    "    for i in range(u):\n",
    "        idx = U[i]\n",
    "        x, y = torch.FloatTensor(X_train[idx]), torch.FloatTensor([y_train[idx]])\n",
    "        loss = loss_func(model, x, y)\n",
    "        params = [ p for p in model.parameters() if p.requires_grad ]\n",
    "        hessian_U_hinv_del_L_del_theta += convert_grad_to_ndarray(hvp(loss, params, torch.FloatTensor(hinv_del_L_del_theta)))\n",
    "\n",
    "    term1 = c1 * hinv_del_L_del_theta\n",
    "    term2 = c2 * s_test(model, X_train, y_train, hessian_U_hinv_del_L_del_theta, hinv=hinv)\n",
    "    sum_term = term1 + term2\n",
    "    return sum_term"
   ]
  },
  {
   "cell_type": "code",
   "execution_count": 145,
   "metadata": {
    "ExecuteTime": {
     "end_time": "2021-11-08T09:34:08.428574Z",
     "start_time": "2021-11-08T09:34:08.424898Z"
    },
    "code_folding": [
     0
    ]
   },
   "outputs": [],
   "source": [
    "def second_order_group_influence(U, del_L_del_theta):\n",
    "    u = len(U)\n",
    "    s = len(X_train)\n",
    "    p = u/s\n",
    "    c1 = (1 - 2*p)/(s * (1-p)**2)\n",
    "    c2 = 1/((s * (1-p))**2)\n",
    "    num_params = len(del_L_del_theta[0])\n",
    "    del_L_del_theta_sum = np.sum(del_L_del_theta[U, :], axis=0)\n",
    "    hinv_del_L_del_theta= np.matmul(hinv, del_L_del_theta_sum)\n",
    "    hessian_U_hinv_del_L_del_theta = np.sum(np.matmul(hessian_all_points[U, :], hinv_del_L_del_theta), axis=0)\n",
    "\n",
    "    term1 = c1 * hinv_del_L_del_theta\n",
    "    term2 = c2 * np.matmul(hinv, hessian_U_hinv_del_L_del_theta)\n",
    "    sum_term = (term1 + term2*len(X_train))\n",
    "    return sum_term"
   ]
  },
  {
   "cell_type": "markdown",
   "metadata": {},
   "source": [
    "**First-order influence of each training data point**"
   ]
  },
  {
   "cell_type": "code",
   "execution_count": 146,
   "metadata": {
    "ExecuteTime": {
     "end_time": "2021-11-08T09:34:08.435735Z",
     "start_time": "2021-11-08T09:34:08.431975Z"
    }
   },
   "outputs": [],
   "source": [
    "infs_1 = first_order_influence(del_L_del_theta, hinv_v, len(X_train))"
   ]
  },
  {
   "cell_type": "markdown",
   "metadata": {},
   "source": [
    "**Checking ground truth, first-order and second-order influences for a set**"
   ]
  },
  {
   "cell_type": "code",
   "execution_count": 147,
   "metadata": {
    "ExecuteTime": {
     "end_time": "2021-11-08T09:34:08.687528Z",
     "start_time": "2021-11-08T09:34:08.436641Z"
    },
    "code_folding": []
   },
   "outputs": [
    {
     "name": "stdout",
     "output_type": "stream",
     "text": [
      "Statistical parity \n",
      "First-order influence:  0.06706099214765097\n",
      "Second-order influence:  0.11629981527274286\n",
      "#Rows removed:  161\n",
      "#Rows left:  639\n",
      "Ground truth influence of subset (on statistical parity):  0.1689981287810952\n",
      "Ground truth influence of subset (on tpr parity):  0.16184014786855072\n",
      "Ground truth influence of subset (on predictive parity):  -0.022593527279332726\n",
      "Ground truth statistical parity after removing subset:  0.07670793402940035\n",
      "Ground truth tpr parity after removing subset:  0.08586135972291231\n",
      "Ground truth predictive parity after removing subset:  0.08586135972291231\n",
      "Loss after removing subset:  0.5278706659942004\n",
      "Accuracy after removing subset:  0.74\n"
     ]
    }
   ],
   "source": [
    "if metric == 0:\n",
    "    print(\"Statistical parity \")\n",
    "elif metric == 1:\n",
    "    print(\"True positive rate parity \")\n",
    "elif metric == 2:\n",
    "    print(\"Predictive parity\")\n",
    "\n",
    "active = 1\n",
    "if active:\n",
    "    if dataset == 'german':\n",
    "        predicates = ['age']\n",
    "    elif dataset == 'adult':\n",
    "        predicates = ['gender']\n",
    "    elif dataset == 'compas':\n",
    "        predicates = ['race']\n",
    "    elif dataset == 'sqf':\n",
    "        predicates = ['race']\n",
    "    idx = X_train_orig.index \n",
    "    for pred in predicates:\n",
    "        idx0 = X_train_orig[(X_train_orig[pred] == 1)].index \n",
    "        idx = idx.intersection(idx0)\n",
    "\n",
    "    del_f_1 = 0\n",
    "    for i in range(len(idx)):\n",
    "        del_f_1 += infs_1[idx[i]]\n",
    "    print(\"First-order influence: \", del_f_1)\n",
    "\n",
    "    params_f_2 = second_order_influence(clf, X_train, y_train, idx, del_L_del_theta)\n",
    "    del_f_2 = np.dot(v1.transpose(), params_f_2)\n",
    "    print(\"Second-order influence: \", del_f_2)\n",
    "    \n",
    "    print(\"#Rows removed: \", len(idx))\n",
    "    print(\"#Rows left: \", len(X_train) - len(idx))\n",
    "    X = np.delete(X_train, idx, 0)\n",
    "    y = y_train.drop(index=idx, inplace=False)\n",
    "    clf.fit(np.array(X), np.array(y))\n",
    "    y_pred_test = clf.predict_proba(X_test)\n",
    "    print(\"Ground truth influence of subset (on statistical parity): \", computeFairness(y_pred_test, X_test_orig, y_test, 0, dataset) - spd_0)\n",
    "    print(\"Ground truth influence of subset (on tpr parity): \", computeFairness(y_pred_test, X_test_orig, y_test, 1, dataset) - tpr_parity_0)\n",
    "    print(\"Ground truth influence of subset (on predictive parity): \", computeFairness(y_pred_test, X_test_orig, y_test, 2, dataset) - predictive_parity_0)\n",
    "    \n",
    "    spd_1 = computeFairness(y_pred_test, X_test_orig, y_test, 0, dataset)\n",
    "    print(\"Ground truth statistical parity after removing subset: \", spd_1)\n",
    "    \n",
    "    tpr_parity_1 = computeFairness(y_pred_test, X_test_orig, y_test, 1, dataset)\n",
    "    print(\"Ground truth tpr parity after removing subset: \", tpr_parity_1)\n",
    "\n",
    "    predictive_parity_1 = computeFairness(y_pred_test, X_test_orig, y_test, 1, dataset)\n",
    "    print(\"Ground truth predictive parity after removing subset: \", predictive_parity_1)\n",
    "\n",
    "    loss_1 = logistic_loss(y_test, y_pred_test)\n",
    "    print(\"Loss after removing subset: \", loss_1)\n",
    "\n",
    "    accuracy_1 = computeAccuracy(y_test, y_pred_test)\n",
    "    print(\"Accuracy after removing subset: \", accuracy_1)"
   ]
  },
  {
   "cell_type": "markdown",
   "metadata": {},
   "source": [
    "**Fairness: Ground-truth subset influence vs. computed subset influences: Random subset**"
   ]
  },
  {
   "cell_type": "code",
   "execution_count": 148,
   "metadata": {
    "ExecuteTime": {
     "end_time": "2021-11-08T09:34:08.690789Z",
     "start_time": "2021-11-08T09:34:08.688514Z"
    }
   },
   "outputs": [],
   "source": [
    "# print(\"Ground-truth subset, Add 1st-order inf individual, Second-order subset influence\")\n",
    "# sampleSize = int(.2 * len(X_train))\n",
    "# for i in range(100):\n",
    "#     idx = random.sample(range(1, len(X_train)), sampleSize) \n",
    "    \n",
    "#     # Ground truth subset influence\n",
    "#     X = np.delete(X_train, idx, 0)\n",
    "#     y = y_train.drop(index=idx, inplace=False)\n",
    "#     clf.fit(X, y, learning_rate=.05)\n",
    "#     y_pred_test = clf.predict_proba(X_test)\n",
    "#     inf_gt = computeFairness(y_pred_test, X_test_orig, y_test, 0) - spd_0\n",
    "\n",
    "#     # First-order subset influence\n",
    "#     del_f_1 = 0\n",
    "#     for j in range(len(idx)):\n",
    "#         del_f_1 += infs_1[idx[j]]\n",
    "    \n",
    "#     # Second-order subset influence\n",
    "#     size_hvp = 1\n",
    "#     params_f_2 = second_order_influence(clf, X_train, y_train, idx, del_L_del_theta, r=5000)\n",
    "#     del_f_2 = np.dot(v1.transpose(), params_f_2)\n",
    "\n",
    "#     print(inf_gt, del_f_1, del_f_2, sep=\", \")"
   ]
  },
  {
   "cell_type": "markdown",
   "metadata": {},
   "source": [
    "**Fairness: Ground-truth subset influence vs. computed subset influences: Coherent subset** \n",
    "\n",
    "(by coherent, we mean group of data points that share some properties)"
   ]
  },
  {
   "cell_type": "markdown",
   "metadata": {},
   "source": [
    "***NOTE:*** The retraining of the clf would cause the change in model parameters and thus lead to the change of gradients, so in this part, we first acquire all the first- and second-order influence functions together based on the original model. After all the influence functions are calculated, we retrain the model corresponding to different removed coherent subset of data and get the ground truth."
   ]
  },
  {
   "cell_type": "code",
   "execution_count": 149,
   "metadata": {
    "ExecuteTime": {
     "end_time": "2021-11-08T09:34:08.693881Z",
     "start_time": "2021-11-08T09:34:08.691662Z"
    }
   },
   "outputs": [],
   "source": [
    "time_gt = []\n",
    "time_first = []\n",
    "time_second = []\n",
    "sup_lim = 0.5\n",
    "rep = 1"
   ]
  },
  {
   "cell_type": "code",
   "execution_count": 150,
   "metadata": {
    "ExecuteTime": {
     "end_time": "2021-11-08T09:34:08.792925Z",
     "start_time": "2021-11-08T09:34:08.694918Z"
    },
    "scrolled": true
   },
   "outputs": [],
   "source": [
    "for _ in range(rep):\n",
    "    # Get the original model\n",
    "#     clf = LogisticRegression(input_size=X_train.shape[-1])\n",
    "#     clf = NeuralNetwork(input_size=X_train.shape[-1])\n",
    "    clf = SVM(input_size=X_train.shape[-1])\n",
    "    clf.fit(X_train, y_train)\n",
    "\n",
    "    attributes = []\n",
    "    attributeValues = []\n",
    "    first_order_influences = []\n",
    "    second_order_influences = []\n",
    "    fractionRows = []\n",
    "\n",
    "    # print(\"Attribute, Value, Ground-truth subset, Add 1st-order inf individual, \\\n",
    "    # Second-order subset influence, %rowsRemoved, Accuracy\")\n",
    "    # clf.fit(X_train, y_train)\n",
    "    # continuous_cols = ['duration', 'credit_amt', 'install_rate', 'num_credits', 'residence']\n",
    "    v1_orig = v1\n",
    "    for col in X_train_orig.columns:\n",
    "        if dataset == 'german':\n",
    "            if \"purpose\" in col or \"housing\" in col: #dummy variables purpose=0 doesn't make sense\n",
    "                vals = [1]\n",
    "            else:\n",
    "                vals = X_train_orig[col].unique()\n",
    "        elif dataset == 'adult':\n",
    "            continuous_cols = ['age', 'education.num', 'hours',]\n",
    "            if col in continuous_cols:\n",
    "                vals = X_train_orig[col].unique()\n",
    "            else:\n",
    "                vals = [1]\n",
    "        elif dataset == 'compas':\n",
    "            vals = X_train_orig[col].unique()\n",
    "        else:\n",
    "            vals = X_train_orig[col].unique()\n",
    "#             raise NotImplementedError\n",
    "        for val in vals:\n",
    "    #         print(col, val, sep=\": \")\n",
    "            idx = X_train_orig[X_train_orig[col] == val].index \n",
    "            X = np.delete(X_train, idx, 0)\n",
    "            y = y_train.drop(index=idx, inplace=False)\n",
    "            if len(y.unique()) > 1:\n",
    "                idx = X_train_orig[X_train_orig[col] == val].index \n",
    "                if len(idx)/len(X_train)<=sup_lim:\n",
    "                    # First-order subset influence\n",
    "                    t0 = time.time()\n",
    "        #             del_f_1 = 0            \n",
    "        #             for i in range(len(idx)):\n",
    "        #                 del_f_1 += infs_1[idx[i]]\n",
    "                    params_f_1 = first_order_group_influence(idx, del_L_del_theta)\n",
    "                    del_f_1 = np.dot(v1.transpose(), params_f_1)\n",
    "                    time_first.append(time.time()-t0)\n",
    "\n",
    "                    # Second-order subset influence\n",
    "                    t0 = time.time()\n",
    "        #             params_f_2 = second_order_influence(clf, X_train, y_train, idx, del_L_del_theta)\n",
    "                    params_f_2 = second_order_group_influence(idx, del_L_del_theta)\n",
    "                    del_f_2 = np.dot(v1.transpose(), params_f_2)\n",
    "                    time_second.append(time.time()-t0)\n",
    "\n",
    "                    attributes.append(col)\n",
    "                    attributeValues.append(val)\n",
    "                    first_order_influences.append(del_f_1)\n",
    "                    second_order_influences.append(del_f_2)\n",
    "            #         gt_influences.append(inf_gt)\n",
    "                    fractionRows.append(len(idx)/len(X_train)*100)\n",
    "\n",
    "            #         print(col, val, inf_gt, del_f_1, del_f_2, len(idx)/len(X_train), accuracy, sep=\", \")"
   ]
  },
  {
   "cell_type": "code",
   "execution_count": 151,
   "metadata": {
    "ExecuteTime": {
     "end_time": "2021-11-08T09:34:10.738875Z",
     "start_time": "2021-11-08T09:34:08.794154Z"
    }
   },
   "outputs": [],
   "source": [
    "for _ in range(rep):\n",
    "    gt_influences = []\n",
    "#     v1s = []\n",
    "    for col in X_train_orig.columns:\n",
    "        if dataset == 'german':\n",
    "            if \"purpose\" in col or \"housing\" in col: #dummy variables purpose=0 doesn't make sense\n",
    "                vals = [1]\n",
    "            else:\n",
    "                vals = X_train_orig[col].unique()\n",
    "        elif dataset == 'adult':\n",
    "            continuous_cols = ['age', 'education.num', 'hours',]\n",
    "            if col in continuous_cols:\n",
    "                vals = X_train_orig[col].unique()\n",
    "            else:\n",
    "                vals = [1]\n",
    "        elif dataset == 'compas':\n",
    "            vals = X_train_orig[col].unique()\n",
    "        else:\n",
    "            vals = X_train_orig[col].unique()\n",
    "#             raise NotImplementedError\n",
    "        for val in vals:\n",
    "            idx = X_train_orig[X_train_orig[col] == val].index\n",
    "            if len(idx)/len(X_train)<=sup_lim:\n",
    "                X = np.delete(X_train, idx, 0)\n",
    "                y = y_train.drop(index=idx, inplace=False)\n",
    "                inf_gt = 0\n",
    "                if len(y.unique()) > 1:\n",
    "                    # Ground truth subset influence\n",
    "                    t0 = time.time()\n",
    "                    clf.fit(np.array(X), np.array(y))\n",
    "                    y_pred = clf.predict_proba(np.array(X_test))\n",
    "                    if metric == 0:\n",
    "                        inf_gt = computeFairness(y_pred, X_test_orig, y_test, 0, dataset) - spd_0\n",
    "                    elif metric == 1:\n",
    "                        inf_gt = computeFairness(y_pred, X_test_orig, y_test, 1, dataset) - tpr_parity_0\n",
    "                    elif metric == 2:\n",
    "                        inf_gt = computeFairness(y_pred, X_test_orig, y_test, 2, dataset) - predictive_parity_0\n",
    "                    time_gt.append(time.time()-t0)\n",
    "                    accuracy = computeAccuracy(y_test, y_pred)\n",
    "                    gt_influences.append(inf_gt)\n",
    "    #                 v1s.append(del_spd_del_theta(clf, X_test_orig, X_test, dataset))  # here, v1 corresponds to the metric spd"
   ]
  },
  {
   "cell_type": "code",
   "execution_count": 152,
   "metadata": {
    "ExecuteTime": {
     "end_time": "2021-11-08T09:34:10.754230Z",
     "start_time": "2021-11-08T09:34:10.739900Z"
    }
   },
   "outputs": [],
   "source": [
    "# expl = [attributes, attributeValues, first_order_influences, second_order_influences, gt_influences, fractionRows, thetas, grad_change_scales]\n",
    "# expl = (np.array(expl).T).tolist()\n",
    "\n",
    "# explanations = pd.DataFrame(expl, columns=[\"attributes\", \"attributeValues\", \"first_order_influences\", \"second_order_influences\", \"gt_influences\", \"fractionRows\", \"gradient_angles\", \"grad_change_scales\"])\n",
    "\n",
    "expl = [attributes, attributeValues, first_order_influences, second_order_influences, gt_influences, fractionRows]\n",
    "expl = (np.array(expl).T).tolist()\n",
    "\n",
    "explanations = pd.DataFrame(expl, columns=[\"attributes\", \"attributeValues\", \"first_order_influences\", \"second_order_influences\", \"gt_influences\", \"fractionRows\"])\n",
    "explanations['second_order_influences'] = explanations['second_order_influences'].astype(float)\n",
    "explanations['first_order_influences'] = explanations['first_order_influences'].astype(float)\n",
    "explanations['gt_influences'] = explanations['gt_influences'].astype(float)\n",
    "explanations['fractionRows'] = explanations['fractionRows'].astype(float)"
   ]
  },
  {
   "cell_type": "code",
   "execution_count": 153,
   "metadata": {
    "ExecuteTime": {
     "end_time": "2021-11-08T09:34:10.765666Z",
     "start_time": "2021-11-08T09:34:10.755930Z"
    }
   },
   "outputs": [
    {
     "data": {
      "text/html": [
       "<div>\n",
       "<style scoped>\n",
       "    .dataframe tbody tr th:only-of-type {\n",
       "        vertical-align: middle;\n",
       "    }\n",
       "\n",
       "    .dataframe tbody tr th {\n",
       "        vertical-align: top;\n",
       "    }\n",
       "\n",
       "    .dataframe thead th {\n",
       "        text-align: right;\n",
       "    }\n",
       "</style>\n",
       "<table border=\"1\" class=\"dataframe\">\n",
       "  <thead>\n",
       "    <tr style=\"text-align: right;\">\n",
       "      <th></th>\n",
       "      <th>attributes</th>\n",
       "      <th>attributeValues</th>\n",
       "      <th>first_order_influences</th>\n",
       "      <th>second_order_influences</th>\n",
       "      <th>gt_influences</th>\n",
       "      <th>fractionRows</th>\n",
       "    </tr>\n",
       "  </thead>\n",
       "  <tbody>\n",
       "    <tr>\n",
       "      <th>38</th>\n",
       "      <td>age</td>\n",
       "      <td>1</td>\n",
       "      <td>0.067061</td>\n",
       "      <td>0.116300</td>\n",
       "      <td>0.169005</td>\n",
       "      <td>20.125</td>\n",
       "    </tr>\n",
       "    <tr>\n",
       "      <th>12</th>\n",
       "      <td>credit_amt</td>\n",
       "      <td>0</td>\n",
       "      <td>0.022387</td>\n",
       "      <td>0.042594</td>\n",
       "      <td>0.049696</td>\n",
       "      <td>44.000</td>\n",
       "    </tr>\n",
       "    <tr>\n",
       "      <th>30</th>\n",
       "      <td>residence</td>\n",
       "      <td>4</td>\n",
       "      <td>0.020158</td>\n",
       "      <td>0.039919</td>\n",
       "      <td>0.055502</td>\n",
       "      <td>40.875</td>\n",
       "    </tr>\n",
       "    <tr>\n",
       "      <th>49</th>\n",
       "      <td>gender</td>\n",
       "      <td>0</td>\n",
       "      <td>0.028491</td>\n",
       "      <td>0.038419</td>\n",
       "      <td>0.034576</td>\n",
       "      <td>32.125</td>\n",
       "    </tr>\n",
       "    <tr>\n",
       "      <th>24</th>\n",
       "      <td>install_rate</td>\n",
       "      <td>4</td>\n",
       "      <td>0.019248</td>\n",
       "      <td>0.036772</td>\n",
       "      <td>0.043336</td>\n",
       "      <td>47.625</td>\n",
       "    </tr>\n",
       "    <tr>\n",
       "      <th>20</th>\n",
       "      <td>employment</td>\n",
       "      <td>4</td>\n",
       "      <td>0.019705</td>\n",
       "      <td>0.033895</td>\n",
       "      <td>0.044113</td>\n",
       "      <td>25.250</td>\n",
       "    </tr>\n",
       "    <tr>\n",
       "      <th>39</th>\n",
       "      <td>install_plans</td>\n",
       "      <td>1</td>\n",
       "      <td>0.019436</td>\n",
       "      <td>0.027730</td>\n",
       "      <td>0.032183</td>\n",
       "      <td>19.500</td>\n",
       "    </tr>\n",
       "    <tr>\n",
       "      <th>47</th>\n",
       "      <td>telephone</td>\n",
       "      <td>1</td>\n",
       "      <td>0.014729</td>\n",
       "      <td>0.026024</td>\n",
       "      <td>0.031414</td>\n",
       "      <td>39.625</td>\n",
       "    </tr>\n",
       "    <tr>\n",
       "      <th>54</th>\n",
       "      <td>purpose_A43</td>\n",
       "      <td>1</td>\n",
       "      <td>0.015542</td>\n",
       "      <td>0.023071</td>\n",
       "      <td>0.036722</td>\n",
       "      <td>28.125</td>\n",
       "    </tr>\n",
       "    <tr>\n",
       "      <th>43</th>\n",
       "      <td>job</td>\n",
       "      <td>3</td>\n",
       "      <td>0.014925</td>\n",
       "      <td>0.018539</td>\n",
       "      <td>0.020082</td>\n",
       "      <td>15.125</td>\n",
       "    </tr>\n",
       "  </tbody>\n",
       "</table>\n",
       "</div>"
      ],
      "text/plain": [
       "       attributes attributeValues  first_order_influences  \\\n",
       "38            age               1                0.067061   \n",
       "12     credit_amt               0                0.022387   \n",
       "30      residence               4                0.020158   \n",
       "49         gender               0                0.028491   \n",
       "24   install_rate               4                0.019248   \n",
       "20     employment               4                0.019705   \n",
       "39  install_plans               1                0.019436   \n",
       "47      telephone               1                0.014729   \n",
       "54    purpose_A43               1                0.015542   \n",
       "43            job               3                0.014925   \n",
       "\n",
       "    second_order_influences  gt_influences  fractionRows  \n",
       "38                 0.116300       0.169005        20.125  \n",
       "12                 0.042594       0.049696        44.000  \n",
       "30                 0.039919       0.055502        40.875  \n",
       "49                 0.038419       0.034576        32.125  \n",
       "24                 0.036772       0.043336        47.625  \n",
       "20                 0.033895       0.044113        25.250  \n",
       "39                 0.027730       0.032183        19.500  \n",
       "47                 0.026024       0.031414        39.625  \n",
       "54                 0.023071       0.036722        28.125  \n",
       "43                 0.018539       0.020082        15.125  "
      ]
     },
     "execution_count": 153,
     "metadata": {},
     "output_type": "execute_result"
    }
   ],
   "source": [
    "explanations.sort_values(by=['second_order_influences'], ascending=False).head(10)"
   ]
  },
  {
   "cell_type": "code",
   "execution_count": 154,
   "metadata": {
    "ExecuteTime": {
     "end_time": "2021-11-08T09:34:10.778059Z",
     "start_time": "2021-11-08T09:34:10.766939Z"
    }
   },
   "outputs": [
    {
     "data": {
      "text/html": [
       "<div>\n",
       "<style scoped>\n",
       "    .dataframe tbody tr th:only-of-type {\n",
       "        vertical-align: middle;\n",
       "    }\n",
       "\n",
       "    .dataframe tbody tr th {\n",
       "        vertical-align: top;\n",
       "    }\n",
       "\n",
       "    .dataframe thead th {\n",
       "        text-align: right;\n",
       "    }\n",
       "</style>\n",
       "<table border=\"1\" class=\"dataframe\">\n",
       "  <thead>\n",
       "    <tr style=\"text-align: right;\">\n",
       "      <th></th>\n",
       "      <th>attributes</th>\n",
       "      <th>attributeValues</th>\n",
       "      <th>first_order_influences</th>\n",
       "      <th>second_order_influences</th>\n",
       "      <th>gt_influences</th>\n",
       "      <th>fractionRows</th>\n",
       "    </tr>\n",
       "  </thead>\n",
       "  <tbody>\n",
       "    <tr>\n",
       "      <th>38</th>\n",
       "      <td>age</td>\n",
       "      <td>1</td>\n",
       "      <td>0.067061</td>\n",
       "      <td>0.116300</td>\n",
       "      <td>0.169005</td>\n",
       "      <td>20.125</td>\n",
       "    </tr>\n",
       "    <tr>\n",
       "      <th>30</th>\n",
       "      <td>residence</td>\n",
       "      <td>4</td>\n",
       "      <td>0.020158</td>\n",
       "      <td>0.039919</td>\n",
       "      <td>0.055502</td>\n",
       "      <td>40.875</td>\n",
       "    </tr>\n",
       "    <tr>\n",
       "      <th>12</th>\n",
       "      <td>credit_amt</td>\n",
       "      <td>0</td>\n",
       "      <td>0.022387</td>\n",
       "      <td>0.042594</td>\n",
       "      <td>0.049696</td>\n",
       "      <td>44.000</td>\n",
       "    </tr>\n",
       "    <tr>\n",
       "      <th>20</th>\n",
       "      <td>employment</td>\n",
       "      <td>4</td>\n",
       "      <td>0.019705</td>\n",
       "      <td>0.033895</td>\n",
       "      <td>0.044113</td>\n",
       "      <td>25.250</td>\n",
       "    </tr>\n",
       "    <tr>\n",
       "      <th>24</th>\n",
       "      <td>install_rate</td>\n",
       "      <td>4</td>\n",
       "      <td>0.019248</td>\n",
       "      <td>0.036772</td>\n",
       "      <td>0.043336</td>\n",
       "      <td>47.625</td>\n",
       "    </tr>\n",
       "    <tr>\n",
       "      <th>54</th>\n",
       "      <td>purpose_A43</td>\n",
       "      <td>1</td>\n",
       "      <td>0.015542</td>\n",
       "      <td>0.023071</td>\n",
       "      <td>0.036722</td>\n",
       "      <td>28.125</td>\n",
       "    </tr>\n",
       "    <tr>\n",
       "      <th>49</th>\n",
       "      <td>gender</td>\n",
       "      <td>0</td>\n",
       "      <td>0.028491</td>\n",
       "      <td>0.038419</td>\n",
       "      <td>0.034576</td>\n",
       "      <td>32.125</td>\n",
       "    </tr>\n",
       "    <tr>\n",
       "      <th>39</th>\n",
       "      <td>install_plans</td>\n",
       "      <td>1</td>\n",
       "      <td>0.019436</td>\n",
       "      <td>0.027730</td>\n",
       "      <td>0.032183</td>\n",
       "      <td>19.500</td>\n",
       "    </tr>\n",
       "    <tr>\n",
       "      <th>47</th>\n",
       "      <td>telephone</td>\n",
       "      <td>1</td>\n",
       "      <td>0.014729</td>\n",
       "      <td>0.026024</td>\n",
       "      <td>0.031414</td>\n",
       "      <td>39.625</td>\n",
       "    </tr>\n",
       "    <tr>\n",
       "      <th>8</th>\n",
       "      <td>credit_hist</td>\n",
       "      <td>0</td>\n",
       "      <td>0.010564</td>\n",
       "      <td>0.017485</td>\n",
       "      <td>0.026856</td>\n",
       "      <td>28.750</td>\n",
       "    </tr>\n",
       "  </tbody>\n",
       "</table>\n",
       "</div>"
      ],
      "text/plain": [
       "       attributes attributeValues  first_order_influences  \\\n",
       "38            age               1                0.067061   \n",
       "30      residence               4                0.020158   \n",
       "12     credit_amt               0                0.022387   \n",
       "20     employment               4                0.019705   \n",
       "24   install_rate               4                0.019248   \n",
       "54    purpose_A43               1                0.015542   \n",
       "49         gender               0                0.028491   \n",
       "39  install_plans               1                0.019436   \n",
       "47      telephone               1                0.014729   \n",
       "8     credit_hist               0                0.010564   \n",
       "\n",
       "    second_order_influences  gt_influences  fractionRows  \n",
       "38                 0.116300       0.169005        20.125  \n",
       "30                 0.039919       0.055502        40.875  \n",
       "12                 0.042594       0.049696        44.000  \n",
       "20                 0.033895       0.044113        25.250  \n",
       "24                 0.036772       0.043336        47.625  \n",
       "54                 0.023071       0.036722        28.125  \n",
       "49                 0.038419       0.034576        32.125  \n",
       "39                 0.027730       0.032183        19.500  \n",
       "47                 0.026024       0.031414        39.625  \n",
       "8                  0.017485       0.026856        28.750  "
      ]
     },
     "execution_count": 154,
     "metadata": {},
     "output_type": "execute_result"
    }
   ],
   "source": [
    "explanations.sort_values(by=['gt_influences'], ascending=False).head(10)"
   ]
  },
  {
   "cell_type": "code",
   "execution_count": 155,
   "metadata": {
    "ExecuteTime": {
     "end_time": "2021-11-08T09:34:10.787377Z",
     "start_time": "2021-11-08T09:34:10.779195Z"
    }
   },
   "outputs": [
    {
     "data": {
      "text/html": [
       "<div>\n",
       "<style scoped>\n",
       "    .dataframe tbody tr th:only-of-type {\n",
       "        vertical-align: middle;\n",
       "    }\n",
       "\n",
       "    .dataframe tbody tr th {\n",
       "        vertical-align: top;\n",
       "    }\n",
       "\n",
       "    .dataframe thead th {\n",
       "        text-align: right;\n",
       "    }\n",
       "</style>\n",
       "<table border=\"1\" class=\"dataframe\">\n",
       "  <thead>\n",
       "    <tr style=\"text-align: right;\">\n",
       "      <th></th>\n",
       "      <th>attributes</th>\n",
       "      <th>attributeValues</th>\n",
       "      <th>first_order_influences</th>\n",
       "      <th>second_order_influences</th>\n",
       "      <th>gt_influences</th>\n",
       "      <th>fractionRows</th>\n",
       "    </tr>\n",
       "  </thead>\n",
       "  <tbody>\n",
       "    <tr>\n",
       "      <th>24</th>\n",
       "      <td>install_rate</td>\n",
       "      <td>4</td>\n",
       "      <td>0.019248</td>\n",
       "      <td>0.036772</td>\n",
       "      <td>0.043336</td>\n",
       "      <td>47.625</td>\n",
       "    </tr>\n",
       "    <tr>\n",
       "      <th>12</th>\n",
       "      <td>credit_amt</td>\n",
       "      <td>0</td>\n",
       "      <td>0.022387</td>\n",
       "      <td>0.042594</td>\n",
       "      <td>0.049696</td>\n",
       "      <td>44.000</td>\n",
       "    </tr>\n",
       "    <tr>\n",
       "      <th>4</th>\n",
       "      <td>duration</td>\n",
       "      <td>1</td>\n",
       "      <td>0.004453</td>\n",
       "      <td>0.006949</td>\n",
       "      <td>0.007854</td>\n",
       "      <td>42.375</td>\n",
       "    </tr>\n",
       "    <tr>\n",
       "      <th>30</th>\n",
       "      <td>residence</td>\n",
       "      <td>4</td>\n",
       "      <td>0.020158</td>\n",
       "      <td>0.039919</td>\n",
       "      <td>0.055502</td>\n",
       "      <td>40.875</td>\n",
       "    </tr>\n",
       "    <tr>\n",
       "      <th>47</th>\n",
       "      <td>telephone</td>\n",
       "      <td>1</td>\n",
       "      <td>0.014729</td>\n",
       "      <td>0.026024</td>\n",
       "      <td>0.031414</td>\n",
       "      <td>39.625</td>\n",
       "    </tr>\n",
       "    <tr>\n",
       "      <th>0</th>\n",
       "      <td>status</td>\n",
       "      <td>3</td>\n",
       "      <td>0.007934</td>\n",
       "      <td>0.016193</td>\n",
       "      <td>0.025084</td>\n",
       "      <td>39.125</td>\n",
       "    </tr>\n",
       "    <tr>\n",
       "      <th>13</th>\n",
       "      <td>credit_amt</td>\n",
       "      <td>1</td>\n",
       "      <td>-0.005166</td>\n",
       "      <td>-0.010590</td>\n",
       "      <td>-0.010779</td>\n",
       "      <td>38.125</td>\n",
       "    </tr>\n",
       "    <tr>\n",
       "      <th>5</th>\n",
       "      <td>duration</td>\n",
       "      <td>0</td>\n",
       "      <td>0.007754</td>\n",
       "      <td>0.013381</td>\n",
       "      <td>0.023496</td>\n",
       "      <td>35.125</td>\n",
       "    </tr>\n",
       "    <tr>\n",
       "      <th>21</th>\n",
       "      <td>employment</td>\n",
       "      <td>2</td>\n",
       "      <td>-0.020237</td>\n",
       "      <td>-0.027528</td>\n",
       "      <td>-0.029566</td>\n",
       "      <td>34.375</td>\n",
       "    </tr>\n",
       "    <tr>\n",
       "      <th>35</th>\n",
       "      <td>property</td>\n",
       "      <td>1</td>\n",
       "      <td>-0.004192</td>\n",
       "      <td>-0.009123</td>\n",
       "      <td>-0.010765</td>\n",
       "      <td>34.000</td>\n",
       "    </tr>\n",
       "  </tbody>\n",
       "</table>\n",
       "</div>"
      ],
      "text/plain": [
       "      attributes attributeValues  first_order_influences  \\\n",
       "24  install_rate               4                0.019248   \n",
       "12    credit_amt               0                0.022387   \n",
       "4       duration               1                0.004453   \n",
       "30     residence               4                0.020158   \n",
       "47     telephone               1                0.014729   \n",
       "0         status               3                0.007934   \n",
       "13    credit_amt               1               -0.005166   \n",
       "5       duration               0                0.007754   \n",
       "21    employment               2               -0.020237   \n",
       "35      property               1               -0.004192   \n",
       "\n",
       "    second_order_influences  gt_influences  fractionRows  \n",
       "24                 0.036772       0.043336        47.625  \n",
       "12                 0.042594       0.049696        44.000  \n",
       "4                  0.006949       0.007854        42.375  \n",
       "30                 0.039919       0.055502        40.875  \n",
       "47                 0.026024       0.031414        39.625  \n",
       "0                  0.016193       0.025084        39.125  \n",
       "13                -0.010590      -0.010779        38.125  \n",
       "5                  0.013381       0.023496        35.125  \n",
       "21                -0.027528      -0.029566        34.375  \n",
       "35                -0.009123      -0.010765        34.000  "
      ]
     },
     "execution_count": 155,
     "metadata": {},
     "output_type": "execute_result"
    }
   ],
   "source": [
    "explanations.sort_values(by=['fractionRows'], ascending=False).head(10)"
   ]
  },
  {
   "cell_type": "code",
   "execution_count": 156,
   "metadata": {
    "ExecuteTime": {
     "end_time": "2021-11-08T09:34:10.790375Z",
     "start_time": "2021-11-08T09:34:10.788632Z"
    }
   },
   "outputs": [],
   "source": [
    "# import scipy.stats as ss\n",
    "# explanations[\"gt_rank\"] = len(explanations) - ss.rankdata(explanations[\"gt_influences\"])\n",
    "# explanations[\"so_rank\"] = len(explanations) - ss.rankdata(explanations[\"second_order_influences\"])"
   ]
  },
  {
   "cell_type": "code",
   "execution_count": 157,
   "metadata": {
    "ExecuteTime": {
     "end_time": "2021-11-08T09:34:10.793857Z",
     "start_time": "2021-11-08T09:34:10.791616Z"
    }
   },
   "outputs": [],
   "source": [
    "# stats.kendalltau(explanations[\"gt_rank\"], explanations[\"so_rank\"])"
   ]
  },
  {
   "cell_type": "code",
   "execution_count": 158,
   "metadata": {
    "ExecuteTime": {
     "end_time": "2021-11-08T09:34:10.979783Z",
     "start_time": "2021-11-08T09:34:10.795014Z"
    },
    "scrolled": false
   },
   "outputs": [
    {
     "data": {
      "image/png": "[encoded data removed]",
      "text/plain": [
       "<Figure size 360x360 with 1 Axes>"
      ]
     },
     "metadata": {
      "needs_background": "light"
     },
     "output_type": "display_data"
    }
   ],
   "source": [
    "lim = .1\n",
    "plt.figure(figsize=(5,5))\n",
    "xs = (np.arange(31)-15)/15*lim*0.8\n",
    "ys = xs\n",
    "plt.xlim(-lim, lim)\n",
    "plt.ylim(-lim, lim)\n",
    "plt.plot(xs, ys, 'grey')\n",
    "\n",
    "# RGBA\n",
    "color_first = np.zeros((len(gt_influences), 4))\n",
    "color_first[:, 2] = 1.0\n",
    "color_first[:, 3] = 1-np.array(fractionRows)/100\n",
    "color_second = np.zeros((len(gt_influences), 4))\n",
    "color_second[:, 0] = 1.0\n",
    "color_second[:, 3] = 1-np.array(fractionRows)/100\n",
    "\n",
    "# color_first = np.zeros((len(gt_influences), 4))\n",
    "# color_first[:, 0] = 1.0\n",
    "# color_first[:, 3] = 0.2\n",
    "# color_second = np.zeros((len(gt_influences), 4))\n",
    "# color_second[:, 0] = 1.0\n",
    "# color_second[:, 3] = 1.0\n",
    "\n",
    "plt.scatter(gt_influences, first_order_influences, s=12, color=color_first, label='first-order')\n",
    "plt.scatter(gt_influences, second_order_influences, s=12, color=color_second, label='second-order')\n",
    "plt.ylabel('estimated influence\\n', fontsize=12, fontweight='bold')\n",
    "plt.xlabel('\\nground truth influence', fontsize=12, fontweight='bold')\n",
    "plt.legend(fontsize=12, prop={'weight':'bold'})\n",
    "plt.grid()\n",
    "plt.savefig('infs.png')"
   ]
  },
  {
   "cell_type": "code",
   "execution_count": 159,
   "metadata": {
    "ExecuteTime": {
     "end_time": "2021-11-08T09:34:10.986252Z",
     "start_time": "2021-11-08T09:34:10.981391Z"
    }
   },
   "outputs": [],
   "source": [
    "time_gt_ave = []\n",
    "time_second_ave = []\n",
    "time_first_ave = []\n",
    "\n",
    "l = len(time_gt)//rep\n",
    "for i in range(l):\n",
    "    time_gt_ave.append(np.average([time_gt[i+j*l] for j in range(rep)]))\n",
    "    time_second_ave.append(np.average([time_second[i+j*l] for j in range(rep)]))\n",
    "    time_first_ave.append(np.average([time_first[i+j*l] for j in range(rep)]))"
   ]
  },
  {
   "cell_type": "code",
   "execution_count": 160,
   "metadata": {
    "ExecuteTime": {
     "end_time": "2021-11-08T09:34:10.990391Z",
     "start_time": "2021-11-08T09:34:10.987417Z"
    }
   },
   "outputs": [
    {
     "data": {
      "text/plain": [
       "(62, 62, 62)"
      ]
     },
     "execution_count": 160,
     "metadata": {},
     "output_type": "execute_result"
    }
   ],
   "source": [
    "len(time_first_ave),len(time_second_ave),len(time_gt_ave)"
   ]
  },
  {
   "cell_type": "code",
   "execution_count": 161,
   "metadata": {
    "ExecuteTime": {
     "end_time": "2021-11-08T09:34:11.305793Z",
     "start_time": "2021-11-08T09:34:10.991490Z"
    }
   },
   "outputs": [
    {
     "data": {
      "image/png": "[encoded data removed]",
      "text/plain": [
       "<Figure size 360x360 with 1 Axes>"
      ]
     },
     "metadata": {
      "needs_background": "light"
     },
     "output_type": "display_data"
    }
   ],
   "source": [
    "plt.figure(figsize=(5,5))\n",
    "# plt.subplot(131)\n",
    "sorted_idx = explanations.sort_values(by=['fractionRows'], ascending=True).index\n",
    "xs = []\n",
    "ys = []\n",
    "for idx in sorted_idx:\n",
    "    xs.append(fractionRows[idx])\n",
    "    ys.append(time_first_ave[idx])\n",
    "plt.plot(xs, ys, '-', c='blue', label='first-order')\n",
    "\n",
    "# plt.subplot(132)\n",
    "xs = []\n",
    "ys = []\n",
    "for idx in sorted_idx:\n",
    "    xs.append(fractionRows[idx])\n",
    "    ys.append(time_second_ave[idx])\n",
    "plt.plot(xs, ys, '-', c='red', label='second-order')\n",
    "\n",
    "# plt.subplot(133)\n",
    "xs = []\n",
    "ys = []\n",
    "for idx in sorted_idx:\n",
    "    xs.append(fractionRows[idx])\n",
    "    ys.append(time_gt_ave[idx])\n",
    "plt.plot(xs, ys, '-', c='green', label='ground truth')\n",
    "plt.legend(fontsize=12, prop={'weight':'bold'})\n",
    "plt.grid()\n",
    "plt.xlabel('\\nfraction of data removed (%)', fontsize=12, fontweight='bold')\n",
    "plt.ylabel('time cost / sec\\n', fontsize=12, fontweight='bold')\n",
    "plt.yscale('log')\n",
    "# plt.show()\n",
    "plt.savefig('/Users/lodino/Desktop/time.png')"
   ]
  },
  {
   "cell_type": "code",
   "execution_count": 162,
   "metadata": {
    "ExecuteTime": {
     "end_time": "2021-11-08T09:34:11.313030Z",
     "start_time": "2021-11-08T09:34:11.307012Z"
    }
   },
   "outputs": [],
   "source": [
    "# bucket_num = 10\n",
    "fractionRows = np.array(fractionRows)\n",
    "gt_influences = np.array(gt_influences)\n",
    "first_order_influences = np.array(first_order_influences)\n",
    "second_order_influences = np.array(second_order_influences)\n",
    "corr_first_gt_ls = []\n",
    "corr_second_gt_ls = []\n",
    "for bucket_id in range(10):\n",
    "    is_in_bucket = np.logical_and(fractionRows>=bucket_id*10, fractionRows<(bucket_id+1)*10)\n",
    "    corr_first_gt = np.corrcoef([gt_influences[is_in_bucket], first_order_influences[is_in_bucket]])[0][1]\n",
    "    if np.isnan(corr_first_gt):\n",
    "        corr_first_gt = 0\n",
    "    corr_second_gt = np.corrcoef([gt_influences[is_in_bucket], second_order_influences[is_in_bucket]])[0][1]\n",
    "    if np.isnan(corr_second_gt):\n",
    "        corr_second_gt = 0\n",
    "    corr_first_gt_ls.append(corr_first_gt)\n",
    "    corr_second_gt_ls.append(corr_second_gt)"
   ]
  },
  {
   "cell_type": "code",
   "execution_count": 163,
   "metadata": {
    "ExecuteTime": {
     "end_time": "2021-11-08T09:34:11.444135Z",
     "start_time": "2021-11-08T09:34:11.314616Z"
    },
    "scrolled": false
   },
   "outputs": [
    {
     "data": {
      "image/png": "[encoded data removed]",
      "text/plain": [
       "<Figure size 576x576 with 1 Axes>"
      ]
     },
     "metadata": {
      "needs_background": "light"
     },
     "output_type": "display_data"
    }
   ],
   "source": [
    "plt.figure(figsize=(8,8))\n",
    "bar_width=0.3\n",
    "tick_label=[f'{i*10}%-{(i+1)*10}%' for i in range(10)]\n",
    "plt.bar(np.arange(10), corr_first_gt_ls, bar_width, color='blue', label='first')\n",
    "plt.bar(np.arange(10)+bar_width, corr_second_gt_ls, bar_width, color='orange', label='second')\n",
    "plt.legend(fontsize=12)\n",
    "plt.xticks(np.arange(10)+bar_width/2, tick_label, rotation=20, fontsize=12)\n",
    "plt.xlabel('Row Fraction', fontsize=20)\n",
    "plt.ylabel('Pearson Correlation', fontsize=20)\n",
    "plt.show()"
   ]
  },
  {
   "cell_type": "code",
   "execution_count": 164,
   "metadata": {
    "ExecuteTime": {
     "end_time": "2021-11-08T09:34:11.451858Z",
     "start_time": "2021-11-08T09:34:11.448692Z"
    }
   },
   "outputs": [
    {
     "data": {
      "text/plain": [
       "(0.9469798568245081, 0.9843468002731688)"
      ]
     },
     "execution_count": 164,
     "metadata": {},
     "output_type": "execute_result"
    }
   ],
   "source": [
    "# overall correlation\n",
    "np.corrcoef([gt_influences, first_order_influences])[0][1], np.corrcoef([gt_influences, second_order_influences])[0][1]"
   ]
  },
  {
   "cell_type": "markdown",
   "metadata": {
    "ExecuteTime": {
     "end_time": "2021-05-07T17:47:30.518658Z",
     "start_time": "2021-05-07T17:47:30.511518Z"
    }
   },
   "source": [
    "less than 2 coherent subsets correspond to the bracket 50%-60%, therefore cannot compute corrsponding pearson correlation"
   ]
  },
  {
   "cell_type": "code",
   "execution_count": 165,
   "metadata": {
    "ExecuteTime": {
     "end_time": "2021-11-08T09:34:12.354248Z",
     "start_time": "2021-11-08T09:34:11.452877Z"
    }
   },
   "outputs": [
    {
     "data": {
      "image/png": "[encoded data removed]",
      "text/plain": [
       "<Figure size 1080x432 with 10 Axes>"
      ]
     },
     "metadata": {
      "needs_background": "light"
     },
     "output_type": "display_data"
    }
   ],
   "source": [
    "# lim = 0.01\n",
    "plt.figure(figsize=(15, 6))\n",
    "for bucket_id in range(10):\n",
    "    plt.subplot(2, 5, bucket_id+1)\n",
    "    is_in_bucket = np.logical_and(fractionRows>=bucket_id*10, fractionRows<(bucket_id+1)*10)\n",
    "    xs = (np.arange(30)-15)/15*lim\n",
    "    ys = xs\n",
    "    plt.xlim(-lim, lim)\n",
    "    plt.ylim(-lim, lim)\n",
    "    plt.plot(xs, ys, 'g')\n",
    "    plt.scatter(gt_influences[is_in_bucket], first_order_influences[is_in_bucket], s=10, c='blue', label='first')\n",
    "    plt.scatter(gt_influences[is_in_bucket], second_order_influences[is_in_bucket], s=10, c='orange', label='second')\n",
    "    plt.legend()\n",
    "    plt.grid()\n",
    "    plt.title(f'Fraction: {bucket_id*10}%-{(bucket_id+1)*10}% {np.sum(is_in_bucket)}')\n",
    "plt.tight_layout()\n",
    "plt.show()"
   ]
  },
  {
   "cell_type": "markdown",
   "metadata": {},
   "source": [
    "For buckets which include only small num of coherent subsets (many of them corresponds to high row fraction), the pearson correlation can be less meaningful. However, from the scatter plots above, we can see that the estimation of influence function tends to be more accurate when the row fractions are relatively low, meanwhile, low row fraction leads to low overall influence (change of metrics caused by removing the subset) of coherent subsets."
   ]
  },
  {
   "cell_type": "code",
   "execution_count": null,
   "metadata": {},
   "outputs": [],
   "source": []
  },
  {
   "cell_type": "markdown",
   "metadata": {},
   "source": [
    "## single-step GD"
   ]
  },
  {
   "cell_type": "code",
   "execution_count": 166,
   "metadata": {
    "ExecuteTime": {
     "end_time": "2021-11-08T09:34:12.357129Z",
     "start_time": "2021-11-08T09:34:12.355181Z"
    }
   },
   "outputs": [],
   "source": [
    "lrs = [0.01, 0.05, 0.1, 0.5, 1, 5, 10]\n",
    "lr = lrs[4]\n",
    "# rep = 1"
   ]
  },
  {
   "cell_type": "code",
   "execution_count": 167,
   "metadata": {
    "ExecuteTime": {
     "end_time": "2021-11-08T09:34:14.348539Z",
     "start_time": "2021-11-08T09:34:12.357900Z"
    }
   },
   "outputs": [],
   "source": [
    "lr = 2.5\n",
    "time_gd = []\n",
    "time_retrain = []\n",
    "for _ in range(rep):\n",
    "    gd_influences = []\n",
    "#     v1s = []\n",
    "    for col in X_train_orig.columns:\n",
    "        if dataset == 'german':\n",
    "            if \"purpose\" in col or \"housing\" in col: #dummy variables purpose=0 doesn't make sense\n",
    "                vals = [1]\n",
    "            else:\n",
    "                vals = X_train_orig[col].unique()\n",
    "        elif dataset == 'adult':\n",
    "            continuous_cols = ['age', 'education.num', 'hours',]\n",
    "            if col in continuous_cols:\n",
    "                vals = X_train_orig[col].unique()\n",
    "            else:\n",
    "                vals = [1]\n",
    "        elif dataset == 'compas':\n",
    "            vals = X_train_orig[col].unique()\n",
    "        else:\n",
    "            raise NotImplementedError\n",
    "        for val in vals:\n",
    "            idx = X_train_orig[X_train_orig[col] == val].index\n",
    "            if len(idx)/len(X_train)<=sup_lim:\n",
    "                X = np.delete(X_train, idx, 0)\n",
    "                y = y_train.drop(index=idx, inplace=False)\n",
    "                inf_gt = 0\n",
    "                if len(y.unique()) > 1:\n",
    "                    # Ground truth subset influence\n",
    "#                     clf_new = NeuralNetwork(input_size=X_train.shape[-1], batch_size=800)\n",
    "#                     clf_new = LogisticRegression(input_size=X_train.shape[-1])\n",
    "                    clf_new = SVM(input_size=X_train.shape[-1])\n",
    "                    clf_new.fit(X_train, y_train)\n",
    "                    optimizer = torch.optim.SGD(clf_new.parameters(), lr=lr)\n",
    "                    optimizer.zero_grad()\n",
    "                    t0 = time.time()\n",
    "                    loss = loss_func(clf_new, np.array(X), np.array(y))\n",
    "                    loss.backward()\n",
    "                    optimizer.step()\n",
    "    #                 clf_new.partial_fit(X, y, learning_rate=lr)\n",
    "                    y_pred = clf_new.predict_proba(np.array(X_test))\n",
    "                    if metric == 0:\n",
    "                        inf_gd = computeFairness(y_pred, X_test_orig, y_test, 0, dataset) - spd_0\n",
    "                    elif metric == 1:\n",
    "                        inf_gd = computeFairness(y_pred, X_test_orig, y_test, 1, dataset) - tpr_parity_0\n",
    "                    elif metric == 2:\n",
    "                        inf_gd = computeFairness(y_pred, X_test_orig, y_test, 2, dataset) - predictive_parity_0\n",
    "                    time_gd.append(time.time()-t0)\n",
    "                    accuracy = computeAccuracy(y_test, y_pred)\n",
    "                    gd_influences.append(inf_gd)"
   ]
  },
  {
   "cell_type": "code",
   "execution_count": 168,
   "metadata": {
    "ExecuteTime": {
     "end_time": "2021-11-08T09:34:14.465564Z",
     "start_time": "2021-11-08T09:34:14.349461Z"
    }
   },
   "outputs": [
    {
     "data": {
      "image/png": "[encoded data removed]",
      "text/plain": [
       "<Figure size 360x360 with 1 Axes>"
      ]
     },
     "metadata": {
      "needs_background": "light"
     },
     "output_type": "display_data"
    }
   ],
   "source": [
    "lim = 0.06\n",
    "plt.figure(figsize=(5,5))\n",
    "xs = (np.arange(31)-15)/15*lim*0.8\n",
    "ys = xs\n",
    "plt.xlim(-lim, lim)\n",
    "plt.ylim(-lim, lim)\n",
    "plt.plot(xs, ys, 'grey')\n",
    "\n",
    "# RGBA\n",
    "color_first = np.zeros((len(gt_influences), 4))\n",
    "color_first[:, 2] = 1.0\n",
    "color_first[:, 3] = 1-np.array(fractionRows)/100\n",
    "color_second = np.zeros((len(gt_influences), 4))\n",
    "color_second[:, 0] = 1.0\n",
    "color_second[:, 3] = 1-np.array(fractionRows)/100\n",
    "\n",
    "color_gd = np.zeros((len(gt_influences), 4))\n",
    "color_gd[:, 1] = 1.0\n",
    "color_gd[:, 3] = 1-np.array(fractionRows)/100\n",
    "\n",
    "plt.scatter(gt_influences, first_order_influences, s=12, color=color_first, label='first-order')\n",
    "plt.scatter(gt_influences, second_order_influences, s=12, color=color_second, label='second-order')\n",
    "plt.scatter(gt_influences, gd_influences, s=12, color=color_gd, label='gd')\n",
    "plt.ylabel('estimated influence\\n', fontsize=12, fontweight='bold')\n",
    "plt.xlabel('\\nground truth influence', fontsize=12, fontweight='bold')\n",
    "plt.legend(fontsize=12, prop={'weight':'bold'})\n",
    "plt.grid()\n",
    "# plt.savefig('infs.png')"
   ]
  },
  {
   "cell_type": "code",
   "execution_count": 169,
   "metadata": {
    "ExecuteTime": {
     "end_time": "2021-11-08T09:34:14.571438Z",
     "start_time": "2021-11-08T09:34:14.467741Z"
    },
    "scrolled": false
   },
   "outputs": [
    {
     "data": {
      "text/plain": [
       "Text(0.5, 1.0, 'Ave. absolute deviation (german)')"
      ]
     },
     "execution_count": 169,
     "metadata": {},
     "output_type": "execute_result"
    },
    {
     "data": {
      "image/png": "[encoded data removed]",
      "text/plain": [
       "<Figure size 432x288 with 1 Axes>"
      ]
     },
     "metadata": {
      "needs_background": "light"
     },
     "output_type": "display_data"
    },
    {
     "name": "stderr",
     "output_type": "stream",
     "text": [
      "\n",
      "100%|████████████████████████████████████████████████████████████████████████████████████████████████████████████████████████████████████████████████████████████████████| 800/800 [00:23<00:00, 123.21it/s]\u001b[A"
     ]
    }
   ],
   "source": [
    "# inf_lim = 0.2\n",
    "bin_num = 3\n",
    "if metric == 0:\n",
    "    base_metric = spd_0\n",
    "elif metric == 1:\n",
    "    base_metric = tpr_parity_0\n",
    "else:\n",
    "    base_metric = predictive_parity_0\n",
    "half_percent_range = 0.2\n",
    "'''\n",
    "if you change the bin num, the in_bin_idx assignment and xticks should be changed to make sure\n",
    "the bins are symmetric around 0, and 20 here indicates half of the bin, like in this case, each\n",
    "bin represents 2*20% of gt influence.\n",
    "'''\n",
    "bins_gt = []\n",
    "bins_gd = []\n",
    "bins_first = []\n",
    "bins_second = []\n",
    "for bin_id in range(bin_num):\n",
    "    gt_influences_in_bin = np.array(gt_influences).copy()\n",
    "    first_order_influences_in_bin = np.array(first_order_influences).copy()\n",
    "    second_order_influences_in_bin = np.array(second_order_influences).copy()\n",
    "    gd_influences_in_bin = np.array(gd_influences).copy()\n",
    "    in_bin_idx = (gt_influences_in_bin>=(2*bin_id-3)*half_percent_range*abs(base_metric))&(gt_influences_in_bin<(2*bin_id-1)*half_percent_range*abs(base_metric))\n",
    "    \n",
    "    gt_influences_in_bin = gt_influences_in_bin[in_bin_idx]\n",
    "    first_order_influences_in_bin = first_order_influences_in_bin[in_bin_idx]\n",
    "    second_order_influences_in_bin = second_order_influences_in_bin[in_bin_idx]\n",
    "    gd_influences_in_bin = gd_influences_in_bin[in_bin_idx]\n",
    "    bins_gt.append(gt_influences_in_bin)\n",
    "    bins_first.append(first_order_influences_in_bin)\n",
    "    bins_second.append(second_order_influences_in_bin)\n",
    "    bins_gd.append(gd_influences_in_bin)\n",
    "\n",
    "width = 0.2\n",
    "index = np.arange(bin_num)\n",
    "plt.bar(index-width,[np.average(np.abs((bins_first[idx]-bins_gt[idx]))) for idx in range(len(bins_gt))],width,label='first')\n",
    "plt.bar(index,[np.average(np.abs((bins_second[idx]-bins_gt[idx]))) for idx in range(len(bins_gt))],width,label='second')\n",
    "plt.bar(index+width,[np.average(np.abs((bins_gd[idx]-bins_gt[idx]))) for idx in range(len(bins_gt))],width,label='gd')\n",
    "plt.xticks(range(bin_num), [f'{(2*bin_id-3)*100*half_percent_range}%~{(2*bin_id-1)*100*half_percent_range}%' for bin_id in range(bin_num)], rotation=15)\n",
    "plt.legend()\n",
    "plt.title('Ave. absolute deviation (german)')"
   ]
  },
  {
   "cell_type": "markdown",
   "metadata": {},
   "source": [
    "I ran the following cells for backup because I have to change the metrics and run the whole pipeline again"
   ]
  },
  {
   "cell_type": "code",
   "execution_count": null,
   "metadata": {},
   "outputs": [],
   "source": []
  },
  {
   "cell_type": "code",
   "execution_count": null,
   "metadata": {},
   "outputs": [],
   "source": []
  },
  {
   "cell_type": "code",
   "execution_count": null,
   "metadata": {},
   "outputs": [],
   "source": []
  },
  {
   "cell_type": "code",
   "execution_count": 170,
   "metadata": {
    "ExecuteTime": {
     "end_time": "2021-11-08T09:34:35.563347Z",
     "start_time": "2021-11-08T09:34:35.550921Z"
    }
   },
   "outputs": [
    {
     "data": {
      "text/plain": [
       "([0.005605144729476311, 0.0025189044507238066, 0.01689279699700631],\n",
       " [0.0009998697974949737, 0.0011257525069833583, 0.007940990696436093],\n",
       " [0.005826167861232537, 0.004103361823792109, 0.007943593559321052])"
      ]
     },
     "execution_count": 170,
     "metadata": {},
     "output_type": "execute_result"
    }
   ],
   "source": [
    "# spd -60~-20~20~60\n",
    "[np.average(np.abs((bins_first[idx]-bins_gt[idx]))) for idx in range(len(bins_gt))],\\\n",
    "[np.average(np.abs((bins_second[idx]-bins_gt[idx]))) for idx in range(len(bins_gt))],\\\n",
    "[np.average(np.abs((bins_gd[idx]-bins_gt[idx]))) for idx in range(len(bins_gt))]"
   ]
  },
  {
   "cell_type": "code",
   "execution_count": 100,
   "metadata": {
    "ExecuteTime": {
     "end_time": "2021-11-08T09:33:13.871675Z",
     "start_time": "2021-11-08T09:33:13.859652Z"
    }
   },
   "outputs": [
    {
     "data": {
      "text/plain": [
       "([0.00550037533573914, 0.001982356024870507, 0.01396743177944115],\n",
       " [0.0008598238972720194, 0.0010966953874543277, 0.007200848385663984],\n",
       " [0.005705159083108434, 0.0036199609838345266, 0.007906578141727972])"
      ]
     },
     "execution_count": 100,
     "metadata": {},
     "output_type": "execute_result"
    }
   ],
   "source": [
    "# tpr_parity -60~-20~20~60\n",
    "[np.average(np.abs((bins_first[idx]-bins_gt[idx]))) for idx in range(len(bins_gt))],\\\n",
    "[np.average(np.abs((bins_second[idx]-bins_gt[idx]))) for idx in range(len(bins_gt))],\\\n",
    "[np.average(np.abs((bins_gd[idx]-bins_gt[idx]))) for idx in range(len(bins_gt))]"
   ]
  },
  {
   "cell_type": "code",
   "execution_count": 60,
   "metadata": {
    "ExecuteTime": {
     "end_time": "2021-11-08T09:30:01.418179Z",
     "start_time": "2021-11-08T09:30:01.405234Z"
    }
   },
   "outputs": [
    {
     "data": {
      "text/plain": [
       "([0.006848818507657065, 0.0012223568098598371, 0.005983732473545773],\n",
       " [0.0030877123563960757, 0.0006001605161700533, 0.0029326285126193893],\n",
       " [0.004098982014017816, 0.0011538971458175725, 0.003316035451975452])"
      ]
     },
     "execution_count": 60,
     "metadata": {},
     "output_type": "execute_result"
    }
   ],
   "source": [
    "# predictive_parity -30~-10~10~30\n",
    "[np.average(np.abs((bins_first[idx]-bins_gt[idx]))) for idx in range(len(bins_gt))],\\\n",
    "[np.average(np.abs((bins_second[idx]-bins_gt[idx]))) for idx in range(len(bins_gt))],\\\n",
    "[np.average(np.abs((bins_gd[idx]-bins_gt[idx]))) for idx in range(len(bins_gt))]"
   ]
  },
  {
   "cell_type": "code",
   "execution_count": 81,
   "metadata": {
    "ExecuteTime": {
     "end_time": "2021-11-01T23:30:43.610521Z",
     "start_time": "2021-11-01T23:30:43.602341Z"
    }
   },
   "outputs": [],
   "source": [
    "deviation_first = [0.07486852086156526, 0.008266881447066776, 0.0523114501363691, 0,\\\n",
    "                   0.06832253491460855, 0.0077469567908597554, 0.036652404785604706, 0,\\\n",
    "                   0.02825151460556667, 0.0035289185235499146, 0.02778803444600452]\n",
    "deviation_second = [0.07252584006983792, 0.006497057812035012, 0.03177450457021214, 0,\\\n",
    "                   0.06279976508585587, 0.006363963973930674, 0.016235626987723538, 0,\\\n",
    "                   0.025088686553197022, 0.0027894406347749845, 0.030031577838027526]\n",
    "deviation_gd = [0.04381598649197255, 0.012651122449561413, 0.02186822880062204, 0,\\\n",
    "               0.058911984027377594, 0.01111616811178203, 0.021206519135692936, 0,\\\n",
    "               0.01329056191214062, 0.003347789695758036, 0.024944172812137594]"
   ]
  },
  {
   "cell_type": "code",
   "execution_count": 82,
   "metadata": {
    "ExecuteTime": {
     "end_time": "2021-11-01T23:30:44.326127Z",
     "start_time": "2021-11-01T23:30:44.142246Z"
    },
    "scrolled": false
   },
   "outputs": [
    {
     "ename": "ValueError",
     "evalue": "The number of FixedLocator locations (12), usually from a call to set_ticks, does not match the number of ticklabels (11).",
     "output_type": "error",
     "traceback": [
      "\u001b[0;31m---------------------------------------------------------------------------\u001b[0m",
      "\u001b[0;31mValueError\u001b[0m                                Traceback (most recent call last)",
      "\u001b[0;32m/var/folders/bf/7kwvbg8n3cq9bp42dlh_ts7w0000gn/T/ipykernel_92241/26322238.py\u001b[0m in \u001b[0;36m<module>\u001b[0;34m\u001b[0m\n\u001b[1;32m     33\u001b[0m \u001b[0mticks_3\u001b[0m \u001b[0;34m=\u001b[0m \u001b[0;34m[\u001b[0m\u001b[0;34mf'{(2*bin_id-3)*20}~{(2*bin_id-1)*20}'\u001b[0m \u001b[0;32mfor\u001b[0m \u001b[0mbin_id\u001b[0m \u001b[0;32min\u001b[0m \u001b[0mrange\u001b[0m\u001b[0;34m(\u001b[0m\u001b[0mbin_num\u001b[0m\u001b[0;34m)\u001b[0m\u001b[0;34m]\u001b[0m\u001b[0;34m\u001b[0m\u001b[0;34m\u001b[0m\u001b[0m\n\u001b[1;32m     34\u001b[0m \u001b[0mticks_3\u001b[0m\u001b[0;34m[\u001b[0m\u001b[0;36m1\u001b[0m\u001b[0;34m]\u001b[0m \u001b[0;34m+=\u001b[0m \u001b[0;34m'\\n\\npredictive parity'\u001b[0m\u001b[0;34m\u001b[0m\u001b[0;34m\u001b[0m\u001b[0m\n\u001b[0;32m---> 35\u001b[0;31m \u001b[0mplt\u001b[0m\u001b[0;34m.\u001b[0m\u001b[0mxticks\u001b[0m\u001b[0;34m(\u001b[0m\u001b[0mrange\u001b[0m\u001b[0;34m(\u001b[0m\u001b[0mbin_num\u001b[0m\u001b[0;34m*\u001b[0m\u001b[0;36m3\u001b[0m\u001b[0;34m+\u001b[0m\u001b[0;36m3\u001b[0m\u001b[0;34m)\u001b[0m\u001b[0;34m,\u001b[0m \u001b[0mticks_1\u001b[0m \u001b[0;34m+\u001b[0m \u001b[0;34m[\u001b[0m\u001b[0;34m''\u001b[0m\u001b[0;34m]\u001b[0m \u001b[0;34m+\u001b[0m \u001b[0mticks_2\u001b[0m \u001b[0;34m+\u001b[0m \u001b[0;34m[\u001b[0m\u001b[0;34m''\u001b[0m\u001b[0;34m]\u001b[0m \u001b[0;34m+\u001b[0m \u001b[0mticks_3\u001b[0m\u001b[0;34m,\u001b[0m \u001b[0mrotation\u001b[0m\u001b[0;34m=\u001b[0m\u001b[0;36m0\u001b[0m\u001b[0;34m,\u001b[0m \u001b[0mfontsize\u001b[0m\u001b[0;34m=\u001b[0m\u001b[0;36m12\u001b[0m\u001b[0;34m)\u001b[0m\u001b[0;34m\u001b[0m\u001b[0;34m\u001b[0m\u001b[0m\n\u001b[0m\u001b[1;32m     36\u001b[0m \u001b[0mplt\u001b[0m\u001b[0;34m.\u001b[0m\u001b[0myticks\u001b[0m\u001b[0;34m(\u001b[0m\u001b[0mfontsize\u001b[0m\u001b[0;34m=\u001b[0m\u001b[0;36m12\u001b[0m\u001b[0;34m)\u001b[0m\u001b[0;34m\u001b[0m\u001b[0;34m\u001b[0m\u001b[0m\n\u001b[1;32m     37\u001b[0m \u001b[0;31m# plt.grid()\u001b[0m\u001b[0;34m\u001b[0m\u001b[0;34m\u001b[0m\u001b[0;34m\u001b[0m\u001b[0m\n",
      "\u001b[0;32m/Library/Frameworks/Python.framework/Versions/3.9/lib/python3.9/site-packages/matplotlib/pyplot.py\u001b[0m in \u001b[0;36mxticks\u001b[0;34m(ticks, labels, **kwargs)\u001b[0m\n\u001b[1;32m   1812\u001b[0m         \u001b[0mlabels\u001b[0m \u001b[0;34m=\u001b[0m \u001b[0max\u001b[0m\u001b[0;34m.\u001b[0m\u001b[0mget_xticklabels\u001b[0m\u001b[0;34m(\u001b[0m\u001b[0;34m)\u001b[0m\u001b[0;34m\u001b[0m\u001b[0;34m\u001b[0m\u001b[0m\n\u001b[1;32m   1813\u001b[0m     \u001b[0;32melse\u001b[0m\u001b[0;34m:\u001b[0m\u001b[0;34m\u001b[0m\u001b[0;34m\u001b[0m\u001b[0m\n\u001b[0;32m-> 1814\u001b[0;31m         \u001b[0mlabels\u001b[0m \u001b[0;34m=\u001b[0m \u001b[0max\u001b[0m\u001b[0;34m.\u001b[0m\u001b[0mset_xticklabels\u001b[0m\u001b[0;34m(\u001b[0m\u001b[0mlabels\u001b[0m\u001b[0;34m,\u001b[0m \u001b[0;34m**\u001b[0m\u001b[0mkwargs\u001b[0m\u001b[0;34m)\u001b[0m\u001b[0;34m\u001b[0m\u001b[0;34m\u001b[0m\u001b[0m\n\u001b[0m\u001b[1;32m   1815\u001b[0m     \u001b[0;32mfor\u001b[0m \u001b[0ml\u001b[0m \u001b[0;32min\u001b[0m \u001b[0mlabels\u001b[0m\u001b[0;34m:\u001b[0m\u001b[0;34m\u001b[0m\u001b[0;34m\u001b[0m\u001b[0m\n\u001b[1;32m   1816\u001b[0m         \u001b[0ml\u001b[0m\u001b[0;34m.\u001b[0m\u001b[0mupdate\u001b[0m\u001b[0;34m(\u001b[0m\u001b[0mkwargs\u001b[0m\u001b[0;34m)\u001b[0m\u001b[0;34m\u001b[0m\u001b[0;34m\u001b[0m\u001b[0m\n",
      "\u001b[0;32m/Library/Frameworks/Python.framework/Versions/3.9/lib/python3.9/site-packages/matplotlib/axes/_base.py\u001b[0m in \u001b[0;36mwrapper\u001b[0;34m(self, *args, **kwargs)\u001b[0m\n\u001b[1;32m     71\u001b[0m \u001b[0;34m\u001b[0m\u001b[0m\n\u001b[1;32m     72\u001b[0m         \u001b[0;32mdef\u001b[0m \u001b[0mwrapper\u001b[0m\u001b[0;34m(\u001b[0m\u001b[0mself\u001b[0m\u001b[0;34m,\u001b[0m \u001b[0;34m*\u001b[0m\u001b[0margs\u001b[0m\u001b[0;34m,\u001b[0m \u001b[0;34m**\u001b[0m\u001b[0mkwargs\u001b[0m\u001b[0;34m)\u001b[0m\u001b[0;34m:\u001b[0m\u001b[0;34m\u001b[0m\u001b[0;34m\u001b[0m\u001b[0m\n\u001b[0;32m---> 73\u001b[0;31m             \u001b[0;32mreturn\u001b[0m \u001b[0mget_method\u001b[0m\u001b[0;34m(\u001b[0m\u001b[0mself\u001b[0m\u001b[0;34m)\u001b[0m\u001b[0;34m(\u001b[0m\u001b[0;34m*\u001b[0m\u001b[0margs\u001b[0m\u001b[0;34m,\u001b[0m \u001b[0;34m**\u001b[0m\u001b[0mkwargs\u001b[0m\u001b[0;34m)\u001b[0m\u001b[0;34m\u001b[0m\u001b[0;34m\u001b[0m\u001b[0m\n\u001b[0m\u001b[1;32m     74\u001b[0m \u001b[0;34m\u001b[0m\u001b[0m\n\u001b[1;32m     75\u001b[0m         \u001b[0mwrapper\u001b[0m\u001b[0;34m.\u001b[0m\u001b[0m__module__\u001b[0m \u001b[0;34m=\u001b[0m \u001b[0mowner\u001b[0m\u001b[0;34m.\u001b[0m\u001b[0m__module__\u001b[0m\u001b[0;34m\u001b[0m\u001b[0;34m\u001b[0m\u001b[0m\n",
      "\u001b[0;32m/Library/Frameworks/Python.framework/Versions/3.9/lib/python3.9/site-packages/matplotlib/_api/deprecation.py\u001b[0m in \u001b[0;36mwrapper\u001b[0;34m(*args, **kwargs)\u001b[0m\n\u001b[1;32m    469\u001b[0m                 \u001b[0;34m\"parameter will become keyword-only %(removal)s.\"\u001b[0m\u001b[0;34m,\u001b[0m\u001b[0;34m\u001b[0m\u001b[0;34m\u001b[0m\u001b[0m\n\u001b[1;32m    470\u001b[0m                 name=name, obj_type=f\"parameter of {func.__name__}()\")\n\u001b[0;32m--> 471\u001b[0;31m         \u001b[0;32mreturn\u001b[0m \u001b[0mfunc\u001b[0m\u001b[0;34m(\u001b[0m\u001b[0;34m*\u001b[0m\u001b[0margs\u001b[0m\u001b[0;34m,\u001b[0m \u001b[0;34m**\u001b[0m\u001b[0mkwargs\u001b[0m\u001b[0;34m)\u001b[0m\u001b[0;34m\u001b[0m\u001b[0;34m\u001b[0m\u001b[0m\n\u001b[0m\u001b[1;32m    472\u001b[0m \u001b[0;34m\u001b[0m\u001b[0m\n\u001b[1;32m    473\u001b[0m     \u001b[0;32mreturn\u001b[0m \u001b[0mwrapper\u001b[0m\u001b[0;34m\u001b[0m\u001b[0;34m\u001b[0m\u001b[0m\n",
      "\u001b[0;32m/Library/Frameworks/Python.framework/Versions/3.9/lib/python3.9/site-packages/matplotlib/axis.py\u001b[0m in \u001b[0;36m_set_ticklabels\u001b[0;34m(self, labels, fontdict, minor, **kwargs)\u001b[0m\n\u001b[1;32m   1793\u001b[0m         \u001b[0;32mif\u001b[0m \u001b[0mfontdict\u001b[0m \u001b[0;32mis\u001b[0m \u001b[0;32mnot\u001b[0m \u001b[0;32mNone\u001b[0m\u001b[0;34m:\u001b[0m\u001b[0;34m\u001b[0m\u001b[0;34m\u001b[0m\u001b[0m\n\u001b[1;32m   1794\u001b[0m             \u001b[0mkwargs\u001b[0m\u001b[0;34m.\u001b[0m\u001b[0mupdate\u001b[0m\u001b[0;34m(\u001b[0m\u001b[0mfontdict\u001b[0m\u001b[0;34m)\u001b[0m\u001b[0;34m\u001b[0m\u001b[0;34m\u001b[0m\u001b[0m\n\u001b[0;32m-> 1795\u001b[0;31m         \u001b[0;32mreturn\u001b[0m \u001b[0mself\u001b[0m\u001b[0;34m.\u001b[0m\u001b[0mset_ticklabels\u001b[0m\u001b[0;34m(\u001b[0m\u001b[0mlabels\u001b[0m\u001b[0;34m,\u001b[0m \u001b[0mminor\u001b[0m\u001b[0;34m=\u001b[0m\u001b[0mminor\u001b[0m\u001b[0;34m,\u001b[0m \u001b[0;34m**\u001b[0m\u001b[0mkwargs\u001b[0m\u001b[0;34m)\u001b[0m\u001b[0;34m\u001b[0m\u001b[0;34m\u001b[0m\u001b[0m\n\u001b[0m\u001b[1;32m   1796\u001b[0m \u001b[0;34m\u001b[0m\u001b[0m\n\u001b[1;32m   1797\u001b[0m     \u001b[0;32mdef\u001b[0m \u001b[0mset_ticks\u001b[0m\u001b[0;34m(\u001b[0m\u001b[0mself\u001b[0m\u001b[0;34m,\u001b[0m \u001b[0mticks\u001b[0m\u001b[0;34m,\u001b[0m \u001b[0;34m*\u001b[0m\u001b[0;34m,\u001b[0m \u001b[0mminor\u001b[0m\u001b[0;34m=\u001b[0m\u001b[0;32mFalse\u001b[0m\u001b[0;34m)\u001b[0m\u001b[0;34m:\u001b[0m\u001b[0;34m\u001b[0m\u001b[0;34m\u001b[0m\u001b[0m\n",
      "\u001b[0;32m/Library/Frameworks/Python.framework/Versions/3.9/lib/python3.9/site-packages/matplotlib/axis.py\u001b[0m in \u001b[0;36mset_ticklabels\u001b[0;34m(self, ticklabels, minor, **kwargs)\u001b[0m\n\u001b[1;32m   1714\u001b[0m             \u001b[0;31m# remove all tick labels, so only error for > 0 ticklabels\u001b[0m\u001b[0;34m\u001b[0m\u001b[0;34m\u001b[0m\u001b[0;34m\u001b[0m\u001b[0m\n\u001b[1;32m   1715\u001b[0m             \u001b[0;32mif\u001b[0m \u001b[0mlen\u001b[0m\u001b[0;34m(\u001b[0m\u001b[0mlocator\u001b[0m\u001b[0;34m.\u001b[0m\u001b[0mlocs\u001b[0m\u001b[0;34m)\u001b[0m \u001b[0;34m!=\u001b[0m \u001b[0mlen\u001b[0m\u001b[0;34m(\u001b[0m\u001b[0mticklabels\u001b[0m\u001b[0;34m)\u001b[0m \u001b[0;32mand\u001b[0m \u001b[0mlen\u001b[0m\u001b[0;34m(\u001b[0m\u001b[0mticklabels\u001b[0m\u001b[0;34m)\u001b[0m \u001b[0;34m!=\u001b[0m \u001b[0;36m0\u001b[0m\u001b[0;34m:\u001b[0m\u001b[0;34m\u001b[0m\u001b[0;34m\u001b[0m\u001b[0m\n\u001b[0;32m-> 1716\u001b[0;31m                 raise ValueError(\n\u001b[0m\u001b[1;32m   1717\u001b[0m                     \u001b[0;34m\"The number of FixedLocator locations\"\u001b[0m\u001b[0;34m\u001b[0m\u001b[0;34m\u001b[0m\u001b[0m\n\u001b[1;32m   1718\u001b[0m                     \u001b[0;34mf\" ({len(locator.locs)}), usually from a call to\"\u001b[0m\u001b[0;34m\u001b[0m\u001b[0;34m\u001b[0m\u001b[0m\n",
      "\u001b[0;31mValueError\u001b[0m: The number of FixedLocator locations (12), usually from a call to set_ticks, does not match the number of ticklabels (11)."
     ]
    },
    {
     "data": {
      "image/png": "[encoded data removed]",
      "text/plain": [
       "<Figure size 864x504 with 1 Axes>"
      ]
     },
     "metadata": {
      "needs_background": "light"
     },
     "output_type": "display_data"
    }
   ],
   "source": [
    "plt.figure(figsize=(12,7))\n",
    "width = 0.2\n",
    "alpha = 0.6\n",
    "bin_num = 3\n",
    "\n",
    "edge_color = np.zeros((bin_num, 4))\n",
    "edge_color[:, 3] = 1.0 # alpha\n",
    "edge_width = 1\n",
    "\n",
    "bar_color_first = np.zeros((bin_num, 4))\n",
    "bar_color_first[:, 2] = 1.0 # blue\n",
    "bar_color_first[:, 3] = 0.3 # alpha\n",
    "\n",
    "bar_color_second = np.zeros((bin_num, 4))\n",
    "bar_color_second[:, 2] = 1.0 # blue\n",
    "bar_color_second[:, 3] = 0.7 # alpha\n",
    "\n",
    "bar_color_gd = np.zeros((bin_num, 4))\n",
    "bar_color_gd[:, :2] = 1.0 # yellow\n",
    "bar_color_gd[:, 3] = 0.5 # alpha\n",
    "\n",
    "index = np.arange(bin_num*3+2)\n",
    "plt.bar(index-width, deviation_first, width, label='first', color=bar_color_first,\\\n",
    "        linewidth=edge_width, edgecolor=edge_color, hatch='/')\n",
    "plt.bar(index, deviation_second, width, label='second', color=bar_color_second,\\\n",
    "       linewidth=edge_width, edgecolor=edge_color, hatch='\\\\')\n",
    "plt.bar(index+width, deviation_gd, width, label='gd', color=bar_color_gd,\\\n",
    "       linewidth=edge_width, edgecolor=edge_color)\n",
    "ticks_1 = [f'{(2*bin_id-3)*50}~{(2*bin_id-1)*50}' for bin_id in range(bin_num)]\n",
    "ticks_1[1] += '\\n\\nspd'\n",
    "ticks_2 = [f'{(2*bin_id-3)*50}~{(2*bin_id-1)*50}' for bin_id in range(bin_num)]\n",
    "ticks_2[1] += '\\n\\ntpr parity'\n",
    "ticks_3 = [f'{(2*bin_id-3)*20}~{(2*bin_id-1)*20}' for bin_id in range(bin_num)]\n",
    "ticks_3[1] += '\\n\\npredictive parity'\n",
    "plt.xticks(range(bin_num*3+3), ticks_1 + [''] + ticks_2 + [''] + ticks_3, rotation=0, fontsize=12)\n",
    "plt.yticks(fontsize=12)\n",
    "# plt.grid()\n",
    "plt.ylabel('deviation of approximated influence\\n', fontsize=12, fontweight='bold')\n",
    "plt.xlabel('\\nratio of ground truth influence to corresponding original fairness metrics (%)',\\\n",
    "           fontsize=14, fontweight='bold')\n",
    "plt.legend(fontsize=12, prop={'weight':'bold'})\n",
    "plt.tight_layout()\n",
    "plt.show()"
   ]
  },
  {
   "cell_type": "code",
   "execution_count": 83,
   "metadata": {
    "ExecuteTime": {
     "end_time": "2021-11-01T23:30:59.633982Z",
     "start_time": "2021-11-01T23:30:59.622533Z"
    }
   },
   "outputs": [],
   "source": [
    "time_gd_ave = []\n",
    "l = len(time_gd)//rep\n",
    "for i in range(l):\n",
    "    time_gd_ave.append(np.average([time_gd[i+j*l] for j in range(rep)]))"
   ]
  },
  {
   "cell_type": "code",
   "execution_count": 84,
   "metadata": {
    "ExecuteTime": {
     "end_time": "2021-11-01T23:31:00.533875Z",
     "start_time": "2021-11-01T23:31:00.203612Z"
    },
    "scrolled": true
   },
   "outputs": [
    {
     "data": {
      "image/png": "[encoded data removed]",
      "text/plain": [
       "<Figure size 360x360 with 1 Axes>"
      ]
     },
     "metadata": {
      "needs_background": "light"
     },
     "output_type": "display_data"
    }
   ],
   "source": [
    "plt.figure(figsize=(5,5))\n",
    "# plt.subplot(131)\n",
    "sorted_idx = explanations.sort_values(by=['fractionRows'], ascending=True).index\n",
    "first_xs = []\n",
    "first_ys = []\n",
    "for idx in sorted_idx:\n",
    "    first_xs.append(fractionRows[idx])\n",
    "    first_ys.append(time_first_ave[idx])\n",
    "plt.plot(first_xs, first_ys, '-', c='blue', label='first-order')\n",
    "\n",
    "# plt.subplot(132)\n",
    "second_xs = []\n",
    "second_ys = []\n",
    "for idx in sorted_idx:\n",
    "    second_xs.append(fractionRows[idx])\n",
    "    second_ys.append(time_second_ave[idx])\n",
    "plt.plot(second_xs, second_ys, '-', c='red', label='second-order')\n",
    "\n",
    "'''********************** re-training would be much much slower **********************'''\n",
    "# plt.subplot(133)\n",
    "gt_xs = []\n",
    "gt_ys = []\n",
    "for idx in sorted_idx:\n",
    "    gt_xs.append(fractionRows[idx])\n",
    "    gt_ys.append(time_gt_ave[idx])\n",
    "plt.plot(gt_xs, gt_ys, '-', c='green', label='ground truth')\n",
    "\n",
    "gd_xs = []\n",
    "gd_ys = []\n",
    "for idx in sorted_idx:\n",
    "    gd_xs.append(fractionRows[idx])\n",
    "    gd_ys.append(time_gd_ave[idx])\n",
    "plt.plot(gd_xs, gd_ys, '-', c='grey', label='gd')\n",
    "\n",
    "plt.legend(fontsize=12, prop={'weight':'bold'})\n",
    "plt.grid()\n",
    "plt.xlabel('\\nfraction of data removed (%)', fontsize=12, fontweight='bold')\n",
    "plt.ylabel('time cost / sec\\n', fontsize=12, fontweight='bold')\n",
    "plt.yscale('log')\n",
    "# plt.show()\n",
    "plt.savefig('time.png')"
   ]
  },
  {
   "cell_type": "code",
   "execution_count": 69,
   "metadata": {
    "ExecuteTime": {
     "end_time": "2021-06-30T13:26:34.497921Z",
     "start_time": "2021-06-30T13:26:33.892691Z"
    }
   },
   "outputs": [
    {
     "data": {
      "image/png": "[encoded data removed]",
      "text/plain": [
       "<Figure size 864x432 with 1 Axes>"
      ]
     },
     "metadata": {
      "needs_background": "light"
     },
     "output_type": "display_data"
    }
   ],
   "source": [
    "plt.figure(figsize=(12,6))\n",
    "bin_num = 10\n",
    "bins_gt = []\n",
    "bins_gd = []\n",
    "bins_first = []\n",
    "bins_second = []\n",
    "# alpha = 0.7\n",
    "\n",
    "for bin_id in range(bin_num):\n",
    "    gt_time_in_bin = np.array(gt_ys).copy()\n",
    "    first_time_in_bin = np.array(first_ys).copy()\n",
    "    second_time_in_bin = np.array(second_ys).copy()\n",
    "    gd_time_in_bin = np.array(gd_ys).copy()\n",
    "    gt_xs = np.array(gt_xs)\n",
    "\n",
    "    in_bin_idx = (gt_xs>=bin_id*10)&(gt_xs<(bin_id+1)*10)\n",
    "    \n",
    "    gt_time_in_bin = gt_time_in_bin[in_bin_idx]\n",
    "    first_time_in_bin = first_time_in_bin[in_bin_idx]\n",
    "    second_time_in_bin = second_time_in_bin[in_bin_idx]\n",
    "    gd_time_in_bin = gd_time_in_bin[in_bin_idx]\n",
    "    \n",
    "    bins_gt.append(gt_time_in_bin)\n",
    "    bins_first.append(first_time_in_bin)\n",
    "    bins_second.append(second_time_in_bin)\n",
    "    bins_gd.append(gd_time_in_bin)\n",
    "\n",
    "edge_color = np.zeros((bin_num, 4))\n",
    "edge_color[:, 3] = 1.0 # alpha\n",
    "edge_width = 1\n",
    "\n",
    "bar_color_first = np.zeros((bin_num, 4))\n",
    "bar_color_first[:, 2] = 1.0 # blue\n",
    "bar_color_first[:, 3] = 0.3 # alpha\n",
    "\n",
    "bar_color_second = np.zeros((bin_num, 4))\n",
    "bar_color_second[:, 2] = 1.0 # blue\n",
    "bar_color_second[:, 3] = 0.7 # alpha\n",
    "\n",
    "bar_color_gt = np.zeros((bin_num, 4))\n",
    "bar_color_gt[:, 0] = 61/255\n",
    "bar_color_gt[:, 1] = 145/255\n",
    "bar_color_gt[:, 2] = 64/255\n",
    "bar_color_gt[:, 3] = 1.0 # alpha\n",
    "\n",
    "bar_color_gd = np.zeros((bin_num, 4))\n",
    "bar_color_gd[:, :2] = 1.0 # yellow\n",
    "bar_color_gd[:, 3] = 0.5 # alpha\n",
    "\n",
    "width = 0.1\n",
    "index = np.arange(bin_num)\n",
    "plt.bar(index-3*width/2, [np.average(bins_first[idx]) for idx in range(len(bins_gt))],\n",
    "        width, label='first', color=bar_color_first, hatch='/', linewidth=edge_width, edgecolor=edge_color)\n",
    "plt.bar(index-width/2, [np.average(bins_second[idx]) for idx in range(len(bins_gt))],\n",
    "        width, label='second', color=bar_color_second, hatch='\\\\', linewidth=edge_width, edgecolor=edge_color)\n",
    "plt.bar(index+width/2, [np.average(bins_gt[idx]) for idx in range(len(bins_gt))],\n",
    "        width, label='retrain', color=bar_color_gt, hatch='-', linewidth=edge_width, edgecolor=edge_color)\n",
    "plt.bar(index+3*width/2, [np.average(bins_gd[idx]) for idx in range(len(bins_gt))],\n",
    "        width, label='one-step gd', color=bar_color_gd, linewidth=edge_width, edgecolor=edge_color)\n",
    "\n",
    "plt.xticks(range(bin_num), [f'{bin_id*10}~{(bin_id+1)*10}' for bin_id in range(bin_num)], fontsize=12, rotation=0)\n",
    "plt.yticks(fontsize=12)\n",
    "plt.legend(fontsize=12, prop={'weight':'bold'})\n",
    "# plt.grid()\n",
    "plt.tight_layout()\n",
    "# plt.title('Comparison on time cost (german)', fontsize=16, fontweight='bold')\n",
    "plt.xlabel('\\nfraction of data removed (%)', fontsize=14, fontweight='bold')\n",
    "plt.ylabel('time cost / sec\\n', fontsize=14, fontweight='bold')\n",
    "plt.show()"
   ]
  },
  {
   "cell_type": "code",
   "execution_count": null,
   "metadata": {},
   "outputs": [],
   "source": []
  },
  {
   "cell_type": "code",
   "execution_count": null,
   "metadata": {},
   "outputs": [],
   "source": []
  }
 ],
 "metadata": {
  "kernelspec": {
   "display_name": "Python 3 (ipykernel)",
   "language": "python",
   "name": "python3"
  },
  "language_info": {
   "codemirror_mode": {
    "name": "ipython",
    "version": 3
   },
   "file_extension": ".py",
   "mimetype": "text/x-python",
   "name": "python",
   "nbconvert_exporter": "python",
   "pygments_lexer": "ipython3",
   "version": "3.9.6"
  },
  "latex_envs": {
   "LaTeX_envs_menu_present": true,
   "autoclose": true,
   "autocomplete": true,
   "bibliofile": "biblio.bib",
   "cite_by": "apalike",
   "current_citInitial": 1,
   "eqLabelWithNumbers": true,
   "eqNumInitial": 1,
   "hotkeys": {
    "equation": "Ctrl-E",
    "itemize": "Ctrl-I"
   },
   "labels_anchors": false,
   "latex_user_defs": false,
   "report_style_numbering": false,
   "user_envs_cfg": false
  }
 },
 "nbformat": 4,
 "nbformat_minor": 4
}
