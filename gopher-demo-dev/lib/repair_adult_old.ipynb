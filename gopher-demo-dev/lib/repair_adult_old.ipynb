{
 "cells": [
  {
   "cell_type": "code",
   "execution_count": 1,
   "metadata": {
    "ExecuteTime": {
     "end_time": "2021-11-18T01:31:31.588787Z",
     "start_time": "2021-11-18T01:31:30.761705Z"
    }
   },
   "outputs": [],
   "source": [
    "import sys\n",
    "import numpy as np\n",
    "import pandas as pd\n",
    "import scipy\n",
    "import copy\n",
    "import random\n",
    "import math\n",
    "from scipy import stats\n",
    "from scipy.stats import rankdata\n",
    "from sklearn.linear_model import LinearRegression\n",
    "from sklearn.linear_model import SGDClassifier as LogisticRegression\n",
    "from sklearn.model_selection import train_test_split, KFold, cross_val_score\n",
    "from sklearn import metrics, preprocessing\n",
    "from sklearn.tree import DecisionTreeClassifier, DecisionTreeRegressor, plot_tree\n",
    "from sklearn.ensemble import RandomForestClassifier, RandomForestRegressor\n",
    "from sklearn.metrics import classification_report\n",
    "import matplotlib.pyplot as plt\n",
    "import seaborn as sns\n",
    "from IPython.display import Markdown, display\n",
    "np.random.seed(1)"
   ]
  },
  {
   "cell_type": "code",
   "execution_count": 2,
   "metadata": {
    "ExecuteTime": {
     "end_time": "2021-11-18T01:31:31.650863Z",
     "start_time": "2021-11-18T01:31:31.590084Z"
    }
   },
   "outputs": [],
   "source": [
    "cols = ['age', 'workclass', 'fnlwgt', 'education', 'education.num', 'marital', 'occupation', 'relationship', 'race', 'gender', 'capgain', 'caploss', 'hours', 'country', 'income']\n",
    "df_train = pd.read_csv('adult.data', names=cols, sep=\",\")\n",
    "df_test = pd.read_csv('adult.test', names=cols, sep=\",\")"
   ]
  },
  {
   "cell_type": "markdown",
   "metadata": {},
   "source": [
    "**Pre-processing** (categorical to numerical)"
   ]
  },
  {
   "cell_type": "code",
   "execution_count": 3,
   "metadata": {
    "ExecuteTime": {
     "end_time": "2021-11-18T01:31:31.763145Z",
     "start_time": "2021-11-18T01:31:31.651799Z"
    }
   },
   "outputs": [],
   "source": [
    " def preprocess(df):\n",
    "    df.isin(['?']).sum(axis=0)\n",
    "\n",
    "    # replace missing values (?) to nan and then drop the columns\n",
    "    df['country'] = df['country'].replace('?',np.nan)\n",
    "    df['workclass'] = df['workclass'].replace('?',np.nan)\n",
    "    df['occupation'] = df['occupation'].replace('?',np.nan)\n",
    "\n",
    "    # dropping the NaN rows now\n",
    "    df.dropna(how='any',inplace=True)\n",
    "    df['income'] = df['income'].map({'<=50K': 0, '>50K': 1}).astype(int)\n",
    "    df['age'] = df['age'].apply(lambda x : 1 if x >= 45 else 0) # 1 if old, 0 if young\n",
    "    df['workclass'] = df['workclass'].map({'Never-worked': 0, 'Without-pay': 1, 'State-gov': 2, 'Local-gov': 3, 'Federal-gov': 4, 'Self-emp-inc': 5, 'Self-emp-not-inc': 6, 'Private': 7}).astype(int)\n",
    "    df['education'] = df['education'].map({'Preschool': 0, '1st-4th': 1, '5th-6th': 2, '7th-8th': 3, '9th': 4, '10th': 5, '11th': 6, '12th': 7, 'HS-grad': 8, 'Some-college': 9, 'Bachelors': 10, 'Prof-school': 11, 'Assoc-acdm': 12, 'Assoc-voc': 13, 'Masters': 14, 'Doctorate': 15}).astype(int)\n",
    "#     df['marital'] = df['marital'].map({'Married-civ-spouse': 1, 'Divorced': 0, 'Never-married': 0, 'Separated': 0, 'Widowed': 0, 'Married-spouse-absent': 1, 'Married-AF-spouse': 1}).astype(int)\n",
    "    df['marital'] = df['marital'].map({'Married-civ-spouse': 2, 'Divorced': 1, 'Never-married': 0, 'Separated': 1, 'Widowed': 1, 'Married-spouse-absent': 2, 'Married-AF-spouse': 2}).astype(int)\n",
    "    df['relationship'] = df['relationship'].map({'Wife': 1 , 'Own-child': 0 , 'Husband': 1, 'Not-in-family': 0, 'Other-relative': 0, 'Unmarried': 0}).astype(int)\n",
    "    df['race'] = df['race'].map({'White': 1, 'Asian-Pac-Islander': 0, 'Amer-Indian-Eskimo': 0, 'Other': 0, 'Black': 0}).astype(int)\n",
    "    df['gender'] = df['gender'].map({'Male': 1, 'Female': 0}).astype(int)\n",
    "    \n",
    "    # process hours\n",
    "    df.loc[(df['hours'] <= 40), 'hours'] = 0\n",
    "    df.loc[(df['hours'] > 40), 'hours'] = 1\n",
    "\n",
    "    df = df.drop(columns=['fnlwgt', 'education.num', 'occupation', 'country', 'capgain', 'caploss'])\n",
    "    df = df.reset_index(drop=True)\n",
    "    return df\n",
    "\n",
    "df_train = preprocess(df_train)\n",
    "df_test = preprocess(df_test)\n",
    "\n",
    "X_train = copy.deepcopy(df_train)\n",
    "X_train = X_train.drop(columns=['income'])\n",
    "y_train = df_train['income']\n",
    "\n",
    "X_test = copy.deepcopy(df_test)\n",
    "X_test = X_test.drop(columns=['income'])\n",
    "y_test = df_test['income']"
   ]
  },
  {
   "cell_type": "markdown",
   "metadata": {},
   "source": [
    "**Protected, privileged**"
   ]
  },
  {
   "cell_type": "code",
   "execution_count": 4,
   "metadata": {
    "ExecuteTime": {
     "end_time": "2021-11-18T01:31:33.592514Z",
     "start_time": "2021-11-18T01:31:33.587325Z"
    }
   },
   "outputs": [],
   "source": [
    "# protected: 'gender'=0\n",
    "# privileged: 'gender'=1\n",
    "\n",
    "# protected: 'age'=0\n",
    "# privileged: 'age'=1"
   ]
  },
  {
   "cell_type": "markdown",
   "metadata": {},
   "source": [
    "**Parametric Model**"
   ]
  },
  {
   "cell_type": "code",
   "execution_count": 5,
   "metadata": {
    "ExecuteTime": {
     "end_time": "2021-11-18T01:31:34.137675Z",
     "start_time": "2021-11-18T01:31:34.111273Z"
    }
   },
   "outputs": [],
   "source": [
    "# size=500\n",
    "# X_train = X_train[0:size]\n",
    "# y_train = y_train[0:size]\n",
    "\n",
    "X_train_orig = copy.deepcopy(X_train)\n",
    "X_test_orig = copy.deepcopy(X_test)\n",
    "\n",
    "# Scale data: regularization penalty default: ‘l2’, ‘lbfgs’ solvers support only l2 penalties. \n",
    "# Regularization makes the predictor dependent on the scale of the features.\n",
    "from sklearn.preprocessing import StandardScaler\n",
    "sc = StandardScaler()\n",
    "X_train = sc.fit_transform(X_train)\n",
    "X_test = sc.transform(X_test)\n",
    "\n",
    "clf = LogisticRegression(loss='log', warm_start=True, max_iter=100, random_state=0,\n",
    "                         average=True, shuffle=False, learning_rate='constant',\n",
    "                         eta0=0.05, alpha=0.03, verbose=0)"
   ]
  },
  {
   "cell_type": "markdown",
   "metadata": {},
   "source": [
    "**Compute fairness metric**"
   ]
  },
  {
   "cell_type": "code",
   "execution_count": 6,
   "metadata": {
    "ExecuteTime": {
     "end_time": "2021-11-18T01:31:39.697515Z",
     "start_time": "2021-11-18T01:31:39.673325Z"
    },
    "code_folding": [
     0
    ]
   },
   "outputs": [],
   "source": [
    "def computeFairness(y_pred, X_test, y_test, metric): \n",
    "    fairnessMetric = 0\n",
    "    protected_idx = X_test[X_test['gender']==0].index\n",
    "    numProtected = len(protected_idx)\n",
    "    privileged_idx = X_test[X_test['gender']==1].index\n",
    "    numPrivileged = len(privileged_idx)\n",
    "        \n",
    "    p_protected = 0\n",
    "    for i in range(len(protected_idx)):\n",
    "        p_protected += y_pred[protected_idx[i]][1]\n",
    "    p_protected /= len(protected_idx)\n",
    "    \n",
    "    p_privileged = 0\n",
    "    for i in range(len(privileged_idx)):\n",
    "        p_privileged += y_pred[privileged_idx[i]][1]\n",
    "    p_privileged /= len(privileged_idx)\n",
    "    \n",
    "    # statistical parity difference\n",
    "    statistical_parity = p_protected - p_privileged\n",
    "    \n",
    "    # equality of opportunity, or \n",
    "    # true positive rate parity\n",
    "    # P(Y=1 | Y=1, G=0)- P(Y=1 | Y=1, G=1)\n",
    "    true_positive_protected = 0\n",
    "    actual_positive_protected = 0\n",
    "    for i in range(len(protected_idx)):\n",
    "        if (y_test[protected_idx[i]] == 1):\n",
    "            actual_positive_protected += 1\n",
    "#             if (y_pred[protected_idx[i]][1] > y_pred[protected_idx[i]][0]):\n",
    "            true_positive_protected += y_pred[protected_idx[i]][1]\n",
    "    tpr_protected = true_positive_protected/actual_positive_protected\n",
    "    \n",
    "    true_positive_privileged = 0\n",
    "    actual_positive_privileged = 0\n",
    "    for i in range(len(privileged_idx)):\n",
    "        if (y_test[privileged_idx[i]] == 1):\n",
    "            actual_positive_privileged += 1\n",
    "#             if (y_pred[privileged_idx[i]][1] > y_pred[privileged_idx[i]][0]):\n",
    "            true_positive_privileged += y_pred[privileged_idx[i]][1]\n",
    "    tpr_privileged = true_positive_privileged/actual_positive_privileged\n",
    "    \n",
    "    tpr_parity = tpr_protected - tpr_privileged\n",
    "    \n",
    "    # equalized odds or TPR parity + FPR parity\n",
    "    # false positive rate parity\n",
    "    \n",
    "    # predictive parity\n",
    "    p_o1_y1_s1 = 0\n",
    "    p_o1_s1 = 0\n",
    "    for i in range(len(protected_idx)):\n",
    "#         if (y_pred[protected_idx[i]][1] > y_pred[protected_idx[i]][0]):\n",
    "        p_o1_s1 += y_pred[protected_idx[i]][1]\n",
    "        if (y_test[protected_idx[i]] == 1):\n",
    "            p_o1_y1_s1 += y_pred[protected_idx[i]][1]\n",
    "    ppv_protected = p_o1_y1_s1/p_o1_s1\n",
    "    \n",
    "    p_o1_y1_s0 = 0\n",
    "    p_o1_s0 = 0\n",
    "    for i in range(len(privileged_idx)):\n",
    "#         if (y_pred[privileged_idx[i]][1] > y_pred[privileged_idx[i]][0]):\n",
    "        p_o1_s0 += y_pred[privileged_idx[i]][1]\n",
    "        if (y_test[privileged_idx[i]] == 1):\n",
    "            p_o1_y1_s0 += y_pred[privileged_idx[i]][1]\n",
    "    ppv_privileged = p_o1_y1_s0/p_o1_s0\n",
    "    \n",
    "    predictive_parity = ppv_protected - ppv_privileged\n",
    "    \n",
    "    if (metric == 0):\n",
    "        fairnessMetric = statistical_parity\n",
    "    elif (metric == 1):\n",
    "        fairnessMetric = tpr_parity\n",
    "    elif (metric == 2):\n",
    "        fairnessMetric = predictive_parity\n",
    "        \n",
    "    return fairnessMetric"
   ]
  },
  {
   "cell_type": "markdown",
   "metadata": {},
   "source": [
    "**Influence of points computed using ground truth**"
   ]
  },
  {
   "cell_type": "code",
   "execution_count": 7,
   "metadata": {
    "ExecuteTime": {
     "end_time": "2021-11-18T01:31:39.848411Z",
     "start_time": "2021-11-18T01:31:39.835557Z"
    },
    "code_folding": [
     0
    ]
   },
   "outputs": [],
   "source": [
    "def ground_truth_influence(X_train, y_train, X_test, X_test_orig, y_test):\n",
    "    clf.fit(X_train, y_train)\n",
    "    y_pred = clf.predict_proba(X_test)\n",
    "    spd_0 = computeFairness(y_pred, X_test_orig, y_test, 0)\n",
    "\n",
    "    delta_spd = []\n",
    "    for i in range(len(X_train)):\n",
    "        X_removed = np.delete(X_train, i, 0)\n",
    "        y_removed = y_train.drop(index=i, inplace=False)\n",
    "        clf.fit(X_removed, y_removed)\n",
    "        y_pred = clf.predict_proba(X_test)\n",
    "        delta_spd_i = computeFairness(y_pred, X_test_orig, y_test, 0) - spd_0\n",
    "        delta_spd.append(delta_spd_i)\n",
    "    \n",
    "    return delta_spd"
   ]
  },
  {
   "cell_type": "markdown",
   "metadata": {},
   "source": [
    "**Loss function** (Log loss for logistic regression)"
   ]
  },
  {
   "cell_type": "code",
   "execution_count": 8,
   "metadata": {
    "ExecuteTime": {
     "end_time": "2021-11-18T01:31:40.010863Z",
     "start_time": "2021-11-18T01:31:40.002196Z"
    },
    "code_folding": []
   },
   "outputs": [],
   "source": [
    "def logistic_loss(y_true, y_pred):\n",
    "    loss = 0\n",
    "    for i in range(len(y_true)):\n",
    "        if (y_pred[i][1] != 0 and y_pred[i][0] != 0):\n",
    "            loss += - y_true[i] * math.log(y_pred[i][1]) - (1 - y_true[i]) * math.log(y_pred[i][0])\n",
    "    loss /= len(y_true)\n",
    "    return loss"
   ]
  },
  {
   "cell_type": "markdown",
   "metadata": {},
   "source": [
    "**Compute Accuracy** "
   ]
  },
  {
   "cell_type": "code",
   "execution_count": 9,
   "metadata": {
    "ExecuteTime": {
     "end_time": "2021-11-18T01:31:40.178594Z",
     "start_time": "2021-11-18T01:31:40.170838Z"
    },
    "code_folding": [
     2
    ]
   },
   "outputs": [],
   "source": [
    "from sklearn.metrics import accuracy_score\n",
    "\n",
    "def computeAccuracy(y_true, y_pred):\n",
    "    accuracy = 0\n",
    "    for i in range(len(y_true)):\n",
    "        idx = y_true[i]\n",
    "        if (y_pred[i][idx] > y_pred[i][1 - idx]):\n",
    "            accuracy += 1\n",
    "#         accuracy += y_pred[i][idx]\n",
    "    accuracy /= len(y_true)\n",
    "    return accuracy"
   ]
  },
  {
   "cell_type": "markdown",
   "metadata": {},
   "source": [
    "**First-order derivative of loss function at z with respect to model parameters**"
   ]
  },
  {
   "cell_type": "code",
   "execution_count": 10,
   "metadata": {
    "ExecuteTime": {
     "end_time": "2021-11-18T01:31:40.346815Z",
     "start_time": "2021-11-18T01:31:40.337909Z"
    },
    "code_folding": [
     0
    ]
   },
   "outputs": [],
   "source": [
    "def del_L_del_theta_i(num_params, y_true, x, y_pred):\n",
    "#     del_L_del_theta = np.ones((num_params, 1)) * ((1 - y_true) * y_pred[1] - y_true * y_pred[0])\n",
    "    del_L_del_theta = np.ones((num_params, 1)) * (- y_true + y_pred[1])\n",
    "    for j in range(1, num_params):\n",
    "            del_L_del_theta[j] *=  x[j-1]\n",
    "    return del_L_del_theta"
   ]
  },
  {
   "cell_type": "markdown",
   "metadata": {},
   "source": [
    "**Hessian: Second-order partial derivative of loss function with respect to model parameters**"
   ]
  },
  {
   "cell_type": "code",
   "execution_count": 11,
   "metadata": {
    "ExecuteTime": {
     "end_time": "2021-11-18T01:31:40.510647Z",
     "start_time": "2021-11-18T01:31:40.507200Z"
    },
    "code_folding": [
     0
    ]
   },
   "outputs": [],
   "source": [
    "# def hessian_one_point(num_params, x, y_pred):\n",
    "#     H = np.ones((num_params, num_params)) * (y_pred[0] * y_pred[1])\n",
    "#     for i in range(1, num_params):\n",
    "#         for j in range(i + 1):\n",
    "#             if j == 0:\n",
    "#                 H[i][j] *= x[i-1]\n",
    "#             else:\n",
    "#                 H[i][j] *= x[i-1] * x[j-1] \n",
    "#     i_lower = np.tril_indices(num_params, -1)\n",
    "#     H.T[i_lower] = H[i_lower]     \n",
    "#     return H"
   ]
  },
  {
   "cell_type": "markdown",
   "metadata": {},
   "source": [
    "**First-order derivative of $P(y \\mid \\textbf{x})$ with respect to model parameters**"
   ]
  },
  {
   "cell_type": "code",
   "execution_count": 12,
   "metadata": {
    "ExecuteTime": {
     "end_time": "2021-11-18T01:31:40.683261Z",
     "start_time": "2021-11-18T01:31:40.673515Z"
    },
    "code_folding": [
     0
    ]
   },
   "outputs": [],
   "source": [
    "def del_f_del_theta_i(num_params, x, y_pred):\n",
    "    del_f_del_theta = np.ones((num_params, 1)) * (y_pred[0] * y_pred[1])\n",
    "    for j in range(1, num_params):\n",
    "            del_f_del_theta[j] *=  x[j-1]\n",
    "    return del_f_del_theta"
   ]
  },
  {
   "cell_type": "markdown",
   "metadata": {},
   "source": [
    "**Computing $v=\\nabla($Statistical parity difference$)$**"
   ]
  },
  {
   "cell_type": "code",
   "execution_count": 13,
   "metadata": {
    "ExecuteTime": {
     "end_time": "2021-11-18T01:31:41.156248Z",
     "start_time": "2021-11-18T01:31:41.141352Z"
    },
    "code_folding": [
     1
    ]
   },
   "outputs": [],
   "source": [
    "# Return v = del(SPD)/del(theta)\n",
    "def del_spd_del_theta(num_params, X_test_orig, X_test, y_pred):\n",
    "    del_f_protected = np.zeros((num_params, 1))\n",
    "    del_f_privileged = np.zeros((num_params, 1))\n",
    "    numPrivileged = X_test_orig['gender'].sum()\n",
    "    numProtected = len(X_test_orig) - numPrivileged\n",
    "    for i in range(len(X_test)):\n",
    "        del_f_i = del_f_del_theta_i(num_params, X_test[i], y_pred[i])\n",
    "        if X_test_orig.iloc[i]['gender'] == 1: #privileged\n",
    "            del_f_privileged = np.add(del_f_privileged, del_f_i)\n",
    "        elif X_test_orig.iloc[i]['gender'] == 0:\n",
    "            del_f_protected = np.add(del_f_protected, del_f_i)\n",
    "    del_f_privileged /= numPrivileged\n",
    "    del_f_protected /= numProtected\n",
    "    v = np.subtract(del_f_protected, del_f_privileged)\n",
    "    return v"
   ]
  },
  {
   "cell_type": "markdown",
   "metadata": {},
   "source": [
    "**Computing $v=\\nabla($TPR parity difference$)$**"
   ]
  },
  {
   "cell_type": "code",
   "execution_count": 14,
   "metadata": {
    "ExecuteTime": {
     "end_time": "2021-11-18T01:31:41.559028Z",
     "start_time": "2021-11-18T01:31:41.542900Z"
    },
    "code_folding": [
     1
    ]
   },
   "outputs": [],
   "source": [
    "# Return v = del(TPR_parity)/del(theta)\n",
    "def del_tpr_parity_del_theta(num_params, X_test_orig, X_test, y_pred, y_test):\n",
    "    del_f_protected = np.zeros((num_params, 1))\n",
    "    del_f_privileged = np.zeros((num_params, 1))\n",
    "    \n",
    "    protected_idx = X_test_orig[X_test_orig['gender']==0].index\n",
    "    privileged_idx = X_test_orig[X_test_orig['gender']==1].index\n",
    "\n",
    "    actual_positive_privileged = 0\n",
    "    for i in range(len(privileged_idx)):\n",
    "        if (y_test[privileged_idx[i]] == 1):\n",
    "            actual_positive_privileged += 1\n",
    "#             if (y_pred[privileged_idx[i]][1] > y_pred[privileged_idx[i]][0]):\n",
    "            del_f_i = del_f_del_theta_i(num_params, X_test[privileged_idx[i]], y_pred[privileged_idx[i]])\n",
    "            del_f_privileged = np.add(del_f_privileged, del_f_i)\n",
    "    del_f_privileged /= actual_positive_privileged\n",
    "    \n",
    "    actual_positive_protected = 0\n",
    "    for i in range(len(protected_idx)):\n",
    "        if (y_test[protected_idx[i]] == 1):\n",
    "            actual_positive_protected += 1\n",
    "#             if (y_pred[protected_idx[i]][1] > y_pred[protected_idx[i]][0]):\n",
    "            del_f_i = del_f_del_theta_i(num_params, X_test[protected_idx[i]], y_pred[protected_idx[i]])\n",
    "            del_f_protected = np.add(del_f_protected, del_f_i)\n",
    "    del_f_protected /= actual_positive_protected\n",
    "\n",
    "    v = np.subtract(del_f_protected, del_f_privileged)\n",
    "    return v"
   ]
  },
  {
   "cell_type": "markdown",
   "metadata": {},
   "source": [
    "**Computing $v=\\nabla($Predictive parity difference$)$**"
   ]
  },
  {
   "cell_type": "code",
   "execution_count": 15,
   "metadata": {
    "ExecuteTime": {
     "end_time": "2021-11-18T01:31:42.156072Z",
     "start_time": "2021-11-18T01:31:42.137576Z"
    },
    "code_folding": [
     1
    ]
   },
   "outputs": [],
   "source": [
    "# Return v = del(Predictive_parity)/del(theta)\n",
    "def del_predictive_parity_del_theta(num_params, X_test_orig, X_test, y_pred, y_test):\n",
    "    del_f_protected = np.zeros((num_params, 1))\n",
    "    del_f_privileged = np.zeros((num_params, 1))\n",
    "    \n",
    "    protected_idx = X_test_orig[X_test_orig['gender']==0].index\n",
    "    privileged_idx = X_test_orig[X_test_orig['gender']==1].index\n",
    "\n",
    "    u_dash_protected = np.zeros((num_params, 1))\n",
    "    v_protected = 0\n",
    "    v_dash_protected = np.zeros((num_params, 1))\n",
    "    u_protected = 0\n",
    "    for i in range(len(protected_idx)):\n",
    "        del_f_i = del_f_del_theta_i(num_params, X_test[protected_idx[i]], y_pred[protected_idx[i]])\n",
    "#         if (y_pred[protected_idx[i]][1] > y_pred[protected_idx[i]][0]):\n",
    "        v_protected += y_pred[protected_idx[i]][1]\n",
    "        v_dash_protected = np.add(v_dash_protected, del_f_i)\n",
    "        if (y_test[protected_idx[i]] == 1):\n",
    "            u_dash_protected = np.add(u_dash_protected, del_f_i)\n",
    "            u_protected += y_pred[protected_idx[i]][1]\n",
    "    del_f_protected = (u_dash_protected * v_protected - u_protected * v_dash_protected)/(v_protected * v_protected)\n",
    "    \n",
    "    u_dash_privileged = np.zeros((num_params, 1))\n",
    "    v_privileged = 0\n",
    "    v_dash_privileged = np.zeros((num_params, 1))\n",
    "    u_privileged = 0\n",
    "    for i in range(len(privileged_idx)):\n",
    "        del_f_i = del_f_del_theta_i(num_params, X_test[privileged_idx[i]], y_pred[privileged_idx[i]])\n",
    "#         if (y_pred[privileged_idx[i]][1] > y_pred[privileged_idx[i]][0]):\n",
    "        v_privileged += y_pred[privileged_idx[i]][1]\n",
    "        v_dash_privileged = np.add(v_dash_privileged, del_f_i)\n",
    "        if (y_test[privileged_idx[i]] == 1):\n",
    "            u_dash_privileged = np.add(u_dash_privileged, del_f_i)\n",
    "            u_privileged += y_pred[privileged_idx[i]][1]\n",
    "    del_f_privileged = (u_dash_privileged * v_privileged - u_privileged * v_dash_privileged)/(v_privileged * v_privileged)\n",
    "    \n",
    "    v = np.subtract(del_f_protected, del_f_privileged)\n",
    "    return v"
   ]
  },
  {
   "cell_type": "markdown",
   "metadata": {},
   "source": [
    "**Stochastic estimation of Hessian vector product (involving del fairness): $H_{\\theta}^{-1}v = H_{\\theta}^{-1}\\nabla_{\\theta}f(z, \\theta) = v + [I - \\nabla_{\\theta}^2L(z_{s_j}, \\theta^*)]H_{\\theta}^{-1}v$**"
   ]
  },
  {
   "cell_type": "code",
   "execution_count": 16,
   "metadata": {
    "ExecuteTime": {
     "end_time": "2021-11-18T01:31:42.915447Z",
     "start_time": "2021-11-18T01:31:42.909805Z"
    }
   },
   "outputs": [],
   "source": [
    "# # Uniformly sample t points from training data \n",
    "# def hessian_vector_product(num_params, n, size, v, hessian_all_points):\n",
    "#     if (size > n):\n",
    "#         size = n\n",
    "#     sample = random.sample(range(n), size)\n",
    "#     hinv_v = copy.deepcopy(v)\n",
    "#     for idx in range(size):\n",
    "#         i = sample[idx]\n",
    "#         hessian_i = hessian_all_points[i]\n",
    "#         hinv_v = np.matmul(np.subtract(np.identity(num_params), hessian_i), hinv_v)\n",
    "#         hinv_v = np.add(hinv_v, v)\n",
    "#     return hinv_v"
   ]
  },
  {
   "cell_type": "markdown",
   "metadata": {},
   "source": [
    "**First-order influence computation**"
   ]
  },
  {
   "cell_type": "code",
   "execution_count": 17,
   "metadata": {
    "ExecuteTime": {
     "end_time": "2021-11-18T01:31:43.478700Z",
     "start_time": "2021-11-18T01:31:43.473139Z"
    }
   },
   "outputs": [],
   "source": [
    "# def first_order_influence(del_L_del_theta, hinv_v, n):\n",
    "#     infs = []\n",
    "#     for i in range(n):\n",
    "#         inf = -np.dot(del_L_del_theta[i].transpose(), hinv_v)\n",
    "#         inf *= -1/n\n",
    "#         infs.append(inf[0][0].tolist())\n",
    "#     return infs"
   ]
  },
  {
   "cell_type": "markdown",
   "metadata": {},
   "source": [
    "**Second-order influence computation for a group of points in subset U**"
   ]
  },
  {
   "cell_type": "code",
   "execution_count": 18,
   "metadata": {
    "ExecuteTime": {
     "end_time": "2021-11-18T01:31:44.083545Z",
     "start_time": "2021-11-18T01:31:44.079520Z"
    }
   },
   "outputs": [],
   "source": [
    "# def second_order_influence(X_train, U, size, del_L_del_theta, hessian_all_points):\n",
    "#     u = len(U)\n",
    "#     s = len(X_train)\n",
    "#     p = u/s\n",
    "#     c1 = (1 - 2*p)/(s * (1-p)**2)\n",
    "#     c2 = 1/((s * (1-p))**2)\n",
    "#     num_params = len(del_L_del_theta[0])\n",
    "#     del_L_del_theta_hinv = np.zeros((num_params, 1))\n",
    "#     del_L_del_theta_sum = np.zeros((num_params, 1))\n",
    "#     hessian_U = np.zeros((num_params, num_params))\n",
    "#     for i in range(u):\n",
    "#         idx = U[i]\n",
    "#         hessian_U = np.add(hessian_U, s * hessian_all_points[idx])\n",
    "#         del_L_del_theta_sum = np.add(del_L_del_theta_sum, del_L_del_theta[idx])\n",
    "    \n",
    "#     hinv_del_L_del_theta= np.matmul(hinv_exact, del_L_del_theta_sum)\n",
    "#     hinv_hessian_U = np.matmul(hinv_exact, hessian_U)\n",
    "#     term1 = c1 * hinv_del_L_del_theta\n",
    "#     term2 = c2 * np.matmul(hinv_hessian_U, hinv_del_L_del_theta)\n",
    "#     sum_term = np.add(term1, term2)\n",
    "#     return sum_term"
   ]
  },
  {
   "cell_type": "markdown",
   "metadata": {},
   "source": [
    "**Metrics: Initial state**"
   ]
  },
  {
   "cell_type": "code",
   "execution_count": 33,
   "metadata": {
    "ExecuteTime": {
     "end_time": "2021-11-18T01:35:28.816410Z",
     "start_time": "2021-11-18T01:35:28.258695Z"
    }
   },
   "outputs": [
    {
     "name": "stdout",
     "output_type": "stream",
     "text": [
      "Initial statistical parity:  -0.19373309221120977\n",
      "Initial TPR parity:  -0.180473374483813\n",
      "Initial predictive parity:  -0.18622824805920268\n",
      "Initial loss:  0.3978614128173742\n",
      "Initial accuracy:  0.801394422310757\n"
     ]
    }
   ],
   "source": [
    "clf.fit(X_train, y_train)\n",
    "\n",
    "num_params = len(clf.coef_.transpose()) + 1 #weights and intercept; params: clf.coef_, clf.intercept_\n",
    "y_pred_test = clf.predict_proba(X_test)\n",
    "y_pred_train = clf.predict_proba(X_train)\n",
    "\n",
    "spd_0 = computeFairness(y_pred_test, X_test_orig, y_test, 0)\n",
    "print(\"Initial statistical parity: \", spd_0)\n",
    "\n",
    "tpr_parity_0 = computeFairness(y_pred_test, X_test_orig, y_test, 1)\n",
    "print(\"Initial TPR parity: \", tpr_parity_0)\n",
    "\n",
    "predictive_parity_0 = computeFairness(y_pred_test, X_test_orig, y_test, 2)\n",
    "print(\"Initial predictive parity: \", predictive_parity_0)\n",
    "\n",
    "loss_0 = logistic_loss(y_test, y_pred_test)\n",
    "print(\"Initial loss: \", loss_0)\n",
    "\n",
    "accuracy_0 = computeAccuracy(y_test, y_pred_test)\n",
    "print(\"Initial accuracy: \", accuracy_0)"
   ]
  },
  {
   "cell_type": "markdown",
   "metadata": {},
   "source": [
    "**Pre-compute: (1) Hessian (2) del_L_del_theta for each training data point**"
   ]
  },
  {
   "cell_type": "code",
   "execution_count": 34,
   "metadata": {
    "ExecuteTime": {
     "end_time": "2021-11-18T01:35:29.748811Z",
     "start_time": "2021-11-18T01:35:28.905669Z"
    }
   },
   "outputs": [],
   "source": [
    "del_L_del_theta = []\n",
    "for i in range(int(len(X_train))):\n",
    "    del_L_del_theta.insert(i, del_L_del_theta_i(num_params, y_train[i], X_train[i], y_pred_train[i]))\n",
    "\n",
    "# hessian_all_points = []\n",
    "# for i in range(len(X_train)):\n",
    "#     hessian_all_points.insert(i, hessian_one_point(num_params, X_train[i], y_pred_train[i])\n",
    "#                               /len(X_train))"
   ]
  },
  {
   "cell_type": "markdown",
   "metadata": {},
   "source": [
    "*Select delta fairness function depending on selected metric*"
   ]
  },
  {
   "cell_type": "code",
   "execution_count": 22,
   "metadata": {
    "ExecuteTime": {
     "end_time": "2021-11-18T01:32:10.152376Z",
     "start_time": "2021-11-18T01:32:08.962645Z"
    }
   },
   "outputs": [],
   "source": [
    "metric = 0\n",
    "if metric == 0:\n",
    "    v1 = del_spd_del_theta(num_params, X_test_orig, X_test, y_pred_test)\n",
    "elif metric == 1:\n",
    "    v1 = del_tpr_parity_del_theta(num_params, X_test_orig, X_test, y_pred_test, y_test)\n",
    "elif metric == 2:\n",
    "    v1 = del_predictive_parity_del_theta(num_params, X_test_orig, X_test, y_pred_test, y_test)"
   ]
  },
  {
   "cell_type": "markdown",
   "metadata": {},
   "source": [
    "*H^{-1} computation*"
   ]
  },
  {
   "cell_type": "code",
   "execution_count": 23,
   "metadata": {
    "ExecuteTime": {
     "end_time": "2021-11-18T01:32:10.155519Z",
     "start_time": "2021-11-18T01:32:10.153721Z"
    }
   },
   "outputs": [],
   "source": [
    "# hexact = 1\n",
    "# if hexact == 1: \n",
    "#     H_exact = np.zeros((num_params, num_params))\n",
    "#     for i in range(len(X_train)):\n",
    "#         H_exact = np.add(H_exact, hessian_all_points[i])\n",
    "#     hinv_exact = np.linalg.pinv(H_exact) \n",
    "#     hinv_v = np.matmul(hinv_exact, v1)\n",
    "# else: #using Hessian vector product\n",
    "#     size_hvp = int(len(X_train) * .01)\n",
    "#     hinv_v = hessian_vector_product(num_params, len(X_train), size_hvp, v1, hessian_all_points)"
   ]
  },
  {
   "cell_type": "markdown",
   "metadata": {},
   "source": [
    "**First-order influence of each training data point**"
   ]
  },
  {
   "cell_type": "code",
   "execution_count": 24,
   "metadata": {
    "ExecuteTime": {
     "end_time": "2021-11-18T01:32:10.157898Z",
     "start_time": "2021-11-18T01:32:10.156294Z"
    }
   },
   "outputs": [],
   "source": [
    "# infs_1 = first_order_influence(del_L_del_theta, hinv_v, len(X_train))"
   ]
  },
  {
   "cell_type": "markdown",
   "metadata": {},
   "source": [
    "# Repairs"
   ]
  },
  {
   "cell_type": "code",
   "execution_count": 215,
   "metadata": {
    "ExecuteTime": {
     "end_time": "2021-11-19T05:18:55.422075Z",
     "start_time": "2021-11-19T05:18:55.413680Z"
    }
   },
   "outputs": [],
   "source": [
    "def del_L_del_delta_i(num_params, x, y_pred, params, y_true):\n",
    "    del_L_del_delta = np.ones((num_params - 1, num_params)) * (y_pred[0] * y_pred[1])\n",
    "    for i in range(num_params - 1):\n",
    "        for j in range(num_params):\n",
    "            del_L_del_delta[i][j] *= params[i]\n",
    "            if j != 0:\n",
    "                del_L_del_delta[i][j] *=  x[j - 1]\n",
    "                if j == i:\n",
    "                    del_L_del_delta[i][j] += y_pred[1] - y_true\n",
    "    return del_L_del_delta"
   ]
  },
  {
   "cell_type": "code",
   "execution_count": 216,
   "metadata": {
    "ExecuteTime": {
     "end_time": "2021-11-19T05:18:55.807740Z",
     "start_time": "2021-11-19T05:18:55.779221Z"
    }
   },
   "outputs": [],
   "source": [
    "def repair(idx, numIter, learningRate):\n",
    "    params = np.concatenate([clf.intercept_, clf.coef_[0]], axis=0)\n",
    "    clf.fit(X_train, y_train)\n",
    "    y_pred_test = clf.predict_proba(X_test)\n",
    "    \n",
    "    X_p = copy.deepcopy(X_train[idx])\n",
    "    y_p_true = copy.deepcopy(y_train[idx]) \n",
    "\n",
    "    del_L_del_delta = np.zeros((num_params - 1, num_params))\n",
    "\n",
    "    random.seed(0) # seed random number generator\n",
    "    delta_new = np.zeros((num_params - 1, 1))\n",
    "    for i in range(len(delta_new)):\n",
    "        delta_new[i] = random.random()\n",
    "    threshold = 0.05\n",
    "    delta_old = -1 * np.ones((num_params - 1, 1))\n",
    "#     v1 = del_spd_del_theta(num_params, X_test_orig, X_test, y_pred_test)\n",
    "\n",
    "    num_iter = 0\n",
    "    del_L_del_theta_Xp = np.zeros((num_params, 1))\n",
    "    for i in range(len(idx)):\n",
    "        del_L_del_theta_Xp = np.add(del_L_del_theta_Xp, del_L_del_theta_i(num_params, y_train[idx[i]], X_train[idx[i]], y_pred_train[idx[i]]))\n",
    "    obj_old = np.dot(del_L_del_theta_Xp.transpose(), v1)\n",
    "    obj_new = obj_old + 0.1\n",
    "    print(obj_old, obj_new)\n",
    "    \n",
    "    while (obj_new > obj_old):\n",
    "#     while True:\n",
    "#     while ((num_iter < 100) or (obj_new - obj_old > threshold)) :\n",
    "        obj_old = obj_new\n",
    "#         print(num_iter)\n",
    "        num_iter += 1\n",
    "        for i in range(len(idx)):\n",
    "            x = np.zeros((len(X_train[idx[i]]), 1))\n",
    "            for j in range(len(x)):\n",
    "                x[j] = X_p[i][j]\n",
    "            x = np.add(x, delta_new)\n",
    "            x_ = [x[p][0] for p in range(len(x))]\n",
    "            y_pred = clf.predict_proba([x_])\n",
    "            del_L_del_delta_i_ = del_L_del_delta_i(num_params, x, y_pred[0], params, y_train[idx[i]])/len(idx)\n",
    "            del_L_del_delta = np.add(del_L_del_delta, del_L_del_delta_i_)\n",
    "        \n",
    "        delta_old = delta_new\n",
    "        delta_new = np.add(delta_new, (learningRate/num_iter) * np.dot(del_L_del_delta, v1))\n",
    "        print(delta_new, (learningRate/num_iter) * np.dot(del_L_del_delta, v1))\n",
    "        X_train_perturbed = copy.deepcopy(X_train)\n",
    "        for i in range(len(idx)):\n",
    "            for j in range(len(delta_new)):\n",
    "                X_train_perturbed[idx[i]][j] += delta_new[j]\n",
    "        del_L_del_theta_Xp = np.zeros((num_params, 1))\n",
    "        for i in range(len(idx)):\n",
    "            del_L_del_theta_Xp = np.add(del_L_del_theta_Xp, del_L_del_theta_i(num_params, y_train[idx[i]], X_train_perturbed[idx[i]], y_pred_train[idx[i]]))\n",
    "        obj_new = np.dot(del_L_del_theta_Xp.transpose(), v1)\n",
    "        print(obj_old, obj_new)\n",
    "#         if (numIter>=10):\n",
    "#         if ((num_iter > 10) & (obj_new - obj_old < threshold)):\n",
    "#         if ((num_iter > 2) & (obj_new < obj_old)):\n",
    "        if ((obj_new < obj_old)):\n",
    "#             print((obj_new - obj_old))\n",
    "            return delta_old\n",
    "    return delta_new"
   ]
  },
  {
   "cell_type": "code",
   "execution_count": 234,
   "metadata": {
    "ExecuteTime": {
     "end_time": "2021-11-19T05:33:03.401606Z",
     "start_time": "2021-11-19T05:33:03.267313Z"
    },
    "code_folding": []
   },
   "outputs": [],
   "source": [
    "clf.fit(X_train, y_train)\n",
    "y_pred_test = clf.predict_proba(X_test).astype(np.float32)\n",
    "X_p = copy.deepcopy(X_train[idx]).astype(np.float32)\n",
    "y_p_true = copy.deepcopy(y_train[idx]) .astype(np.float32)\n",
    "\n",
    "del_L_del_delta = np.zeros((num_params - 1, num_params)).astype(np.float32)\n",
    "\n",
    "random.seed(0) # seed random number generator\n",
    "delta_new = np.zeros((num_params - 1, 1))\n",
    "for i in range(len(delta_new)):\n",
    "    delta_new[i] = random.random()\n",
    "threshold = 0.05\n",
    "delta_old = -1 * np.ones((num_params - 1, 1)).astype(np.float32)\n",
    "\n",
    "num_iter = 0\n",
    "del_L_del_theta_Xp = np.zeros((num_params, 1)).astype(np.float32)\n",
    "for i in range(len(idx)):\n",
    "    del_L_del_theta_Xp = np.add(del_L_del_theta_Xp, del_L_del_theta_i(num_params, y_train[idx[i]], X_train[idx[i]], y_pred_train[idx[i]]))\n",
    "obj_old = np.dot(del_L_del_theta_Xp.transpose(), v1).astype(np.float32)\n",
    "obj_new = obj_old + 0.1\n",
    "\n",
    "while (obj_new > obj_old):\n",
    "    obj_old = obj_new.astype(np.float32)\n",
    "    num_iter += 1\n",
    "    for i in range(len(idx)):\n",
    "        x = np.zeros((len(X_train[idx[i]]), 1))\n",
    "        for j in range(len(x)):\n",
    "            x[j] = X_p[i][j]\n",
    "        x = np.add(x, delta_new)\n",
    "        x_ = [x[p][0] for p in range(len(x))]\n",
    "        y_pred = clf.predict_proba([x_]).astype(np.float32)\n",
    "        del_L_del_delta_i_ = del_L_del_delta_i(num_params, x, y_pred[0], clf.coef_[0], y_train[idx[i]])/len(idx)\n",
    "        del_L_del_delta = np.add(del_L_del_delta, del_L_del_delta_i_).astype(np.float32)\n"
   ]
  },
  {
   "cell_type": "code",
   "execution_count": 236,
   "metadata": {
    "ExecuteTime": {
     "end_time": "2021-11-19T05:36:31.983951Z",
     "start_time": "2021-11-19T05:36:31.974982Z"
    }
   },
   "outputs": [
    {
     "data": {
      "text/plain": [
       "array([ 1.6220065 , -0.41589084,  4.672706  ,  3.6291907 ,  4.406761  ,\n",
       "        0.5765291 ,  1.015229  ,  2.3320346 ], dtype=float32)"
      ]
     },
     "execution_count": 236,
     "metadata": {},
     "output_type": "execute_result"
    }
   ],
   "source": [
    "del_L_del_delta[:, -1]*len(idx)"
   ]
  },
  {
   "cell_type": "code",
   "execution_count": 219,
   "metadata": {
    "ExecuteTime": {
     "end_time": "2021-11-19T05:18:57.473702Z",
     "start_time": "2021-11-19T05:18:57.469113Z"
    },
    "code_folding": [
     0
    ]
   },
   "outputs": [],
   "source": [
    "# clf.fit(X_train, y_train)\n",
    "# i = 0\n",
    "# x = np.zeros((len(X_train[idx[i]]), 1))\n",
    "# for j in range(len(x)):\n",
    "#     x[j] = X_p[i][j]\n",
    "# x = np.add(x, delta_new)\n",
    "# x_ = [x[p][0] for p in range(len(x))]\n",
    "# y_pred = clf.predict_proba([x_])"
   ]
  },
  {
   "cell_type": "code",
   "execution_count": 259,
   "metadata": {
    "ExecuteTime": {
     "end_time": "2021-11-19T06:19:18.129637Z",
     "start_time": "2021-11-19T06:19:18.120398Z"
    },
    "code_folding": []
   },
   "outputs": [
    {
     "data": {
      "text/plain": [
       "array([[ 0.38038552],\n",
       "       [ 0.88456639],\n",
       "       [ 0.48002878],\n",
       "       [ 0.6296025 ],\n",
       "       [ 0.03082164],\n",
       "       [-0.15646913],\n",
       "       [ 0.30764   ],\n",
       "       [-0.25090479],\n",
       "       [-0.13656569]])"
      ]
     },
     "execution_count": 259,
     "metadata": {},
     "output_type": "execute_result"
    }
   ],
   "source": [
    "del_L_del_theta_i(num_params, y_train[idx[0]], x_, y_pred[0])"
   ]
  },
  {
   "cell_type": "code",
   "execution_count": 256,
   "metadata": {
    "ExecuteTime": {
     "end_time": "2021-11-19T06:14:23.772713Z",
     "start_time": "2021-11-19T06:14:23.755110Z"
    },
    "code_folding": []
   },
   "outputs": [
    {
     "data": {
      "text/plain": [
       "array([-0.37367892, -0.8689706 , -0.47156537, -0.61850196, -0.03027822,\n",
       "        0.15371041, -0.302216  ,  0.24648108,  0.1341579 ], dtype=float32)"
      ]
     },
     "execution_count": 256,
     "metadata": {},
     "output_type": "execute_result"
    }
   ],
   "source": [
    "coef = np.concatenate([clf.intercept_, clf.coef_[0]], axis=0).astype(np.float32)\n",
    "i = 0\n",
    "x = X_train[idx[i]].reshape(-1, 1).astype(np.float32)\n",
    "x = np.add(x, delta_new).astype(np.float32)\n",
    "x_ = [x[p][0] for p in range(len(x))]\n",
    "y_pred = clf.predict_proba([x_]).astype(np.float32)\n",
    "\n",
    "del_L_del_delta = np.ones((num_params,)).astype(np.float32) * (y_pred[0][0] * y_pred[0][1]).astype(np.float32)\n",
    "for j in range(num_params):\n",
    "    del_L_del_delta[j] *= coef[i].astype(np.float32)\n",
    "    if j != 0:\n",
    "        del_L_del_delta[j] *=  x_[j - 1].astype(np.float32)\n",
    "        if j == i:\n",
    "            del_L_del_delta[j] += y_pred[1].astype(np.float32) - y_true.astype(np.float32)\n",
    "del_L_del_delta"
   ]
  },
  {
   "cell_type": "code",
   "execution_count": 223,
   "metadata": {
    "ExecuteTime": {
     "end_time": "2021-11-19T05:18:58.734390Z",
     "start_time": "2021-11-19T05:18:58.723713Z"
    }
   },
   "outputs": [
    {
     "data": {
      "text/plain": [
       "[0.38038546,\n",
       " 0.88456625,\n",
       " 0.48002872,\n",
       " 0.62960243,\n",
       " 0.03082163,\n",
       " -0.15646912,\n",
       " 0.30763996,\n",
       " -0.25090474,\n",
       " -0.13656567]"
      ]
     },
     "execution_count": 223,
     "metadata": {},
     "output_type": "execute_result"
    }
   ],
   "source": [
    "[ 0.38038546, 0.88456625,  0.48002872,  0.62960243,  0.03082163, -0.15646912, 0.30763996, -0.25090474, -0.13656567]"
   ]
  },
  {
   "cell_type": "code",
   "execution_count": 225,
   "metadata": {
    "ExecuteTime": {
     "end_time": "2021-11-19T05:19:00.625637Z",
     "start_time": "2021-11-19T05:18:59.372525Z"
    }
   },
   "outputs": [
    {
     "name": "stdout",
     "output_type": "stream",
     "text": [
      "[[9.68013652]] [[9.78013652]]\n",
      "[[0.80043428]\n",
      " [0.75933796]\n",
      " [0.41798911]\n",
      " [0.27835772]\n",
      " [0.49754156]\n",
      " [0.38696803]\n",
      " [0.7796236 ]\n",
      " [0.24913542]] [[-0.04398757]\n",
      " [ 0.00138355]\n",
      " [-0.00258247]\n",
      " [ 0.01944097]\n",
      " [-0.01373316]\n",
      " [-0.01796611]\n",
      " [-0.00417498]\n",
      " [-0.0541773 ]]\n",
      "[[9.78013652]] [[2.53398944]]\n"
     ]
    }
   ],
   "source": [
    "idx = X_train_orig[\n",
    "    (X_train_orig['gender'] == 0)\n",
    "    & (X_train_orig['relationship'] == 0)\n",
    "    & (X_train_orig['education'] == 12)\n",
    "    & (X_train_orig['race'] == 1)\n",
    "    ].index \n",
    "# v_pert = repair(idx, numIter, learningRate)\n",
    "v_pert = repair(idx, 100, 1)"
   ]
  },
  {
   "cell_type": "code",
   "execution_count": 171,
   "metadata": {
    "ExecuteTime": {
     "end_time": "2021-11-19T04:28:28.721311Z",
     "start_time": "2021-11-19T04:28:28.714999Z"
    }
   },
   "outputs": [
    {
     "data": {
      "text/plain": [
       "array([[0.84442185],\n",
       "       [0.7579544 ],\n",
       "       [0.42057158],\n",
       "       [0.25891675],\n",
       "       [0.51127472],\n",
       "       [0.40493414],\n",
       "       [0.78379859],\n",
       "       [0.30331273]])"
      ]
     },
     "execution_count": 171,
     "metadata": {},
     "output_type": "execute_result"
    }
   ],
   "source": [
    "v_pert"
   ]
  },
  {
   "cell_type": "code",
   "execution_count": 56,
   "metadata": {
    "ExecuteTime": {
     "end_time": "2021-11-18T02:00:35.312705Z",
     "start_time": "2021-11-18T02:00:04.751578Z"
    }
   },
   "outputs": [
    {
     "name": "stderr",
     "output_type": "stream",
     "text": [
      "/Library/Frameworks/Python.framework/Versions/3.9/lib/python3.9/site-packages/scipy/optimize/_hessian_update_strategy.py:182: UserWarning: delta_grad == 0.0. Check if the approximated function is linear. If the function is linear better results can be obtained by defining the Hessian as zero instead of using quasi-Newton approximations.\n",
      "  warn('delta_grad == 0.0. Check if the approximated '\n"
     ]
    },
    {
     "name": "stdout",
     "output_type": "stream",
     "text": [
      "0.005604568516486053\n"
     ]
    }
   ],
   "source": [
    "res_0 = []\n",
    "res_1 = []\n",
    "res_2 = []\n",
    "res_3 = []\n",
    "res_4 = []\n",
    "res_5 = []\n",
    "res_6 = []\n",
    "res_7 = []\n",
    "\n",
    "X_train_copy = copy.deepcopy(X_train)\n",
    "numCols = len(X_train[0])\n",
    "for ix in range(len(idx)):\n",
    "    X_train_pert = np.zeros((len(X_train[idx[ix]]), 1))\n",
    "    for i in range(len(X_train[idx[ix]])):\n",
    "        X_train_pert[i] = X_train[idx[ix]][i] + v_pert[i]\n",
    "\n",
    "    x0 = np.random.rand(1,numCols)\n",
    "    mins = []\n",
    "    maxs = []\n",
    "    numCols = len(X_train[0])\n",
    "    for i in range(numCols):\n",
    "        mins.insert(i, min(X_train[:,i]))\n",
    "        maxs.insert(i, max(X_train[:,i]))\n",
    "\n",
    "    from scipy.optimize import Bounds, minimize\n",
    "    bounds = Bounds(mins, maxs)\n",
    "\n",
    "    f = lambda x: np.linalg.norm(x - X_train_pert)\n",
    "\n",
    "    x0 = np.random.rand(numCols)\n",
    "    res = minimize(f, x0, method='trust-constr', \n",
    "    #                jac=rosen_der, hess=rosen_hess,\n",
    "    #                constraints=[linear_constraint, nonlinear_constraint],\n",
    "                   options={'verbose': 0}, bounds=bounds)\n",
    "    \n",
    "    for i in range(len(X_train_copy[idx[ix]])):\n",
    "        X_train_copy[idx[ix]][i] += res.x[i]\n",
    "        \n",
    "    res_x_inv_transform = sc.inverse_transform(res.x, copy=None)\n",
    "    res_0.insert(ix, res_x_inv_transform[0])\n",
    "    res_1.insert(ix, res_x_inv_transform[1])\n",
    "    res_2.insert(ix, res_x_inv_transform[2])\n",
    "    res_3.insert(ix, res_x_inv_transform[3])\n",
    "    res_4.insert(ix, res_x_inv_transform[4])\n",
    "    res_5.insert(ix, res_x_inv_transform[5])\n",
    "    res_6.insert(ix, res_x_inv_transform[6])\n",
    "    res_7.insert(ix, res_x_inv_transform[7])\n",
    "#     print(res_x_inv_transform[10], res_x_inv_transform[4], res_x_inv_transform[13], \n",
    "#           res_x_inv_transform[28], res_x_inv_transform[29], res_x_inv_transform[30],\n",
    "#          res_x_inv_transform[17], res_x_inv_transform[18], res_x_inv_transform[19], res_x_inv_transform[20],\n",
    "#          res_x_inv_transform[21], res_x_inv_transform[22], res_x_inv_transform[23], res_x_inv_transform[24],\n",
    "#          res_x_inv_transform[25], res_x_inv_transform[26],\n",
    "#           '\\n')\n",
    "\n",
    "clf.fit(X_train_copy, y_train)\n",
    "y_pred_test = clf.predict_proba(X_test)\n",
    "\n",
    "print(computeFairness(y_pred_test, X_test_orig, y_test, 0)/spd_0 - 1)"
   ]
  },
  {
   "cell_type": "code",
   "execution_count": null,
   "metadata": {
    "ExecuteTime": {
     "end_time": "2021-11-18T01:32:20.537294Z",
     "start_time": "2021-11-18T01:32:20.537286Z"
    }
   },
   "outputs": [],
   "source": [
    "clf.fit(X_train_copy, y_train, use_sklearn=True)\n",
    "y_pred_test = clf.predict_proba(X_test)\n",
    "computeFairness(y_pred_test, X_test_orig, y_test, 0, dataset)"
   ]
  },
  {
   "cell_type": "code",
   "execution_count": 56,
   "metadata": {},
   "outputs": [
    {
     "name": "stdout",
     "output_type": "stream",
     "text": [
      "0.9051149870025552 0.7040802215752434 10.160973434050591 0.9999999610870457\n",
      "0.008828702315179848\n"
     ]
    }
   ],
   "source": [
    "import statistics\n",
    "print(statistics.mode(res_6), statistics.mode(res_4)\n",
    "      , statistics.mode(res_2)\n",
    "      , statistics.mode(res_5)\n",
    "     )\n",
    "\n",
    "print(computeFairness(y_pred_test, X_test_orig, y_test, 0)/spd_0 - 1)\n",
    "# print(computeFairness(y_pred_test, X_test_orig, y_test, 0))\n",
    "# print(spd_0)"
   ]
  },
  {
   "cell_type": "code",
   "execution_count": null,
   "metadata": {},
   "outputs": [],
   "source": []
  }
 ],
 "metadata": {
  "kernelspec": {
   "display_name": "Python 3 (ipykernel)",
   "language": "python",
   "name": "python3"
  },
  "language_info": {
   "codemirror_mode": {
    "name": "ipython",
    "version": 3
   },
   "file_extension": ".py",
   "mimetype": "text/x-python",
   "name": "python",
   "nbconvert_exporter": "python",
   "pygments_lexer": "ipython3",
   "version": "3.9.6"
  },
  "latex_envs": {
   "LaTeX_envs_menu_present": true,
   "autoclose": true,
   "autocomplete": true,
   "bibliofile": "biblio.bib",
   "cite_by": "apalike",
   "current_citInitial": 1,
   "eqLabelWithNumbers": true,
   "eqNumInitial": 1,
   "hotkeys": {
    "equation": "Ctrl-E",
    "itemize": "Ctrl-I"
   },
   "labels_anchors": false,
   "latex_user_defs": false,
   "report_style_numbering": false,
   "user_envs_cfg": false
  }
 },
 "nbformat": 4,
 "nbformat_minor": 4
}
